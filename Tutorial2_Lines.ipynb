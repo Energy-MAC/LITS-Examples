{
 "cells": [
  {
   "cell_type": "markdown",
   "metadata": {},
   "source": [
    "# Tutorial: Dynamic Lines\n",
    "\n",
    "This tutorial will introduce an example of considering dynamic lines in `LITS`.\n",
    "Note that this tutorial is for `LITS 0.3.5`. Future versions will have dedicated functions to find an equilibrium point using a Power Flow method without relying in a guess of the initial condition to run a non-linear solver.\n",
    "\n",
    "This tutorial presents a simulation of a three-bus system, with an infinite bus (represented as a voltage source behind an impedance) at bus 1, and a one d- one q- machine on bus 2 and an inverter of 19 states, as a virtual synchronous machine at bus 3. The perturbation will be the trip of two of the three circuits (triplicating its resistance and impedance) of the line that connects bus 1 and bus 3. This case also consider a dynamic line model for connection between buses 2 and 3.\n",
    "\n",
    "It is recommended to check `Tutorial 1: OMIB` first, since that includes more details and explanations on all definitions and functions.\n",
    "\n",
    "## Step 1: Package Initialization\n",
    "\n",
    "Loading packages may take some time:"
   ]
  },
  {
   "cell_type": "code",
   "execution_count": 1,
   "metadata": {},
   "outputs": [
    {
     "name": "stderr",
     "output_type": "stream",
     "text": [
      "┌ Info: Precompiling LITS [86b0dc02-7903-11e9-325f-f195ca7e6c1a]\n",
      "└ @ Base loading.jl:1260\n"
     ]
    }
   ],
   "source": [
    "using LITS\n",
    "using PowerSystems\n",
    "using Sundials\n",
    "using NLsolve\n",
    "using Plots"
   ]
  },
  {
   "cell_type": "markdown",
   "metadata": {},
   "source": [
    "## Step 2: Data creation\n",
    "\n",
    "To start we will define the data structures for the network.\n",
    "\n",
    "### Buses and Branches"
   ]
  },
  {
   "cell_type": "code",
   "execution_count": 2,
   "metadata": {},
   "outputs": [
    {
     "name": "stderr",
     "output_type": "stream",
     "text": [
      "┌ Info: The PSS(R)E parser currently supports buses, loads, shunts, generators, branches, transformers, and dc lines\n",
      "└ @ PowerSystems /Users/jdlara/.julia/packages/PowerSystems/y1jmI/src/parsers/pm_io/common.jl:26\n",
      "┌ Info: the voltage setpoint on generator 1 does not match the value at bus 2\n",
      "└ @ PowerSystems /Users/jdlara/.julia/packages/PowerSystems/y1jmI/src/parsers/pm_io/data.jl:1686\n",
      "┌ Info: the voltage setpoint on generator 2 does not match the value at bus 3\n",
      "└ @ PowerSystems /Users/jdlara/.julia/packages/PowerSystems/y1jmI/src/parsers/pm_io/data.jl:1686\n",
      "┌ Info: Constructing System from Power Models\n",
      "│   data[\"name\"] = threebusnetwork\n",
      "│   data[\"source_type\"] = pti\n",
      "└ @ PowerSystems /Users/jdlara/.julia/packages/PowerSystems/y1jmI/src/parsers/power_models_data.jl:39\n",
      "┌ Info: Reading bus data\n",
      "└ @ PowerSystems /Users/jdlara/.julia/packages/PowerSystems/y1jmI/src/parsers/power_models_data.jl:140\n",
      "┌ Info: Reading generator data\n",
      "└ @ PowerSystems /Users/jdlara/.julia/packages/PowerSystems/y1jmI/src/parsers/power_models_data.jl:386\n",
      "┌ Info: Reading branch data\n",
      "└ @ PowerSystems /Users/jdlara/.julia/packages/PowerSystems/y1jmI/src/parsers/power_models_data.jl:538\n",
      "┌ Info: Reading branch data\n",
      "└ @ PowerSystems /Users/jdlara/.julia/packages/PowerSystems/y1jmI/src/parsers/power_models_data.jl:601\n",
      "┌ Info: Reading DC Line data\n",
      "└ @ PowerSystems /Users/jdlara/.julia/packages/PowerSystems/y1jmI/src/parsers/power_models_data.jl:572\n"
     ]
    },
    {
     "data": {
      "text/html": [
       "<h1>System</h1>\n",
       "<p><b>Base Power</b>: 100.0</p>\n",
       "<h2>Components</h2>\n",
       "<p><b>Num components</b>: 13</p>\n",
       "<table class=\"data-frame\"><thead><tr><th></th><th>ConcreteType</th><th>SuperTypes</th><th>Count</th></tr><tr><th></th><th>String</th><th>String</th><th>Int64</th></tr></thead><tbody><p>6 rows × 3 columns</p><tr><th>1</th><td>Area</td><td>AggregationTopology &lt;: Topology &lt;: Component &lt;: PowerSystemType &lt;: InfrastructureSystemsType &lt;: Any</td><td>1</td></tr><tr><th>2</th><td>Bus</td><td>Topology &lt;: Component &lt;: PowerSystemType &lt;: InfrastructureSystemsType &lt;: Any</td><td>3</td></tr><tr><th>3</th><td>Line</td><td>ACBranch &lt;: Branch &lt;: Device &lt;: Component &lt;: PowerSystemType &lt;: InfrastructureSystemsType &lt;: Any</td><td>3</td></tr><tr><th>4</th><td>LoadZone</td><td>AggregationTopology &lt;: Topology &lt;: Component &lt;: PowerSystemType &lt;: InfrastructureSystemsType &lt;: Any</td><td>1</td></tr><tr><th>5</th><td>PowerLoad</td><td>StaticLoad &lt;: ElectricLoad &lt;: StaticInjection &lt;: Device &lt;: Component &lt;: PowerSystemType &lt;: InfrastructureSystemsType &lt;: Any</td><td>3</td></tr><tr><th>6</th><td>ThermalStandard</td><td>ThermalGen &lt;: Generator &lt;: StaticInjection &lt;: Device &lt;: Component &lt;: PowerSystemType &lt;: InfrastructureSystemsType &lt;: Any</td><td>2</td></tr></tbody></table>\n",
       "\n",
       "<h2>Forecasts</h2>\n",
       "<p><b>Resolution</b>: 0 seconds</p>\n",
       "<p><b>Horizon</b>: 0</p>\n",
       "<p><b>Initial Times</b>: </p>\n",
       "<p><b>Interval</b>: 0 seconds</p>\n",
       "<p><b>Components with Forecasts</b>: 0</p>\n",
       "<p><b>Total Forecasts</b>: 0</p>\n"
      ],
      "text/plain": [
       "System\n",
       "======\n",
       "Base Power: 100.0\n",
       "\n",
       "Components\n",
       "==========\n",
       "Num components: 13\n",
       "\n",
       "6×3 DataFrames.DataFrame. Omitted printing of 2 columns\n",
       "│ Row │ ConcreteType    │\n",
       "│     │ \u001b[90mString\u001b[39m          │\n",
       "├─────┼─────────────────┤\n",
       "│ 1   │ Area            │\n",
       "│ 2   │ Bus             │\n",
       "│ 3   │ Line            │\n",
       "│ 4   │ LoadZone        │\n",
       "│ 5   │ PowerLoad       │\n",
       "│ 6   │ ThermalStandard │\n",
       "\n",
       "Forecasts\n",
       "=========\n",
       "Resolution: 0 seconds\n",
       "Horizon: 0\n",
       "Initial Times: \n",
       "Interval: 0 seconds\n",
       "Components with Forecasts: 0\n",
       "Total Forecasts: 0\n"
      ]
     },
     "execution_count": 2,
     "metadata": {},
     "output_type": "execute_result"
    }
   ],
   "source": [
    "sys_file_dir= joinpath(dirname(@__FILE__), \"Data\",\"ThreeBusNetwork.raw\")\n",
    "sys = System(PowerModelsData(sys_file_dir), runchecks=false)"
   ]
  },
  {
   "cell_type": "markdown",
   "metadata": {},
   "source": [
    "### Injection devices"
   ]
  },
  {
   "cell_type": "code",
   "execution_count": 3,
   "metadata": {},
   "outputs": [],
   "source": [
    "# get_components is designed to return fast Julia iterators. For this application we need to run collect to retrieve \n",
    "# the bus\n",
    "slack_bus = collect(get_components(Bus, sys, b -> b.bustype == BusTypes.REF))[1]\n",
    "inf_source = Source(\n",
    "    name = \"InfBus\", #name\n",
    "    available = true, #availability\n",
    "    activepower = 0.0,\n",
    "    reactivepower = 0.0,\n",
    "    bus = slack_bus, #bus\n",
    "    X_th = 0.000005 #Xth\n",
    ") \n",
    "add_component!(sys, inf_source)"
   ]
  },
  {
   "cell_type": "code",
   "execution_count": 4,
   "metadata": {},
   "outputs": [
    {
     "name": "stderr",
     "output_type": "stream",
     "text": [
      "┌ Info: Results of Nonlinear Solver Algorithm\n",
      "│  * Algorithm: Trust-region with dogleg and autoscaling\n",
      "│  * Starting Point: [0.0, 0.0, 0.0, 0.0, 0.0, 0.0]\n",
      "│  * Zero: [0.20124067386701996, 0.3105196276130643, -0.2385257550140026, 0.02539646703075343, -0.31530394561038, 0.013397451323691639]\n",
      "│  * Inf-norm of residuals: 0.000000\n",
      "│  * Iterations: 2\n",
      "│  * Convergence: true\n",
      "│    * |x - x'| < 0.0e+00: false\n",
      "│    * |f(x)| < 1.0e-08: true\n",
      "│  * Function Calls (f): 3\n",
      "│  * Jacobian Calls (df/dx): 3\n",
      "└ @ PowerSystems /Users/jdlara/.julia/packages/PowerSystems/y1jmI/src/utils/power_flow/power_flow.jl:145\n",
      "┌ Info: PowerFlow solve converged, the results have been stored in the system\n",
      "└ @ PowerSystems /Users/jdlara/.julia/packages/PowerSystems/y1jmI/src/utils/power_flow/power_flow.jl:148\n"
     ]
    },
    {
     "data": {
      "text/plain": [
       "true"
      ]
     },
     "execution_count": 4,
     "metadata": {},
     "output_type": "execute_result"
    }
   ],
   "source": [
    "res = solve_powerflow!(sys, nlsolve)"
   ]
  },
  {
   "cell_type": "markdown",
   "metadata": {},
   "source": [
    "### Dynamic injection devices\n",
    "\n",
    "First we define our generator data:"
   ]
  },
  {
   "cell_type": "code",
   "execution_count": 5,
   "metadata": {},
   "outputs": [],
   "source": [
    "function dyn_gen(generator)\n",
    "    return DynamicGenerator(\n",
    "        number = 1,\n",
    "        name = \"$(get_name(generator))\",\n",
    "        bus = get_bus(generator), #bus\n",
    "        ω_ref = 1.0, \n",
    "        V_ref = 1.0, \n",
    "        P_ref = get_activepower(generator), \n",
    "        Q_ref = get_reactivepower(generator), \n",
    "        machine = OneDOneQMachine(\n",
    "                0.0, #R\n",
    "                1.3125, #Xd\n",
    "                1.2578, #Xq\n",
    "                0.1813, #Xd_p\n",
    "                0.25, #Xq_p\n",
    "                5.89, #Td0_p\n",
    "                0.6, #Tq0_p\n",
    "                100.0, #MVABase\n",
    "            ),   \n",
    "        shaft =  SingleMass(\n",
    "                            3.01, #H (M = 6.02 -> H = M/2)\n",
    "                            0.0, #D\n",
    "                                ), \n",
    "        avr = AVRTypeI(\n",
    "                        20.0, #Ka - Gain\n",
    "                        0.01, #Ke\n",
    "                        0.063, #Kf\n",
    "                        0.2, #Ta\n",
    "                        0.314, #Te\n",
    "                        0.35, #Tf\n",
    "                        0.001, #Tr\n",
    "                        5.0, #Vrmax\n",
    "                        -5.0, #Vrmin\n",
    "                        0.0039, #Ae - 1st ceiling coefficient\n",
    "                        1.555, #Be - 2nd ceiling coefficient\n",
    "                    ), \n",
    "       prime_mover = TGFixed(1.0),\n",
    "       pss = PSSFixed(0.0)\n",
    "    ) \n",
    "end\n",
    "generator = get_component(ThermalStandard, sys, \"generator-2-1\")\n",
    "dyn_generator = dyn_gen(generator)\n",
    "add_component!(sys, dyn_generator)"
   ]
  },
  {
   "cell_type": "markdown",
   "metadata": {},
   "source": [
    "and for the inverter:"
   ]
  },
  {
   "cell_type": "code",
   "execution_count": 6,
   "metadata": {},
   "outputs": [],
   "source": [
    "function inv_DAIB(generator)\n",
    "    return DynamicInverter(\n",
    "        number = 1,\n",
    "        name = \"VSM\",\n",
    "        bus = get_bus(generator),\n",
    "        ω_ref = 1.0,\n",
    "        V_ref = get_voltage(get_bus(generator)),\n",
    "        P_ref = get_activepower(generator),\n",
    "        Q_ref = get_reactivepower(generator),\n",
    "        MVABase = 2.75,\n",
    "        converter = AverageConverter(\n",
    "                                138.0, #Rated Voltage\n",
    "                                100.0, #Rated MVA\n",
    "                                 ),\n",
    "        outer_control = OuterControl(\n",
    "                        VirtualInertia(\n",
    "                                        2.0, #Ta:: VSM inertia constant\n",
    "                                        400.0, #kd:: VSM damping coefficient\n",
    "                                        20.0, #kω:: Frequency droop gain in pu\n",
    "                                        2 * pi * 50.0, #ωb:: Rated angular frequency\n",
    "                                       ), \n",
    "                        ReactivePowerDroop(\n",
    "                                        0.2, #kq:: Reactive power droop gain in pu\n",
    "                                        1000.0, #ωf:: Reactive power cut-off low pass filter frequency\n",
    "                                        )\n",
    "                                            ),\n",
    "        inner_control = CurrentControl(\n",
    "                                        0.59, #kpv:: Voltage controller proportional gain\n",
    "                                        736.0, #kiv:: Voltage controller integral gain\n",
    "                                        0.0, #kffv:: Binary variable enabling the voltage feed-forward in output of current controllers\n",
    "                                        0.0, #rv:: Virtual resistance in pu\n",
    "                                        0.2, #lv: Virtual inductance in pu\n",
    "                                        1.27, #kpc:: Current controller proportional gain\n",
    "                                        14.3, #kiv:: Current controller integral gain\n",
    "                                        0.0, #kffi:: Binary variable enabling the current feed-forward in output of current controllers\n",
    "                                        50.0, #ωad:: Active damping low pass filter cut-off frequency\n",
    "                                        0.2, #kad:: Active damping gain\n",
    "                                    ), \n",
    "        dc_source = FixedDCSource(1500.0),\n",
    "        freq_estimator = KauraPLL(\n",
    "                            500.0, #ω_lp: Cut-off frequency for LowPass filter of PLL filter.\n",
    "                            0.084, #k_p: PLL proportional gain\n",
    "                            4.69, #k_i: PLL integral gain\n",
    "                        ),\n",
    "        filter = LCLFilter(\n",
    "                0.08, #Series inductance lf in pu\n",
    "                0.003, #Series resitance rf in pu\n",
    "                0.074, #Shunt capacitance cf in pu\n",
    "                0.2, #Series reactance rg to grid connection (#Step up transformer or similar)\n",
    "                0.01, #Series resistance lg to grid connection (#Step up transformer or similar)\n",
    "            )\n",
    "    )\n",
    "end\n",
    "generator = get_component(ThermalStandard, sys, \"generator-3-2\")\n",
    "dyn_inverter = inv_DAIB(generator)\n",
    "add_component!(sys, dyn_inverter)"
   ]
  },
  {
   "cell_type": "code",
   "execution_count": 7,
   "metadata": {},
   "outputs": [],
   "source": [
    "dynamic_branch = get_component(Line, sys, \"3\")\n",
    "make_dynamic_branch!(dynamic_branch, sys)"
   ]
  },
  {
   "cell_type": "code",
   "execution_count": 8,
   "metadata": {},
   "outputs": [
    {
     "data": {
      "text/plain": [
       "ThreePhaseFault(1.0, \n",
       "  [1, 1]  =  0.695095-8.17495im\n",
       "  [3, 1]  =  -0.695095+8.27495im\n",
       "  [2, 2]  =  0.229885-2.72862im\n",
       "  [3, 2]  =  -0.229885+2.75862im\n",
       "  [1, 3]  =  -0.695095+8.27495im\n",
       "  [2, 3]  =  -0.229885+2.75862im\n",
       "  [3, 3]  =  0.92498-10.9036im)"
      ]
     },
     "execution_count": 8,
     "metadata": {},
     "output_type": "execute_result"
    }
   ],
   "source": [
    "#Compute Y_bus after fault\n",
    "fault_branches = deepcopy(collect(get_components(Line, sys))[1:end])\n",
    "faulted_line = [br for br in fault_branches if br.name == \"1\"][1]\n",
    "# Increase impedance of line (equivalent to a circuit trip)\n",
    "faulted_line.r = 0.03 ; faulted_line.x = 0.36; faulted_line.b = (from = 0.03, to = 0.03)\n",
    "Ybus_fault = Ybus(fault_branches, get_components(Bus, sys))[:, :]\n",
    "#Construct the perturbation\n",
    "perturbation_Ybus = ThreePhaseFault(\n",
    "    1.0, #change will occur at t = 1.0s\n",
    "    Ybus_fault, #new Ybus\n",
    ")"
   ]
  },
  {
   "cell_type": "markdown",
   "metadata": {},
   "source": [
    "## Step 3: Build the simulation and initializing the problem\n",
    "\n",
    "First, we construct the perturbation, by properly computing the new Ybus:"
   ]
  },
  {
   "cell_type": "markdown",
   "metadata": {},
   "source": [
    "Now, we check the indexing:"
   ]
  },
  {
   "cell_type": "code",
   "execution_count": 9,
   "metadata": {},
   "outputs": [
    {
     "data": {
      "text/plain": [
       "Simulation()\n"
      ]
     },
     "execution_count": 9,
     "metadata": {},
     "output_type": "execute_result"
    }
   ],
   "source": [
    "#Time span of our simulation\n",
    "tspan = (0.0, 30.0)\n",
    "\n",
    "#Define Simulation\n",
    "sim = Simulation(\n",
    "    sys, #system\n",
    "    tspan, #time span\n",
    "    perturbation_Ybus, #Type of perturbation\n",
    "    initialize_simulation = false #keyword argument to not find initial conditions.\n",
    ")"
   ]
  },
  {
   "cell_type": "markdown",
   "metadata": {},
   "source": [
    "This is a clear example on which a flat start is not enough to properly initialize the system, so we provide a guess:"
   ]
  },
  {
   "cell_type": "code",
   "execution_count": 10,
   "metadata": {},
   "outputs": [
    {
     "name": "stderr",
     "output_type": "stream",
     "text": [
      "┌ Info: Initializing Simulation States\n",
      "└ @ LITS /Users/jdlara/.julia/dev/LITS/src/base/simulation.jl:32\n"
     ]
    },
    {
     "data": {
      "text/plain": [
       "Simulation()\n"
      ]
     },
     "execution_count": 10,
     "metadata": {},
     "output_type": "execute_result"
    }
   ],
   "source": [
    "x0_guess = [1.00, #V1_R\n",
    "          1.00, #V2_R\n",
    "          1.00, #V3_R\n",
    "          0.0, #V1_I\n",
    "         -0.01, #V2_I\n",
    "         -0.01, #V3_I\n",
    "         0.0, #δω_vsm\n",
    "          0.2, #δθ_vsm\n",
    "          0.025, #qm\n",
    "          0.0015, #ξ_d\n",
    "          -0.07, #ξ_q\n",
    "          0.05, #γ_d\n",
    "        -0.001, #γ_q\n",
    "         0.95, #ϕ_d\n",
    "         -0.10, #ϕ_q\n",
    "         1.004, #vpll_d\n",
    "         0.0, #vpll_q\n",
    "         0.0, #ε_pll\n",
    "         0.1, #δθ_pll\n",
    "         0.5, #id_cv\n",
    "         0.0, #iq_cv\n",
    "         0.95, #vod\n",
    "         -0.1, #voq\n",
    "         0.49, #iod\n",
    "        -0.1, #ioq\n",
    "          1.0, #eq_p\n",
    "          0.47, #ed_p\n",
    "          0.6, #δ\n",
    "          1.0, #ω\n",
    "          2.1, #Vf\n",
    "          0.28, #Vr1\n",
    "          -0.39, #Vr2,\n",
    "          1.0, #Vm\n",
    "          0.5, #IL1_R\n",
    "          0.5] #IL1_I\n",
    "\n",
    "sim = Simulation(\n",
    "    sys, #system\n",
    "    tspan, #time span\n",
    "    perturbation_Ybus, #Type of perturbation\n",
    "    initial_guess = x0_guess #initial guess.\n",
    ")"
   ]
  },
  {
   "cell_type": "markdown",
   "metadata": {},
   "source": [
    "## Step 4: Run the simulation"
   ]
  },
  {
   "cell_type": "code",
   "execution_count": null,
   "metadata": {},
   "outputs": [],
   "source": [
    "run_simulation!(sim, #simulation structure\n",
    "                IDA()) #Sundials DAE Solver"
   ]
  },
  {
   "cell_type": "markdown",
   "metadata": {},
   "source": [
    "## Step 5: Explore the solution"
   ]
  },
  {
   "cell_type": "code",
   "execution_count": null,
   "metadata": {},
   "outputs": [],
   "source": [
    "volt = get_voltagemag_series(sim, 2)\n",
    "plot(volt, xlabel=\"time\", ylabel=\"Voltage [pu]\", label=\"V_2\")"
   ]
  },
  {
   "cell_type": "code",
   "execution_count": null,
   "metadata": {},
   "outputs": [],
   "source": [
    "zoom = [(volt[1][ix], volt[2][ix]) for (ix, s) in enumerate(volt[1]) if (s > 0.90 && s < 1.6)]\n",
    "plot(zoom, xlabel=\"time\", ylabel=\"Voltage [pu]\", title=\"Zoom of voltage magnitude\", label=\"V_2\")"
   ]
  },
  {
   "cell_type": "code",
   "execution_count": null,
   "metadata": {},
   "outputs": [],
   "source": []
  }
 ],
 "metadata": {
  "kernelspec": {
   "display_name": "Julia 1.4.1",
   "language": "julia",
   "name": "julia-1.4"
  },
  "language_info": {
   "file_extension": ".jl",
   "mimetype": "application/julia",
   "name": "julia",
   "version": "1.4.1"
  }
 },
 "nbformat": 4,
 "nbformat_minor": 4
}
