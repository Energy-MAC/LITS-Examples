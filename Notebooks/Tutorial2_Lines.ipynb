{
 "cells": [
  {
   "cell_type": "markdown",
   "metadata": {},
   "source": [
    "# Tutorial: Dynamic Lines\n",
    "\n",
    "This tutorial will introduce an example of considering dynamic lines in `LITS`.\n",
    "Note that this tutorial is for `LITS 0.2.0`. Future versions will have dedicated functions to find an equilibrium point and a proper functions for running perturbations without coding directly the callbacks.\n",
    "\n",
    "This tutorial presents a simulation of a three-bus system, with an infinite bus (represented as a voltage source behind an impedance) at bus 1, and a one d- one q- machine on bus 2 and an inverter of 19 states, as a virtual synchronous machine at bus 3. The perturbation will be the trip of two of the three circuits (triplicating its resistance and impedance) of the line that connects bus 1 and bus 3. This case also consider a dynamic line model for connection between buses 2 and 3.\n",
    "\n",
    "## Step 1: Package Initialization"
   ]
  },
  {
   "cell_type": "code",
   "execution_count": 1,
   "metadata": {},
   "outputs": [
    {
     "data": {
      "text/plain": [
       "PowerSystems"
      ]
     },
     "execution_count": 1,
     "metadata": {},
     "output_type": "execute_result"
    }
   ],
   "source": [
    "using LITS\n",
    "using PowerSystems\n",
    "using NLsolve\n",
    "using DiffEqBase\n",
    "using Sundials\n",
    "const PSY = PowerSystems"
   ]
  },
  {
   "cell_type": "markdown",
   "metadata": {},
   "source": [
    "## Step 2: Data creation\n",
    "\n",
    "To start we will define the data structures for the network.\n",
    "\n",
    "### Buses and Branches"
   ]
  },
  {
   "cell_type": "code",
   "execution_count": 3,
   "metadata": {},
   "outputs": [],
   "source": [
    "nodes_case9   = [Bus(1 , \"Bus 1\"  , \"REF\" , 0 , 1.02  , (min=0.94, max=1.06), 138),\n",
    "                    Bus(2 , \"Bus 2\"  , \"PV\" , 0 , 1.00 , (min=0.94, max=1.06), 138),\n",
    "                    Bus(3 , \"Bus 3\"  , \"PQ\" , 0 , 1.00 , (min=0.94, max=1.06), 138)]\n",
    "\n",
    "branch_case9  =  [Line(\"Line1\", true, 0.0, 0.0, Arc(from=nodes_case9[1], to=nodes_case9[3]), 0.01, 0.12, (from=0.1, to=0.1), 100, 1.04),\n",
    "                    Line(\"Line2\", true, 0.0, 0.0, Arc(from=nodes_case9[1], to=nodes_case9[2]), 0.01, 0.12, (from=0.1, to=0.1), 100, 1.04)]\n",
    "\n",
    "#Trip of Line 1. Triplicates its impedance\n",
    "branch_case9_fault = [Line(\"Line1\", true, 0.0, 0.0, Arc(from=nodes_case9[1], to=nodes_case9[3]), 0.03, 0.36, (from=0.03, to=0.03), 100, 1.04),\n",
    "    Line(\"Line2\", true, 0.0, 0.0, Arc(from=nodes_case9[1], to=nodes_case9[2]), 0.01, 0.12, (from=0.1, to=0.1), 100, 1.04)]\n",
    "\n",
    "#Dynamic Branch between nodes 2 and 3.\n",
    "dyn_branch9 = [LITS.DynLine(\"Line3\", true, Arc(from=nodes_case9[2], to=nodes_case9[3]), 0.02, 0.9, (from=0.5, to=0.5))];"
   ]
  },
  {
   "cell_type": "markdown",
   "metadata": {},
   "source": [
    "### Injection devices"
   ]
  },
  {
   "cell_type": "code",
   "execution_count": 4,
   "metadata": {},
   "outputs": [],
   "source": [
    "loads_case9 =   [PowerLoad(\"Bus1\", true, nodes_case9[1], PowerSystems.ConstantPower, 0.5, 0.1, 1.5, 0.8),\n",
    "                   PowerLoad(\"Bus2\", true, nodes_case9[2], PowerSystems.ConstantPower, 1.0, 0.3, 1.5, 0.8),\n",
    "                   PowerLoad(\"Bus3\", true, nodes_case9[3], PowerSystems.ConstantPower, 0.3, 0.1, 0.5, 0.3)]\n",
    "\n",
    "inf_gen_case9 = StaticSource(1, #number\n",
    "                    :InfBus, #name\n",
    "                    nodes_case9[1],#bus\n",
    "                    1.00, #VR\n",
    "                    0.0, #VI\n",
    "                    0.000005); #Xth"
   ]
  },
  {
   "cell_type": "markdown",
   "metadata": {},
   "source": [
    "### Dynamic injection devices\n",
    "\n",
    "First we define our generator data:"
   ]
  },
  {
   "cell_type": "code",
   "execution_count": 6,
   "metadata": {},
   "outputs": [],
   "source": [
    "######## Machine Data #########\n",
    "\n",
    "### Case: 4th Order Model with AVR (3-bus case) ###\n",
    "case9_machine =  OneDOneQMachine(0.0, #R\n",
    "                                  1.3125, #Xd\n",
    "                                  1.2578, #Xq\n",
    "                                  0.1813, #Xd_p\n",
    "                                  0.25, #Xq_p\n",
    "                                  5.89, #Td0_p\n",
    "                                  0.6, #Tq0_p\n",
    "                                  100.0)   #MVABase\n",
    "\n",
    "######## Shaft Data #########\n",
    "\n",
    "### Shafts for Gen ###\n",
    "case9_shaft = SingleMass(3.01, #H (M = 6.02 -> H = M/2)\n",
    "                            0.0) #D\n",
    "\n",
    "######## PSS Data #########\n",
    "\n",
    "### No PSS ###\n",
    "cases_no_pss = PSSFixed(0.0)\n",
    "\n",
    "\n",
    "######## TG Data #########\n",
    "\n",
    "### No TG ###\n",
    "case9_no_tg = TGFixed(1.0) #eff\n",
    "\n",
    "\n",
    "########  AVR Data #########\n",
    "### AVRs for this case ###\n",
    "case9_avr = AVRTypeI(20.0, #Ka - Gain\n",
    "                        0.01, #Ke\n",
    "                        0.063, #Kf\n",
    "                        0.2, #Ta\n",
    "                        0.314, #Te\n",
    "                        0.35, #Tf\n",
    "                        0.001, #Tr\n",
    "                        5.0, #Vrmax\n",
    "                        -5.0, #Vrmin\n",
    "                        0.0039, #Ae - 1st ceiling coefficient\n",
    "                        1.555) #Be - 2nd ceiling coefficient\n",
    "\n",
    "### Generators ###\n",
    "case9_gen = DynGenerator(1, #Number\n",
    "                         :Case9Gen,\n",
    "                         nodes_case9[2], #bus\n",
    "                         1.0, # ω_ref,\n",
    "                         1.0124, #V_ref\n",
    "                         0.6, #P_ref\n",
    "                         case9_machine, #machine\n",
    "                         case9_shaft, #shaft\n",
    "                         case9_avr, #avr\n",
    "                         case9_no_tg, #tg\n",
    "                         cases_no_pss); #pss"
   ]
  },
  {
   "cell_type": "markdown",
   "metadata": {},
   "source": [
    "and for the inverter:"
   ]
  },
  {
   "cell_type": "code",
   "execution_count": 9,
   "metadata": {},
   "outputs": [],
   "source": [
    "############### Inverter Data ########################\n",
    "\n",
    "converter = AvgCnvFixedDC(138.0, #Rated Voltage\n",
    "                          100.0) #Rated MVA\n",
    "\n",
    "dc_source = FixedDCSource(1500.0) #Not in the original data, guessed.\n",
    "\n",
    "filt = LCLFilter(0.08, #Series inductance lf in pu\n",
    "                   0.003, #Series resitance rf in pu\n",
    "                   0.074, #Shunt capacitance cf in pu\n",
    "                   0.2, #Series reactance rg to grid connection (#Step up transformer or similar)\n",
    "                   0.01) #Series resistance lg to grid connection (#Step up transformer or similar)\n",
    "\n",
    "pll = PLL(500.0, #ω_lp: Cut-off frequency for LowPass filter of PLL filter.\n",
    "          0.084, #k_p: PLL proportional gain\n",
    "          4.69) #k_i: PLL integral gain\n",
    "\n",
    "virtual_H = VirtualInertia(2.0, #Ta:: VSM inertia constant\n",
    "                           400.0, #kd:: VSM damping coefficient\n",
    "                           20.0, #kω:: Frequency droop gain in pu\n",
    "                           2*pi*50.0) #ωb:: Rated angular frequency\n",
    "\n",
    "Q_control = ReactivePowerDroop(0.2, #kq:: Reactive power droop gain in pu\n",
    "                              1000.0) #ωf:: Reactive power cut-off low pass filter frequency\n",
    "\n",
    "outer_control = VirtualInertiaQdroop(virtual_H, Q_control)\n",
    "\n",
    "vsc = CombinedVIwithVZ(0.59, #kpv:: Voltage controller proportional gain\n",
    "                       736.0, #kiv:: Voltage controller integral gain\n",
    "                       0.0, #kffv:: Binary variable enabling the voltage feed-forward in output of current controllers\n",
    "                       0.0, #rv:: Virtual resistance in pu\n",
    "                       0.2, #lv: Virtual inductance in pu\n",
    "                       1.27, #kpc:: Current controller proportional gain\n",
    "                       14.3, #kiv:: Current controller integral gain\n",
    "                       0.0, #kffi:: Binary variable enabling the current feed-forward in output of current controllers\n",
    "                       50.0, #ωad:: Active damping low pass filter cut-off frequency\n",
    "                       0.2) #kad:: Active damping gain\n",
    "\n",
    "case9_inv = DynInverter(2, #number\n",
    "                             :DARCO, #name\n",
    "                             nodes_case9[3], #bus location\n",
    "                             1.0, #ω_ref\n",
    "                             0.8, #V_ref\n",
    "                             0.5, #P_ref\n",
    "                             -0.3, #Q_ref\n",
    "                             100.0, #MVABase\n",
    "                             converter, #Converter\n",
    "                             outer_control, #OuterControl\n",
    "                             vsc, #Voltage Source Controller\n",
    "                             dc_source, #DC Source\n",
    "                             pll, #Frequency Estimator\n",
    "                             filt); #Output Filter"
   ]
  },
  {
   "cell_type": "markdown",
   "metadata": {},
   "source": [
    "### Dynamic System"
   ]
  },
  {
   "cell_type": "code",
   "execution_count": 10,
   "metadata": {},
   "outputs": [],
   "source": [
    "case9_DynSystem = DynamicSystem(nodes_case9, #Vector of Buses\n",
    "                                 branch_case9, #Vector of Branches\n",
    "                                 [case9_inv, case9_gen], #Vector of Dynamic Injections\n",
    "                                 vcat(inf_gen_case9, loads_case9), #Vector of Injections\n",
    "                                 100.0, #MVA Base\n",
    "                                 50.0, #Freq. Base\n",
    "                                 dyn_branch9); #Vector of Dynamic Branches"
   ]
  },
  {
   "cell_type": "markdown",
   "metadata": {},
   "source": [
    "## Step 3: Initializing the problem\n",
    "\n",
    "To initialize the problem we need to define an initial guess of the states:"
   ]
  },
  {
   "cell_type": "code",
   "execution_count": 11,
   "metadata": {},
   "outputs": [],
   "source": [
    "dx0 = zeros(LITS.get_total_rows(case9_DynSystem))\n",
    "x0 = [1.00, #V1_R\n",
    "          1.00, #V2_R\n",
    "          1.00, #V3_R\n",
    "          0.0, #V1_I\n",
    "         -0.01, #V2_I\n",
    "         -0.01, #V3_I\n",
    "         0.0, #δω_vsm\n",
    "          0.2, #δθ_vsm\n",
    "          0.025, #qm\n",
    "          0.0015, #ξ_d\n",
    "          -0.07, #ξ_q\n",
    "          0.05, #γ_d\n",
    "        -0.001, #γ_q\n",
    "         0.95, #ϕ_d\n",
    "         -0.10, #ϕ_q\n",
    "         1.004, #vpll_d\n",
    "         0.0, #vpll_q\n",
    "         0.0, #ε_pll\n",
    "         0.1, #δθ_pll\n",
    "         0.5, #id_cv\n",
    "         0.0, #iq_cv\n",
    "         0.95, #vod\n",
    "         -0.1, #voq\n",
    "         0.49, #iod\n",
    "        -0.1, #ioq\n",
    "          1.0, #eq_p\n",
    "          0.47, #ed_p\n",
    "          0.6, #δ\n",
    "          1.0, #ω\n",
    "          2.1, #Vf\n",
    "          0.28, #Vr1\n",
    "          -0.39, #Vr2,\n",
    "          1.0, #Vm\n",
    "          0.5, #IL1_R\n",
    "          0.5] #IL1_I\n",
    "\n",
    "case9_inv.inner_vars[13] = 0.95 #Initialize internal variables of inverter: Vd_cnv var\n",
    "case9_inv.inner_vars[14] = -0.1 #Initialize internal variables of inverter: Vq_cnv var\n",
    "tspan = (0.0, 30.0);"
   ]
  },
  {
   "cell_type": "markdown",
   "metadata": {},
   "source": [
    "We will use `NLsolve` to find the initial condition of the system:"
   ]
  },
  {
   "cell_type": "code",
   "execution_count": 12,
   "metadata": {},
   "outputs": [
    {
     "data": {
      "text/plain": [
       "35-element Array{Float64,1}:\n",
       "  1.000005477826889    \n",
       "  1.0100805887052202   \n",
       "  1.108871618184256    \n",
       " -2.7633621592760715e-6\n",
       " -0.041974481656464904 \n",
       "  0.025692962822667066 \n",
       "  0.0                  \n",
       "  0.23871377586372108  \n",
       " -0.6179878445401105   \n",
       "  0.0007866486087333013\n",
       "  0.0007666256484575833\n",
       "  0.06840611824524177  \n",
       " -0.007963999651318842 \n",
       "  ⋮                    \n",
       "  0.5789733760277096   \n",
       "  0.5642364772647814   \n",
       "  0.7147929775908196   \n",
       "  0.6081838889926461   \n",
       "  0.8077857281265431   \n",
       "  1.0                  \n",
       "  1.0084381955780997   \n",
       "  0.02895301168313598  \n",
       " -0.18151887520405796  \n",
       "  1.0109523494158432   \n",
       " -0.07758701952221062  \n",
       "  0.10804365454287941  "
      ]
     },
     "execution_count": 12,
     "metadata": {},
     "output_type": "execute_result"
    }
   ],
   "source": [
    "#Find initial condition\n",
    "inif! = (out,x) -> LITS.system_model!(out, dx0 ,x, ([0.0],case9_DynSystem), 0.0)\n",
    "sys_solve = nlsolve(inif!, x0, xtol=:1e-8,ftol=:1e-8,method=:trust_region)\n",
    "x0_init = sys_solve.zero"
   ]
  },
  {
   "cell_type": "markdown",
   "metadata": {},
   "source": [
    "## Step 4: Build the Simulation"
   ]
  },
  {
   "cell_type": "code",
   "execution_count": 13,
   "metadata": {},
   "outputs": [],
   "source": [
    "#Compute Y_bus after fault\n",
    "Ybus_fault = Ybus(branch_case9_fault, nodes_case9)[:,:]\n",
    "\n",
    "#Define Fault using Callbacks\n",
    "cb = DiffEqBase.DiscreteCallback(LITS.change_t_one, LITS.Y_change!)\n",
    "\n",
    "#Define Simulation Problem\n",
    "sim = DynamicSimulation(case9_DynSystem, tspan, Ybus_fault, cb, x0_init)\n",
    "\n",
    "#Solve problem\n",
    "run_simulation!(sim, IDA());"
   ]
  },
  {
   "cell_type": "markdown",
   "metadata": {},
   "source": [
    "## Step 5: Explore the solution"
   ]
  },
  {
   "cell_type": "code",
   "execution_count": 18,
   "metadata": {},
   "outputs": [],
   "source": [
    "using Plots\n",
    "volt = get_voltagemag_series(sim, 2)\n",
    "plot(volt, xlabel=\"time\", ylabel=\"Voltage [pu]\", label=\"V_2\")"
   ]
  },
  {
   "cell_type": "code",
   "execution_count": 19,
   "metadata": {},
   "outputs": [],
   "source": [
    "zoom = [(volt[1][ix], volt[2][ix]) for (ix, s) in enumerate(volt[1]) if (s > 0.90 && s < 1.6)]\n",
    "plot(zoom, xlabel=\"time\", ylabel=\"Voltage [pu]\", title=\"Zoom of voltage magnitude\", label=\"V_2\")"
   ]
  },
  {
   "cell_type": "code",
   "execution_count": null,
   "metadata": {},
   "outputs": [],
   "source": []
  }
 ],
 "metadata": {
  "kernelspec": {
   "display_name": "Julia 1.2.0",
   "language": "julia",
   "name": "julia-1.2"
  },
  "language_info": {
   "file_extension": ".jl",
   "mimetype": "application/julia",
   "name": "julia",
   "version": "1.2.0"
  }
 },
 "nbformat": 4,
 "nbformat_minor": 2
}
