{
 "cells": [
  {
   "cell_type": "markdown",
   "metadata": {},
   "source": [
    "# Tutorial: One Machine against Infinite Bus (OMIB)\n",
    "\n",
    "This tutorial will introduce you to the functionality of `LITS` for running Power System Simulations.\n",
    "Note that this tutorial is for `LITS 0.3.5`. Future versions will have dedicated functions to find an equilibrium point using a Power Flow method without relying in a guess of the initial condition to run a non-linear solver.\n",
    "\n",
    "This tutorial presents a simulation of a two-bus system, with an infinite bus (represented as a voltage source behind an impedance) at bus 1 and a classic machine on bus 2. The perturbation will be the trip of one of the two circuits (doubling its resistance and impedance) of the line that connects both buses.\n",
    "\n",
    "This tutorial can be found on [LITS/Examples](https://github.com/Energy-MAC/LITS-Examples) repository.\n",
    "\n",
    "## Step 1: Package Initialization\n",
    "\n",
    "The first step consists in initialize all packages that will be used to run the simulation. All the necessary packages are listed. Please note that loading the packages may take some time."
   ]
  },
  {
   "cell_type": "code",
   "execution_count": 1,
   "metadata": {},
   "outputs": [
    {
     "name": "stdout",
     "output_type": "stream",
     "text": [
      "\u001b[32m\u001b[1m  Updating\u001b[22m\u001b[39m registry at `~/.julia/registries/General`\n",
      "\u001b[32m\u001b[1m  Updating\u001b[22m\u001b[39m git-repo `https://github.com/JuliaRegistries/General.git`\n",
      "\u001b[2K\u001b[?25h\u001b[32m\u001b[1m  Updating\u001b[22m\u001b[39m git-repo `https://github.com/Energy-MAC/LITS.jl.git`\n",
      "\u001b[2K\u001b[?25h\u001b[32m\u001b[1m Resolving\u001b[22m\u001b[39m package versions...\n",
      "\u001b[32m\u001b[1m Installed\u001b[22m\u001b[39m PowerSystems ─ v0.17.0\n",
      "\u001b[32m\u001b[1m  Updating\u001b[22m\u001b[39m `~/.julia/dev/LITS-Examples/Project.toml`\n",
      " \u001b[90m [86b0dc02]\u001b[39m\u001b[93m ↑ LITS v0.3.0 #master (https://github.com/Energy-MAC/LITS.jl.git) ⇒ v0.3.5 #master (https://github.com/Energy-MAC/LITS.jl.git)\u001b[39m\n",
      " \u001b[90m [91a5bcdd]\u001b[39m\u001b[93m ↑ Plots v0.28.4 ⇒ v1.2.0\u001b[39m\n",
      " \u001b[90m [bcd98974]\u001b[39m\u001b[93m ↑ PowerSystems v0.9.0 ⇒ v0.17.0\u001b[39m\n",
      " \u001b[90m [c3572dad]\u001b[39m\u001b[93m ↑ Sundials v3.8.2 ⇒ v4.2.1\u001b[39m\n",
      "\u001b[32m\u001b[1m  Updating\u001b[22m\u001b[39m `~/.julia/dev/LITS-Examples/Manifest.toml`\n",
      " \u001b[90m [1520ce14]\u001b[39m\u001b[92m + AbstractTrees v0.3.3\u001b[39m\n",
      " \u001b[90m [4fba245c]\u001b[39m\u001b[93m ↑ ArrayInterface v2.4.1 ⇒ v2.8.7\u001b[39m\n",
      " \u001b[90m [9e28174c]\u001b[39m\u001b[93m ↑ BinDeps v1.0.0 ⇒ v1.0.1\u001b[39m\n",
      " \u001b[90m [b99e7846]\u001b[39m\u001b[93m ↑ BinaryProvider v0.5.8 ⇒ v0.5.9\u001b[39m\n",
      " \u001b[90m [a74b3585]\u001b[39m\u001b[93m ↑ Blosc v0.5.1 ⇒ v0.6.0\u001b[39m\n",
      " \u001b[90m [6e34b625]\u001b[39m\u001b[92m + Bzip2_jll v1.0.6+2\u001b[39m\n",
      " \u001b[90m [fa961155]\u001b[39m\u001b[92m + CEnum v0.2.0\u001b[39m\n",
      " \u001b[90m [631607c0]\u001b[39m\u001b[93m ↑ CMake v1.1.2 ⇒ v1.2.0\u001b[39m\n",
      " \u001b[90m [336ed68f]\u001b[39m\u001b[93m ↑ CSV v0.5.23 ⇒ v0.6.1\u001b[39m\n",
      " \u001b[90m [d360d2e6]\u001b[39m\u001b[93m ↑ ChainRulesCore v0.6.1 ⇒ v0.7.5\u001b[39m\n",
      " \u001b[90m [19ecbf4d]\u001b[39m\u001b[91m - Codecs v0.5.0\u001b[39m\n",
      " \u001b[90m [35d6a980]\u001b[39m\u001b[92m + ColorSchemes v3.9.0\u001b[39m\n",
      " \u001b[90m [3da002f7]\u001b[39m\u001b[93m ↑ ColorTypes v0.9.1 ⇒ v0.10.2\u001b[39m\n",
      " \u001b[90m [5ae59095]\u001b[39m\u001b[93m ↑ Colors v0.11.2 ⇒ v0.12.0\u001b[39m\n",
      " \u001b[90m [34da2185]\u001b[39m\u001b[93m ↑ Compat v2.2.0 ⇒ v3.9.0\u001b[39m\n",
      " \u001b[90m [e66e0078]\u001b[39m\u001b[92m + CompilerSupportLibraries_jll v0.3.3+0\u001b[39m\n",
      " \u001b[90m [88cd18e8]\u001b[39m\u001b[92m + ConsoleProgressMonitor v0.1.2\u001b[39m\n",
      " \u001b[90m [d38c429a]\u001b[39m\u001b[93m ↑ Contour v0.5.1 ⇒ v0.5.2\u001b[39m\n",
      " \u001b[90m [a8cc5b0e]\u001b[39m\u001b[92m + Crayons v4.0.1\u001b[39m\n",
      " \u001b[90m [9a962f9c]\u001b[39m\u001b[93m ↑ DataAPI v1.1.0 ⇒ v1.3.0\u001b[39m\n",
      " \u001b[90m [a93c6f00]\u001b[39m\u001b[93m ↑ DataFrames v0.20.0 ⇒ v0.20.2\u001b[39m\n",
      " \u001b[90m [864edb3b]\u001b[39m\u001b[93m ↑ DataStructures v0.17.9 ⇒ v0.17.15\u001b[39m\n",
      " \u001b[90m [2b5f629d]\u001b[39m\u001b[93m ↑ DiffEqBase v6.13.3 ⇒ v6.31.1\u001b[39m\n",
      " \u001b[90m [b552c78f]\u001b[39m\u001b[93m ↑ DiffRules v1.0.0 ⇒ v1.0.1\u001b[39m\n",
      " \u001b[90m [c87230d0]\u001b[39m\u001b[93m ↑ FFMPEG v0.2.4 ⇒ v0.3.0\u001b[39m\n",
      " \u001b[90m [b22a6f82]\u001b[39m\u001b[92m + FFMPEG_jll v4.1.0+2\u001b[39m\n",
      " \u001b[90m [6a86dc24]\u001b[39m\u001b[93m ↑ FiniteDiff v2.2.0 ⇒ v2.3.0\u001b[39m\n",
      " \u001b[90m [53c48c17]\u001b[39m\u001b[93m ↑ FixedPointNumbers v0.6.1 ⇒ v0.8.0\u001b[39m\n",
      " \u001b[90m [59287772]\u001b[39m\u001b[92m + Formatting v0.4.1\u001b[39m\n",
      " \u001b[90m [f6369f11]\u001b[39m\u001b[93m ↑ ForwardDiff v0.10.9 ⇒ v0.10.10\u001b[39m\n",
      " \u001b[90m [d7e528f0]\u001b[39m\u001b[92m + FreeType2_jll v2.10.1+2\u001b[39m\n",
      " \u001b[90m [559328eb]\u001b[39m\u001b[92m + FriBidi_jll v1.0.5+2\u001b[39m\n",
      " \u001b[90m [069b7b12]\u001b[39m\u001b[93m ↑ FunctionWrappers v1.0.0 ⇒ v1.1.1\u001b[39m\n",
      " \u001b[90m [28b8d3ca]\u001b[39m\u001b[93m ↑ GR v0.44.0 ⇒ v0.48.0\u001b[39m\n",
      " \u001b[90m [4d00f742]\u001b[39m\u001b[93m ↑ GeometryTypes v0.7.7 ⇒ v0.8.2\u001b[39m\n",
      " \u001b[90m [f67ccb44]\u001b[39m\u001b[93m ↑ HDF5 v0.12.5 ⇒ v0.13.1\u001b[39m\n",
      " \u001b[90m [0234f1f7]\u001b[39m\u001b[92m + HDF5_jll v1.10.5+5\u001b[39m\n",
      " \u001b[90m [2cd47ed4]\u001b[39m\u001b[93m ↑ InfrastructureSystems v0.5.5 ⇒ v0.6.4\u001b[39m\n",
      " \u001b[90m [42fd0dbc]\u001b[39m\u001b[93m ↑ IterativeSolvers v0.8.1 ⇒ v0.8.4\u001b[39m\n",
      " \u001b[90m [c1c5ebd0]\u001b[39m\u001b[92m + LAME_jll v3.100.0+0\u001b[39m\n",
      " \u001b[90m [86b0dc02]\u001b[39m\u001b[93m ↑ LITS v0.3.0 #master (https://github.com/Energy-MAC/LITS.jl.git) ⇒ v0.3.5 #master (https://github.com/Energy-MAC/LITS.jl.git)\u001b[39m\n",
      " \u001b[90m [2ee39098]\u001b[39m\u001b[92m + LabelledArrays v1.2.0\u001b[39m\n",
      " \u001b[90m [1d6d02ad]\u001b[39m\u001b[92m + LeftChildRightSiblingTrees v0.1.2\u001b[39m\n",
      " \u001b[90m [dd192d2f]\u001b[39m\u001b[92m + LibVPX_jll v1.8.1+1\u001b[39m\n",
      " \u001b[90m [e6f89c97]\u001b[39m\u001b[92m + LoggingExtras v0.4.0\u001b[39m\n",
      " \u001b[90m [d00139f3]\u001b[39m\u001b[92m + METIS_jll v5.1.0+3\u001b[39m\n",
      " \u001b[90m [1914dd2f]\u001b[39m\u001b[93m ↑ MacroTools v0.5.4 ⇒ v0.5.5\u001b[39m\n",
      " \u001b[90m [ffc61752]\u001b[39m\u001b[93m ↑ Mustache v1.0.0 ⇒ v1.0.2\u001b[39m\n",
      " \u001b[90m [e7412a2a]\u001b[39m\u001b[92m + Ogg_jll v1.3.3+0\u001b[39m\n",
      " \u001b[90m [4536629a]\u001b[39m\u001b[92m + OpenBLAS_jll v0.3.9+2\u001b[39m\n",
      " \u001b[90m [458c3c95]\u001b[39m\u001b[92m + OpenSSL_jll v1.1.1+2\u001b[39m\n",
      " \u001b[90m [efe28fd5]\u001b[39m\u001b[93m ↑ OpenSpecFun_jll v0.5.3+1 ⇒ v0.5.3+3\u001b[39m\n",
      " \u001b[90m [91d4177d]\u001b[39m\u001b[92m + Opus_jll v1.3.1+0\u001b[39m\n",
      " \u001b[90m [69de0a69]\u001b[39m\u001b[93m ↑ Parsers v0.3.11 ⇒ v1.0.2\u001b[39m\n",
      " \u001b[90m [ccf2f8ad]\u001b[39m\u001b[93m ↑ PlotThemes v1.0.1 ⇒ v2.0.0\u001b[39m\n",
      " \u001b[90m [995b91a9]\u001b[39m\u001b[93m ↑ PlotUtils v0.6.2 ⇒ v1.0.2\u001b[39m\n",
      " \u001b[90m [91a5bcdd]\u001b[39m\u001b[93m ↑ Plots v0.28.4 ⇒ v1.2.0\u001b[39m\n",
      " \u001b[90m [bcd98974]\u001b[39m\u001b[93m ↑ PowerSystems v0.9.0 ⇒ v0.17.0\u001b[39m\n",
      " \u001b[90m [08abe8d2]\u001b[39m\u001b[92m + PrettyTables v0.8.4\u001b[39m\n",
      " \u001b[90m [33c8b6b6]\u001b[39m\u001b[92m + ProgressLogging v0.1.2\u001b[39m\n",
      " \u001b[90m [92933f4c]\u001b[39m\u001b[92m + ProgressMeter v1.2.0\u001b[39m\n",
      " \u001b[90m [3cdcf5f2]\u001b[39m\u001b[93m ↑ RecipesBase v0.7.0 ⇒ v1.0.1\u001b[39m\n",
      " \u001b[90m [01d81517]\u001b[39m\u001b[92m + RecipesPipeline v0.1.6\u001b[39m\n",
      " \u001b[90m [731186ca]\u001b[39m\u001b[93m ↑ RecursiveArrayTools v2.0.5 ⇒ v2.3.1\u001b[39m\n",
      " \u001b[90m [f2b01f46]\u001b[39m\u001b[93m ↑ Roots v0.8.4 ⇒ v1.0.1\u001b[39m\n",
      " \u001b[90m [276daf66]\u001b[39m\u001b[93m ↑ SpecialFunctions v0.9.0 ⇒ v0.10.0\u001b[39m\n",
      " \u001b[90m [90137ffa]\u001b[39m\u001b[93m ↑ StaticArrays v0.12.1 ⇒ v0.12.2\u001b[39m\n",
      " \u001b[90m [2913bbd2]\u001b[39m\u001b[93m ↑ StatsBase v0.32.0 ⇒ v0.33.0\u001b[39m\n",
      " \u001b[90m [bea87d4a]\u001b[39m\u001b[92m + SuiteSparse_jll v5.4.0+8\u001b[39m\n",
      " \u001b[90m [c3572dad]\u001b[39m\u001b[93m ↑ Sundials v3.8.2 ⇒ v4.2.1\u001b[39m\n",
      " \u001b[90m [fb77eaff]\u001b[39m\u001b[92m + Sundials_jll v5.2.0+0\u001b[39m\n",
      " \u001b[90m [bd369af6]\u001b[39m\u001b[93m ↑ Tables v0.2.11 ⇒ v1.0.4\u001b[39m\n",
      " \u001b[90m [5d786b92]\u001b[39m\u001b[92m + TerminalLoggers v0.1.1\u001b[39m\n",
      " \u001b[90m [9e3dc215]\u001b[39m\u001b[93m ↑ TimeSeries v0.16.1 ⇒ v0.18.0\u001b[39m\n",
      " \u001b[90m [30578b45]\u001b[39m\u001b[93m ↑ URIParser v0.4.0 ⇒ v0.4.1\u001b[39m\n",
      " \u001b[90m [ddb6d928]\u001b[39m\u001b[93m ↑ YAML v0.3.2 ⇒ v0.4.0\u001b[39m\n",
      " \u001b[90m [83775a58]\u001b[39m\u001b[92m + Zlib_jll v1.2.11+9\u001b[39m\n",
      " \u001b[90m [0ac62f75]\u001b[39m\u001b[92m + libass_jll v0.14.0+1\u001b[39m\n",
      " \u001b[90m [f638f0a6]\u001b[39m\u001b[92m + libfdk_aac_jll v0.1.6+1\u001b[39m\n",
      " \u001b[90m [f27f6e37]\u001b[39m\u001b[92m + libvorbis_jll v1.3.6+2\u001b[39m\n",
      " \u001b[90m [1270edf5]\u001b[39m\u001b[92m + x264_jll v2019.5.25+1\u001b[39m\n",
      " \u001b[90m [dfaa095f]\u001b[39m\u001b[92m + x265_jll v3.0.0+0\u001b[39m\n"
     ]
    }
   ],
   "source": [
    "] up"
   ]
  },
  {
   "cell_type": "code",
   "execution_count": 2,
   "metadata": {},
   "outputs": [
    {
     "name": "stderr",
     "output_type": "stream",
     "text": [
      "┌ Info: Precompiling LITS [86b0dc02-7903-11e9-325f-f195ca7e6c1a]\n",
      "└ @ Base loading.jl:1273\n",
      "┌ Info: Precompiling Plots [91a5bcdd-55d7-5caf-9e0b-520d859cae80]\n",
      "└ @ Base loading.jl:1273\n"
     ]
    }
   ],
   "source": [
    "using LITS\n",
    "using PowerSystems\n",
    "using Sundials\n",
    "using NLsolve\n",
    "using Plots"
   ]
  },
  {
   "cell_type": "markdown",
   "metadata": {},
   "source": [
    "`PowerSystems` is used to properly define the data structure, while `Sundials` is used to solve the problem defined in `LITS`."
   ]
  },
  {
   "cell_type": "markdown",
   "metadata": {},
   "source": [
    "## Step 2: Data creation\n",
    "\n",
    "### We are still improving the data management with a closer integration within `PowerSystems.jl`\n",
    "\n",
    "Next we need to define the different elements required to run a simulation. To run a simulation, it is required to define a `System` from `PowerSystems.jl`\n",
    "\n",
    "- A base static System, we will parse it from a PSS/e raw file\n",
    "- Add a Source to the Ref (Slack) Bus\n",
    "- Add the dynamic data to the static data sets. "
   ]
  },
  {
   "cell_type": "code",
   "execution_count": 5,
   "metadata": {},
   "outputs": [
    {
     "name": "stderr",
     "output_type": "stream",
     "text": [
      "┌ Info: The PSS(R)E parser currently supports buses, loads, shunts, generators, branches, transformers, and dc lines\n",
      "└ @ PowerSystems /Users/rhenriquez/.julia/packages/PowerSystems/y1jmI/src/parsers/pm_io/common.jl:26\n",
      "┌ Info: Constructing System from Power Models\n",
      "│   data[\"name\"] = omib\n",
      "│   data[\"source_type\"] = pti\n",
      "└ @ PowerSystems /Users/rhenriquez/.julia/packages/PowerSystems/y1jmI/src/parsers/power_models_data.jl:39\n",
      "┌ Info: Reading bus data\n",
      "└ @ PowerSystems /Users/rhenriquez/.julia/packages/PowerSystems/y1jmI/src/parsers/power_models_data.jl:140\n",
      "┌ Info: Reading generator data\n",
      "└ @ PowerSystems /Users/rhenriquez/.julia/packages/PowerSystems/y1jmI/src/parsers/power_models_data.jl:386\n",
      "┌ Info: Reading branch data\n",
      "└ @ PowerSystems /Users/rhenriquez/.julia/packages/PowerSystems/y1jmI/src/parsers/power_models_data.jl:538\n",
      "┌ Info: Reading branch data\n",
      "└ @ PowerSystems /Users/rhenriquez/.julia/packages/PowerSystems/y1jmI/src/parsers/power_models_data.jl:601\n",
      "┌ Info: Reading DC Line data\n",
      "└ @ PowerSystems /Users/rhenriquez/.julia/packages/PowerSystems/y1jmI/src/parsers/power_models_data.jl:572\n"
     ]
    },
    {
     "data": {
      "text/html": [
       "<h1>System</h1>\n",
       "<p><b>Base Power</b>: 100.0</p>\n",
       "<h2>Components</h2>\n",
       "<p><b>Num components</b>: 7</p>\n",
       "<table class=\"data-frame\"><thead><tr><th></th><th>ConcreteType</th><th>SuperTypes</th><th>Count</th></tr><tr><th></th><th>String</th><th>String</th><th>Int64</th></tr></thead><tbody><p>6 rows × 3 columns</p><tr><th>1</th><td>Area</td><td>AggregationTopology &lt;: Topology &lt;: Component &lt;: PowerSystemType &lt;: InfrastructureSystemsType &lt;: Any</td><td>1</td></tr><tr><th>2</th><td>Bus</td><td>Topology &lt;: Component &lt;: PowerSystemType &lt;: InfrastructureSystemsType &lt;: Any</td><td>2</td></tr><tr><th>3</th><td>Line</td><td>ACBranch &lt;: Branch &lt;: Device &lt;: Component &lt;: PowerSystemType &lt;: InfrastructureSystemsType &lt;: Any</td><td>1</td></tr><tr><th>4</th><td>LoadZone</td><td>AggregationTopology &lt;: Topology &lt;: Component &lt;: PowerSystemType &lt;: InfrastructureSystemsType &lt;: Any</td><td>1</td></tr><tr><th>5</th><td>PowerLoad</td><td>StaticLoad &lt;: ElectricLoad &lt;: StaticInjection &lt;: Device &lt;: Component &lt;: PowerSystemType &lt;: InfrastructureSystemsType &lt;: Any</td><td>1</td></tr><tr><th>6</th><td>ThermalStandard</td><td>ThermalGen &lt;: Generator &lt;: StaticInjection &lt;: Device &lt;: Component &lt;: PowerSystemType &lt;: InfrastructureSystemsType &lt;: Any</td><td>1</td></tr></tbody></table>\n",
       "\n",
       "<h2>Forecasts</h2>\n",
       "<p><b>Resolution</b>: 0 seconds</p>\n",
       "<p><b>Horizon</b>: 0</p>\n",
       "<p><b>Initial Times</b>: </p>\n",
       "<p><b>Interval</b>: 0 seconds</p>\n",
       "<p><b>Components with Forecasts</b>: 0</p>\n",
       "<p><b>Total Forecasts</b>: 0</p>\n"
      ],
      "text/plain": [
       "System\n",
       "======\n",
       "Base Power: 100.0\n",
       "\n",
       "Components\n",
       "==========\n",
       "Num components: 7\n",
       "\n",
       "6×3 DataFrames.DataFrame. Omitted printing of 2 columns\n",
       "│ Row │ ConcreteType    │\n",
       "│     │ \u001b[90mString\u001b[39m          │\n",
       "├─────┼─────────────────┤\n",
       "│ 1   │ Area            │\n",
       "│ 2   │ Bus             │\n",
       "│ 3   │ Line            │\n",
       "│ 4   │ LoadZone        │\n",
       "│ 5   │ PowerLoad       │\n",
       "│ 6   │ ThermalStandard │\n",
       "\n",
       "Forecasts\n",
       "=========\n",
       "Resolution: 0 seconds\n",
       "Horizon: 0\n",
       "Initial Times: \n",
       "Interval: 0 seconds\n",
       "Components with Forecasts: 0\n",
       "Total Forecasts: 0\n"
      ]
     },
     "execution_count": 5,
     "metadata": {},
     "output_type": "execute_result"
    }
   ],
   "source": [
    "omib_file_dir= joinpath(dirname(@__FILE__), \"Data\",\"OMIB.raw\")\n",
    "omib_sys = System(PowerModelsData(omib_file_dir), runchecks=false)"
   ]
  },
  {
   "cell_type": "code",
   "execution_count": 6,
   "metadata": {},
   "outputs": [],
   "source": [
    "# get_components is designed to return fast Julia iterators. For this application we need to run collect to retrieve \n",
    "# the bus\n",
    "slack_bus = collect(get_components(Bus, omib_sys, b -> b.bustype == BusTypes.REF))[1]\n",
    "inf_source = Source(\n",
    "    name = \"InfBus\", #name\n",
    "    available = true, #availability\n",
    "    activepower = 0.0,\n",
    "    reactivepower = 0.0,\n",
    "    bus = slack_bus, #bus\n",
    "    X_th = 0.000005 #Xth\n",
    ") \n",
    "add_component!(omib_sys, inf_source)"
   ]
  },
  {
   "cell_type": "markdown",
   "metadata": {},
   "source": [
    "We can now run a PowerFlow to initialize the system voltages and static generator values."
   ]
  },
  {
   "cell_type": "code",
   "execution_count": 7,
   "metadata": {},
   "outputs": [
    {
     "name": "stderr",
     "output_type": "stream",
     "text": [
      "┌ Info: Results of Nonlinear Solver Algorithm\n",
      "│  * Algorithm: Trust-region with dogleg and autoscaling\n",
      "│  * Starting Point: [0.0, 0.0, 0.0, 0.0]\n",
      "│  * Zero: [-0.19831111106230975, -0.3604466665495688, 0.3778709112379719, 0.006192283580558579]\n",
      "│  * Inf-norm of residuals: 0.000000\n",
      "│  * Iterations: 2\n",
      "│  * Convergence: true\n",
      "│    * |x - x'| < 0.0e+00: false\n",
      "│    * |f(x)| < 1.0e-08: true\n",
      "│  * Function Calls (f): 3\n",
      "│  * Jacobian Calls (df/dx): 3\n",
      "└ @ PowerSystems /Users/rhenriquez/.julia/packages/PowerSystems/y1jmI/src/utils/power_flow/power_flow.jl:145\n",
      "┌ Info: PowerFlow solve converged, the results have been stored in the system\n",
      "└ @ PowerSystems /Users/rhenriquez/.julia/packages/PowerSystems/y1jmI/src/utils/power_flow/power_flow.jl:148\n"
     ]
    },
    {
     "data": {
      "text/plain": [
       "true"
      ]
     },
     "execution_count": 7,
     "metadata": {},
     "output_type": "execute_result"
    }
   ],
   "source": [
    "res = solve_powerflow!(omib_sys, nlsolve)"
   ]
  },
  {
   "cell_type": "markdown",
   "metadata": {},
   "source": [
    "### Dynamic Injection devices"
   ]
  },
  {
   "cell_type": "markdown",
   "metadata": {},
   "source": [
    "Note that a generator is defined by its 5 components, while also defining its reference for frequency, voltage and power. The reactive power reference must be defined but is not used for standard machines, since is only used for PQ generators, that will be implemented in future versions of `LITS`."
   ]
  },
  {
   "cell_type": "code",
   "execution_count": 8,
   "metadata": {},
   "outputs": [],
   "source": [
    "function dyn_gen_first_order(generator)\n",
    "    return DynamicGenerator(\n",
    "        number = 1, \n",
    "        name = \"Case1Gen\",\n",
    "        bus = get_bus(generator),\n",
    "        ω_ref = 1.0, \n",
    "        V_ref = get_voltage(get_bus(generator)),\n",
    "        P_ref = get_activepower(generator),\n",
    "        Q_ref = get_reactivepower(generator),\n",
    "        machine = machine_OMIB = BaseMachine(\n",
    "                                            0.0, #R\n",
    "                                            0.2995, #Xd_p\n",
    "                                            1.1409, #eq_p\n",
    "                                            100.0, #MVABase,\n",
    "                                            ),  \n",
    "        shaft =SingleMass(\n",
    "                          3.148, #H\n",
    "                          2.0, #D\n",
    "                          ), \n",
    "        avr = AVRFixed(0.0), \n",
    "        prime_mover = TGFixed(1.0), #No TG: Efficiency = 1.0\n",
    "        pss = PSSFixed(0.0) #No PSS without AVR,\n",
    "    )\n",
    "end\n",
    "\n",
    "#Attach dynamic generator. Currently use PSS/e format based on bus #.\n",
    "gen = [g for g in get_components(Generator, omib_sys)][1]\n",
    "case_gen = dyn_gen_first_order(gen)\n",
    "add_component!(omib_sys, case_gen)"
   ]
  },
  {
   "cell_type": "markdown",
   "metadata": {},
   "source": [
    "Note that in here `eq_p` is fixed and defined manually. This parameter eventually will be updated accordingly to match the power flow solution in future releases of `LITS`."
   ]
  },
  {
   "cell_type": "markdown",
   "metadata": {},
   "source": [
    "## Step 3: Build the simulation and initializing the problem\n",
    "\n",
    "The next step is to create the simulation structure. This will create the indexing of our system that will be used to formulate the differential-algebraic system of equations. To do so, it is required to specify the perturbation that will occur in the system. `LITS` support two types of perturbations:\n",
    "- Three Phase Fault\n",
    "- Change in Reference Parameter\n",
    "\n",
    "In here, he will use a Three Phase Fault, that is modeled by modifying the admittance matrix of the system. To do so we create a ThreePhaseFault perturbation as follows:"
   ]
  },
  {
   "cell_type": "code",
   "execution_count": 9,
   "metadata": {},
   "outputs": [],
   "source": [
    "#Obtain the Ybus of the faulted system by modifying the branch that will have the fault. \n",
    "fault_branch = deepcopy(collect(get_components(Branch, omib_sys))[1])\n",
    "fault_branch.r = 0.02; fault_branch.x = 0.1\n",
    "Ybus_fault = Ybus([fault_branch], get_components(Bus, omib_sys))[:, :]\n",
    "\n",
    "#Construct the perturbation\n",
    "perturbation_Ybus = ThreePhaseFault(\n",
    "    1.0, #change will occur at t = 1.0s\n",
    "    Ybus_fault, #new Ybus\n",
    ");"
   ]
  },
  {
   "cell_type": "markdown",
   "metadata": {},
   "source": [
    "With this, we are ready to create our simulation structure. We will skip solving for initial conditions to discuss about indexing. To construct our simulation we use:"
   ]
  },
  {
   "cell_type": "code",
   "execution_count": 10,
   "metadata": {},
   "outputs": [
    {
     "data": {
      "text/plain": [
       "Simulation()\n"
      ]
     },
     "execution_count": 10,
     "metadata": {},
     "output_type": "execute_result"
    }
   ],
   "source": [
    "#Define Simulation\n",
    "sim = Simulation(\n",
    "    omib_sys, #system\n",
    "    (0.0, 30.0), #time span\n",
    "    perturbation_Ybus, #Type of perturbation\n",
    "    initialize_simulation = false #keyword argument to not find initial conditions.\n",
    ")"
   ]
  },
  {
   "cell_type": "markdown",
   "metadata": {},
   "source": [
    "This will create the simulation structure that will be used to run the transient simulation and will modify the system to include the indexing. `LITS` will have the following structure for the vector of variables:"
   ]
  },
  {
   "cell_type": "markdown",
   "metadata": {},
   "source": [
    "Instatiating the simulation will correctly initialize the system. If no initial guess is provided, the system will use a flat start guess, assuming that all real voltages are equal to one, while imaginary voltages are equal to zero. Differential variables (states) will be guessed as zero too."
   ]
  },
  {
   "cell_type": "code",
   "execution_count": 11,
   "metadata": {},
   "outputs": [
    {
     "data": {
      "text/plain": [
       "6-element Array{Float64,1}:\n",
       " 1.0\n",
       " 1.0\n",
       " 0.0\n",
       " 0.0\n",
       " 0.0\n",
       " 0.0"
      ]
     },
     "execution_count": 11,
     "metadata": {},
     "output_type": "execute_result"
    }
   ],
   "source": [
    "# Initial condition obtained with a flat start\n",
    "sim.x0_init "
   ]
  },
  {
   "cell_type": "markdown",
   "metadata": {},
   "source": [
    "However, for most systems if a bad initial guess is used, the non-linear solver may fail in correctly initializing the system. For such purposes, an initial guess can be provided to the simulation as follows:"
   ]
  },
  {
   "cell_type": "code",
   "execution_count": 12,
   "metadata": {},
   "outputs": [
    {
     "name": "stderr",
     "output_type": "stream",
     "text": [
      "┌ Info: Initializing Simulation States\n",
      "└ @ LITS /Users/rhenriquez/.julia/packages/LITS/MSVav/src/base/simulation.jl:32\n"
     ]
    },
    {
     "data": {
      "text/plain": [
       "6-element Array{Float64,1}:\n",
       " 1.000001805317657   \n",
       " 1.0198928686905258  \n",
       " 9.314434263707981e-7\n",
       " 0.00570973037889138 \n",
       " 0.13468423041852054 \n",
       " 1.0                 "
      ]
     },
     "execution_count": 12,
     "metadata": {},
     "output_type": "execute_result"
    }
   ],
   "source": [
    "#Initial guess\n",
    "x0_guess = [\n",
    "    1.0, #VR_1\n",
    "    1.0, #VR_2\n",
    "    0.0, #VI_1\n",
    "    0.0, #VI_2\n",
    "    0.2, #δ\n",
    "    1.0, #ω\n",
    "]\n",
    "#Define Simulation\n",
    "sim = Simulation(\n",
    "    omib_sys, #system\n",
    "    (0.0, 30.0), #time span\n",
    "    perturbation_Ybus, #Type of perturbation\n",
    "    initial_guess = x0_guess, #initial guess\n",
    ")\n",
    "\n",
    "sim.x0_init"
   ]
  },
  {
   "cell_type": "markdown",
   "metadata": {},
   "source": [
    "## Step 4: Run the Simulation\n",
    "\n",
    "Finally, to run the simulation we simply use:"
   ]
  },
  {
   "cell_type": "code",
   "execution_count": 13,
   "metadata": {},
   "outputs": [],
   "source": [
    "#Solve problem\n",
    "run_simulation!(sim, #simulation structure\n",
    "                IDA(), #Sundials DAE Solver\n",
    "                dtmax=0.02); #Arguments: Maximum timestep allowed"
   ]
  },
  {
   "cell_type": "markdown",
   "metadata": {},
   "source": [
    "In some cases, the dynamic time step used for the simulation may fail. In such case, the keyword argument `dtmax` can be used to limit the maximum time step allowed for the simulation."
   ]
  },
  {
   "cell_type": "markdown",
   "metadata": {},
   "source": [
    "## Step 5: Exploring the solution\n",
    "\n",
    "After running the simulation, our simulation structure `sim` will have the solution. `LITS` has two functions to obtain different states of the solution:\n",
    "\n",
    "- ``get_state_series(sim, (\"OMIB_Gen\", :δ))``: can be used to obtain the solution as a tuple of time and the required state. In this case, we are obtaining the rotor angle `:δ` of the generator named `\"OMIB_Gen\"`.\n",
    "- ``get_voltagemag_series(sim, 2)``: can be used to obtain the voltage magnitude as a tuple of time and voltage. In this case, we are obtaining the voltage magnitude at bus 2 (where the generator is located)."
   ]
  },
  {
   "cell_type": "code",
   "execution_count": 14,
   "metadata": {},
   "outputs": [
    {
     "data": {
      "image/svg+xml": [
       "<?xml version=\"1.0\" encoding=\"utf-8\"?>\n",
       "<svg xmlns=\"http://www.w3.org/2000/svg\" xmlns:xlink=\"http://www.w3.org/1999/xlink\" width=\"600\" height=\"400\" viewBox=\"0 0 2400 1600\">\n",
       "<defs>\n",
       "  <clipPath id=\"clip1500\">\n",
       "    <rect x=\"0\" y=\"0\" width=\"2400\" height=\"1600\"/>\n",
       "  </clipPath>\n",
       "</defs>\n",
       "<path clip-path=\"url(#clip1500)\" d=\"\n",
       "M0 1600 L2400 1600 L2400 0 L0 0  Z\n",
       "  \" fill=\"#ffffff\" fill-rule=\"evenodd\" fill-opacity=\"1\"/>\n",
       "<defs>\n",
       "  <clipPath id=\"clip1501\">\n",
       "    <rect x=\"480\" y=\"0\" width=\"1681\" height=\"1600\"/>\n",
       "  </clipPath>\n",
       "</defs>\n",
       "<path clip-path=\"url(#clip1500)\" d=\"\n",
       "M264.403 1423.18 L2352.76 1423.18 L2352.76 47.2441 L264.403 47.2441  Z\n",
       "  \" fill=\"#ffffff\" fill-rule=\"evenodd\" fill-opacity=\"1\"/>\n",
       "<defs>\n",
       "  <clipPath id=\"clip1502\">\n",
       "    <rect x=\"264\" y=\"47\" width=\"2089\" height=\"1377\"/>\n",
       "  </clipPath>\n",
       "</defs>\n",
       "<polyline clip-path=\"url(#clip1502)\" style=\"stroke:#000000; stroke-width:2; stroke-opacity:0.1; fill:none\" points=\"\n",
       "  323.507,1423.18 323.507,47.2441 \n",
       "  \"/>\n",
       "<polyline clip-path=\"url(#clip1502)\" style=\"stroke:#000000; stroke-width:2; stroke-opacity:0.1; fill:none\" points=\"\n",
       "  980.222,1423.18 980.222,47.2441 \n",
       "  \"/>\n",
       "<polyline clip-path=\"url(#clip1502)\" style=\"stroke:#000000; stroke-width:2; stroke-opacity:0.1; fill:none\" points=\"\n",
       "  1636.94,1423.18 1636.94,47.2441 \n",
       "  \"/>\n",
       "<polyline clip-path=\"url(#clip1502)\" style=\"stroke:#000000; stroke-width:2; stroke-opacity:0.1; fill:none\" points=\"\n",
       "  2293.65,1423.18 2293.65,47.2441 \n",
       "  \"/>\n",
       "<polyline clip-path=\"url(#clip1502)\" style=\"stroke:#000000; stroke-width:2; stroke-opacity:0.1; fill:none\" points=\"\n",
       "  264.403,1324.51 2352.76,1324.51 \n",
       "  \"/>\n",
       "<polyline clip-path=\"url(#clip1502)\" style=\"stroke:#000000; stroke-width:2; stroke-opacity:0.1; fill:none\" points=\"\n",
       "  264.403,1135.36 2352.76,1135.36 \n",
       "  \"/>\n",
       "<polyline clip-path=\"url(#clip1502)\" style=\"stroke:#000000; stroke-width:2; stroke-opacity:0.1; fill:none\" points=\"\n",
       "  264.403,946.21 2352.76,946.21 \n",
       "  \"/>\n",
       "<polyline clip-path=\"url(#clip1502)\" style=\"stroke:#000000; stroke-width:2; stroke-opacity:0.1; fill:none\" points=\"\n",
       "  264.403,757.06 2352.76,757.06 \n",
       "  \"/>\n",
       "<polyline clip-path=\"url(#clip1502)\" style=\"stroke:#000000; stroke-width:2; stroke-opacity:0.1; fill:none\" points=\"\n",
       "  264.403,567.91 2352.76,567.91 \n",
       "  \"/>\n",
       "<polyline clip-path=\"url(#clip1502)\" style=\"stroke:#000000; stroke-width:2; stroke-opacity:0.1; fill:none\" points=\"\n",
       "  264.403,378.76 2352.76,378.76 \n",
       "  \"/>\n",
       "<polyline clip-path=\"url(#clip1502)\" style=\"stroke:#000000; stroke-width:2; stroke-opacity:0.1; fill:none\" points=\"\n",
       "  264.403,189.609 2352.76,189.609 \n",
       "  \"/>\n",
       "<polyline clip-path=\"url(#clip1500)\" style=\"stroke:#000000; stroke-width:4; stroke-opacity:1; fill:none\" points=\"\n",
       "  264.403,1423.18 2352.76,1423.18 \n",
       "  \"/>\n",
       "<polyline clip-path=\"url(#clip1500)\" style=\"stroke:#000000; stroke-width:4; stroke-opacity:1; fill:none\" points=\"\n",
       "  264.403,1423.18 264.403,47.2441 \n",
       "  \"/>\n",
       "<polyline clip-path=\"url(#clip1500)\" style=\"stroke:#000000; stroke-width:4; stroke-opacity:1; fill:none\" points=\"\n",
       "  323.507,1423.18 323.507,1406.67 \n",
       "  \"/>\n",
       "<polyline clip-path=\"url(#clip1500)\" style=\"stroke:#000000; stroke-width:4; stroke-opacity:1; fill:none\" points=\"\n",
       "  980.222,1423.18 980.222,1406.67 \n",
       "  \"/>\n",
       "<polyline clip-path=\"url(#clip1500)\" style=\"stroke:#000000; stroke-width:4; stroke-opacity:1; fill:none\" points=\"\n",
       "  1636.94,1423.18 1636.94,1406.67 \n",
       "  \"/>\n",
       "<polyline clip-path=\"url(#clip1500)\" style=\"stroke:#000000; stroke-width:4; stroke-opacity:1; fill:none\" points=\"\n",
       "  2293.65,1423.18 2293.65,1406.67 \n",
       "  \"/>\n",
       "<polyline clip-path=\"url(#clip1500)\" style=\"stroke:#000000; stroke-width:4; stroke-opacity:1; fill:none\" points=\"\n",
       "  264.403,1324.51 289.463,1324.51 \n",
       "  \"/>\n",
       "<polyline clip-path=\"url(#clip1500)\" style=\"stroke:#000000; stroke-width:4; stroke-opacity:1; fill:none\" points=\"\n",
       "  264.403,1135.36 289.463,1135.36 \n",
       "  \"/>\n",
       "<polyline clip-path=\"url(#clip1500)\" style=\"stroke:#000000; stroke-width:4; stroke-opacity:1; fill:none\" points=\"\n",
       "  264.403,946.21 289.463,946.21 \n",
       "  \"/>\n",
       "<polyline clip-path=\"url(#clip1500)\" style=\"stroke:#000000; stroke-width:4; stroke-opacity:1; fill:none\" points=\"\n",
       "  264.403,757.06 289.463,757.06 \n",
       "  \"/>\n",
       "<polyline clip-path=\"url(#clip1500)\" style=\"stroke:#000000; stroke-width:4; stroke-opacity:1; fill:none\" points=\"\n",
       "  264.403,567.91 289.463,567.91 \n",
       "  \"/>\n",
       "<polyline clip-path=\"url(#clip1500)\" style=\"stroke:#000000; stroke-width:4; stroke-opacity:1; fill:none\" points=\"\n",
       "  264.403,378.76 289.463,378.76 \n",
       "  \"/>\n",
       "<polyline clip-path=\"url(#clip1500)\" style=\"stroke:#000000; stroke-width:4; stroke-opacity:1; fill:none\" points=\"\n",
       "  264.403,189.609 289.463,189.609 \n",
       "  \"/>\n",
       "<path clip-path=\"url(#clip1500)\" d=\"M 0 0 M323.507 1445.17 Q319.896 1445.17 318.068 1448.74 Q316.262 1452.28 316.262 1459.41 Q316.262 1466.51 318.068 1470.08 Q319.896 1473.62 323.507 1473.62 Q327.142 1473.62 328.947 1470.08 Q330.776 1466.51 330.776 1459.41 Q330.776 1452.28 328.947 1448.74 Q327.142 1445.17 323.507 1445.17 M323.507 1441.47 Q329.318 1441.47 332.373 1446.07 Q335.452 1450.66 335.452 1459.41 Q335.452 1468.13 332.373 1472.74 Q329.318 1477.32 323.507 1477.32 Q317.697 1477.32 314.619 1472.74 Q311.563 1468.13 311.563 1459.41 Q311.563 1450.66 314.619 1446.07 Q317.697 1441.47 323.507 1441.47 Z\" fill=\"#000000\" fill-rule=\"evenodd\" fill-opacity=\"1\" /><path clip-path=\"url(#clip1500)\" d=\"M 0 0 M957.097 1472.72 L964.736 1472.72 L964.736 1446.35 L956.426 1448.02 L956.426 1443.76 L964.69 1442.09 L969.366 1442.09 L969.366 1472.72 L977.005 1472.72 L977.005 1476.65 L957.097 1476.65 L957.097 1472.72 Z\" fill=\"#000000\" fill-rule=\"evenodd\" fill-opacity=\"1\" /><path clip-path=\"url(#clip1500)\" d=\"M 0 0 M992.074 1445.17 Q988.463 1445.17 986.634 1448.74 Q984.829 1452.28 984.829 1459.41 Q984.829 1466.51 986.634 1470.08 Q988.463 1473.62 992.074 1473.62 Q995.708 1473.62 997.514 1470.08 Q999.342 1466.51 999.342 1459.41 Q999.342 1452.28 997.514 1448.74 Q995.708 1445.17 992.074 1445.17 M992.074 1441.47 Q997.884 1441.47 1000.94 1446.07 Q1004.02 1450.66 1004.02 1459.41 Q1004.02 1468.13 1000.94 1472.74 Q997.884 1477.32 992.074 1477.32 Q986.264 1477.32 983.185 1472.74 Q980.13 1468.13 980.13 1459.41 Q980.13 1450.66 983.185 1446.07 Q986.264 1441.47 992.074 1441.47 Z\" fill=\"#000000\" fill-rule=\"evenodd\" fill-opacity=\"1\" /><path clip-path=\"url(#clip1500)\" d=\"M 0 0 M1618.08 1472.72 L1634.4 1472.72 L1634.4 1476.65 L1612.46 1476.65 L1612.46 1472.72 Q1615.12 1469.96 1619.7 1465.33 Q1624.31 1460.68 1625.49 1459.34 Q1627.74 1456.81 1628.62 1455.08 Q1629.52 1453.32 1629.52 1451.63 Q1629.52 1448.87 1627.57 1447.14 Q1625.65 1445.4 1622.55 1445.4 Q1620.35 1445.4 1617.9 1446.17 Q1615.47 1446.93 1612.69 1448.48 L1612.69 1443.76 Q1615.51 1442.62 1617.97 1442.05 Q1620.42 1441.47 1622.46 1441.47 Q1627.83 1441.47 1631.02 1444.15 Q1634.22 1446.84 1634.22 1451.33 Q1634.22 1453.46 1633.41 1455.38 Q1632.62 1457.28 1630.51 1459.87 Q1629.93 1460.54 1626.83 1463.76 Q1623.73 1466.95 1618.08 1472.72 Z\" fill=\"#000000\" fill-rule=\"evenodd\" fill-opacity=\"1\" /><path clip-path=\"url(#clip1500)\" d=\"M 0 0 M1649.47 1445.17 Q1645.86 1445.17 1644.03 1448.74 Q1642.23 1452.28 1642.23 1459.41 Q1642.23 1466.51 1644.03 1470.08 Q1645.86 1473.62 1649.47 1473.62 Q1653.11 1473.62 1654.91 1470.08 Q1656.74 1466.51 1656.74 1459.41 Q1656.74 1452.28 1654.91 1448.74 Q1653.11 1445.17 1649.47 1445.17 M1649.47 1441.47 Q1655.28 1441.47 1658.34 1446.07 Q1661.42 1450.66 1661.42 1459.41 Q1661.42 1468.13 1658.34 1472.74 Q1655.28 1477.32 1649.47 1477.32 Q1643.66 1477.32 1640.58 1472.74 Q1637.53 1468.13 1637.53 1459.41 Q1637.53 1450.66 1640.58 1446.07 Q1643.66 1441.47 1649.47 1441.47 Z\" fill=\"#000000\" fill-rule=\"evenodd\" fill-opacity=\"1\" /><path clip-path=\"url(#clip1500)\" d=\"M 0 0 M2284.39 1458.02 Q2287.75 1458.74 2289.62 1461 Q2291.52 1463.27 2291.52 1466.61 Q2291.52 1471.72 2288 1474.52 Q2284.48 1477.32 2278 1477.32 Q2275.83 1477.32 2273.51 1476.88 Q2271.22 1476.47 2268.77 1475.61 L2268.77 1471.1 Q2270.71 1472.23 2273.03 1472.81 Q2275.34 1473.39 2277.86 1473.39 Q2282.26 1473.39 2284.55 1471.65 Q2286.87 1469.92 2286.87 1466.61 Q2286.87 1463.55 2284.72 1461.84 Q2282.59 1460.1 2278.77 1460.1 L2274.74 1460.1 L2274.74 1456.26 L2278.95 1456.26 Q2282.4 1456.26 2284.23 1454.89 Q2286.06 1453.5 2286.06 1450.91 Q2286.06 1448.25 2284.16 1446.84 Q2282.29 1445.4 2278.77 1445.4 Q2276.85 1445.4 2274.65 1445.82 Q2272.45 1446.24 2269.81 1447.11 L2269.81 1442.95 Q2272.47 1442.21 2274.79 1441.84 Q2277.12 1441.47 2279.18 1441.47 Q2284.51 1441.47 2287.61 1443.9 Q2290.71 1446.3 2290.71 1450.43 Q2290.71 1453.3 2289.07 1455.29 Q2287.42 1457.25 2284.39 1458.02 Z\" fill=\"#000000\" fill-rule=\"evenodd\" fill-opacity=\"1\" /><path clip-path=\"url(#clip1500)\" d=\"M 0 0 M2306.59 1445.17 Q2302.98 1445.17 2301.15 1448.74 Q2299.35 1452.28 2299.35 1459.41 Q2299.35 1466.51 2301.15 1470.08 Q2302.98 1473.62 2306.59 1473.62 Q2310.23 1473.62 2312.03 1470.08 Q2313.86 1466.51 2313.86 1459.41 Q2313.86 1452.28 2312.03 1448.74 Q2310.23 1445.17 2306.59 1445.17 M2306.59 1441.47 Q2312.4 1441.47 2315.46 1446.07 Q2318.54 1450.66 2318.54 1459.41 Q2318.54 1468.13 2315.46 1472.74 Q2312.4 1477.32 2306.59 1477.32 Q2300.78 1477.32 2297.7 1472.74 Q2294.65 1468.13 2294.65 1459.41 Q2294.65 1450.66 2297.7 1446.07 Q2300.78 1441.47 2306.59 1441.47 Z\" fill=\"#000000\" fill-rule=\"evenodd\" fill-opacity=\"1\" /><path clip-path=\"url(#clip1500)\" d=\"M 0 0 M140.334 1310.31 Q136.723 1310.31 134.894 1313.87 Q133.089 1317.42 133.089 1324.55 Q133.089 1331.65 134.894 1335.22 Q136.723 1338.76 140.334 1338.76 Q143.968 1338.76 145.774 1335.22 Q147.603 1331.65 147.603 1324.55 Q147.603 1317.42 145.774 1313.87 Q143.968 1310.31 140.334 1310.31 M140.334 1306.61 Q146.144 1306.61 149.2 1311.21 Q152.279 1315.8 152.279 1324.55 Q152.279 1333.27 149.2 1337.88 Q146.144 1342.46 140.334 1342.46 Q134.524 1342.46 131.445 1337.88 Q128.39 1333.27 128.39 1324.55 Q128.39 1315.8 131.445 1311.21 Q134.524 1306.61 140.334 1306.61 Z\" fill=\"#000000\" fill-rule=\"evenodd\" fill-opacity=\"1\" /><path clip-path=\"url(#clip1500)\" d=\"M 0 0 M157.348 1335.91 L162.232 1335.91 L162.232 1341.79 L157.348 1341.79 L157.348 1335.91 Z\" fill=\"#000000\" fill-rule=\"evenodd\" fill-opacity=\"1\" /><path clip-path=\"url(#clip1500)\" d=\"M 0 0 M168.112 1337.86 L175.751 1337.86 L175.751 1311.49 L167.44 1313.16 L167.44 1308.9 L175.704 1307.23 L180.38 1307.23 L180.38 1337.86 L188.019 1337.86 L188.019 1341.79 L168.112 1341.79 L168.112 1337.86 Z\" fill=\"#000000\" fill-rule=\"evenodd\" fill-opacity=\"1\" /><path clip-path=\"url(#clip1500)\" d=\"M 0 0 M207.255 1323.16 Q210.612 1323.87 212.487 1326.14 Q214.385 1328.41 214.385 1331.74 Q214.385 1336.86 210.866 1339.66 Q207.348 1342.46 200.866 1342.46 Q198.69 1342.46 196.376 1342.02 Q194.084 1341.61 191.63 1340.75 L191.63 1336.23 Q193.575 1337.37 195.889 1337.95 Q198.204 1338.53 200.727 1338.53 Q205.125 1338.53 207.417 1336.79 Q209.732 1335.05 209.732 1331.74 Q209.732 1328.69 207.579 1326.98 Q205.45 1325.24 201.63 1325.24 L197.602 1325.24 L197.602 1321.4 L201.815 1321.4 Q205.264 1321.4 207.093 1320.03 Q208.922 1318.64 208.922 1316.05 Q208.922 1313.39 207.024 1311.98 Q205.149 1310.54 201.63 1310.54 Q199.709 1310.54 197.51 1310.96 Q195.311 1311.37 192.672 1312.25 L192.672 1308.09 Q195.334 1307.35 197.649 1306.98 Q199.987 1306.61 202.047 1306.61 Q207.371 1306.61 210.473 1309.04 Q213.575 1311.44 213.575 1315.56 Q213.575 1318.43 211.931 1320.42 Q210.287 1322.39 207.255 1323.16 Z\" fill=\"#000000\" fill-rule=\"evenodd\" fill-opacity=\"1\" /><path clip-path=\"url(#clip1500)\" d=\"M 0 0 M219.5 1307.23 L237.857 1307.23 L237.857 1311.17 L223.783 1311.17 L223.783 1319.64 Q224.801 1319.29 225.82 1319.13 Q226.838 1318.94 227.857 1318.94 Q233.644 1318.94 237.023 1322.11 Q240.403 1325.29 240.403 1330.7 Q240.403 1336.28 236.931 1339.38 Q233.459 1342.46 227.139 1342.46 Q224.963 1342.46 222.695 1342.09 Q220.449 1341.72 218.042 1340.98 L218.042 1336.28 Q220.125 1337.42 222.348 1337.97 Q224.57 1338.53 227.047 1338.53 Q231.051 1338.53 233.389 1336.42 Q235.727 1334.31 235.727 1330.7 Q235.727 1327.09 233.389 1324.98 Q231.051 1322.88 227.047 1322.88 Q225.172 1322.88 223.297 1323.3 Q221.445 1323.71 219.5 1324.59 L219.5 1307.23 Z\" fill=\"#000000\" fill-rule=\"evenodd\" fill-opacity=\"1\" /><path clip-path=\"url(#clip1500)\" d=\"M 0 0 M139.177 1121.16 Q135.566 1121.16 133.737 1124.72 Q131.931 1128.27 131.931 1135.39 Q131.931 1142.5 133.737 1146.07 Q135.566 1149.61 139.177 1149.61 Q142.811 1149.61 144.617 1146.07 Q146.445 1142.5 146.445 1135.39 Q146.445 1128.27 144.617 1124.72 Q142.811 1121.16 139.177 1121.16 M139.177 1117.46 Q144.987 1117.46 148.042 1122.06 Q151.121 1126.65 151.121 1135.39 Q151.121 1144.12 148.042 1148.73 Q144.987 1153.31 139.177 1153.31 Q133.367 1153.31 130.288 1148.73 Q127.232 1144.12 127.232 1135.39 Q127.232 1126.65 130.288 1122.06 Q133.367 1117.46 139.177 1117.46 Z\" fill=\"#000000\" fill-rule=\"evenodd\" fill-opacity=\"1\" /><path clip-path=\"url(#clip1500)\" d=\"M 0 0 M156.191 1146.76 L161.075 1146.76 L161.075 1152.64 L156.191 1152.64 L156.191 1146.76 Z\" fill=\"#000000\" fill-rule=\"evenodd\" fill-opacity=\"1\" /><path clip-path=\"url(#clip1500)\" d=\"M 0 0 M166.954 1148.71 L174.593 1148.71 L174.593 1122.34 L166.283 1124.01 L166.283 1119.75 L174.547 1118.08 L179.223 1118.08 L179.223 1148.71 L186.862 1148.71 L186.862 1152.64 L166.954 1152.64 L166.954 1148.71 Z\" fill=\"#000000\" fill-rule=\"evenodd\" fill-opacity=\"1\" /><path clip-path=\"url(#clip1500)\" d=\"M 0 0 M206.098 1134.01 Q209.454 1134.72 211.329 1136.99 Q213.227 1139.26 213.227 1142.59 Q213.227 1147.71 209.709 1150.51 Q206.19 1153.31 199.709 1153.31 Q197.533 1153.31 195.218 1152.87 Q192.926 1152.46 190.473 1151.6 L190.473 1147.08 Q192.417 1148.22 194.732 1148.8 Q197.047 1149.38 199.57 1149.38 Q203.968 1149.38 206.26 1147.64 Q208.575 1145.9 208.575 1142.59 Q208.575 1139.54 206.422 1137.83 Q204.292 1136.09 200.473 1136.09 L196.445 1136.09 L196.445 1132.25 L200.658 1132.25 Q204.107 1132.25 205.936 1130.88 Q207.764 1129.49 207.764 1126.9 Q207.764 1124.24 205.866 1122.83 Q203.991 1121.39 200.473 1121.39 Q198.551 1121.39 196.352 1121.81 Q194.153 1122.22 191.514 1123.1 L191.514 1118.94 Q194.176 1118.2 196.491 1117.83 Q198.829 1117.46 200.889 1117.46 Q206.213 1117.46 209.315 1119.89 Q212.417 1122.29 212.417 1126.41 Q212.417 1129.28 210.774 1131.27 Q209.13 1133.24 206.098 1134.01 Z\" fill=\"#000000\" fill-rule=\"evenodd\" fill-opacity=\"1\" /><path clip-path=\"url(#clip1500)\" d=\"M 0 0 M228.875 1133.5 Q225.727 1133.5 223.875 1135.65 Q222.047 1137.8 222.047 1141.55 Q222.047 1145.28 223.875 1147.46 Q225.727 1149.61 228.875 1149.61 Q232.023 1149.61 233.852 1147.46 Q235.704 1145.28 235.704 1141.55 Q235.704 1137.8 233.852 1135.65 Q232.023 1133.5 228.875 1133.5 M238.158 1118.84 L238.158 1123.1 Q236.398 1122.27 234.593 1121.83 Q232.811 1121.39 231.051 1121.39 Q226.422 1121.39 223.968 1124.52 Q221.537 1127.64 221.19 1133.96 Q222.556 1131.95 224.616 1130.88 Q226.676 1129.79 229.153 1129.79 Q234.361 1129.79 237.371 1132.96 Q240.403 1136.11 240.403 1141.55 Q240.403 1146.88 237.255 1150.09 Q234.107 1153.31 228.875 1153.31 Q222.88 1153.31 219.709 1148.73 Q216.537 1144.12 216.537 1135.39 Q216.537 1127.2 220.426 1122.34 Q224.315 1117.46 230.866 1117.46 Q232.625 1117.46 234.408 1117.8 Q236.213 1118.15 238.158 1118.84 Z\" fill=\"#000000\" fill-rule=\"evenodd\" fill-opacity=\"1\" /><path clip-path=\"url(#clip1500)\" d=\"M 0 0 M140.242 932.009 Q136.63 932.009 134.802 935.574 Q132.996 939.115 132.996 946.245 Q132.996 953.351 134.802 956.916 Q136.63 960.458 140.242 960.458 Q143.876 960.458 145.681 956.916 Q147.51 953.351 147.51 946.245 Q147.51 939.115 145.681 935.574 Q143.876 932.009 140.242 932.009 M140.242 928.305 Q146.052 928.305 149.107 932.912 Q152.186 937.495 152.186 946.245 Q152.186 954.972 149.107 959.578 Q146.052 964.161 140.242 964.161 Q134.431 964.161 131.353 959.578 Q128.297 954.972 128.297 946.245 Q128.297 937.495 131.353 932.912 Q134.431 928.305 140.242 928.305 Z\" fill=\"#000000\" fill-rule=\"evenodd\" fill-opacity=\"1\" /><path clip-path=\"url(#clip1500)\" d=\"M 0 0 M157.255 957.61 L162.14 957.61 L162.14 963.49 L157.255 963.49 L157.255 957.61 Z\" fill=\"#000000\" fill-rule=\"evenodd\" fill-opacity=\"1\" /><path clip-path=\"url(#clip1500)\" d=\"M 0 0 M168.019 959.555 L175.658 959.555 L175.658 933.189 L167.348 934.856 L167.348 930.597 L175.612 928.93 L180.288 928.93 L180.288 959.555 L187.926 959.555 L187.926 963.49 L168.019 963.49 L168.019 959.555 Z\" fill=\"#000000\" fill-rule=\"evenodd\" fill-opacity=\"1\" /><path clip-path=\"url(#clip1500)\" d=\"M 0 0 M207.163 944.856 Q210.519 945.574 212.394 947.842 Q214.292 950.111 214.292 953.444 Q214.292 958.56 210.774 961.36 Q207.255 964.161 200.774 964.161 Q198.598 964.161 196.283 963.722 Q193.991 963.305 191.538 962.448 L191.538 957.935 Q193.482 959.069 195.797 959.648 Q198.112 960.226 200.635 960.226 Q205.033 960.226 207.325 958.49 Q209.639 956.754 209.639 953.444 Q209.639 950.388 207.487 948.675 Q205.357 946.939 201.538 946.939 L197.51 946.939 L197.51 943.097 L201.723 943.097 Q205.172 943.097 207 941.731 Q208.829 940.342 208.829 937.749 Q208.829 935.087 206.931 933.675 Q205.056 932.24 201.538 932.24 Q199.616 932.24 197.417 932.657 Q195.218 933.074 192.579 933.953 L192.579 929.787 Q195.241 929.046 197.556 928.675 Q199.894 928.305 201.954 928.305 Q207.278 928.305 210.38 930.736 Q213.482 933.143 213.482 937.263 Q213.482 940.134 211.838 942.124 Q210.195 944.092 207.163 944.856 Z\" fill=\"#000000\" fill-rule=\"evenodd\" fill-opacity=\"1\" /><path clip-path=\"url(#clip1500)\" d=\"M 0 0 M218.181 928.93 L240.403 928.93 L240.403 930.921 L227.857 963.49 L222.973 963.49 L234.778 932.865 L218.181 932.865 L218.181 928.93 Z\" fill=\"#000000\" fill-rule=\"evenodd\" fill-opacity=\"1\" /><path clip-path=\"url(#clip1500)\" d=\"M 0 0 M139.431 742.859 Q135.82 742.859 133.992 746.423 Q132.186 749.965 132.186 757.095 Q132.186 764.201 133.992 767.766 Q135.82 771.308 139.431 771.308 Q143.066 771.308 144.871 767.766 Q146.7 764.201 146.7 757.095 Q146.7 749.965 144.871 746.423 Q143.066 742.859 139.431 742.859 M139.431 739.155 Q145.242 739.155 148.297 743.761 Q151.376 748.345 151.376 757.095 Q151.376 765.821 148.297 770.428 Q145.242 775.011 139.431 775.011 Q133.621 775.011 130.543 770.428 Q127.487 765.821 127.487 757.095 Q127.487 748.345 130.543 743.761 Q133.621 739.155 139.431 739.155 Z\" fill=\"#000000\" fill-rule=\"evenodd\" fill-opacity=\"1\" /><path clip-path=\"url(#clip1500)\" d=\"M 0 0 M156.445 768.46 L161.329 768.46 L161.329 774.34 L156.445 774.34 L156.445 768.46 Z\" fill=\"#000000\" fill-rule=\"evenodd\" fill-opacity=\"1\" /><path clip-path=\"url(#clip1500)\" d=\"M 0 0 M167.209 770.405 L174.848 770.405 L174.848 744.039 L166.538 745.706 L166.538 741.447 L174.802 739.78 L179.477 739.78 L179.477 770.405 L187.116 770.405 L187.116 774.34 L167.209 774.34 L167.209 770.405 Z\" fill=\"#000000\" fill-rule=\"evenodd\" fill-opacity=\"1\" /><path clip-path=\"url(#clip1500)\" d=\"M 0 0 M206.352 755.706 Q209.709 756.423 211.584 758.692 Q213.482 760.96 213.482 764.294 Q213.482 769.409 209.963 772.21 Q206.445 775.011 199.963 775.011 Q197.788 775.011 195.473 774.571 Q193.181 774.155 190.727 773.298 L190.727 768.784 Q192.672 769.919 194.987 770.497 Q197.301 771.076 199.825 771.076 Q204.223 771.076 206.514 769.34 Q208.829 767.604 208.829 764.294 Q208.829 761.238 206.676 759.525 Q204.547 757.789 200.727 757.789 L196.7 757.789 L196.7 753.947 L200.913 753.947 Q204.362 753.947 206.19 752.581 Q208.019 751.192 208.019 748.599 Q208.019 745.937 206.121 744.525 Q204.246 743.09 200.727 743.09 Q198.806 743.09 196.607 743.507 Q194.408 743.923 191.769 744.803 L191.769 740.636 Q194.431 739.896 196.746 739.525 Q199.084 739.155 201.144 739.155 Q206.468 739.155 209.57 741.585 Q212.672 743.993 212.672 748.113 Q212.672 750.984 211.028 752.974 Q209.385 754.942 206.352 755.706 Z\" fill=\"#000000\" fill-rule=\"evenodd\" fill-opacity=\"1\" /><path clip-path=\"url(#clip1500)\" d=\"M 0 0 M228.551 757.928 Q225.218 757.928 223.297 759.71 Q221.399 761.493 221.399 764.618 Q221.399 767.743 223.297 769.525 Q225.218 771.308 228.551 771.308 Q231.885 771.308 233.806 769.525 Q235.727 767.72 235.727 764.618 Q235.727 761.493 233.806 759.71 Q231.908 757.928 228.551 757.928 M223.875 755.937 Q220.866 755.197 219.176 753.136 Q217.51 751.076 217.51 748.113 Q217.51 743.97 220.449 741.562 Q223.412 739.155 228.551 739.155 Q233.713 739.155 236.653 741.562 Q239.593 743.97 239.593 748.113 Q239.593 751.076 237.903 753.136 Q236.236 755.197 233.25 755.937 Q236.63 756.724 238.505 759.016 Q240.403 761.308 240.403 764.618 Q240.403 769.641 237.324 772.326 Q234.269 775.011 228.551 775.011 Q222.834 775.011 219.755 772.326 Q216.699 769.641 216.699 764.618 Q216.699 761.308 218.598 759.016 Q220.496 756.724 223.875 755.937 M222.162 748.553 Q222.162 751.238 223.829 752.743 Q225.519 754.247 228.551 754.247 Q231.561 754.247 233.25 752.743 Q234.963 751.238 234.963 748.553 Q234.963 745.868 233.25 744.363 Q231.561 742.859 228.551 742.859 Q225.519 742.859 223.829 744.363 Q222.162 745.868 222.162 748.553 Z\" fill=\"#000000\" fill-rule=\"evenodd\" fill-opacity=\"1\" /><path clip-path=\"url(#clip1500)\" d=\"M 0 0 M139.524 553.708 Q135.913 553.708 134.084 557.273 Q132.279 560.815 132.279 567.945 Q132.279 575.051 134.084 578.616 Q135.913 582.157 139.524 582.157 Q143.158 582.157 144.964 578.616 Q146.792 575.051 146.792 567.945 Q146.792 560.815 144.964 557.273 Q143.158 553.708 139.524 553.708 M139.524 550.005 Q145.334 550.005 148.39 554.611 Q151.468 559.195 151.468 567.945 Q151.468 576.671 148.39 581.278 Q145.334 585.861 139.524 585.861 Q133.714 585.861 130.635 581.278 Q127.58 576.671 127.58 567.945 Q127.58 559.195 130.635 554.611 Q133.714 550.005 139.524 550.005 Z\" fill=\"#000000\" fill-rule=\"evenodd\" fill-opacity=\"1\" /><path clip-path=\"url(#clip1500)\" d=\"M 0 0 M156.538 579.31 L161.422 579.31 L161.422 585.19 L156.538 585.19 L156.538 579.31 Z\" fill=\"#000000\" fill-rule=\"evenodd\" fill-opacity=\"1\" /><path clip-path=\"url(#clip1500)\" d=\"M 0 0 M167.302 581.255 L174.94 581.255 L174.94 554.889 L166.63 556.556 L166.63 552.296 L174.894 550.63 L179.57 550.63 L179.57 581.255 L187.209 581.255 L187.209 585.19 L167.302 585.19 L167.302 581.255 Z\" fill=\"#000000\" fill-rule=\"evenodd\" fill-opacity=\"1\" /><path clip-path=\"url(#clip1500)\" d=\"M 0 0 M206.445 566.556 Q209.801 567.273 211.676 569.542 Q213.575 571.81 213.575 575.144 Q213.575 580.259 210.056 583.06 Q206.538 585.861 200.056 585.861 Q197.88 585.861 195.565 585.421 Q193.274 585.005 190.82 584.148 L190.82 579.634 Q192.764 580.769 195.079 581.347 Q197.394 581.926 199.917 581.926 Q204.315 581.926 206.607 580.19 Q208.922 578.454 208.922 575.144 Q208.922 572.088 206.769 570.375 Q204.639 568.639 200.82 568.639 L196.792 568.639 L196.792 564.796 L201.005 564.796 Q204.454 564.796 206.283 563.431 Q208.112 562.042 208.112 559.449 Q208.112 556.787 206.213 555.375 Q204.338 553.94 200.82 553.94 Q198.899 553.94 196.7 554.357 Q194.501 554.773 191.862 555.653 L191.862 551.486 Q194.524 550.746 196.838 550.375 Q199.176 550.005 201.237 550.005 Q206.561 550.005 209.662 552.435 Q212.764 554.843 212.764 558.963 Q212.764 561.833 211.121 563.824 Q209.477 565.792 206.445 566.556 Z\" fill=\"#000000\" fill-rule=\"evenodd\" fill-opacity=\"1\" /><path clip-path=\"url(#clip1500)\" d=\"M 0 0 M218.783 584.472 L218.783 580.213 Q220.542 581.046 222.348 581.486 Q224.153 581.926 225.889 581.926 Q230.519 581.926 232.949 578.824 Q235.403 575.699 235.75 569.357 Q234.408 571.347 232.348 572.412 Q230.287 573.477 227.787 573.477 Q222.602 573.477 219.57 570.352 Q216.561 567.204 216.561 561.764 Q216.561 556.44 219.709 553.222 Q222.857 550.005 228.088 550.005 Q234.084 550.005 237.232 554.611 Q240.403 559.195 240.403 567.945 Q240.403 576.116 236.514 581 Q232.648 585.861 226.098 585.861 Q224.338 585.861 222.533 585.514 Q220.727 585.167 218.783 584.472 M228.088 569.82 Q231.236 569.82 233.065 567.667 Q234.917 565.514 234.917 561.764 Q234.917 558.037 233.065 555.884 Q231.236 553.708 228.088 553.708 Q224.94 553.708 223.088 555.884 Q221.26 558.037 221.26 561.764 Q221.26 565.514 223.088 567.667 Q224.94 569.82 228.088 569.82 Z\" fill=\"#000000\" fill-rule=\"evenodd\" fill-opacity=\"1\" /><path clip-path=\"url(#clip1500)\" d=\"M 0 0 M138.205 364.558 Q134.593 364.558 132.765 368.123 Q130.959 371.665 130.959 378.794 Q130.959 385.901 132.765 389.466 Q134.593 393.007 138.205 393.007 Q141.839 393.007 143.644 389.466 Q145.473 385.901 145.473 378.794 Q145.473 371.665 143.644 368.123 Q141.839 364.558 138.205 364.558 M138.205 360.855 Q144.015 360.855 147.07 365.461 Q150.149 370.044 150.149 378.794 Q150.149 387.521 147.07 392.128 Q144.015 396.711 138.205 396.711 Q132.394 396.711 129.316 392.128 Q126.26 387.521 126.26 378.794 Q126.26 370.044 129.316 365.461 Q132.394 360.855 138.205 360.855 Z\" fill=\"#000000\" fill-rule=\"evenodd\" fill-opacity=\"1\" /><path clip-path=\"url(#clip1500)\" d=\"M 0 0 M155.218 390.16 L160.103 390.16 L160.103 396.04 L155.218 396.04 L155.218 390.16 Z\" fill=\"#000000\" fill-rule=\"evenodd\" fill-opacity=\"1\" /><path clip-path=\"url(#clip1500)\" d=\"M 0 0 M165.982 392.104 L173.621 392.104 L173.621 365.739 L165.311 367.406 L165.311 363.146 L173.575 361.48 L178.251 361.48 L178.251 392.104 L185.889 392.104 L185.889 396.04 L165.982 396.04 L165.982 392.104 Z\" fill=\"#000000\" fill-rule=\"evenodd\" fill-opacity=\"1\" /><path clip-path=\"url(#clip1500)\" d=\"M 0 0 M203.806 365.554 L192.001 384.003 L203.806 384.003 L203.806 365.554 M202.579 361.48 L208.459 361.48 L208.459 384.003 L213.389 384.003 L213.389 387.892 L208.459 387.892 L208.459 396.04 L203.806 396.04 L203.806 387.892 L188.204 387.892 L188.204 383.378 L202.579 361.48 Z\" fill=\"#000000\" fill-rule=\"evenodd\" fill-opacity=\"1\" /><path clip-path=\"url(#clip1500)\" d=\"M 0 0 M228.459 364.558 Q224.848 364.558 223.019 368.123 Q221.213 371.665 221.213 378.794 Q221.213 385.901 223.019 389.466 Q224.848 393.007 228.459 393.007 Q232.093 393.007 233.898 389.466 Q235.727 385.901 235.727 378.794 Q235.727 371.665 233.898 368.123 Q232.093 364.558 228.459 364.558 M228.459 360.855 Q234.269 360.855 237.324 365.461 Q240.403 370.044 240.403 378.794 Q240.403 387.521 237.324 392.128 Q234.269 396.711 228.459 396.711 Q222.649 396.711 219.57 392.128 Q216.514 387.521 216.514 378.794 Q216.514 370.044 219.57 365.461 Q222.649 360.855 228.459 360.855 Z\" fill=\"#000000\" fill-rule=\"evenodd\" fill-opacity=\"1\" /><path clip-path=\"url(#clip1500)\" d=\"M 0 0 M139.431 175.408 Q135.82 175.408 133.992 178.973 Q132.186 182.515 132.186 189.644 Q132.186 196.751 133.992 200.315 Q135.82 203.857 139.431 203.857 Q143.066 203.857 144.871 200.315 Q146.7 196.751 146.7 189.644 Q146.7 182.515 144.871 178.973 Q143.066 175.408 139.431 175.408 M139.431 171.704 Q145.242 171.704 148.297 176.311 Q151.376 180.894 151.376 189.644 Q151.376 198.371 148.297 202.977 Q145.242 207.561 139.431 207.561 Q133.621 207.561 130.543 202.977 Q127.487 198.371 127.487 189.644 Q127.487 180.894 130.543 176.311 Q133.621 171.704 139.431 171.704 Z\" fill=\"#000000\" fill-rule=\"evenodd\" fill-opacity=\"1\" /><path clip-path=\"url(#clip1500)\" d=\"M 0 0 M156.445 201.01 L161.329 201.01 L161.329 206.889 L156.445 206.889 L156.445 201.01 Z\" fill=\"#000000\" fill-rule=\"evenodd\" fill-opacity=\"1\" /><path clip-path=\"url(#clip1500)\" d=\"M 0 0 M167.209 202.954 L174.848 202.954 L174.848 176.589 L166.538 178.255 L166.538 173.996 L174.802 172.329 L179.477 172.329 L179.477 202.954 L187.116 202.954 L187.116 206.889 L167.209 206.889 L167.209 202.954 Z\" fill=\"#000000\" fill-rule=\"evenodd\" fill-opacity=\"1\" /><path clip-path=\"url(#clip1500)\" d=\"M 0 0 M205.033 176.404 L193.227 194.853 L205.033 194.853 L205.033 176.404 M203.806 172.329 L209.686 172.329 L209.686 194.853 L214.616 194.853 L214.616 198.741 L209.686 198.741 L209.686 206.889 L205.033 206.889 L205.033 198.741 L189.431 198.741 L189.431 194.228 L203.806 172.329 Z\" fill=\"#000000\" fill-rule=\"evenodd\" fill-opacity=\"1\" /><path clip-path=\"url(#clip1500)\" d=\"M 0 0 M220.496 202.954 L228.135 202.954 L228.135 176.589 L219.824 178.255 L219.824 173.996 L228.088 172.329 L232.764 172.329 L232.764 202.954 L240.403 202.954 L240.403 206.889 L220.496 206.889 L220.496 202.954 Z\" fill=\"#000000\" fill-rule=\"evenodd\" fill-opacity=\"1\" /><path clip-path=\"url(#clip1500)\" d=\"M 0 0 M1254.34 1510.27 L1254.34 1520.4 L1266.41 1520.4 L1266.41 1524.95 L1254.34 1524.95 L1254.34 1544.3 Q1254.34 1548.66 1255.52 1549.9 Q1256.73 1551.14 1260.39 1551.14 L1266.41 1551.14 L1266.41 1556.04 L1260.39 1556.04 Q1253.61 1556.04 1251.03 1553.53 Q1248.46 1550.98 1248.46 1544.3 L1248.46 1524.95 L1244.16 1524.95 L1244.16 1520.4 L1248.46 1520.4 L1248.46 1510.27 L1254.34 1510.27 Z\" fill=\"#000000\" fill-rule=\"evenodd\" fill-opacity=\"1\" /><path clip-path=\"url(#clip1500)\" d=\"M 0 0 M1272.55 1520.4 L1278.41 1520.4 L1278.41 1556.04 L1272.55 1556.04 L1272.55 1520.4 M1272.55 1506.52 L1278.41 1506.52 L1278.41 1513.93 L1272.55 1513.93 L1272.55 1506.52 Z\" fill=\"#000000\" fill-rule=\"evenodd\" fill-opacity=\"1\" /><path clip-path=\"url(#clip1500)\" d=\"M 0 0 M1312.3 1527.24 Q1314.5 1523.29 1317.56 1521.41 Q1320.61 1519.54 1324.75 1519.54 Q1330.32 1519.54 1333.34 1523.45 Q1336.37 1527.33 1336.37 1534.53 L1336.37 1556.04 L1330.48 1556.04 L1330.48 1534.72 Q1330.48 1529.59 1328.66 1527.11 Q1326.85 1524.63 1323.13 1524.63 Q1318.57 1524.63 1315.93 1527.65 Q1313.29 1530.68 1313.29 1535.9 L1313.29 1556.04 L1307.4 1556.04 L1307.4 1534.72 Q1307.4 1529.56 1305.59 1527.11 Q1303.77 1524.63 1299.99 1524.63 Q1295.5 1524.63 1292.86 1527.68 Q1290.21 1530.71 1290.21 1535.9 L1290.21 1556.04 L1284.33 1556.04 L1284.33 1520.4 L1290.21 1520.4 L1290.21 1525.93 Q1292.22 1522.66 1295.02 1521.1 Q1297.82 1519.54 1301.67 1519.54 Q1305.56 1519.54 1308.26 1521.51 Q1311 1523.48 1312.3 1527.24 Z\" fill=\"#000000\" fill-rule=\"evenodd\" fill-opacity=\"1\" /><path clip-path=\"url(#clip1500)\" d=\"M 0 0 M1373 1536.76 L1373 1539.62 L1346.07 1539.62 Q1346.46 1545.67 1349.7 1548.85 Q1352.98 1552 1358.8 1552 Q1362.18 1552 1365.33 1551.17 Q1368.51 1550.35 1371.63 1548.69 L1371.63 1554.23 Q1368.48 1555.57 1365.17 1556.27 Q1361.86 1556.97 1358.45 1556.97 Q1349.92 1556.97 1344.93 1552 Q1339.96 1547.04 1339.96 1538.57 Q1339.96 1529.82 1344.67 1524.69 Q1349.42 1519.54 1357.44 1519.54 Q1364.63 1519.54 1368.8 1524.18 Q1373 1528.8 1373 1536.76 M1367.14 1535.04 Q1367.08 1530.23 1364.44 1527.37 Q1361.83 1524.5 1357.5 1524.5 Q1352.6 1524.5 1349.64 1527.27 Q1346.71 1530.04 1346.26 1535.07 L1367.14 1535.04 Z\" fill=\"#000000\" fill-rule=\"evenodd\" fill-opacity=\"1\" /><path clip-path=\"url(#clip1500)\" d=\"M 0 0 M57.8307 951.041 Q57.2578 952.028 57.0032 953.206 Q56.7167 954.351 56.7167 955.752 Q56.7167 960.717 59.9632 963.391 Q63.1779 966.032 69.2253 966.032 L88.0042 966.032 L88.0042 971.921 L52.3562 971.921 L52.3562 966.032 L57.8944 966.032 Q54.6479 964.186 53.0883 961.226 Q51.4968 958.266 51.4968 954.033 Q51.4968 953.428 51.5923 952.696 Q51.656 951.964 51.8151 951.073 L57.8307 951.041 Z\" fill=\"#000000\" fill-rule=\"evenodd\" fill-opacity=\"1\" /><path clip-path=\"url(#clip1500)\" d=\"M 0 0 M56.4621 932.517 Q56.4621 937.228 60.1542 939.965 Q63.8145 942.702 70.212 942.702 Q76.6095 942.702 80.3017 939.997 Q83.9619 937.259 83.9619 932.517 Q83.9619 927.838 80.2698 925.101 Q76.5777 922.364 70.212 922.364 Q63.8781 922.364 60.186 925.101 Q56.4621 927.838 56.4621 932.517 M51.4968 932.517 Q51.4968 924.878 56.4621 920.518 Q61.4273 916.157 70.212 916.157 Q78.9649 916.157 83.9619 920.518 Q88.9272 924.878 88.9272 932.517 Q88.9272 940.188 83.9619 944.548 Q78.9649 948.877 70.212 948.877 Q61.4273 948.877 56.4621 944.548 Q51.4968 940.188 51.4968 932.517 Z\" fill=\"#000000\" fill-rule=\"evenodd\" fill-opacity=\"1\" /><path clip-path=\"url(#clip1500)\" d=\"M 0 0 M42.2347 904.221 L52.3562 904.221 L52.3562 892.158 L56.9077 892.158 L56.9077 904.221 L76.2594 904.221 Q80.6199 904.221 81.8613 903.044 Q83.1026 901.834 83.1026 898.174 L83.1026 892.158 L88.0042 892.158 L88.0042 898.174 Q88.0042 904.954 85.4897 907.532 Q82.9434 910.11 76.2594 910.11 L56.9077 910.11 L56.9077 914.407 L52.3562 914.407 L52.3562 910.11 L42.2347 910.11 L42.2347 904.221 Z\" fill=\"#000000\" fill-rule=\"evenodd\" fill-opacity=\"1\" /><path clip-path=\"url(#clip1500)\" d=\"M 0 0 M56.4621 872.202 Q56.4621 876.913 60.1542 879.65 Q63.8145 882.387 70.212 882.387 Q76.6095 882.387 80.3017 879.682 Q83.9619 876.944 83.9619 872.202 Q83.9619 867.523 80.2698 864.786 Q76.5777 862.049 70.212 862.049 Q63.8781 862.049 60.186 864.786 Q56.4621 867.523 56.4621 872.202 M51.4968 872.202 Q51.4968 864.563 56.4621 860.203 Q61.4273 855.842 70.212 855.842 Q78.9649 855.842 83.9619 860.203 Q88.9272 864.563 88.9272 872.202 Q88.9272 879.873 83.9619 884.233 Q78.9649 888.562 70.212 888.562 Q61.4273 888.562 56.4621 884.233 Q51.4968 879.873 51.4968 872.202 Z\" fill=\"#000000\" fill-rule=\"evenodd\" fill-opacity=\"1\" /><path clip-path=\"url(#clip1500)\" d=\"M 0 0 M57.8307 829.042 Q57.2578 830.029 57.0032 831.207 Q56.7167 832.353 56.7167 833.753 Q56.7167 838.718 59.9632 841.392 Q63.1779 844.034 69.2253 844.034 L88.0042 844.034 L88.0042 849.922 L52.3562 849.922 L52.3562 844.034 L57.8944 844.034 Q54.6479 842.188 53.0883 839.228 Q51.4968 836.268 51.4968 832.034 Q51.4968 831.43 51.5923 830.698 Q51.656 829.966 51.8151 829.074 L57.8307 829.042 Z\" fill=\"#000000\" fill-rule=\"evenodd\" fill-opacity=\"1\" /><path clip-path=\"url(#clip1500)\" d=\"M 0 0 M70.0847 785.978 Q70.0847 793.076 71.7079 795.813 Q73.3312 798.551 77.2461 798.551 Q80.3653 798.551 82.2114 796.514 Q84.0256 794.445 84.0256 790.912 Q84.0256 786.042 80.5881 783.114 Q77.1188 780.154 71.3897 780.154 L70.0847 780.154 L70.0847 785.978 M67.6657 774.297 L88.0042 774.297 L88.0042 780.154 L82.5933 780.154 Q85.8398 782.159 87.3994 785.151 Q88.9272 788.143 88.9272 792.471 Q88.9272 797.946 85.8716 801.193 Q82.7843 804.407 77.6281 804.407 Q71.6125 804.407 68.5569 800.397 Q65.5014 796.355 65.5014 788.366 L65.5014 780.154 L64.9285 780.154 Q60.8862 780.154 58.6901 782.827 Q56.4621 785.469 56.4621 790.275 Q56.4621 793.331 57.1941 796.227 Q57.9262 799.124 59.3903 801.797 L53.9795 801.797 Q52.7381 798.583 52.1334 795.559 Q51.4968 792.535 51.4968 789.671 Q51.4968 781.936 55.5072 778.117 Q59.5176 774.297 67.6657 774.297 Z\" fill=\"#000000\" fill-rule=\"evenodd\" fill-opacity=\"1\" /><path clip-path=\"url(#clip1500)\" d=\"M 0 0 M66.4881 738.522 L88.0042 738.522 L88.0042 744.379 L66.679 744.379 Q61.6183 744.379 59.1038 746.352 Q56.5894 748.325 56.5894 752.272 Q56.5894 757.015 59.6131 759.752 Q62.6368 762.489 67.8567 762.489 L88.0042 762.489 L88.0042 768.377 L52.3562 768.377 L52.3562 762.489 L57.8944 762.489 Q54.6797 760.388 53.0883 757.556 Q51.4968 754.691 51.4968 750.967 Q51.4968 744.824 55.3163 741.673 Q59.1038 738.522 66.4881 738.522 Z\" fill=\"#000000\" fill-rule=\"evenodd\" fill-opacity=\"1\" /><path clip-path=\"url(#clip1500)\" d=\"M 0 0 M69.7664 708.922 Q63.4007 708.922 59.8996 711.563 Q56.3984 714.173 56.3984 718.916 Q56.3984 723.626 59.8996 726.268 Q63.4007 728.878 69.7664 728.878 Q76.1003 728.878 79.6014 726.268 Q83.1026 723.626 83.1026 718.916 Q83.1026 714.173 79.6014 711.563 Q76.1003 708.922 69.7664 708.922 M83.58 703.065 Q92.683 703.065 97.1071 707.107 Q101.563 711.15 101.563 719.489 Q101.563 722.576 101.086 725.313 Q100.64 728.051 99.6852 730.629 L93.9879 730.629 Q95.3884 728.051 96.0568 725.536 Q96.7252 723.022 96.7252 720.412 Q96.7252 714.651 93.7015 711.786 Q90.7096 708.922 84.6303 708.922 L81.7339 708.922 Q84.885 710.736 86.4446 713.569 Q88.0042 716.401 88.0042 720.348 Q88.0042 726.905 83.0071 730.915 Q78.01 734.926 69.7664 734.926 Q61.491 734.926 56.4939 730.915 Q51.4968 726.905 51.4968 720.348 Q51.4968 716.401 53.0564 713.569 Q54.616 710.736 57.7671 708.922 L52.3562 708.922 L52.3562 703.065 L83.58 703.065 Z\" fill=\"#000000\" fill-rule=\"evenodd\" fill-opacity=\"1\" /><path clip-path=\"url(#clip1500)\" d=\"M 0 0 M38.479 696.922 L38.479 691.066 L88.0042 691.066 L88.0042 696.922 L38.479 696.922 Z\" fill=\"#000000\" fill-rule=\"evenodd\" fill-opacity=\"1\" /><path clip-path=\"url(#clip1500)\" d=\"M 0 0 M68.7161 654.431 L71.5806 654.431 L71.5806 681.358 Q77.6281 680.976 80.8109 677.73 Q83.9619 674.451 83.9619 668.627 Q83.9619 665.253 83.1344 662.102 Q82.3069 658.919 80.6518 655.8 L86.1899 655.8 Q87.5267 658.951 88.227 662.261 Q88.9272 665.571 88.9272 668.977 Q88.9272 677.507 83.9619 682.504 Q78.9967 687.469 70.5303 687.469 Q61.7774 687.469 56.6531 682.759 Q51.4968 678.016 51.4968 669.995 Q51.4968 662.802 56.1438 658.633 Q60.7589 654.431 68.7161 654.431 M66.9973 660.288 Q62.1912 660.351 59.3266 662.993 Q56.4621 665.603 56.4621 669.932 Q56.4621 674.833 59.2312 677.793 Q62.0002 680.722 67.0292 681.167 L66.9973 660.288 Z\" fill=\"#000000\" fill-rule=\"evenodd\" fill-opacity=\"1\" /><path clip-path=\"url(#clip1500)\" d=\"M 0 0 M38.479 628.109 L38.479 614.614 L43.0304 614.614 L43.0304 622.253 L92.0464 622.253 L92.0464 614.614 L96.5979 614.614 L96.5979 628.109 L38.479 628.109 Z\" fill=\"#000000\" fill-rule=\"evenodd\" fill-opacity=\"1\" /><path clip-path=\"url(#clip1500)\" d=\"M 0 0 M57.8307 587.814 Q57.2578 588.801 57.0032 589.978 Q56.7167 591.124 56.7167 592.525 Q56.7167 597.49 59.9632 600.164 Q63.1779 602.805 69.2253 602.805 L88.0042 602.805 L88.0042 608.694 L52.3562 608.694 L52.3562 602.805 L57.8944 602.805 Q54.6479 600.959 53.0883 597.999 Q51.4968 595.039 51.4968 590.806 Q51.4968 590.201 51.5923 589.469 Q51.656 588.737 51.8151 587.846 L57.8307 587.814 Z\" fill=\"#000000\" fill-rule=\"evenodd\" fill-opacity=\"1\" /><path clip-path=\"url(#clip1500)\" d=\"M 0 0 M70.0847 565.47 Q70.0847 572.568 71.7079 575.305 Q73.3312 578.043 77.2461 578.043 Q80.3653 578.043 82.2114 576.006 Q84.0256 573.937 84.0256 570.404 Q84.0256 565.534 80.5881 562.606 Q77.1188 559.646 71.3897 559.646 L70.0847 559.646 L70.0847 565.47 M67.6657 553.789 L88.0042 553.789 L88.0042 559.646 L82.5933 559.646 Q85.8398 561.651 87.3994 564.643 Q88.9272 567.635 88.9272 571.963 Q88.9272 577.438 85.8716 580.684 Q82.7843 583.899 77.6281 583.899 Q71.6125 583.899 68.5569 579.889 Q65.5014 575.847 65.5014 567.858 L65.5014 559.646 L64.9285 559.646 Q60.8862 559.646 58.6901 562.319 Q56.4621 564.961 56.4621 569.767 Q56.4621 572.823 57.1941 575.719 Q57.9262 578.616 59.3903 581.289 L53.9795 581.289 Q52.7381 578.075 52.1334 575.051 Q51.4968 572.027 51.4968 569.163 Q51.4968 561.428 55.5072 557.609 Q59.5176 553.789 67.6657 553.789 Z\" fill=\"#000000\" fill-rule=\"evenodd\" fill-opacity=\"1\" /><path clip-path=\"url(#clip1500)\" d=\"M 0 0 M57.7671 524.189 L38.479 524.189 L38.479 518.332 L88.0042 518.332 L88.0042 524.189 L82.657 524.189 Q85.8398 526.035 87.3994 528.868 Q88.9272 531.668 88.9272 535.615 Q88.9272 542.076 83.771 546.15 Q78.6147 550.193 70.212 550.193 Q61.8093 550.193 56.6531 546.15 Q51.4968 542.076 51.4968 535.615 Q51.4968 531.668 53.0564 528.868 Q54.5842 526.035 57.7671 524.189 M70.212 544.145 Q76.6732 544.145 80.3653 541.504 Q84.0256 538.83 84.0256 534.183 Q84.0256 529.536 80.3653 526.862 Q76.6732 524.189 70.212 524.189 Q63.7508 524.189 60.0905 526.862 Q56.3984 529.536 56.3984 534.183 Q56.3984 538.83 60.0905 541.504 Q63.7508 544.145 70.212 544.145 Z\" fill=\"#000000\" fill-rule=\"evenodd\" fill-opacity=\"1\" /><path clip-path=\"url(#clip1500)\" d=\"M 0 0 M38.479 498.503 L96.5979 498.503 L96.5979 511.998 L92.0464 511.998 L92.0464 504.391 L43.0304 504.391 L43.0304 511.998 L38.479 511.998 L38.479 498.503 Z\" fill=\"#000000\" fill-rule=\"evenodd\" fill-opacity=\"1\" /><polyline clip-path=\"url(#clip1502)\" style=\"stroke:#009af9; stroke-width:4; stroke-opacity:1; fill:none\" points=\"\n",
       "  323.507,1384.24 323.573,1384.24 323.639,1384.24 323.77,1384.24 324.033,1384.24 324.558,1384.24 325.609,1384.24 326.922,1384.24 328.236,1384.24 329.549,1384.24 \n",
       "  330.863,1384.24 332.176,1384.24 333.489,1384.24 334.803,1384.24 336.116,1384.24 337.43,1384.24 338.743,1384.24 340.057,1384.24 341.37,1384.24 342.683,1384.24 \n",
       "  343.997,1384.24 345.31,1384.24 346.624,1384.24 347.937,1384.24 349.251,1384.24 350.564,1384.24 351.877,1384.24 353.191,1384.24 354.504,1384.24 355.818,1384.24 \n",
       "  357.131,1384.24 358.445,1384.24 359.758,1384.24 361.071,1384.24 362.385,1384.24 363.698,1384.24 365.012,1384.24 366.325,1384.24 367.639,1384.24 368.952,1384.24 \n",
       "  370.265,1384.24 371.579,1384.24 372.892,1384.24 374.206,1384.24 375.519,1384.24 376.833,1384.24 378.146,1384.24 379.459,1384.24 380.773,1384.24 382.086,1384.24 \n",
       "  383.4,1384.24 384.713,1384.24 386.027,1384.24 387.34,1384.24 388.653,1384.24 389.179,1384.24 389.937,1369.41 390.695,1340.46 391.454,1298.39 \n",
       "  392.767,1204.66 394.08,1082.49 395.394,937.497 396.707,778.709 398.021,615.27 399.334,458.258 400.648,318.361 401.961,205.02 403.274,125.777 404.588,86.1857 \n",
       "  405.901,88.7215 407.215,133.02 408.528,215.786 409.842,331.207 411.155,471.303 412.468,626.411 413.782,786.025 415.095,939.374 416.409,1076.28 417.722,1187.65 \n",
       "  419.036,1266.22 420.349,1306.91 421.662,1307.26 422.976,1267.48 424.289,1190.52 425.603,1081.77 426.916,948.749 428.23,800.523 429.543,647.13 430.856,498.884 \n",
       "  432.17,365.676 433.483,256.352 434.797,178.055 436.11,135.862 437.424,132.319 438.737,167.461 440.05,238.62 441.364,340.859 442.677,467.049 443.991,608.639 \n",
       "  445.304,756.135 446.618,899.551 447.931,1029.48 449.244,1137.4 450.558,1216.26 451.871,1260.89 453.185,1268.44 454.498,1238.19 455.812,1172.37 457.125,1075.64 \n",
       "  458.438,954.793 459.752,818.143 461.065,674.989 462.379,535.087 463.692,407.796 465.006,301.58 466.319,223.349 467.632,178.164 468.946,168.81 470.259,195.713 \n",
       "  471.573,256.824 472.886,347.839 474.2,462.469 475.513,592.944 476.826,730.273 478.14,865.407 479.453,989.466 480.767,1094.28 482.08,1172.92 483.394,1220.25 \n",
       "  484.707,1233.2 486.02,1210.71 487.334,1154.47 488.647,1068.48 489.961,958.79 491.274,832.963 492.588,699.569 493.901,567.707 495.214,446.21 496.528,343.169 \n",
       "  497.841,265.263 499.155,217.52 500.468,202.993 501.782,222.517 503.095,274.609 504.408,355.589 505.722,459.836 507.035,580.121 508.349,708.257 509.662,835.551 \n",
       "  510.976,953.523 512.289,1054.31 513.602,1131.33 514.916,1179.61 516.229,1196.04 517.543,1179.65 518.856,1131.7 520.17,1055.61 521.483,956.657 522.796,841.712 \n",
       "  524.11,718.59 525.423,595.535 526.737,480.805 528.05,382.059 529.364,305.858 530.677,257.196 531.99,239.22 533.304,252.9 534.617,297.098 535.931,368.662 \n",
       "  537.244,462.645 538.558,572.613 539.871,691.09 541.184,810.058 542.498,921.426 543.811,1017.8 545.125,1092.87 546.438,1141.74 547.752,1161.26 549.065,1150.26 \n",
       "  550.378,1109.64 551.692,1042.32 553.005,952.991 554.319,847.782 555.632,733.942 556.946,619.173 558.259,511.214 559.572,417.174 560.886,343.219 562.199,294.206 \n",
       "  563.513,273.319 564.826,281.824 566.14,318.987 567.453,382.139 568.766,466.827 570.08,567.217 571.393,676.426 572.707,787.094 574.02,891.772 575.334,983.55 \n",
       "  576.647,1056.4 577.961,1105.52 579.274,1127.72 580.587,1121.63 581.901,1087.82 583.214,1028.73 584.528,948.534 585.841,852.766 587.155,747.997 588.468,641.291 \n",
       "  589.781,539.77 591.095,450.168 592.408,378.439 593.722,329.322 595.035,306.004 596.349,309.67 597.662,339.907 598.975,394.636 600.289,470.144 601.602,561.324 \n",
       "  602.916,662.028 604.229,765.538 605.543,864.833 606.856,953.142 608.169,1024.51 609.483,1074.21 610.796,1099.04 612.11,1097.47 613.423,1069.8 614.737,1018.08 \n",
       "  616.05,945.976 617.363,858.47 618.677,761.51 619.99,661.665 621.304,565.622 622.617,479.819 623.931,409.89 625.244,360.404 626.557,334.405 627.871,333.477 \n",
       "  629.184,357.613 630.498,405.126 631.811,472.764 633.125,555.935 634.438,649.135 635.751,746.005 637.065,839.908 638.378,924.457 639.692,993.985 641.005,1043.91 \n",
       "  642.319,1070.98 643.632,1073.53 644.945,1051.59 646.259,1006.81 647.572,942.376 648.886,862.716 650.199,773.274 651.513,680.087 652.826,589.446 654.139,507.368 \n",
       "  655.453,439.271 656.766,389.538 658.08,361.341 659.393,356.472 660.707,375.172 662.02,416.109 663.333,476.659 664.647,552.627 665.96,638.753 667.274,729.1 \n",
       "  668.587,817.534 669.901,898.114 671.214,965.555 672.527,1015.52 673.841,1044.77 675.154,1051.46 676.468,1035.21 677.781,997.002 679.095,939.513 680.408,866.763 \n",
       "  681.721,783.809 683.035,696.322 684.348,610.219 685.662,531.343 686.975,464.949 688.289,415.377 689.602,385.782 690.915,378.012 692.229,392.439 693.542,427.987 \n",
       "  694.856,482.126 696.169,551.124 697.483,630.23 698.796,714.093 700.109,797.041 701.423,873.545 702.736,938.548 704.05,987.784 705.363,1018.02 706.677,1027.31 \n",
       "  707.99,1015.13 709.303,982.437 710.617,931.545 711.93,866.16 713.244,790.664 714.557,710.057 715.871,629.695 717.184,554.929 718.497,490.815 719.811,441.64 \n",
       "  721.124,410.703 722.438,399.996 723.751,410.131 725.065,440.29 726.378,488.319 727.691,550.846 729.005,623.578 730.318,701.536 731.632,779.477 732.945,852.159 \n",
       "  734.259,914.775 735.572,963.172 736.885,994.222 738.199,1005.93 739.512,997.658 740.826,970.072 742.139,925.152 743.453,866.016 744.766,796.677 746.079,721.942 \n",
       "  747.393,646.749 748.706,576.049 750.02,514.508 751.333,466.191 752.647,434.279 753.96,421.019 755.273,427.259 756.587,452.429 757.9,494.69 759.214,551.082 \n",
       "  760.527,617.728 761.841,690.096 763.154,763.241 764.467,832.25 765.781,892.504 767.094,940.077 768.408,971.884 769.721,985.87 771.035,981.174 772.348,958.202 \n",
       "  773.661,918.601 774.975,865.134 776.288,801.521 777.602,732.105 778.915,661.607 780.229,594.738 781.542,535.923 782.855,489.034 784.169,457.163 785.482,442.385 \n",
       "  786.796,445.606 788.109,466.506 789.423,503.575 790.736,554.221 792.05,614.958 793.363,681.6 794.676,749.642 795.99,814.553 797.303,871.993 798.617,918.144 \n",
       "  799.93,949.956 801.244,965.373 802.557,963.453 803.87,944.43 805.184,909.698 806.497,861.721 807.811,803.812 809.124,739.938 810.438,674.387 811.751,611.522 \n",
       "  813.064,555.548 814.378,510.194 815.691,478.459 817.005,462.403 818.318,463.011 819.632,479.99 820.945,512.121 822.258,557.24 823.572,612.311 824.885,673.629 \n",
       "  826.199,737.074 827.512,798.391 828.826,853.44 830.139,898.484 831.452,930.515 832.766,947.44 834.079,948.218 835.393,932.904 836.706,902.637 838.02,859.569 \n",
       "  839.333,806.679 840.646,747.592 841.96,686.294 843.273,626.917 844.587,573.396 845.9,529.259 847.214,497.424 848.527,479.973 849.84,478.009 851.154,491.434 \n",
       "  852.467,519.272 853.781,559.64 855.094,609.82 856.408,666.431 857.721,725.708 859.034,783.625 860.348,836.227 861.661,879.961 862.975,911.918 864.288,930.023 \n",
       "  865.602,933.15 866.915,921.178 868.228,895.019 869.542,856.551 870.855,808.433 872.169,753.96 873.482,696.814 874.796,640.825 876.109,589.719 877.422,546.904 \n",
       "  878.736,515.219 880.049,496.737 881.363,492.626 882.676,503.076 883.99,527.289 885.303,563.541 886.616,609.336 887.93,661.541 889.243,716.618 890.557,770.847 \n",
       "  891.87,820.589 893.184,862.524 894.497,893.949 895.81,912.868 897.124,918.077 898.437,909.283 899.751,887.124 901.064,853.011 902.378,809.313 903.691,759.059 \n",
       "  905.004,705.718 906.318,652.915 907.631,604.201 908.945,562.862 910.258,531.622 911.572,512.491 912.885,506.634 914.198,514.354 915.512,535.045 916.825,567.257 \n",
       "  918.139,608.75 919.452,656.691 920.766,707.807 922.079,758.674 923.392,805.911 924.706,846.367 926.019,877.353 927.333,896.833 928.646,903.664 929.96,897.478 \n",
       "  931.273,878.727 932.586,848.698 933.9,809.435 935.213,763.594 936.527,714.222 937.84,664.678 939.154,618.349 940.467,578.375 941.78,547.424 943.094,527.519 \n",
       "  944.407,519.937 945.721,525.1 947.034,542.563 948.348,571.059 949.661,608.596 950.974,652.605 952.288,700.093 953.601,747.867 954.915,792.709 956.228,831.656 \n",
       "  957.542,862.149 958.855,882.255 960.168,890.705 961.482,886.977 962.795,871.36 964.109,844.939 965.422,809.426 966.736,767.271 968.049,721.385 969.362,674.921 \n",
       "  970.676,631.025 971.989,592.635 973.303,562.317 974.616,542.049 975.93,533.116 977.243,536.021 978.556,550.485 979.87,575.463 981.183,609.217 982.497,649.433 \n",
       "  983.81,693.368 985.124,738.066 986.437,780.548 987.75,817.972 989.064,847.851 990.377,868.211 991.691,877.738 993.004,875.956 994.318,863.053 995.631,839.915 \n",
       "  996.944,808.111 998.258,769.794 999.571,727.499 1000.88,684.11 1002.2,642.598 1003.51,605.782 1004.83,576.126 1006.14,555.578 1007.45,545.483 1008.77,546.43 \n",
       "  1010.08,558.257 1011.39,580.099 1012.71,610.428 1014.02,647.166 1015.33,687.802 1016.65,729.597 1017.96,769.762 1019.27,805.609 1020.59,834.75 1021.9,855.258 \n",
       "  1023.21,865.803 1024.53,865.734 1025.84,855.219 1027.15,835.013 1028.47,806.478 1029.78,771.535 1031.09,732.534 1032.41,692.073 1033.72,652.899 1035.03,617.682 \n",
       "  1036.35,588.802 1037.66,568.175 1038.97,557.135 1040.29,556.363 1041.6,565.848 1042.91,584.88 1044.23,612.099 1045.54,645.627 1046.85,683.173 1048.17,722.201 \n",
       "  1049.48,760.08 1050.8,794.295 1052.11,822.588 1053.42,843.088 1054.74,854.454 1056.05,855.967 1057.36,847.672 1058.68,830.176 1059.99,804.661 1061.3,772.846 \n",
       "  1062.62,736.874 1063.93,699.14 1065.24,662.205 1066.56,628.591 1067.87,600.57 1069.18,580.005 1070.5,568.233 1071.81,565.992 1073.12,573.366 1074.44,589.785 \n",
       "  1075.75,614.08 1077.06,644.561 1078.38,679.152 1079.69,715.505 1081,751.189 1082.32,783.833 1083.63,811.26 1084.94,831.65 1086.26,843.667 1087.57,846.55 \n",
       "  1088.88,840.159 1090.2,825.067 1091.51,802.32 1092.82,773.438 1094.14,740.357 1095.45,705.296 1096.77,670.6 1098.08,638.615 1099.39,611.516 1100.71,591.121 \n",
       "  1102.02,578.772 1103.33,575.246 1104.65,580.725 1105.96,594.782 1107.27,616.411 1108.59,644.11 1109.9,675.967 1111.21,709.822 1112.53,743.385 1113.84,774.418 \n",
       "  1115.15,800.851 1116.47,820.96 1117.78,833.442 1119.09,837.498 1120.41,832.891 1121.72,819.974 1123.03,799.664 1124.35,773.371 1125.66,742.918 1126.97,710.381 \n",
       "  1128.29,677.966 1129.6,647.835 1130.91,621.975 1132.23,602.087 1133.54,589.478 1134.85,584.962 1136.17,588.802 1137.48,600.691 1138.79,619.782 1140.11,644.68 \n",
       "  1141.42,673.713 1142.74,704.958 1144.05,736.34 1145.36,765.767 1146.68,791.25 1147.99,811.084 1149.3,823.937 1150.62,828.977 1151.93,825.906 1153.24,814.983 \n",
       "  1154.56,796.994 1155.87,773.203 1157.18,745.26 1158.5,715.064 1159.81,684.654 1161.12,656.062 1162.44,631.193 1163.75,611.692 1165.06,598.831 1166.38,593.419 \n",
       "  1167.69,595.775 1169,605.704 1170.32,622.504 1171.63,645.011 1172.94,671.678 1174.26,700.687 1175.57,730.049 1176.88,757.834 1178.2,782.221 1179.51,801.607 \n",
       "  1180.82,814.721 1182.14,820.645 1183.45,819.012 1184.76,809.968 1186.08,794.175 1187.39,772.74 1188.71,747.143 1190.02,719.147 1191.33,690.649 1192.65,663.571 \n",
       "  1193.96,639.712 1195.27,620.646 1196.59,607.602 1197.9,601.416 1199.21,602.471 1200.53,610.667 1201.84,625.416 1203.15,645.689 1204.47,670.089 1205.78,696.91 \n",
       "  1207.09,724.376 1208.41,750.68 1209.72,774.084 1211.03,793.04 1212.35,806.248 1213.66,812.843 1214.97,812.402 1216.29,805 1217.6,791.176 1218.91,771.903 \n",
       "  1220.23,748.522 1221.54,722.634 1222.85,696.002 1224.17,670.406 1225.48,647.551 1226.79,628.941 1228.11,615.794 1229.42,608.968 1230.73,608.893 1232.05,615.538 \n",
       "  1233.36,628.42 1234.68,646.633 1235.99,668.921 1237.3,693.743 1238.62,719.406 1239.93,744.186 1241.24,766.437 1242.56,784.689 1243.87,797.746 1245.18,804.76 \n",
       "  1246.5,805.302 1247.81,799.373 1249.12,787.419 1250.44,770.276 1251.75,749.135 1253.06,725.429 1254.38,700.75 1255.69,676.758 1257,655.061 1258.32,637.109 \n",
       "  1259.63,624.087 1260.94,616.843 1262.26,615.774 1263.57,620.913 1264.88,631.901 1266.2,647.989 1267.51,668.086 1268.82,690.864 1270.14,714.77 1271.45,738.164 \n",
       "  1272.76,759.453 1274.08,777.21 1275.39,790.261 1276.7,797.761 1278.02,799.234 1279.33,794.626 1280.65,784.299 1281.96,768.982 1283.27,749.738 1284.59,727.876 \n",
       "  1285.9,704.866 1287.21,682.265 1288.53,661.58 1289.84,644.194 1291.15,631.257 1292.47,623.614 1293.78,621.699 1295.09,625.601 1296.41,635.046 1297.72,649.386 \n",
       "  1299.03,667.648 1300.35,688.639 1301.66,710.908 1302.97,732.93 1304.29,753.2 1305.6,770.361 1306.91,783.282 1308.23,791.113 1309.54,793.365 1310.85,789.93 \n",
       "  1312.17,781.085 1313.48,767.462 1314.79,750.002 1316.11,729.886 1317.42,708.476 1318.73,687.217 1320.05,667.538 1321.36,650.754 1322.68,637.977 1323.99,630.007 \n",
       "  1325.3,627.335 1326.62,630.119 1327.93,638.156 1329.24,650.889 1330.56,667.5 1331.87,686.836 1333.18,707.56 1334.5,728.246 1335.81,747.499 1337.12,764.034 \n",
       "  1338.44,776.787 1339.75,784.944 1341.06,787.984 1342.38,785.725 1343.69,778.337 1345,766.278 1346.32,750.392 1347.63,731.789 1348.94,711.758 1350.26,691.659 \n",
       "  1351.57,672.843 1352.88,656.551 1354.2,643.836 1355.51,635.521 1356.82,632.141 1358.14,633.904 1359.45,640.725 1360.76,652.122 1362.08,667.283 1363.39,685.148 \n",
       "  1364.7,704.496 1366.02,724.017 1367.33,742.386 1368.65,758.381 1369.96,770.944 1371.27,779.265 1372.59,782.82 1373.9,781.399 1375.21,775.123 1376.53,764.443 \n",
       "  1377.84,750.106 1379.15,733.099 1380.47,714.583 1381.78,695.805 1383.09,678.028 1384.41,662.426 1385.72,650.026 1387.03,641.645 1388.35,637.828 1389.66,638.808 \n",
       "  1390.97,644.493 1392.29,654.472 1393.6,668.008 1394.91,684.19 1396.23,701.944 1397.54,720.09 1398.85,737.418 1400.17,752.758 1401.48,765.082 1402.79,773.559 \n",
       "  1404.11,777.637 1405.42,777.064 1406.73,771.909 1408.05,762.548 1409.36,749.636 1410.67,734.061 1411.99,716.899 1413.3,699.311 1414.62,682.487 1415.93,667.546 \n",
       "  1417.24,655.474 1418.56,647.053 1419.87,642.829 1421.18,643.055 1422.5,647.694 1423.81,656.403 1425.12,668.578 1426.44,683.385 1427.75,699.816 1429.06,716.759 \n",
       "  1430.38,733.071 1431.69,747.664 1433,759.591 1434.32,768.076 1435.63,772.57 1436.94,772.789 1438.26,768.689 1439.57,760.565 1440.88,749 1442.2,734.807 \n",
       "  1443.51,718.96 1444.82,702.533 1446.14,686.645 1447.45,672.356 1448.76,660.616 1450.08,652.188 1451.39,647.613 1452.7,647.164 1454.02,650.851 1455.33,658.409 \n",
       "  1456.64,669.314 1457.96,682.815 1459.27,697.988 1460.59,713.802 1461.9,729.183 1463.21,743.123 1464.53,754.712 1465.84,763.191 1467.15,768.007 1468.47,768.812 \n",
       "  1469.78,765.564 1471.09,758.515 1472.41,748.17 1473.72,735.249 1475.03,720.635 1476.35,705.329 1477.66,690.364 1478.97,676.743 1480.29,665.364 1481.6,656.971 \n",
       "  1482.91,652.105 1484.23,651.072 1485.54,653.924 1486.85,660.451 1488.17,670.194 1489.48,682.48 1490.79,696.467 1492.11,711.193 1493.42,725.664 1494.73,738.914 \n",
       "  1496.05,750.064 1497.36,758.38 1498.67,763.33 1499.99,764.601 1501.3,762.126 1502.61,756.088 1503.93,746.912 1505.24,735.232 1506.56,721.85 1507.87,707.686 \n",
       "  1509.18,693.692 1510.5,680.799 1511.81,669.865 1513.12,661.614 1514.44,656.587 1515.75,655.105 1517.06,657.246 1518.38,662.844 1519.69,671.503 1521,682.615 \n",
       "  1522.32,695.418 1523.63,709.037 1524.94,722.556 1526.26,735.074 1527.57,745.765 1528.88,753.918 1530.2,758.998 1531.51,760.679 1532.82,758.866 1534.14,753.704 \n",
       "  1535.45,745.558 1536.76,734.995 1538.08,722.763 1539.39,709.674 1540.7,696.592 1542.02,684.384 1543.33,673.858 1544.64,665.713 1545.96,660.509 1547.27,658.594 \n",
       "  1548.58,660.075 1549.9,664.827 1551.21,672.511 1552.53,682.591 1553.84,694.368 1555.15,707.043 1556.47,719.752 1557.78,731.65 1559.09,741.94 1560.41,749.95 \n",
       "  1561.72,755.158 1563.03,757.234 1564.35,756.055 1565.66,751.716 1566.97,744.524 1568.29,734.977 1569.6,723.732 1570.91,711.555 1572.23,699.28 1573.54,687.732 \n",
       "  1574.85,677.677 1576.17,669.779 1577.48,664.551 1578.79,662.325 1580.11,663.23 1581.42,667.192 1582.73,673.931 1584.05,682.979 1585.36,693.714 1586.67,705.388 \n",
       "  1587.99,717.228 1589.3,728.455 1590.61,738.328 1591.93,746.195 1593.24,751.515 1594.55,753.933 1595.87,753.304 1597.18,749.691 1598.5,743.356 1599.81,734.743 \n",
       "  1601.12,724.443 1602.44,713.165 1603.75,701.674 1605.06,690.746 1606.38,681.104 1607.69,673.381 1609,668.083 1610.32,665.549 1611.63,665.936 1612.94,669.206 \n",
       "  1614.26,675.123 1615.57,683.274 1616.88,693.091 1618.2,703.904 1619.51,714.975 1620.82,725.564 1622.14,734.971 1623.45,742.574 1624.76,747.873 1626.08,750.52 \n",
       "  1627.39,750.353 1628.7,747.423 1630.02,741.941 1631.33,734.277 1632.64,724.945 1633.96,714.574 1635.27,703.861 1636.58,693.519 1637.9,684.254 1639.21,676.693 \n",
       "  1640.52,671.342 1641.84,668.548 1643.15,668.483 1644.47,671.134 1645.78,676.303 1647.09,683.622 1648.41,692.585 1649.72,702.578 1651.03,712.927 1652.35,722.945 \n",
       "  1653.66,731.959 1654.97,739.372 1656.29,744.693 1657.6,747.575 1658.91,747.837 1660.23,745.479 1661.54,740.674 1662.85,733.764 1664.17,725.231 1665.48,715.65 \n",
       "  1666.79,705.672 1668.11,695.97 1669.42,687.191 1670.73,679.92 1672.05,674.637 1673.36,671.69 1674.67,671.262 1675.99,673.362 1677.3,677.829 1678.61,684.346 \n",
       "  1679.93,692.462 1681.24,701.632 1682.55,711.233 1683.87,720.621 1685.18,729.164 1686.49,736.292 1687.81,741.534 1689.12,744.566 1690.44,745.202 1691.75,743.41 \n",
       "  1693.06,739.317 1694.38,733.204 1695.69,725.466 1697,716.64 1698.32,707.34 1699.63,698.196 1700.94,689.825 1702.26,682.783 1703.57,677.545 1704.88,674.446 \n",
       "  1706.2,673.679 1707.51,675.274 1708.82,679.106 1710.14,684.907 1711.45,692.284 1712.76,700.732 1714.08,709.679 1715.39,718.519 1716.7,726.658 1718.02,733.558 \n",
       "  1719.33,738.774 1720.64,741.97 1721.96,742.941 1723.27,741.631 1724.58,738.111 1725.9,732.634 1727.21,725.583 1728.52,717.449 1729.84,708.787 1731.15,700.186 \n",
       "  1732.46,692.226 1733.78,685.439 1735.09,680.271 1736.41,677.053 1737.72,675.989 1739.03,677.133 1740.35,680.397 1741.66,685.548 1742.97,692.226 1744.29,699.979 \n",
       "  1745.6,708.284 1746.91,716.582 1748.23,724.314 1749.54,730.962 1750.85,736.086 1752.17,739.345 1753.48,740.534 1754.79,739.589 1756.11,736.591 1757.42,731.757 \n",
       "  1758.73,725.419 1760.05,718.01 1761.36,710.03 1762.67,702.019 1763.99,694.515 1765.3,688.021 1766.61,682.958 1767.93,679.65 1769.24,678.309 1770.55,679.015 \n",
       "  1771.87,681.714 1773.18,686.24 1774.49,692.273 1775.81,699.39 1777.12,707.104 1778.44,714.891 1779.75,722.226 1781.06,728.626 1782.38,733.674 1783.69,737.039 \n",
       "  1785,738.509 1786.32,737.992 1787.63,735.511 1788.94,731.244 1790.26,725.489 1791.57,718.651 1792.88,711.197 1794.2,703.632 1795.51,696.471 1796.82,690.192 \n",
       "  1798.14,685.21 1799.45,681.845 1800.76,680.314 1802.08,680.705 1803.39,682.981 1804.7,686.978 1806.02,692.417 1807.33,698.922 1808.64,706.052 1809.96,713.323 \n",
       "  1811.27,720.248 1812.58,726.366 1813.9,731.276 1815.21,734.655 1816.52,736.283 1817.84,736.059 1819.15,734.01 1820.46,730.283 1821.78,725.139 1823.09,718.935 \n",
       "  1824.41,712.097 1825.72,705.085 1827.03,698.368 1828.35,692.394 1829.66,687.563 1830.97,684.192 1832.29,682.5 1833.6,682.591 1834.91,684.448 1836.23,687.935 \n",
       "  1837.54,692.793 1838.85,698.695 1840.17,705.249 1841.48,712.019 1842.79,718.553 1844.11,724.412 1845.42,729.201 1846.73,732.596 1848.05,734.374 1849.36,734.426 \n",
       "  1850.67,732.759 1851.99,729.497 1853.3,724.871 1854.61,719.2 1855.93,712.875 1857.24,706.323 1858.55,699.979 1859.87,694.271 1861.18,689.575 1862.49,686.203 \n",
       "  1863.81,684.374 1865.12,684.203 1866.43,685.691 1867.75,688.728 1869.06,693.101 1870.38,698.504 1871.69,704.573 1873,710.894 1874.32,717.042 1875.63,722.604 \n",
       "  1876.94,727.21 1878.26,730.556 1879.57,732.423 1880.88,732.695 1882.2,731.365 1883.51,728.535 1884.82,724.406 1886.14,719.264 1887.45,713.46 1888.76,707.381 \n",
       "  1890.08,701.438 1891.39,696.028 1892.7,691.513 1894.02,688.19 1895.33,686.278 1896.64,685.896 1897.96,687.046 1899.27,689.644 1900.58,693.513 1901.9,698.393 \n",
       "  1903.21,703.955 1904.52,709.832 1905.84,715.621 1907.15,720.927 1908.46,725.39 1909.78,728.715 1911.09,730.684 1912.4,731.175 1913.72,730.164 1915.03,727.729 \n",
       "  1916.35,724.044 1917.66,719.367 1918.97,714.019 1920.29,708.362 1921.6,702.771 1922.91,697.621 1924.23,693.259 1925.54,689.97 1926.85,687.971 1928.17,687.388 \n",
       "  1929.48,688.251 1930.79,690.496 1932.11,693.961 1933.42,698.403 1934.73,703.517 1936.05,708.957 1937.36,714.361 1938.67,719.366 1939.99,723.636 1941.3,726.889 \n",
       "  1942.61,728.911 1943.93,729.574 1945.24,728.854 1946.55,726.806 1947.87,723.57 1949.18,719.365 1950.49,714.475 1951.81,709.221 1953.12,703.964 1954.43,699.067 \n",
       "  1955.75,694.857 1957.06,691.614 1958.37,689.551 1959.69,688.801 1961,689.404 1962.32,691.31 1963.63,694.379 1964.94,698.398 1966.26,703.096 1967.57,708.155 \n",
       "  1968.88,713.231 1970.2,717.985 1971.51,722.098 1972.82,725.299 1974.14,727.384 1975.45,728.225 1976.76,727.769 1978.08,726.052 1979.39,723.193 1980.7,719.375 \n",
       "  1982.02,714.864 1983.33,709.972 1984.64,705.034 1985.96,700.385 1987.27,696.335 1988.58,693.156 1989.9,691.054 1991.21,690.162 1992.52,690.53 1993.84,692.124 \n",
       "  1995.15,694.829 1996.46,698.457 1997.78,702.76 1999.09,707.444 2000.4,712.195 2001.72,716.696 2003.03,720.647 2004.34,723.784 2005.66,725.899 2006.97,726.858 \n",
       "  2008.29,726.601 2009.6,725.154 2010.91,722.622 2012.23,719.182 2013.54,715.071 2014.85,710.567 2016.17,705.976 2017.48,701.607 2018.79,697.749 2020.11,694.653 \n",
       "  2021.42,692.523 2022.73,691.494 2024.05,691.63 2025.36,692.929 2026.67,695.298 2027.99,698.571 2029.3,702.517 2030.61,706.866 2031.93,711.323 2033.24,715.585 \n",
       "  2034.55,719.367 2035.87,722.419 2037.18,724.543 2038.49,725.602 2039.81,725.535 2041.12,724.35 2042.43,722.137 2043.75,719.049 2045.06,715.297 2046.37,711.136 \n",
       "  2047.69,706.846 2049,702.717 2050.31,699.026 2051.63,696.02 2052.94,693.889 2054.26,692.768 2055.57,692.727 2056.88,693.766 2058.2,695.81 2059.51,698.731 \n",
       "  2060.82,702.323 2062.14,706.339 2063.45,710.502 2064.76,714.529 2066.08,718.151 2067.39,721.124 2068.7,723.254 2070.02,724.404 2071.33,724.506 2072.64,723.559 \n",
       "  2073.96,721.635 2075.27,718.87 2076.58,715.451 2077.9,711.613 2079.21,707.612 2080.52,703.718 2081.84,700.193 2083.15,697.273 2084.46,695.149 2085.78,693.961 \n",
       "  2087.09,693.774 2088.4,694.593 2089.72,696.362 2091.03,698.96 2092.34,702.21 2093.66,705.901 2094.97,709.777 2096.28,713.573 2097.6,717.03 2098.91,719.917 \n",
       "  2100.23,722.044 2101.54,723.27 2102.85,723.52 2104.17,722.786 2105.48,721.124 2106.79,718.653 2108.11,715.541 2109.42,712 2110.73,708.268 2112.05,704.6 \n",
       "  2113.36,701.24 2114.67,698.413 2115.99,696.301 2117.3,695.038 2118.61,694.705 2119.93,695.319 2121.24,696.837 2122.55,699.163 2123.87,702.135 2125.18,705.546 \n",
       "  2126.49,709.16 2127.81,712.733 2129.12,716.024 2130.43,718.812 2131.75,720.912 2133.06,722.191 2134.37,722.568 2135.69,722.025 2137,720.605 2138.31,718.408 \n",
       "  2139.63,715.586 2140.94,712.333 2142.25,708.865 2143.57,705.419 2144.88,702.223 2146.2,699.493 2147.51,697.41 2148.82,696.11 2150.14,695.675 2151.45,696.131 \n",
       "  2152.76,697.44 2154.08,699.507 2155.39,702.191 2156.7,705.308 2158.02,708.645 2159.33,711.979 2160.64,715.084 2161.96,717.757 2163.27,719.826 2164.58,721.153 \n",
       "  2165.9,721.655 2167.21,721.291 2168.52,720.092 2169.84,718.142 2171.15,715.58 2172.46,712.583 2173.78,709.354 2175.09,706.115 2176.4,703.083 2177.72,700.46 \n",
       "  2179.03,698.418 2180.34,697.09 2181.66,696.559 2182.97,696.858 2184.28,697.959 2185.6,699.784 2186.91,702.207 2188.23,705.063 2189.54,708.159 2190.85,711.285 \n",
       "  2192.17,714.23 2193.48,716.797 2194.79,718.815 2196.11,720.16 2197.42,720.745 2198.73,720.532 2200.05,719.542 2201.36,717.842 2202.67,715.541 2203.99,712.801 \n",
       "  2205.3,709.809 2206.61,706.771 2207.93,703.893 2209.24,701.368 2210.55,699.364 2211.87,698.013 2213.18,697.4 2214.49,697.559 2215.81,698.476 2217.12,700.082 \n",
       "  2218.43,702.267 2219.75,704.88 2221.06,707.743 2222.37,710.666 2223.69,713.452 2225,715.913 2226.31,717.887 2227.63,719.244 2228.94,719.895 2230.25,719.802 \n",
       "  2231.57,718.974 2232.88,717.473 2234.2,715.402 2235.51,712.907 2236.82,710.154 2238.14,707.332 2239.45,704.63 2240.76,702.228 2242.08,700.288 2243.39,698.931 \n",
       "  2244.7,698.243 2246.02,698.269 2247.33,699.004 2248.64,700.395 2249.96,702.355 2251.27,704.746 2252.58,707.403 2253.9,710.144 2255.21,712.782 2256.52,715.141 \n",
       "  2257.84,717.063 2259.15,718.422 2260.46,719.131 2261.78,719.145 2263.09,718.472 2264.4,717.159 2265.72,715.3 2267.03,713.021 2268.34,710.478 2269.66,707.842 \n",
       "  2270.97,705.29 2272.28,702.994 2273.6,701.106 2274.91,699.748 2276.22,699.006 2277.54,698.925 2278.85,699.51 2280.17,700.718 2281.48,702.473 2282.79,704.653 \n",
       "  2284.11,707.106 2285.42,709.663 2286.73,712.152 2288.05,714.404 2289.36,716.274 2290.67,717.64 2291.99,718.414 2293.3,718.547 2293.65,718.469 \n",
       "  \"/>\n",
       "<path clip-path=\"url(#clip1500)\" d=\"\n",
       "M1809.85 251.724 L2280.76 251.724 L2280.76 130.764 L1809.85 130.764  Z\n",
       "  \" fill=\"#ffffff\" fill-rule=\"evenodd\" fill-opacity=\"1\"/>\n",
       "<polyline clip-path=\"url(#clip1500)\" style=\"stroke:#000000; stroke-width:4; stroke-opacity:1; fill:none\" points=\"\n",
       "  1809.85,251.724 2280.76,251.724 2280.76,130.764 1809.85,130.764 1809.85,251.724 \n",
       "  \"/>\n",
       "<polyline clip-path=\"url(#clip1500)\" style=\"stroke:#009af9; stroke-width:4; stroke-opacity:1; fill:none\" points=\"\n",
       "  1833.85,191.244 1977.85,191.244 \n",
       "  \"/>\n",
       "<path clip-path=\"url(#clip1500)\" d=\"M 0 0 M2017.04 186.58 Q2016.32 186.163 2015.47 185.978 Q2014.63 185.77 2013.61 185.77 Q2010 185.77 2008.06 188.131 Q2006.14 190.469 2006.14 194.867 L2006.14 208.524 L2001.85 208.524 L2001.85 182.598 L2006.14 182.598 L2006.14 186.626 Q2007.48 184.265 2009.63 183.131 Q2011.78 181.973 2014.86 181.973 Q2015.3 181.973 2015.84 182.043 Q2016.37 182.089 2017.02 182.205 L2017.04 186.58 Z\" fill=\"#000000\" fill-rule=\"evenodd\" fill-opacity=\"1\" /><path clip-path=\"url(#clip1500)\" d=\"M 0 0 M2030.51 185.584 Q2027.09 185.584 2025.09 188.27 Q2023.1 190.932 2023.1 195.584 Q2023.1 200.237 2025.07 202.922 Q2027.06 205.584 2030.51 205.584 Q2033.91 205.584 2035.91 202.899 Q2037.9 200.214 2037.9 195.584 Q2037.9 190.978 2035.91 188.293 Q2033.91 185.584 2030.51 185.584 M2030.51 181.973 Q2036.07 181.973 2039.24 185.584 Q2042.41 189.195 2042.41 195.584 Q2042.41 201.95 2039.24 205.584 Q2036.07 209.195 2030.51 209.195 Q2024.93 209.195 2021.76 205.584 Q2018.61 201.95 2018.61 195.584 Q2018.61 189.195 2021.76 185.584 Q2024.93 181.973 2030.51 181.973 Z\" fill=\"#000000\" fill-rule=\"evenodd\" fill-opacity=\"1\" /><path clip-path=\"url(#clip1500)\" d=\"M 0 0 M2051.09 175.237 L2051.09 182.598 L2059.86 182.598 L2059.86 185.908 L2051.09 185.908 L2051.09 199.982 Q2051.09 203.154 2051.95 204.057 Q2052.83 204.959 2055.49 204.959 L2059.86 204.959 L2059.86 208.524 L2055.49 208.524 Q2050.56 208.524 2048.68 206.695 Q2046.81 204.844 2046.81 199.982 L2046.81 185.908 L2043.68 185.908 L2043.68 182.598 L2046.81 182.598 L2046.81 175.237 L2051.09 175.237 Z\" fill=\"#000000\" fill-rule=\"evenodd\" fill-opacity=\"1\" /><path clip-path=\"url(#clip1500)\" d=\"M 0 0 M2074.38 185.584 Q2070.95 185.584 2068.96 188.27 Q2066.97 190.932 2066.97 195.584 Q2066.97 200.237 2068.94 202.922 Q2070.93 205.584 2074.38 205.584 Q2077.78 205.584 2079.77 202.899 Q2081.76 200.214 2081.76 195.584 Q2081.76 190.978 2079.77 188.293 Q2077.78 185.584 2074.38 185.584 M2074.38 181.973 Q2079.93 181.973 2083.1 185.584 Q2086.28 189.195 2086.28 195.584 Q2086.28 201.95 2083.1 205.584 Q2079.93 209.195 2074.38 209.195 Q2068.8 209.195 2065.63 205.584 Q2062.48 201.95 2062.48 195.584 Q2062.48 189.195 2065.63 185.584 Q2068.8 181.973 2074.38 181.973 Z\" fill=\"#000000\" fill-rule=\"evenodd\" fill-opacity=\"1\" /><path clip-path=\"url(#clip1500)\" d=\"M 0 0 M2105.77 186.58 Q2105.05 186.163 2104.19 185.978 Q2103.36 185.77 2102.34 185.77 Q2098.73 185.77 2096.78 188.131 Q2094.86 190.469 2094.86 194.867 L2094.86 208.524 L2090.58 208.524 L2090.58 182.598 L2094.86 182.598 L2094.86 186.626 Q2096.21 184.265 2098.36 183.131 Q2100.51 181.973 2103.59 181.973 Q2104.03 181.973 2104.56 182.043 Q2105.09 182.089 2105.74 182.205 L2105.77 186.58 Z\" fill=\"#000000\" fill-rule=\"evenodd\" fill-opacity=\"1\" /><path clip-path=\"url(#clip1500)\" d=\"M 0 0 M2137.09 195.492 Q2131.92 195.492 2129.93 196.672 Q2127.94 197.853 2127.94 200.7 Q2127.94 202.969 2129.42 204.311 Q2130.93 205.631 2133.5 205.631 Q2137.04 205.631 2139.17 203.131 Q2141.32 200.607 2141.32 196.441 L2141.32 195.492 L2137.09 195.492 M2145.58 193.733 L2145.58 208.524 L2141.32 208.524 L2141.32 204.589 Q2139.86 206.95 2137.69 208.084 Q2135.51 209.195 2132.36 209.195 Q2128.38 209.195 2126.02 206.973 Q2123.68 204.728 2123.68 200.978 Q2123.68 196.603 2126.6 194.381 Q2129.54 192.158 2135.35 192.158 L2141.32 192.158 L2141.32 191.742 Q2141.32 188.802 2139.38 187.205 Q2137.46 185.584 2133.96 185.584 Q2131.74 185.584 2129.63 186.117 Q2127.52 186.649 2125.58 187.714 L2125.58 183.779 Q2127.92 182.876 2130.12 182.436 Q2132.32 181.973 2134.4 181.973 Q2140.02 181.973 2142.8 184.89 Q2145.58 187.807 2145.58 193.733 Z\" fill=\"#000000\" fill-rule=\"evenodd\" fill-opacity=\"1\" /><path clip-path=\"url(#clip1500)\" d=\"M 0 0 M2171.6 192.876 L2171.6 208.524 L2167.34 208.524 L2167.34 193.015 Q2167.34 189.334 2165.9 187.506 Q2164.47 185.677 2161.6 185.677 Q2158.15 185.677 2156.16 187.876 Q2154.17 190.075 2154.17 193.871 L2154.17 208.524 L2149.89 208.524 L2149.89 182.598 L2154.17 182.598 L2154.17 186.626 Q2155.7 184.288 2157.76 183.131 Q2159.84 181.973 2162.55 181.973 Q2167.02 181.973 2169.31 184.751 Q2171.6 187.506 2171.6 192.876 Z\" fill=\"#000000\" fill-rule=\"evenodd\" fill-opacity=\"1\" /><path clip-path=\"url(#clip1500)\" d=\"M 0 0 M2193.13 195.26 Q2193.13 190.631 2191.21 188.084 Q2189.31 185.538 2185.86 185.538 Q2182.43 185.538 2180.51 188.084 Q2178.61 190.631 2178.61 195.26 Q2178.61 199.867 2180.51 202.413 Q2182.43 204.959 2185.86 204.959 Q2189.31 204.959 2191.21 202.413 Q2193.13 199.867 2193.13 195.26 M2197.39 205.307 Q2197.39 211.927 2194.45 215.144 Q2191.51 218.385 2185.44 218.385 Q2183.2 218.385 2181.21 218.038 Q2179.21 217.714 2177.34 217.019 L2177.34 212.876 Q2179.21 213.894 2181.04 214.381 Q2182.87 214.867 2184.77 214.867 Q2188.96 214.867 2191.04 212.668 Q2193.13 210.492 2193.13 206.07 L2193.13 203.964 Q2191.81 206.256 2189.75 207.39 Q2187.69 208.524 2184.82 208.524 Q2180.05 208.524 2177.13 204.89 Q2174.21 201.256 2174.21 195.26 Q2174.21 189.242 2177.13 185.608 Q2180.05 181.973 2184.82 181.973 Q2187.69 181.973 2189.75 183.108 Q2191.81 184.242 2193.13 186.533 L2193.13 182.598 L2197.39 182.598 L2197.39 205.307 Z\" fill=\"#000000\" fill-rule=\"evenodd\" fill-opacity=\"1\" /><path clip-path=\"url(#clip1500)\" d=\"M 0 0 M2201.85 172.506 L2206.11 172.506 L2206.11 208.524 L2201.85 208.524 L2201.85 172.506 Z\" fill=\"#000000\" fill-rule=\"evenodd\" fill-opacity=\"1\" /><path clip-path=\"url(#clip1500)\" d=\"M 0 0 M2232.76 194.496 L2232.76 196.58 L2213.17 196.58 Q2213.45 200.978 2215.81 203.293 Q2218.2 205.584 2222.43 205.584 Q2224.89 205.584 2227.18 204.982 Q2229.49 204.381 2231.76 203.177 L2231.76 207.205 Q2229.47 208.177 2227.06 208.686 Q2224.65 209.195 2222.18 209.195 Q2215.97 209.195 2212.34 205.584 Q2208.73 201.973 2208.73 195.816 Q2208.73 189.45 2212.15 185.723 Q2215.6 181.973 2221.44 181.973 Q2226.67 181.973 2229.7 185.353 Q2232.76 188.709 2232.76 194.496 M2228.5 193.246 Q2228.45 189.751 2226.53 187.668 Q2224.63 185.584 2221.48 185.584 Q2217.92 185.584 2215.77 187.598 Q2213.64 189.612 2213.31 193.27 L2228.5 193.246 Z\" fill=\"#000000\" fill-rule=\"evenodd\" fill-opacity=\"1\" /></svg>\n"
      ]
     },
     "execution_count": 14,
     "metadata": {},
     "output_type": "execute_result"
    }
   ],
   "source": [
    "angle = get_state_series(sim, (\"Case1Gen\", :δ))\n",
    "plot(angle, xlabel=\"time\", ylabel=\"rotor angle [rad]\", label=\"rotor angle\")"
   ]
  },
  {
   "cell_type": "code",
   "execution_count": 15,
   "metadata": {},
   "outputs": [
    {
     "data": {
      "image/svg+xml": [
       "<?xml version=\"1.0\" encoding=\"utf-8\"?>\n",
       "<svg xmlns=\"http://www.w3.org/2000/svg\" xmlns:xlink=\"http://www.w3.org/1999/xlink\" width=\"600\" height=\"400\" viewBox=\"0 0 2400 1600\">\n",
       "<defs>\n",
       "  <clipPath id=\"clip1900\">\n",
       "    <rect x=\"0\" y=\"0\" width=\"2400\" height=\"1600\"/>\n",
       "  </clipPath>\n",
       "</defs>\n",
       "<path clip-path=\"url(#clip1900)\" d=\"\n",
       "M0 1600 L2400 1600 L2400 0 L0 0  Z\n",
       "  \" fill=\"#ffffff\" fill-rule=\"evenodd\" fill-opacity=\"1\"/>\n",
       "<defs>\n",
       "  <clipPath id=\"clip1901\">\n",
       "    <rect x=\"480\" y=\"0\" width=\"1681\" height=\"1600\"/>\n",
       "  </clipPath>\n",
       "</defs>\n",
       "<path clip-path=\"url(#clip1900)\" d=\"\n",
       "M261.185 1423.18 L2352.76 1423.18 L2352.76 47.2441 L261.185 47.2441  Z\n",
       "  \" fill=\"#ffffff\" fill-rule=\"evenodd\" fill-opacity=\"1\"/>\n",
       "<defs>\n",
       "  <clipPath id=\"clip1902\">\n",
       "    <rect x=\"261\" y=\"47\" width=\"2093\" height=\"1377\"/>\n",
       "  </clipPath>\n",
       "</defs>\n",
       "<polyline clip-path=\"url(#clip1902)\" style=\"stroke:#000000; stroke-width:2; stroke-opacity:0.1; fill:none\" points=\"\n",
       "  320.381,1423.18 320.381,47.2441 \n",
       "  \"/>\n",
       "<polyline clip-path=\"url(#clip1902)\" style=\"stroke:#000000; stroke-width:2; stroke-opacity:0.1; fill:none\" points=\"\n",
       "  978.107,1423.18 978.107,47.2441 \n",
       "  \"/>\n",
       "<polyline clip-path=\"url(#clip1902)\" style=\"stroke:#000000; stroke-width:2; stroke-opacity:0.1; fill:none\" points=\"\n",
       "  1635.83,1423.18 1635.83,47.2441 \n",
       "  \"/>\n",
       "<polyline clip-path=\"url(#clip1902)\" style=\"stroke:#000000; stroke-width:2; stroke-opacity:0.1; fill:none\" points=\"\n",
       "  2293.56,1423.18 2293.56,47.2441 \n",
       "  \"/>\n",
       "<polyline clip-path=\"url(#clip1902)\" style=\"stroke:#000000; stroke-width:2; stroke-opacity:0.1; fill:none\" points=\"\n",
       "  261.185,1376.28 2352.76,1376.28 \n",
       "  \"/>\n",
       "<polyline clip-path=\"url(#clip1902)\" style=\"stroke:#000000; stroke-width:2; stroke-opacity:0.1; fill:none\" points=\"\n",
       "  261.185,939.607 2352.76,939.607 \n",
       "  \"/>\n",
       "<polyline clip-path=\"url(#clip1902)\" style=\"stroke:#000000; stroke-width:2; stroke-opacity:0.1; fill:none\" points=\"\n",
       "  261.185,502.937 2352.76,502.937 \n",
       "  \"/>\n",
       "<polyline clip-path=\"url(#clip1902)\" style=\"stroke:#000000; stroke-width:2; stroke-opacity:0.1; fill:none\" points=\"\n",
       "  261.185,66.2667 2352.76,66.2667 \n",
       "  \"/>\n",
       "<polyline clip-path=\"url(#clip1900)\" style=\"stroke:#000000; stroke-width:4; stroke-opacity:1; fill:none\" points=\"\n",
       "  261.185,1423.18 2352.76,1423.18 \n",
       "  \"/>\n",
       "<polyline clip-path=\"url(#clip1900)\" style=\"stroke:#000000; stroke-width:4; stroke-opacity:1; fill:none\" points=\"\n",
       "  261.185,1423.18 261.185,47.2441 \n",
       "  \"/>\n",
       "<polyline clip-path=\"url(#clip1900)\" style=\"stroke:#000000; stroke-width:4; stroke-opacity:1; fill:none\" points=\"\n",
       "  320.381,1423.18 320.381,1406.67 \n",
       "  \"/>\n",
       "<polyline clip-path=\"url(#clip1900)\" style=\"stroke:#000000; stroke-width:4; stroke-opacity:1; fill:none\" points=\"\n",
       "  978.107,1423.18 978.107,1406.67 \n",
       "  \"/>\n",
       "<polyline clip-path=\"url(#clip1900)\" style=\"stroke:#000000; stroke-width:4; stroke-opacity:1; fill:none\" points=\"\n",
       "  1635.83,1423.18 1635.83,1406.67 \n",
       "  \"/>\n",
       "<polyline clip-path=\"url(#clip1900)\" style=\"stroke:#000000; stroke-width:4; stroke-opacity:1; fill:none\" points=\"\n",
       "  2293.56,1423.18 2293.56,1406.67 \n",
       "  \"/>\n",
       "<polyline clip-path=\"url(#clip1900)\" style=\"stroke:#000000; stroke-width:4; stroke-opacity:1; fill:none\" points=\"\n",
       "  261.185,1376.28 286.284,1376.28 \n",
       "  \"/>\n",
       "<polyline clip-path=\"url(#clip1900)\" style=\"stroke:#000000; stroke-width:4; stroke-opacity:1; fill:none\" points=\"\n",
       "  261.185,939.607 286.284,939.607 \n",
       "  \"/>\n",
       "<polyline clip-path=\"url(#clip1900)\" style=\"stroke:#000000; stroke-width:4; stroke-opacity:1; fill:none\" points=\"\n",
       "  261.185,502.937 286.284,502.937 \n",
       "  \"/>\n",
       "<polyline clip-path=\"url(#clip1900)\" style=\"stroke:#000000; stroke-width:4; stroke-opacity:1; fill:none\" points=\"\n",
       "  261.185,66.2667 286.284,66.2667 \n",
       "  \"/>\n",
       "<path clip-path=\"url(#clip1900)\" d=\"M 0 0 M320.381 1445.17 Q316.77 1445.17 314.941 1448.74 Q313.136 1452.28 313.136 1459.41 Q313.136 1466.51 314.941 1470.08 Q316.77 1473.62 320.381 1473.62 Q324.015 1473.62 325.821 1470.08 Q327.649 1466.51 327.649 1459.41 Q327.649 1452.28 325.821 1448.74 Q324.015 1445.17 320.381 1445.17 M320.381 1441.47 Q326.191 1441.47 329.247 1446.07 Q332.325 1450.66 332.325 1459.41 Q332.325 1468.13 329.247 1472.74 Q326.191 1477.32 320.381 1477.32 Q314.571 1477.32 311.492 1472.74 Q308.436 1468.13 308.436 1459.41 Q308.436 1450.66 311.492 1446.07 Q314.571 1441.47 320.381 1441.47 Z\" fill=\"#000000\" fill-rule=\"evenodd\" fill-opacity=\"1\" /><path clip-path=\"url(#clip1900)\" d=\"M 0 0 M954.983 1472.72 L962.621 1472.72 L962.621 1446.35 L954.311 1448.02 L954.311 1443.76 L962.575 1442.09 L967.251 1442.09 L967.251 1472.72 L974.89 1472.72 L974.89 1476.65 L954.983 1476.65 L954.983 1472.72 Z\" fill=\"#000000\" fill-rule=\"evenodd\" fill-opacity=\"1\" /><path clip-path=\"url(#clip1900)\" d=\"M 0 0 M989.959 1445.17 Q986.348 1445.17 984.519 1448.74 Q982.714 1452.28 982.714 1459.41 Q982.714 1466.51 984.519 1470.08 Q986.348 1473.62 989.959 1473.62 Q993.593 1473.62 995.399 1470.08 Q997.228 1466.51 997.228 1459.41 Q997.228 1452.28 995.399 1448.74 Q993.593 1445.17 989.959 1445.17 M989.959 1441.47 Q995.769 1441.47 998.825 1446.07 Q1001.9 1450.66 1001.9 1459.41 Q1001.9 1468.13 998.825 1472.74 Q995.769 1477.32 989.959 1477.32 Q984.149 1477.32 981.07 1472.74 Q978.015 1468.13 978.015 1459.41 Q978.015 1450.66 981.07 1446.07 Q984.149 1441.47 989.959 1441.47 Z\" fill=\"#000000\" fill-rule=\"evenodd\" fill-opacity=\"1\" /><path clip-path=\"url(#clip1900)\" d=\"M 0 0 M1616.98 1472.72 L1633.3 1472.72 L1633.3 1476.65 L1611.35 1476.65 L1611.35 1472.72 Q1614.02 1469.96 1618.6 1465.33 Q1623.21 1460.68 1624.39 1459.34 Q1626.63 1456.81 1627.51 1455.08 Q1628.42 1453.32 1628.42 1451.63 Q1628.42 1448.87 1626.47 1447.14 Q1624.55 1445.4 1621.45 1445.4 Q1619.25 1445.4 1616.79 1446.17 Q1614.36 1446.93 1611.59 1448.48 L1611.59 1443.76 Q1614.41 1442.62 1616.86 1442.05 Q1619.32 1441.47 1621.35 1441.47 Q1626.73 1441.47 1629.92 1444.15 Q1633.11 1446.84 1633.11 1451.33 Q1633.11 1453.46 1632.3 1455.38 Q1631.52 1457.28 1629.41 1459.87 Q1628.83 1460.54 1625.73 1463.76 Q1622.63 1466.95 1616.98 1472.72 Z\" fill=\"#000000\" fill-rule=\"evenodd\" fill-opacity=\"1\" /><path clip-path=\"url(#clip1900)\" d=\"M 0 0 M1648.37 1445.17 Q1644.76 1445.17 1642.93 1448.74 Q1641.12 1452.28 1641.12 1459.41 Q1641.12 1466.51 1642.93 1470.08 Q1644.76 1473.62 1648.37 1473.62 Q1652 1473.62 1653.81 1470.08 Q1655.64 1466.51 1655.64 1459.41 Q1655.64 1452.28 1653.81 1448.74 Q1652 1445.17 1648.37 1445.17 M1648.37 1441.47 Q1654.18 1441.47 1657.23 1446.07 Q1660.31 1450.66 1660.31 1459.41 Q1660.31 1468.13 1657.23 1472.74 Q1654.18 1477.32 1648.37 1477.32 Q1642.56 1477.32 1639.48 1472.74 Q1636.42 1468.13 1636.42 1459.41 Q1636.42 1450.66 1639.48 1446.07 Q1642.56 1441.47 1648.37 1441.47 Z\" fill=\"#000000\" fill-rule=\"evenodd\" fill-opacity=\"1\" /><path clip-path=\"url(#clip1900)\" d=\"M 0 0 M2284.3 1458.02 Q2287.66 1458.74 2289.53 1461 Q2291.43 1463.27 2291.43 1466.61 Q2291.43 1471.72 2287.91 1474.52 Q2284.39 1477.32 2277.91 1477.32 Q2275.74 1477.32 2273.42 1476.88 Q2271.13 1476.47 2268.68 1475.61 L2268.68 1471.1 Q2270.62 1472.23 2272.94 1472.81 Q2275.25 1473.39 2277.77 1473.39 Q2282.17 1473.39 2284.46 1471.65 Q2286.78 1469.92 2286.78 1466.61 Q2286.78 1463.55 2284.63 1461.84 Q2282.5 1460.1 2278.68 1460.1 L2274.65 1460.1 L2274.65 1456.26 L2278.86 1456.26 Q2282.31 1456.26 2284.14 1454.89 Q2285.97 1453.5 2285.97 1450.91 Q2285.97 1448.25 2284.07 1446.84 Q2282.19 1445.4 2278.68 1445.4 Q2276.76 1445.4 2274.56 1445.82 Q2272.36 1446.24 2269.72 1447.11 L2269.72 1442.95 Q2272.38 1442.21 2274.69 1441.84 Q2277.03 1441.47 2279.09 1441.47 Q2284.42 1441.47 2287.52 1443.9 Q2290.62 1446.3 2290.62 1450.43 Q2290.62 1453.3 2288.98 1455.29 Q2287.33 1457.25 2284.3 1458.02 Z\" fill=\"#000000\" fill-rule=\"evenodd\" fill-opacity=\"1\" /><path clip-path=\"url(#clip1900)\" d=\"M 0 0 M2306.5 1445.17 Q2302.89 1445.17 2301.06 1448.74 Q2299.25 1452.28 2299.25 1459.41 Q2299.25 1466.51 2301.06 1470.08 Q2302.89 1473.62 2306.5 1473.62 Q2310.13 1473.62 2311.94 1470.08 Q2313.77 1466.51 2313.77 1459.41 Q2313.77 1452.28 2311.94 1448.74 Q2310.13 1445.17 2306.5 1445.17 M2306.5 1441.47 Q2312.31 1441.47 2315.37 1446.07 Q2318.44 1450.66 2318.44 1459.41 Q2318.44 1468.13 2315.37 1472.74 Q2312.31 1477.32 2306.5 1477.32 Q2300.69 1477.32 2297.61 1472.74 Q2294.56 1468.13 2294.56 1459.41 Q2294.56 1450.66 2297.61 1446.07 Q2300.69 1441.47 2306.5 1441.47 Z\" fill=\"#000000\" fill-rule=\"evenodd\" fill-opacity=\"1\" /><path clip-path=\"url(#clip1900)\" d=\"M 0 0 M127.881 1389.62 L135.519 1389.62 L135.519 1363.26 L127.209 1364.92 L127.209 1360.66 L135.473 1359 L140.149 1359 L140.149 1389.62 L147.788 1389.62 L147.788 1393.56 L127.881 1393.56 L127.881 1389.62 Z\" fill=\"#000000\" fill-rule=\"evenodd\" fill-opacity=\"1\" /><path clip-path=\"url(#clip1900)\" d=\"M 0 0 M152.857 1387.68 L157.741 1387.68 L157.741 1393.56 L152.857 1393.56 L152.857 1387.68 Z\" fill=\"#000000\" fill-rule=\"evenodd\" fill-opacity=\"1\" /><path clip-path=\"url(#clip1900)\" d=\"M 0 0 M172.811 1362.08 Q169.2 1362.08 167.371 1365.64 Q165.566 1369.18 165.566 1376.31 Q165.566 1383.42 167.371 1386.98 Q169.2 1390.53 172.811 1390.53 Q176.445 1390.53 178.251 1386.98 Q180.079 1383.42 180.079 1376.31 Q180.079 1369.18 178.251 1365.64 Q176.445 1362.08 172.811 1362.08 M172.811 1358.37 Q178.621 1358.37 181.677 1362.98 Q184.755 1367.56 184.755 1376.31 Q184.755 1385.04 181.677 1389.65 Q178.621 1394.23 172.811 1394.23 Q167.001 1394.23 163.922 1389.65 Q160.866 1385.04 160.866 1376.31 Q160.866 1367.56 163.922 1362.98 Q167.001 1358.37 172.811 1358.37 Z\" fill=\"#000000\" fill-rule=\"evenodd\" fill-opacity=\"1\" /><path clip-path=\"url(#clip1900)\" d=\"M 0 0 M193.852 1389.62 L210.172 1389.62 L210.172 1393.56 L188.227 1393.56 L188.227 1389.62 Q190.889 1386.87 195.473 1382.24 Q200.079 1377.59 201.26 1376.24 Q203.505 1373.72 204.385 1371.98 Q205.288 1370.22 205.288 1368.53 Q205.288 1365.78 203.343 1364.04 Q201.422 1362.31 198.32 1362.31 Q196.121 1362.31 193.667 1363.07 Q191.237 1363.84 188.459 1365.39 L188.459 1360.66 Q191.283 1359.53 193.737 1358.95 Q196.19 1358.37 198.227 1358.37 Q203.598 1358.37 206.792 1361.06 Q209.987 1363.74 209.987 1368.23 Q209.987 1370.36 209.176 1372.28 Q208.389 1374.18 206.283 1376.78 Q205.704 1377.45 202.602 1380.66 Q199.501 1383.86 193.852 1389.62 Z\" fill=\"#000000\" fill-rule=\"evenodd\" fill-opacity=\"1\" /><path clip-path=\"url(#clip1900)\" d=\"M 0 0 M225.241 1362.08 Q221.63 1362.08 219.801 1365.64 Q217.996 1369.18 217.996 1376.31 Q217.996 1383.42 219.801 1386.98 Q221.63 1390.53 225.241 1390.53 Q228.875 1390.53 230.681 1386.98 Q232.51 1383.42 232.51 1376.31 Q232.51 1369.18 230.681 1365.64 Q228.875 1362.08 225.241 1362.08 M225.241 1358.37 Q231.051 1358.37 234.107 1362.98 Q237.185 1367.56 237.185 1376.31 Q237.185 1385.04 234.107 1389.65 Q231.051 1394.23 225.241 1394.23 Q219.431 1394.23 216.352 1389.65 Q213.297 1385.04 213.297 1376.31 Q213.297 1367.56 216.352 1362.98 Q219.431 1358.37 225.241 1358.37 Z\" fill=\"#000000\" fill-rule=\"evenodd\" fill-opacity=\"1\" /><path clip-path=\"url(#clip1900)\" d=\"M 0 0 M128.876 952.952 L136.515 952.952 L136.515 926.587 L128.205 928.253 L128.205 923.994 L136.468 922.327 L141.144 922.327 L141.144 952.952 L148.783 952.952 L148.783 956.887 L128.876 956.887 L128.876 952.952 Z\" fill=\"#000000\" fill-rule=\"evenodd\" fill-opacity=\"1\" /><path clip-path=\"url(#clip1900)\" d=\"M 0 0 M153.853 951.008 L158.737 951.008 L158.737 956.887 L153.853 956.887 L153.853 951.008 Z\" fill=\"#000000\" fill-rule=\"evenodd\" fill-opacity=\"1\" /><path clip-path=\"url(#clip1900)\" d=\"M 0 0 M173.806 925.406 Q170.195 925.406 168.366 928.971 Q166.561 932.513 166.561 939.642 Q166.561 946.749 168.366 950.313 Q170.195 953.855 173.806 953.855 Q177.44 953.855 179.246 950.313 Q181.075 946.749 181.075 939.642 Q181.075 932.513 179.246 928.971 Q177.44 925.406 173.806 925.406 M173.806 921.702 Q179.616 921.702 182.672 926.309 Q185.751 930.892 185.751 939.642 Q185.751 948.369 182.672 952.975 Q179.616 957.559 173.806 957.559 Q167.996 957.559 164.917 952.975 Q161.862 948.369 161.862 939.642 Q161.862 930.892 164.917 926.309 Q167.996 921.702 173.806 921.702 Z\" fill=\"#000000\" fill-rule=\"evenodd\" fill-opacity=\"1\" /><path clip-path=\"url(#clip1900)\" d=\"M 0 0 M194.848 952.952 L211.167 952.952 L211.167 956.887 L189.223 956.887 L189.223 952.952 Q191.885 950.198 196.468 945.568 Q201.075 940.915 202.255 939.573 Q204.5 937.05 205.38 935.314 Q206.283 933.554 206.283 931.864 Q206.283 929.11 204.338 927.374 Q202.417 925.638 199.315 925.638 Q197.116 925.638 194.663 926.402 Q192.232 927.165 189.454 928.716 L189.454 923.994 Q192.278 922.86 194.732 922.281 Q197.186 921.702 199.223 921.702 Q204.593 921.702 207.787 924.388 Q210.982 927.073 210.982 931.564 Q210.982 933.693 210.172 935.614 Q209.385 937.513 207.278 940.105 Q206.7 940.776 203.598 943.994 Q200.496 947.188 194.848 952.952 Z\" fill=\"#000000\" fill-rule=\"evenodd\" fill-opacity=\"1\" /><path clip-path=\"url(#clip1900)\" d=\"M 0 0 M216.283 922.327 L234.639 922.327 L234.639 926.263 L220.565 926.263 L220.565 934.735 Q221.584 934.388 222.602 934.226 Q223.621 934.04 224.639 934.04 Q230.426 934.04 233.806 937.212 Q237.185 940.383 237.185 945.8 Q237.185 951.378 233.713 954.48 Q230.241 957.559 223.922 957.559 Q221.746 957.559 219.477 957.188 Q217.232 956.818 214.824 956.077 L214.824 951.378 Q216.908 952.513 219.13 953.068 Q221.352 953.624 223.829 953.624 Q227.834 953.624 230.172 951.517 Q232.51 949.411 232.51 945.8 Q232.51 942.188 230.172 940.082 Q227.834 937.976 223.829 937.976 Q221.954 937.976 220.079 938.392 Q218.227 938.809 216.283 939.689 L216.283 922.327 Z\" fill=\"#000000\" fill-rule=\"evenodd\" fill-opacity=\"1\" /><path clip-path=\"url(#clip1900)\" d=\"M 0 0 M126.931 516.282 L134.57 516.282 L134.57 489.916 L126.26 491.583 L126.26 487.324 L134.524 485.657 L139.2 485.657 L139.2 516.282 L146.839 516.282 L146.839 520.217 L126.931 520.217 L126.931 516.282 Z\" fill=\"#000000\" fill-rule=\"evenodd\" fill-opacity=\"1\" /><path clip-path=\"url(#clip1900)\" d=\"M 0 0 M151.908 514.338 L156.792 514.338 L156.792 520.217 L151.908 520.217 L151.908 514.338 Z\" fill=\"#000000\" fill-rule=\"evenodd\" fill-opacity=\"1\" /><path clip-path=\"url(#clip1900)\" d=\"M 0 0 M171.862 488.736 Q168.251 488.736 166.422 492.301 Q164.616 495.842 164.616 502.972 Q164.616 510.078 166.422 513.643 Q168.251 517.185 171.862 517.185 Q175.496 517.185 177.302 513.643 Q179.13 510.078 179.13 502.972 Q179.13 495.842 177.302 492.301 Q175.496 488.736 171.862 488.736 M171.862 485.032 Q177.672 485.032 180.727 489.639 Q183.806 494.222 183.806 502.972 Q183.806 511.699 180.727 516.305 Q177.672 520.888 171.862 520.888 Q166.052 520.888 162.973 516.305 Q159.917 511.699 159.917 502.972 Q159.917 494.222 162.973 489.639 Q166.052 485.032 171.862 485.032 Z\" fill=\"#000000\" fill-rule=\"evenodd\" fill-opacity=\"1\" /><path clip-path=\"url(#clip1900)\" d=\"M 0 0 M203.042 501.583 Q206.399 502.301 208.274 504.569 Q210.172 506.838 210.172 510.171 Q210.172 515.287 206.653 518.088 Q203.135 520.888 196.653 520.888 Q194.477 520.888 192.163 520.449 Q189.871 520.032 187.417 519.175 L187.417 514.662 Q189.362 515.796 191.676 516.375 Q193.991 516.953 196.514 516.953 Q200.913 516.953 203.204 515.217 Q205.519 513.481 205.519 510.171 Q205.519 507.115 203.366 505.402 Q201.237 503.666 197.417 503.666 L193.389 503.666 L193.389 499.824 L197.602 499.824 Q201.051 499.824 202.88 498.458 Q204.709 497.069 204.709 494.477 Q204.709 491.814 202.811 490.402 Q200.936 488.967 197.417 488.967 Q195.496 488.967 193.297 489.384 Q191.098 489.801 188.459 490.68 L188.459 486.514 Q191.121 485.773 193.436 485.402 Q195.774 485.032 197.834 485.032 Q203.158 485.032 206.26 487.463 Q209.362 489.87 209.362 493.99 Q209.362 496.861 207.718 498.851 Q206.075 500.819 203.042 501.583 Z\" fill=\"#000000\" fill-rule=\"evenodd\" fill-opacity=\"1\" /><path clip-path=\"url(#clip1900)\" d=\"M 0 0 M225.241 488.736 Q221.63 488.736 219.801 492.301 Q217.996 495.842 217.996 502.972 Q217.996 510.078 219.801 513.643 Q221.63 517.185 225.241 517.185 Q228.875 517.185 230.681 513.643 Q232.51 510.078 232.51 502.972 Q232.51 495.842 230.681 492.301 Q228.875 488.736 225.241 488.736 M225.241 485.032 Q231.051 485.032 234.107 489.639 Q237.185 494.222 237.185 502.972 Q237.185 511.699 234.107 516.305 Q231.051 520.888 225.241 520.888 Q219.431 520.888 216.352 516.305 Q213.297 511.699 213.297 502.972 Q213.297 494.222 216.352 489.639 Q219.431 485.032 225.241 485.032 Z\" fill=\"#000000\" fill-rule=\"evenodd\" fill-opacity=\"1\" /><path clip-path=\"url(#clip1900)\" d=\"M 0 0 M127.927 79.6116 L135.566 79.6116 L135.566 53.246 L127.256 54.9126 L127.256 50.6534 L135.519 48.9867 L140.195 48.9867 L140.195 79.6116 L147.834 79.6116 L147.834 83.5467 L127.927 83.5467 L127.927 79.6116 Z\" fill=\"#000000\" fill-rule=\"evenodd\" fill-opacity=\"1\" /><path clip-path=\"url(#clip1900)\" d=\"M 0 0 M152.904 77.6671 L157.788 77.6671 L157.788 83.5467 L152.904 83.5467 L152.904 77.6671 Z\" fill=\"#000000\" fill-rule=\"evenodd\" fill-opacity=\"1\" /><path clip-path=\"url(#clip1900)\" d=\"M 0 0 M172.857 52.0654 Q169.246 52.0654 167.417 55.6302 Q165.612 59.1719 165.612 66.3015 Q165.612 73.4079 167.417 76.9727 Q169.246 80.5144 172.857 80.5144 Q176.491 80.5144 178.297 76.9727 Q180.126 73.4079 180.126 66.3015 Q180.126 59.1719 178.297 55.6302 Q176.491 52.0654 172.857 52.0654 M172.857 48.3618 Q178.667 48.3618 181.723 52.9682 Q184.802 57.5515 184.802 66.3015 Q184.802 75.0283 181.723 79.6347 Q178.667 84.218 172.857 84.218 Q167.047 84.218 163.968 79.6347 Q160.913 75.0283 160.913 66.3015 Q160.913 57.5515 163.968 52.9682 Q167.047 48.3618 172.857 48.3618 Z\" fill=\"#000000\" fill-rule=\"evenodd\" fill-opacity=\"1\" /><path clip-path=\"url(#clip1900)\" d=\"M 0 0 M204.038 64.9126 Q207.394 65.6302 209.269 67.8987 Q211.167 70.1672 211.167 73.5005 Q211.167 78.6162 207.649 81.4171 Q204.13 84.218 197.649 84.218 Q195.473 84.218 193.158 83.7782 Q190.866 83.3616 188.413 82.5051 L188.413 77.9912 Q190.357 79.1255 192.672 79.7042 Q194.987 80.2829 197.51 80.2829 Q201.908 80.2829 204.2 78.5468 Q206.514 76.8107 206.514 73.5005 Q206.514 70.445 204.362 68.732 Q202.232 66.9959 198.413 66.9959 L194.385 66.9959 L194.385 63.1533 L198.598 63.1533 Q202.047 63.1533 203.875 61.7876 Q205.704 60.3987 205.704 57.8061 Q205.704 55.1441 203.806 53.7321 Q201.931 52.2969 198.413 52.2969 Q196.491 52.2969 194.292 52.7136 Q192.093 53.1302 189.454 54.0099 L189.454 49.8432 Q192.116 49.1025 194.431 48.7321 Q196.769 48.3618 198.829 48.3618 Q204.153 48.3618 207.255 50.7923 Q210.357 53.1997 210.357 57.32 Q210.357 60.1904 208.713 62.1811 Q207.07 64.1487 204.038 64.9126 Z\" fill=\"#000000\" fill-rule=\"evenodd\" fill-opacity=\"1\" /><path clip-path=\"url(#clip1900)\" d=\"M 0 0 M216.283 48.9867 L234.639 48.9867 L234.639 52.9219 L220.565 52.9219 L220.565 61.3941 Q221.584 61.0469 222.602 60.8848 Q223.621 60.6996 224.639 60.6996 Q230.426 60.6996 233.806 63.8709 Q237.185 67.0422 237.185 72.4588 Q237.185 78.0375 233.713 81.1394 Q230.241 84.218 223.922 84.218 Q221.746 84.218 219.477 83.8477 Q217.232 83.4773 214.824 82.7366 L214.824 78.0375 Q216.908 79.1718 219.13 79.7273 Q221.352 80.2829 223.829 80.2829 Q227.834 80.2829 230.172 78.1764 Q232.51 76.0699 232.51 72.4588 Q232.51 68.8478 230.172 66.7413 Q227.834 64.6348 223.829 64.6348 Q221.954 64.6348 220.079 65.0515 Q218.227 65.4681 216.283 66.3478 L216.283 48.9867 Z\" fill=\"#000000\" fill-rule=\"evenodd\" fill-opacity=\"1\" /><path clip-path=\"url(#clip1900)\" d=\"M 0 0 M1252.73 1510.27 L1252.73 1520.4 L1264.8 1520.4 L1264.8 1524.95 L1252.73 1524.95 L1252.73 1544.3 Q1252.73 1548.66 1253.91 1549.9 Q1255.12 1551.14 1258.78 1551.14 L1264.8 1551.14 L1264.8 1556.04 L1258.78 1556.04 Q1252 1556.04 1249.42 1553.53 Q1246.85 1550.98 1246.85 1544.3 L1246.85 1524.95 L1242.55 1524.95 L1242.55 1520.4 L1246.85 1520.4 L1246.85 1510.27 L1252.73 1510.27 Z\" fill=\"#000000\" fill-rule=\"evenodd\" fill-opacity=\"1\" /><path clip-path=\"url(#clip1900)\" d=\"M 0 0 M1270.94 1520.4 L1276.8 1520.4 L1276.8 1556.04 L1270.94 1556.04 L1270.94 1520.4 M1270.94 1506.52 L1276.8 1506.52 L1276.8 1513.93 L1270.94 1513.93 L1270.94 1506.52 Z\" fill=\"#000000\" fill-rule=\"evenodd\" fill-opacity=\"1\" /><path clip-path=\"url(#clip1900)\" d=\"M 0 0 M1310.69 1527.24 Q1312.89 1523.29 1315.95 1521.41 Q1319 1519.54 1323.14 1519.54 Q1328.71 1519.54 1331.73 1523.45 Q1334.76 1527.33 1334.76 1534.53 L1334.76 1556.04 L1328.87 1556.04 L1328.87 1534.72 Q1328.87 1529.59 1327.05 1527.11 Q1325.24 1524.63 1321.52 1524.63 Q1316.96 1524.63 1314.32 1527.65 Q1311.68 1530.68 1311.68 1535.9 L1311.68 1556.04 L1305.79 1556.04 L1305.79 1534.72 Q1305.79 1529.56 1303.98 1527.11 Q1302.16 1524.63 1298.38 1524.63 Q1293.89 1524.63 1291.25 1527.68 Q1288.61 1530.71 1288.61 1535.9 L1288.61 1556.04 L1282.72 1556.04 L1282.72 1520.4 L1288.61 1520.4 L1288.61 1525.93 Q1290.61 1522.66 1293.41 1521.1 Q1296.21 1519.54 1300.06 1519.54 Q1303.95 1519.54 1306.65 1521.51 Q1309.39 1523.48 1310.69 1527.24 Z\" fill=\"#000000\" fill-rule=\"evenodd\" fill-opacity=\"1\" /><path clip-path=\"url(#clip1900)\" d=\"M 0 0 M1371.39 1536.76 L1371.39 1539.62 L1344.46 1539.62 Q1344.85 1545.67 1348.09 1548.85 Q1351.37 1552 1357.2 1552 Q1360.57 1552 1363.72 1551.17 Q1366.9 1550.35 1370.02 1548.69 L1370.02 1554.23 Q1366.87 1555.57 1363.56 1556.27 Q1360.25 1556.97 1356.85 1556.97 Q1348.32 1556.97 1343.32 1552 Q1338.35 1547.04 1338.35 1538.57 Q1338.35 1529.82 1343.06 1524.69 Q1347.81 1519.54 1355.83 1519.54 Q1363.02 1519.54 1367.19 1524.18 Q1371.39 1528.8 1371.39 1536.76 M1365.54 1535.04 Q1365.47 1530.23 1362.83 1527.37 Q1360.22 1524.5 1355.89 1524.5 Q1350.99 1524.5 1348.03 1527.27 Q1345.1 1530.04 1344.66 1535.07 L1365.54 1535.04 Z\" fill=\"#000000\" fill-rule=\"evenodd\" fill-opacity=\"1\" /><path clip-path=\"url(#clip1900)\" d=\"M 0 0 M88.0042 891.952 L40.4842 910.094 L40.4842 903.378 L80.4926 888.323 L40.4842 873.236 L40.4842 866.552 L88.0042 884.663 L88.0042 891.952 Z\" fill=\"#000000\" fill-rule=\"evenodd\" fill-opacity=\"1\" /><path clip-path=\"url(#clip1900)\" d=\"M 0 0 M56.4621 851.657 Q56.4621 856.367 60.1542 859.105 Q63.8145 861.842 70.212 861.842 Q76.6095 861.842 80.3017 859.136 Q83.9619 856.399 83.9619 851.657 Q83.9619 846.978 80.2698 844.241 Q76.5777 841.503 70.212 841.503 Q63.8781 841.503 60.186 844.241 Q56.4621 846.978 56.4621 851.657 M51.4968 851.657 Q51.4968 844.018 56.4621 839.657 Q61.4273 835.297 70.212 835.297 Q78.9649 835.297 83.9619 839.657 Q88.9272 844.018 88.9272 851.657 Q88.9272 859.327 83.9619 863.688 Q78.9649 868.017 70.212 868.017 Q61.4273 868.017 56.4621 863.688 Q51.4968 859.327 51.4968 851.657 Z\" fill=\"#000000\" fill-rule=\"evenodd\" fill-opacity=\"1\" /><path clip-path=\"url(#clip1900)\" d=\"M 0 0 M38.479 829.154 L38.479 823.297 L88.0042 823.297 L88.0042 829.154 L38.479 829.154 Z\" fill=\"#000000\" fill-rule=\"evenodd\" fill-opacity=\"1\" /><path clip-path=\"url(#clip1900)\" d=\"M 0 0 M42.2347 811.362 L52.3562 811.362 L52.3562 799.299 L56.9077 799.299 L56.9077 811.362 L76.2594 811.362 Q80.6199 811.362 81.8613 810.184 Q83.1026 808.975 83.1026 805.314 L83.1026 799.299 L88.0042 799.299 L88.0042 805.314 Q88.0042 812.094 85.4897 814.672 Q82.9434 817.25 76.2594 817.25 L56.9077 817.25 L56.9077 821.547 L52.3562 821.547 L52.3562 817.25 L42.2347 817.25 L42.2347 811.362 Z\" fill=\"#000000\" fill-rule=\"evenodd\" fill-opacity=\"1\" /><path clip-path=\"url(#clip1900)\" d=\"M 0 0 M70.0847 776.955 Q70.0847 784.053 71.7079 786.79 Q73.3312 789.527 77.2461 789.527 Q80.3653 789.527 82.2114 787.49 Q84.0256 785.421 84.0256 781.889 Q84.0256 777.019 80.5881 774.091 Q77.1188 771.13 71.3897 771.13 L70.0847 771.13 L70.0847 776.955 M67.6657 765.274 L88.0042 765.274 L88.0042 771.13 L82.5933 771.13 Q85.8398 773.136 87.3994 776.128 Q88.9272 779.119 88.9272 783.448 Q88.9272 788.923 85.8716 792.169 Q82.7843 795.384 77.6281 795.384 Q71.6125 795.384 68.5569 791.373 Q65.5014 787.331 65.5014 779.342 L65.5014 771.13 L64.9285 771.13 Q60.8862 771.13 58.6901 773.804 Q56.4621 776.446 56.4621 781.252 Q56.4621 784.307 57.1941 787.204 Q57.9262 790.1 59.3903 792.774 L53.9795 792.774 Q52.7381 789.559 52.1334 786.535 Q51.4968 783.512 51.4968 780.647 Q51.4968 772.913 55.5072 769.093 Q59.5176 765.274 67.6657 765.274 Z\" fill=\"#000000\" fill-rule=\"evenodd\" fill-opacity=\"1\" /><path clip-path=\"url(#clip1900)\" d=\"M 0 0 M69.7664 735.673 Q63.4007 735.673 59.8996 738.315 Q56.3984 740.925 56.3984 745.668 Q56.3984 750.378 59.8996 753.02 Q63.4007 755.63 69.7664 755.63 Q76.1003 755.63 79.6014 753.02 Q83.1026 750.378 83.1026 745.668 Q83.1026 740.925 79.6014 738.315 Q76.1003 735.673 69.7664 735.673 M83.58 729.817 Q92.683 729.817 97.1071 733.859 Q101.563 737.901 101.563 746.241 Q101.563 749.328 101.086 752.065 Q100.64 754.802 99.6852 757.381 L93.9879 757.381 Q95.3884 754.802 96.0568 752.288 Q96.7252 749.774 96.7252 747.164 Q96.7252 741.403 93.7015 738.538 Q90.7096 735.673 84.6303 735.673 L81.7339 735.673 Q84.885 737.488 86.4446 740.32 Q88.0042 743.153 88.0042 747.1 Q88.0042 753.657 83.0071 757.667 Q78.01 761.677 69.7664 761.677 Q61.491 761.677 56.4939 757.667 Q51.4968 753.657 51.4968 747.1 Q51.4968 743.153 53.0564 740.32 Q54.616 737.488 57.7671 735.673 L52.3562 735.673 L52.3562 729.817 L83.58 729.817 Z\" fill=\"#000000\" fill-rule=\"evenodd\" fill-opacity=\"1\" /><path clip-path=\"url(#clip1900)\" d=\"M 0 0 M68.7161 693.182 L71.5806 693.182 L71.5806 720.109 Q77.6281 719.727 80.8109 716.481 Q83.9619 713.203 83.9619 707.378 Q83.9619 704.004 83.1344 700.853 Q82.3069 697.67 80.6518 694.551 L86.1899 694.551 Q87.5267 697.702 88.227 701.012 Q88.9272 704.322 88.9272 707.728 Q88.9272 716.258 83.9619 721.255 Q78.9967 726.22 70.5303 726.22 Q61.7774 726.22 56.6531 721.51 Q51.4968 716.767 51.4968 708.747 Q51.4968 701.553 56.1438 697.384 Q60.7589 693.182 68.7161 693.182 M66.9973 699.039 Q62.1912 699.102 59.3266 701.744 Q56.4621 704.354 56.4621 708.683 Q56.4621 713.584 59.2312 716.545 Q62.0002 719.473 67.0292 719.918 L66.9973 699.039 Z\" fill=\"#000000\" fill-rule=\"evenodd\" fill-opacity=\"1\" /><path clip-path=\"url(#clip1900)\" d=\"M 0 0 M38.479 666.86 L38.479 653.365 L43.0304 653.365 L43.0304 661.004 L92.0464 661.004 L92.0464 653.365 L96.5979 653.365 L96.5979 666.86 L38.479 666.86 Z\" fill=\"#000000\" fill-rule=\"evenodd\" fill-opacity=\"1\" /><path clip-path=\"url(#clip1900)\" d=\"M 0 0 M82.657 641.557 L101.563 641.557 L101.563 647.445 L52.3562 647.445 L52.3562 641.557 L57.7671 641.557 Q54.5842 639.71 53.0564 636.91 Q51.4968 634.077 51.4968 630.162 Q51.4968 623.669 56.6531 619.627 Q61.8093 615.553 70.212 615.553 Q78.6147 615.553 83.771 619.627 Q88.9272 623.669 88.9272 630.162 Q88.9272 634.077 87.3994 636.91 Q85.8398 639.71 82.657 641.557 M70.212 621.632 Q63.7508 621.632 60.0905 624.305 Q56.3984 626.947 56.3984 631.594 Q56.3984 636.241 60.0905 638.915 Q63.7508 641.557 70.212 641.557 Q76.6732 641.557 80.3653 638.915 Q84.0256 636.241 84.0256 631.594 Q84.0256 626.947 80.3653 624.305 Q76.6732 621.632 70.212 621.632 Z\" fill=\"#000000\" fill-rule=\"evenodd\" fill-opacity=\"1\" /><path clip-path=\"url(#clip1900)\" d=\"M 0 0 M73.9359 610.014 L52.3562 610.014 L52.3562 604.158 L73.7131 604.158 Q78.7739 604.158 81.3202 602.185 Q83.8346 600.211 83.8346 596.265 Q83.8346 591.522 80.8109 588.785 Q77.7872 586.016 72.5673 586.016 L52.3562 586.016 L52.3562 580.159 L88.0042 580.159 L88.0042 586.016 L82.5296 586.016 Q85.7762 588.148 87.3676 590.981 Q88.9272 593.782 88.9272 597.506 Q88.9272 603.649 85.1078 606.832 Q81.2883 610.014 73.9359 610.014 M51.4968 595.278 L51.4968 595.278 Z\" fill=\"#000000\" fill-rule=\"evenodd\" fill-opacity=\"1\" /><path clip-path=\"url(#clip1900)\" d=\"M 0 0 M38.479 560.33 L96.5979 560.33 L96.5979 573.825 L92.0464 573.825 L92.0464 566.218 L43.0304 566.218 L43.0304 573.825 L38.479 573.825 L38.479 560.33 Z\" fill=\"#000000\" fill-rule=\"evenodd\" fill-opacity=\"1\" /><polyline clip-path=\"url(#clip1902)\" style=\"stroke:#009af9; stroke-width:4; stroke-opacity:1; fill:none\" points=\"\n",
       "  320.381,1384.24 320.447,1384.24 320.512,1384.24 320.644,1384.24 320.907,1384.24 321.433,1384.24 322.486,1384.24 323.801,1384.24 325.117,1384.24 326.432,1384.24 \n",
       "  327.747,1384.24 329.063,1384.24 330.378,1384.24 331.694,1384.24 333.009,1384.24 334.325,1384.24 335.64,1384.24 336.956,1384.24 338.271,1384.24 339.586,1384.24 \n",
       "  340.902,1384.24 342.217,1384.24 343.533,1384.24 344.848,1384.24 346.164,1384.24 347.479,1384.24 348.795,1384.24 350.11,1384.24 351.426,1384.24 352.741,1384.24 \n",
       "  354.056,1384.24 355.372,1384.24 356.687,1384.24 358.003,1384.24 359.318,1384.24 360.634,1384.24 361.949,1384.24 363.265,1384.24 364.58,1384.24 365.896,1384.24 \n",
       "  367.211,1384.24 368.526,1384.24 369.842,1384.24 371.157,1384.24 372.473,1384.24 373.788,1384.24 375.104,1384.24 376.419,1384.24 377.735,1384.24 379.05,1384.24 \n",
       "  380.366,1384.24 381.681,1384.24 382.996,1384.24 384.312,1384.24 385.627,1384.24 386.154,1384.24 386.913,96.6653 387.672,96.4908 388.432,96.2378 \n",
       "  389.747,95.6789 391.063,94.9563 392.378,94.1113 393.694,93.1967 395.009,92.2636 396.324,91.3845 397.64,90.6103 398.955,89.9894 400.271,89.5597 401.586,89.3481 \n",
       "  402.902,89.361 404.217,89.5992 405.533,90.0498 406.848,90.6816 408.163,91.4556 409.479,92.3267 410.794,93.2367 412.11,94.1179 413.425,94.9169 414.741,95.5832 \n",
       "  416.056,96.0477 417.372,96.2771 418.687,96.2968 420.003,96.0749 421.318,95.5693 422.633,94.9274 423.949,94.2446 425.264,93.3184 426.58,92.3006 427.895,91.7114 \n",
       "  429.211,91.0876 430.526,89.9081 431.842,89.6624 433.157,90.481 434.473,89.3455 435.788,88.2108 437.103,91.8138 438.419,92.7586 439.734,86.6518 441.05,92.0558 \n",
       "  442.365,98.3481 443.681,93.8897 444.996,93.8631 446.312,95.7957 447.627,95.7899 448.943,95.8426 450.258,96.1133 451.573,95.8705 452.889,95.3042 454.204,94.972 \n",
       "  455.52,94.3555 456.835,93.2753 458.151,92.5356 459.466,91.8645 460.782,90.6568 462.097,90.2713 463.413,90.946 464.728,89.69 466.043,88.1994 467.359,91.4272 \n",
       "  468.674,92.452 469.99,86.1857 471.305,91.2204 472.621,97.4466 473.936,92.9176 475.252,92.8976 476.567,94.9286 477.883,95.0694 479.198,95.3177 480.513,95.8261 \n",
       "  481.829,95.8749 483.144,95.6993 484.46,95.4837 485.775,94.9186 487.091,94.1376 488.406,93.5236 489.722,92.8298 491.037,91.9637 492.352,91.3784 493.668,90.9825 \n",
       "  494.983,90.3174 496.299,89.92 497.614,90.1027 498.93,90.1652 500.245,90.1882 501.561,90.8351 502.876,91.5729 504.192,92.0057 505.507,92.8483 506.822,93.9831 \n",
       "  508.138,93.9711 509.453,94.0731 510.769,95.2699 512.084,95.7818 513.4,95.2084 514.715,95.4384 516.031,95.7438 517.346,94.6128 518.662,93.8088 519.977,93.722 \n",
       "  521.292,92.8539 522.608,91.7529 523.923,91.6471 525.239,91.2807 526.554,90.2069 527.87,90.1374 529.185,90.292 530.501,90.2272 531.816,90.433 533.132,91.02 \n",
       "  534.447,91.4369 535.762,91.8807 537.078,92.749 538.393,93.4899 539.709,93.9673 541.024,94.5761 542.34,95.1306 543.655,95.2655 544.971,95.331 546.286,95.4518 \n",
       "  547.602,95.1543 548.917,94.596 550.232,94.2326 551.548,93.7025 552.863,92.8951 554.179,92.3857 555.494,91.98 556.81,91.1515 558.125,90.5894 559.441,90.6352 \n",
       "  560.756,90.4472 562.072,90.1875 563.387,90.6509 564.702,91.1734 566.018,91.358 567.333,92.104 568.649,93.1623 569.964,92.8912 571.28,93.0433 572.595,94.4142 \n",
       "  573.911,94.991 575.226,94.6195 576.541,95.2031 577.857,95.6948 579.172,94.7219 580.488,94.2679 581.803,94.346 583.119,92.8024 584.434,91.9335 585.75,94.1521 \n",
       "  587.065,91.9247 588.381,89.1696 589.696,91.8896 591.011,92.28 592.327,88.5346 593.642,90.5528 594.958,91.2233 596.273,90.8137 597.589,91.3957 598.904,92.0461 \n",
       "  600.22,92.5079 601.535,93.1182 602.851,93.7914 604.166,94.1837 605.481,94.5318 606.797,94.9767 608.112,95.1011 609.428,95.0149 610.743,95.0959 612.059,94.7365 \n",
       "  613.374,93.7372 614.69,93.658 616.005,93.928 617.321,91.8989 618.636,90.7367 619.951,93.6736 621.267,91.224 622.582,88.1124 623.898,90.6968 625.213,91.1068 \n",
       "  626.529,90.5594 627.844,91.064 629.16,91.5528 630.475,91.901 631.791,92.459 633.106,93.1023 634.421,93.5162 635.737,93.9566 637.052,94.513 638.368,94.765 \n",
       "  639.683,94.8615 640.999,95.1366 642.314,94.9051 643.63,94.0662 644.945,94.2152 646.26,94.5101 647.576,92.3902 648.891,91.4862 650.207,94.5077 651.522,91.7555 \n",
       "  652.838,88.5029 654.153,91.0015 655.469,91.261 656.784,90.5484 658.1,90.8991 659.415,91.2388 660.73,91.4513 662.046,91.9537 663.361,92.5164 664.677,92.8504 \n",
       "  665.992,93.3418 667.308,93.9887 668.623,94.2725 669.939,94.5389 671.254,94.7467 672.57,94.777 673.885,94.6748 675.2,94.4571 676.516,94.1203 677.831,93.6935 \n",
       "  679.147,93.2235 680.462,92.7271 681.778,92.2307 683.093,91.794 684.409,91.4229 685.724,91.1231 687.04,90.9779 688.355,90.9781 689.67,90.9956 690.986,91.1525 \n",
       "  692.301,91.6091 693.617,91.9643 694.932,92.116 696.248,92.8648 697.563,93.7399 698.879,93.3386 700.194,94.0745 701.51,95.1173 702.825,94.3774 704.14,94.0691 \n",
       "  705.456,95.1273 706.771,94.6316 708.087,93.3135 709.402,93.6944 710.718,93.4046 712.033,92.724 713.349,92.3336 714.664,91.9519 715.98,91.5545 717.295,91.2981 \n",
       "  718.61,91.1561 719.926,91.0467 721.241,91.0901 722.557,91.3134 723.872,91.5603 725.188,91.8915 726.503,92.4034 727.819,92.7926 729.134,93.0225 730.449,93.6662 \n",
       "  731.765,94.2891 733.08,93.925 734.396,94.0431 735.711,95.469 737.027,94.5757 738.342,92.2636 739.658,94.0303 740.973,93.8328 742.289,91.5284 743.604,92.8639 \n",
       "  744.919,92.7575 746.235,91.8749 747.55,91.674 748.866,91.4891 750.181,91.2326 751.497,91.1966 752.812,91.2183 754.128,91.2893 755.443,91.5839 756.759,91.9537 \n",
       "  758.074,92.2455 759.389,92.6521 760.705,93.1225 762.02,93.4005 763.336,93.7403 764.651,94.1305 765.967,94.3078 767.282,94.3323 768.598,94.384 769.913,94.2784 \n",
       "  771.229,93.9502 772.544,93.668 773.859,93.3412 775.175,92.7754 776.49,92.4438 777.806,92.4371 779.121,91.8227 780.437,91.2869 781.752,91.5388 783.068,91.4804 \n",
       "  784.383,91.0271 785.699,91.3998 787.014,91.9572 788.329,91.7614 789.645,92.015 790.96,92.7495 792.276,93.025 793.591,93.1718 794.907,93.8273 796.222,94.1753 \n",
       "  797.538,93.9759 798.853,94.2063 800.169,94.5177 801.484,94.0841 802.799,93.7422 804.115,94.2824 805.43,93.5293 806.746,91.6608 808.061,92.5864 809.377,93.3191 \n",
       "  810.692,91.1954 812.008,90.9554 813.323,92.7145 814.638,91.4577 815.954,90.0875 817.269,91.5046 818.585,91.8796 819.9,91.8071 821.216,92.2359 822.531,92.6365 \n",
       "  823.847,92.9412 825.162,93.3078 826.478,93.6685 827.793,93.8688 829.108,94.0318 830.424,94.2028 831.739,94.1877 833.055,94.0692 834.37,94.0187 835.686,93.7196 \n",
       "  837.001,93.1387 838.317,93.0539 839.632,93.0657 840.948,91.9561 842.263,91.9909 843.578,92.4365 844.894,91.4138 846.209,90.9883 847.525,92.0157 848.84,91.5714 \n",
       "  850.156,91.5818 851.471,92.007 852.787,92.2485 854.102,92.5286 855.418,92.8986 856.733,93.2228 858.048,93.4919 859.364,93.7801 860.679,93.9869 861.995,94.0446 \n",
       "  863.31,94.0686 864.626,94.0818 865.941,93.8458 867.257,93.6225 868.572,93.5791 869.888,93.0709 871.203,92.3408 872.518,92.4089 873.834,92.3908 875.149,91.6596 \n",
       "  876.465,91.5302 877.78,91.9348 879.096,91.5608 880.411,91.2854 881.727,91.8789 883.042,91.9894 884.358,91.8542 885.673,92.5967 886.988,93.1503 888.304,92.8823 \n",
       "  889.619,93.2643 890.935,94.0612 892.25,93.8574 893.566,93.889 894.881,94.0362 896.197,93.9523 897.512,93.8025 898.827,93.6254 900.143,93.3654 901.458,93.0611 \n",
       "  902.774,92.7823 904.089,92.4903 905.405,92.1858 906.72,91.9807 908.036,91.8002 909.351,91.6037 910.667,91.6469 911.982,91.8403 913.297,91.7157 914.613,91.7735 \n",
       "  915.928,92.5841 917.244,92.6888 918.559,91.9253 919.875,93.0643 921.19,94.1276 922.506,93.1039 923.821,93.226 925.137,94.7103 926.452,93.9158 927.767,93.688 \n",
       "  929.083,93.8568 930.398,93.6142 931.714,93.3351 933.029,93.115 934.345,92.8241 935.66,92.503 936.976,92.2881 938.291,92.0881 939.607,91.8541 940.922,91.7524 \n",
       "  942.237,91.7392 943.553,91.6713 944.868,91.7945 946.184,92.1817 947.499,92.2184 948.815,92.1472 950.13,93.0006 951.446,93.4994 952.761,92.4054 954.077,93.4548 \n",
       "  955.392,94.7481 956.707,93.7893 958.023,93.6749 959.338,93.9209 960.654,93.7353 961.969,93.5385 963.285,93.3826 964.6,93.1114 965.916,92.8187 967.231,92.6238 \n",
       "  968.547,92.3816 969.862,92.094 971.177,91.9721 972.493,91.9403 973.808,91.711 975.124,91.6861 976.439,92.1681 977.755,92.1122 979.07,91.6325 980.386,92.7382 \n",
       "  981.701,93.7166 983.016,92.9282 984.332,92.7991 985.647,94.0076 986.963,93.7646 988.278,92.9815 989.594,93.9935 990.909,93.7567 992.225,93.5521 993.54,93.5765 \n",
       "  994.856,93.3808 996.171,93.1245 997.486,92.906 998.802,92.6634 1000.12,92.3953 1001.43,92.2053 1002.75,92.0665 1004.06,91.9177 1005.38,91.8554 1006.69,91.9381 \n",
       "  1008.01,91.9434 1009.33,91.9365 1010.64,92.3187 1011.96,92.6407 1013.27,92.3642 1014.59,92.8949 1015.9,93.5505 1017.22,93.183 1018.53,93.208 1019.85,93.9985 \n",
       "  1021.16,93.8035 1022.48,93.2384 1023.8,93.6321 1025.11,93.5959 1026.43,93.3069 1027.74,93.1463 1029.06,92.9453 1030.37,92.6926 1031.69,92.4815 1033,92.2984 \n",
       "  1034.32,92.1056 1035.63,91.9837 1036.95,91.9541 1038.27,91.9362 1039.58,91.9467 1040.9,92.1206 1042.21,92.2548 1043.53,92.2865 1044.84,92.665 1046.16,93.1246 \n",
       "  1047.47,92.8627 1048.79,93.2591 1050.1,93.8527 1051.42,93.4505 1052.74,93.3063 1054.05,93.9577 1055.37,93.5911 1056.68,93.401 1058,93.3773 1059.31,93.1696 \n",
       "  1060.63,92.9391 1061.94,92.744 1063.26,92.53 1064.57,92.3194 1065.89,92.1832 1067.21,92.0809 1068.52,91.9857 1069.84,91.9865 1071.15,92.077 1072.47,92.0961 \n",
       "  1073.78,92.176 1075.1,92.5338 1076.41,92.7127 1077.73,92.5563 1079.04,93.0285 1080.36,93.4976 1081.68,93.2286 1082.99,93.3026 1084.31,93.8469 1085.62,93.6245 \n",
       "  1086.94,93.2227 1088.25,93.4589 1089.57,93.3802 1090.88,93.1311 1092.2,92.9705 1093.51,92.7849 1094.83,92.5725 1096.15,92.3998 1097.46,92.2568 1098.78,92.1207 \n",
       "  1100.09,92.0484 1101.41,92.0506 1102.72,92.071 1104.04,92.1331 1105.35,92.2741 1106.67,92.4338 1107.98,92.5708 1109.3,92.797 1110.62,93.0622 1111.93,93.1233 \n",
       "  1113.25,93.2092 1114.56,93.4404 1115.88,93.5369 1117.19,93.4651 1118.51,93.498 1119.82,93.502 1121.14,93.2785 1122.45,93.1072 1123.77,93.0128 1125.09,92.6967 \n",
       "  1126.4,92.4609 1127.72,92.6785 1129.03,92.3141 1130.35,91.8885 1131.66,92.2433 1132.98,92.3178 1134.29,91.8415 1135.61,92.1033 1136.92,92.6261 1138.24,92.4302 \n",
       "  1139.56,92.5358 1140.87,92.8055 1142.19,92.9549 1143.5,93.107 1144.82,93.2693 1146.13,93.3747 1147.45,93.4369 1148.76,93.4879 1150.08,93.4745 1151.39,93.3879 \n",
       "  1152.71,93.2947 1154.03,93.1896 1155.34,92.9988 1156.66,92.7955 1157.97,92.7059 1159.29,92.5381 1160.6,92.2243 1161.92,92.2461 1163.23,92.43 1164.55,92.1387 \n",
       "  1165.86,91.9804 1167.18,92.3567 1168.5,92.411 1169.81,92.2106 1171.13,92.598 1172.44,92.9725 1173.76,92.9147 1175.07,93.0432 1176.39,93.2348 1177.7,93.3256 \n",
       "  1179.02,93.3927 1180.33,93.4363 1181.65,93.4203 1182.97,93.363 1184.28,93.2868 1185.6,93.1641 1186.91,93.0036 1188.23,92.8641 1189.54,92.7148 1190.86,92.5039 \n",
       "  1192.17,92.3984 1193.49,92.3942 1194.8,92.2211 1196.12,92.1078 1197.44,92.2456 1198.75,92.2882 1200.07,92.2317 1201.38,92.4336 1202.7,92.6695 1204.01,92.7261 \n",
       "  1205.33,92.8685 1206.64,93.0419 1207.96,93.1672 1209.27,93.2721 1210.59,93.3521 1211.91,93.3873 1213.22,93.3822 1214.54,93.3458 1215.85,93.2669 1217.17,93.1503 \n",
       "  1218.48,93.0248 1219.8,92.8832 1221.11,92.7075 1222.43,92.5642 1223.74,92.4509 1225.06,92.3404 1226.38,92.2586 1227.69,92.2331 1229.01,92.2335 1230.32,92.2565 \n",
       "  1231.64,92.3367 1232.95,92.4507 1234.27,92.5626 1235.58,92.7028 1236.9,92.8578 1238.21,92.9768 1239.53,93.103 1240.85,93.2652 1242.16,93.3114 1243.48,93.2598 \n",
       "  1244.79,93.3874 1246.11,93.4494 1247.42,93.0586 1248.74,92.9961 1250.05,93.5041 1251.37,92.9003 1252.68,92.2722 1254,92.8752 1255.32,92.8238 1256.63,91.8996 \n",
       "  1257.95,92.2431 1259.26,92.8319 1260.58,92.2667 1261.89,92.206 1263.21,92.4125 1264.52,92.454 1265.84,92.5433 1267.15,92.6989 1268.47,92.8201 1269.79,92.9361 \n",
       "  1271.1,93.0942 1272.42,93.2006 1273.73,93.2372 1275.05,93.2986 1276.36,93.3541 1277.68,93.2468 1278.99,93.2149 1280.31,93.3126 1281.62,93.0001 1282.94,92.6049 \n",
       "  1284.26,92.8219 1285.57,92.6604 1286.89,92.2418 1288.2,92.4613 1289.52,92.5961 1290.83,92.1261 1292.15,92.2984 1293.46,92.3794 1294.78,92.3541 1296.09,92.4491 \n",
       "  1297.41,92.5691 1298.73,92.644 1300.04,92.8043 1301.36,92.9728 1302.67,93.0303 1303.99,93.1149 1305.3,93.2563 1306.62,93.2593 1307.93,93.1823 1309.25,93.3339 \n",
       "  1310.56,93.3523 1311.88,92.8755 1313.2,93.0161 1314.51,93.231 1315.83,92.6566 1317.14,92.4351 1318.46,92.8496 1319.77,92.5431 1321.09,92.0354 1322.4,92.3464 \n",
       "  1323.72,92.3928 1325.03,92.3116 1326.35,92.3883 1327.67,92.4773 1328.98,92.5079 1330.3,92.6673 1331.61,92.8433 1332.93,92.8789 1334.24,92.9738 1335.56,93.162 \n",
       "  1336.87,93.1822 1338.19,93.2159 1339.5,93.2519 1340.82,93.2346 1342.14,93.1887 1343.45,93.1306 1344.77,93.0313 1346.08,92.9146 1347.4,92.8148 1348.71,92.7035 \n",
       "  1350.03,92.5801 1351.34,92.497 1352.66,92.4272 1353.97,92.3769 1355.29,92.3585 1356.61,92.3691 1357.92,92.4059 1359.24,92.4719 1360.55,92.5596 1361.87,92.6586 \n",
       "  1363.18,92.7681 1364.5,92.882 1365.81,92.9837 1367.13,93.0717 1368.44,93.1536 1369.76,93.2021 1371.08,93.2145 1372.39,93.2171 1373.71,93.1857 1375.02,93.0913 \n",
       "  1376.34,93.0178 1377.65,92.9799 1378.97,92.8149 1380.28,92.6313 1381.6,92.7064 1382.91,92.5384 1384.23,92.3116 1385.55,92.457 1386.86,92.5071 1388.18,92.2768 \n",
       "  1389.49,92.3768 1390.81,92.6443 1392.12,92.5622 1393.44,92.6242 1394.75,92.7708 1396.07,92.8604 1397.38,92.951 1398.7,93.0466 1400.02,93.1134 1401.33,93.1558 \n",
       "  1402.65,93.1896 1403.96,93.1889 1405.28,93.1478 1406.59,93.0986 1407.91,93.0345 1409.22,92.9351 1410.54,92.8333 1411.85,92.7593 1413.17,92.6496 1414.49,92.5537 \n",
       "  1415.8,92.5389 1417.12,92.4641 1418.43,92.328 1419.75,92.4476 1421.06,92.6102 1422.38,92.4926 1423.69,92.482 1425.01,92.7438 1426.32,92.7867 1427.64,92.7125 \n",
       "  1428.96,92.9583 1430.27,93.0161 1431.59,93.0636 1432.9,93.1363 1434.22,93.1611 1435.53,93.1565 1436.85,93.1445 1438.16,93.0896 1439.48,93.0116 1440.79,92.9459 \n",
       "  1442.11,92.86 1443.43,92.7484 1444.74,92.6759 1446.06,92.6189 1447.37,92.4907 1448.69,92.4666 1450,92.5646 1451.32,92.4624 1452.63,92.4565 1453.95,92.5954 \n",
       "  1455.26,92.5795 1456.58,92.5646 1457.9,92.7718 1459.21,92.8835 1460.53,92.9096 1461.84,92.9858 1463.16,93.0611 1464.47,93.1037 1465.79,93.1304 1467.1,93.1428 \n",
       "  1468.42,93.1178 1469.73,93.0709 1471.05,93.0218 1472.37,92.949 1473.68,92.8546 1475,92.7814 1476.31,92.7083 1477.63,92.5887 1478.94,92.5254 1480.26,92.5078 \n",
       "  1481.57,92.4713 1482.89,92.4505 1484.2,92.491 1485.52,92.5312 1486.84,92.5585 1488.15,92.641 1489.47,92.7424 1490.78,92.7703 1492.1,92.8535 1493.41,92.9777 \n",
       "  1494.73,92.9733 1496.04,92.9978 1497.36,93.1086 1498.67,93.1261 1499.99,93.0553 1501.31,93.0656 1502.62,93.0552 1503.94,92.9174 1505.25,92.8379 1506.57,92.8026 \n",
       "  1507.88,92.7069 1509.2,92.6088 1510.51,92.5869 1511.83,92.5453 1513.14,92.4712 1514.46,92.4837 1515.77,92.5317 1517.09,92.5198 1518.41,92.5567 1519.72,92.6554 \n",
       "  1521.04,92.6788 1522.35,92.7252 1523.67,92.9601 1524.98,92.9492 1526.3,92.8807 1527.61,93.0985 1528.93,93.1742 1530.24,92.981 1531.56,93.0439 1532.88,93.187 \n",
       "  1534.19,92.9601 1535.51,92.823 1536.82,92.8736 1538.14,92.8104 1539.45,92.7132 1540.77,92.6551 1542.08,92.5984 1543.4,92.5476 1544.71,92.5222 1546.03,92.509 \n",
       "  1547.35,92.5119 1548.66,92.5447 1549.98,92.5915 1551.29,92.6413 1552.61,92.7131 1553.92,92.7972 1555.24,92.8478 1556.55,92.9038 1557.87,93.0136 1559.18,93.0467 \n",
       "  1560.5,93.0478 1561.82,93.0715 1563.13,93.0743 1564.45,93.0271 1565.76,92.9899 1567.08,92.9584 1568.39,92.8775 1569.71,92.7938 1571.02,92.7767 1572.34,92.6964 \n",
       "  1573.65,92.6053 1574.97,92.6471 1576.29,92.6005 1577.6,92.5242 1578.92,92.5554 1580.23,92.5897 1581.55,92.5667 1582.86,92.6306 1584.18,92.7468 1585.49,92.7744 \n",
       "  1586.81,92.8341 1588.12,92.9097 1589.44,92.9627 1590.76,93.0055 1592.07,93.0433 1593.39,93.0514 1594.7,93.041 1596.02,93.0299 1597.33,92.9955 1598.65,92.9354 \n",
       "  1599.96,92.8814 1601.28,92.8316 1602.59,92.7435 1603.91,92.6685 1605.23,92.6706 1606.54,92.5953 1607.86,92.5582 1609.17,92.5845 1610.49,92.5556 1611.8,92.5357 \n",
       "  1613.12,92.6179 1614.43,92.674 1615.75,92.6931 1617.06,92.8146 1618.38,92.902 1619.7,92.7832 1621.01,92.937 1622.33,93.125 1623.64,92.9591 1624.96,92.9278 \n",
       "  1626.27,93.1564 1627.59,93.0146 1628.9,92.9513 1630.22,92.9525 1631.53,92.8892 1632.85,92.8212 1634.17,92.7669 1635.48,92.7064 1636.8,92.6475 1638.11,92.6125 \n",
       "  1639.43,92.5861 1640.74,92.5604 1642.06,92.5619 1643.37,92.5933 1644.69,92.6045 1646,92.6248 1647.32,92.7283 1648.64,92.7913 1649.95,92.8066 1651.27,92.8752 \n",
       "  1652.58,92.9281 1653.9,92.9458 1655.21,92.9948 1656.53,93.0344 1657.84,93.0073 1659.16,92.9878 1660.47,93.0243 1661.79,92.9421 1663.11,92.8734 1664.42,92.8718 \n",
       "  1665.74,92.7885 1667.05,92.717 1668.37,92.7005 1669.68,92.639 1671,92.571 1672.31,92.5899 1673.63,92.6051 1674.94,92.5253 1676.26,92.5935 1677.58,92.8013 \n",
       "  1678.89,92.7024 1680.21,92.6297 1681.52,92.8893 1682.84,92.9439 1684.15,92.7721 1685.47,92.9429 1686.78,93.1308 1688.1,92.9977 1689.41,92.9788 1690.73,93.0059 \n",
       "  1692.05,92.969 1693.36,92.928 1694.68,92.9092 1695.99,92.8446 1697.31,92.7836 1698.62,92.748 1699.94,92.6901 1701.25,92.6317 1702.57,92.6419 1703.88,92.6281 \n",
       "  1705.2,92.5301 1706.52,92.591 1707.83,92.6438 1709.15,92.6533 1710.46,92.7012 1711.78,92.7699 1713.09,92.7935 1714.41,92.8316 1715.72,92.9115 1717.04,92.9349 \n",
       "  1718.35,92.9601 1719.67,92.9847 1720.99,92.989 1722.3,92.9802 1723.62,92.9637 1724.93,92.9309 1726.25,92.8865 1727.56,92.8436 1728.88,92.7963 1730.19,92.7425 \n",
       "  1731.51,92.7002 1732.82,92.6697 1734.14,92.6266 1735.46,92.5998 1736.77,92.6268 1738.09,92.6267 1739.4,92.5831 1740.72,92.6706 1742.03,92.7123 1743.35,92.7388 \n",
       "  1744.66,92.809 1745.98,92.8539 1747.29,92.8633 1748.61,92.9169 1749.93,92.971 1751.24,92.9618 1752.56,92.9656 1753.87,93.0227 1755.19,92.9534 1756.5,92.8216 \n",
       "  1757.82,92.8927 1759.13,92.8529 1760.45,92.7095 1761.76,92.7584 1763.08,92.7927 1764.4,92.6228 1765.71,92.6463 1767.03,92.6459 1768.34,92.6142 1769.66,92.6221 \n",
       "  1770.97,92.6425 1772.29,92.6549 1773.6,92.6947 1774.92,92.7412 1776.23,92.7781 1777.55,92.8252 1778.87,92.8766 1780.18,92.9073 1781.5,92.9343 1782.81,92.9547 \n",
       "  1784.13,92.9632 1785.44,92.9601 1786.76,92.9464 1788.07,92.922 1789.39,92.8884 1790.7,92.8498 1792.02,92.8078 1793.34,92.7641 1794.65,92.7235 1795.97,92.6892 \n",
       "  1797.28,92.6594 1798.6,92.6382 1799.91,92.6339 1801.23,92.6372 1802.54,92.6403 1803.86,92.668 1805.17,92.7152 1806.49,92.7304 1807.81,92.7535 1809.12,92.8516 \n",
       "  1810.44,92.8859 1811.75,92.8822 1813.07,92.9319 1814.38,92.9432 1815.7,92.922 1817.01,92.9512 1818.33,92.9607 1819.64,92.8988 1820.96,92.8726 1822.28,92.8597 \n",
       "  1823.59,92.7587 1824.91,92.7694 1826.22,92.7949 1827.54,92.6767 1828.85,92.6288 1830.17,92.7076 1831.48,92.6595 1832.8,92.5782 1834.11,92.6782 1835.43,92.7322 \n",
       "  1836.75,92.7025 1838.06,92.731 1839.38,92.7788 1840.69,92.8119 1842.01,92.8478 1843.32,92.8894 1844.64,92.9114 1845.95,92.923 1847.27,92.9421 1848.58,92.9449 \n",
       "  1849.9,92.9244 1851.22,92.9097 1852.53,92.8991 1853.85,92.8447 1855.16,92.7923 1856.48,92.8128 1857.79,92.7673 1859.11,92.7077 1860.42,92.702 1861.74,92.6808 \n",
       "  1863.05,92.6348 1864.37,92.6503 1865.69,92.6851 1867,92.6694 1868.32,92.6862 1869.63,92.743 1870.95,92.7699 1872.26,92.7886 1873.58,92.8473 1874.89,92.8861 \n",
       "  1876.21,92.8838 1877.52,92.9122 1878.84,92.9301 1880.16,92.9233 1881.47,92.9392 1882.79,92.9358 1884.1,92.8479 1885.42,92.826 1886.73,92.9101 1888.05,92.8081 \n",
       "  1889.36,92.7446 1890.68,92.7891 1891.99,92.7102 1893.31,92.612 1894.63,92.6904 1895.94,92.7158 1897.26,92.6699 1898.57,92.6805 1899.89,92.7115 1901.2,92.7343 \n",
       "  1902.52,92.7648 1903.83,92.8056 1905.15,92.8338 1906.46,92.8572 1907.78,92.8907 1909.1,92.9117 1910.41,92.9131 1911.73,92.9196 1913.04,92.9276 1914.36,92.8939 \n",
       "  1915.67,92.859 1916.99,92.8838 1918.3,92.8457 1919.62,92.7808 1920.93,92.7708 1922.25,92.7498 1923.57,92.7036 1924.88,92.6852 1926.2,92.688 1927.51,92.6696 \n",
       "  1928.83,92.6653 1930.14,92.7188 1931.46,92.7236 1932.77,92.7257 1934.09,92.8273 1935.4,92.798 1936.72,92.7564 1938.04,92.883 1939.35,92.9281 1940.67,92.8338 \n",
       "  1941.98,92.8923 1943.3,92.9888 1944.61,92.9081 1945.93,92.8833 1947.24,92.8856 1948.56,92.8549 1949.87,92.8234 1951.19,92.8071 1952.51,92.7699 1953.82,92.7374 \n",
       "  1955.14,92.722 1956.45,92.6984 1957.77,92.6768 1959.08,92.6932 1960.4,92.6994 1961.71,92.6612 1963.03,92.7042 1964.34,92.7445 1965.66,92.7362 1966.98,92.7792 \n",
       "  1968.29,92.8215 1969.61,92.8289 1970.92,92.8617 1972.24,92.905 1973.55,92.8997 1974.87,92.9011 1976.18,92.9037 1977.5,92.8924 1978.81,92.8751 1980.13,92.8566 \n",
       "  1981.45,92.8292 1982.76,92.7979 1984.08,92.773 1985.39,92.7481 1986.71,92.7207 1988.02,92.7059 1989.34,92.7007 1990.65,92.6823 1991.97,92.6785 1993.28,92.718 \n",
       "  1994.6,92.7233 1995.92,92.6896 1997.23,92.7735 1998.55,92.7973 1999.86,92.8083 2001.18,92.8609 2002.49,92.8755 2003.81,92.857 2005.12,92.8915 2006.44,92.9196 \n",
       "  2007.75,92.8879 2009.07,92.8742 2010.39,92.8923 2011.7,92.8564 2013.02,92.8274 2014.33,92.8229 2015.65,92.7814 2016.96,92.7352 2018.28,92.7305 2019.59,92.7161 \n",
       "  2020.91,92.7011 2022.22,92.6952 2023.54,92.6964 2024.86,92.7023 2026.17,92.7163 2027.49,92.7367 2028.8,92.7578 2030.12,92.7817 2031.43,92.809 2032.75,92.8323 \n",
       "  2034.06,92.8504 2035.38,92.873 2036.69,92.889 2038.01,92.8822 2039.33,92.8831 2040.64,92.9015 2041.96,92.868 2043.27,92.8469 2044.59,92.8496 2045.9,92.8096 \n",
       "  2047.22,92.7642 2048.53,92.7679 2049.85,92.7523 2051.16,92.7031 2052.48,92.7088 2053.8,92.7069 2055.11,92.7004 2056.43,92.7077 2057.74,92.7206 2059.06,92.7334 \n",
       "  2060.37,92.7557 2061.69,92.7827 2063,92.8028 2064.32,92.8237 2065.63,92.8494 2066.95,92.863 2068.27,92.867 2069.58,92.8883 2070.9,92.8969 2072.21,92.8568 \n",
       "  2073.53,92.8545 2074.84,92.8582 2076.16,92.783 2077.47,92.8071 2078.79,92.8408 2080.1,92.7429 2081.42,92.7057 2082.74,92.7767 2084.05,92.7291 2085.37,92.6498 \n",
       "  2086.68,92.7082 2088,92.7231 2089.31,92.717 2090.63,92.737 2091.94,92.7583 2093.26,92.7687 2094.57,92.7965 2095.89,92.8292 2097.21,92.8382 2098.52,92.8499 \n",
       "  2099.84,92.8763 2101.15,92.8719 2102.47,92.852 2103.78,92.8922 2105.1,92.9003 2106.41,92.8412 2107.73,92.8233 2109.04,92.8384 2110.36,92.788 2111.68,92.7674 \n",
       "  2112.99,92.7797 2114.31,92.7347 2115.62,92.7225 2116.94,92.7188 2118.25,92.7131 2119.57,92.7164 2120.88,92.726 2122.2,92.7378 2123.51,92.7549 2124.83,92.7765 \n",
       "  2126.15,92.796 2127.46,92.8148 2128.78,92.8356 2130.09,92.8514 2131.41,92.8589 2132.72,92.8702 2134.04,92.8794 2135.35,92.8636 2136.67,92.8504 2137.98,92.8672 \n",
       "  2139.3,92.8405 2140.62,92.8078 2141.93,92.8055 2143.25,92.7832 2144.56,92.7423 2145.88,92.7403 2147.19,92.7438 2148.51,92.713 2149.82,92.7083 2151.14,92.7595 \n",
       "  2152.45,92.7417 2153.77,92.7378 2155.09,92.7822 2156.4,92.7819 2157.72,92.7675 2159.03,92.8193 2160.35,92.8349 2161.66,92.841 2162.98,92.8568 2164.29,92.8652 \n",
       "  2165.61,92.8665 2166.92,92.8661 2168.24,92.8596 2169.56,92.8456 2170.87,92.8318 2172.19,92.8171 2173.5,92.7964 2174.82,92.7767 2176.13,92.7655 2177.45,92.7482 \n",
       "  2178.76,92.7251 2180.08,92.73 2181.39,92.7413 2182.71,92.7075 2184.03,92.7102 2185.34,92.7497 2186.66,92.7551 2187.97,92.7552 2189.29,92.7982 2190.6,92.8212 \n",
       "  2191.92,92.8086 2193.23,92.835 2194.55,92.8705 2195.86,92.8592 2197.18,92.8585 2198.5,92.8606 2199.81,92.855 2201.13,92.8449 2202.44,92.8335 2203.76,92.8173 \n",
       "  2205.07,92.7982 2206.39,92.7823 2207.7,92.7671 2209.02,92.7505 2210.33,92.7401 2211.65,92.7364 2212.97,92.7272 2214.28,92.7232 2215.6,92.7431 2216.91,92.7516 \n",
       "  2218.23,92.7347 2219.54,92.7719 2220.86,92.7938 2222.17,92.7839 2223.49,92.8165 2224.8,92.8361 2226.12,92.8283 2227.44,92.8501 2228.75,92.8729 2230.07,92.8496 \n",
       "  2231.38,92.8391 2232.7,92.8827 2234.01,92.8473 2235.33,92.8138 2236.64,92.8269 2237.96,92.7954 2239.27,92.7445 2240.59,92.7618 2241.91,92.7685 2243.22,92.7361 \n",
       "  2244.54,92.7309 2245.85,92.7362 2247.17,92.7379 2248.48,92.7452 2249.8,92.7602 2251.11,92.7713 2252.43,92.7828 2253.74,92.8026 2255.06,92.8188 2256.38,92.8271 \n",
       "  2257.69,92.8399 2259.01,92.855 2260.32,92.8486 2261.64,92.8412 2262.95,92.8644 2264.27,92.8533 2265.58,92.7907 2266.9,92.8076 2268.21,92.8065 2269.53,92.7582 \n",
       "  2270.85,92.7671 2272.16,92.7893 2273.48,92.7392 2274.79,92.7421 2276.11,92.7433 2277.42,92.7361 2278.74,92.7401 2280.05,92.7485 2281.37,92.7551 2282.68,92.7687 \n",
       "  2284,92.7868 2285.32,92.7984 2286.63,92.8102 2287.95,92.8276 2289.26,92.8369 2290.58,92.8435 2291.89,92.8487 2293.21,92.8494 2293.56,92.8488 \n",
       "  \"/>\n",
       "<path clip-path=\"url(#clip1900)\" d=\"\n",
       "M1959.51 251.724 L2280.76 251.724 L2280.76 130.764 L1959.51 130.764  Z\n",
       "  \" fill=\"#ffffff\" fill-rule=\"evenodd\" fill-opacity=\"1\"/>\n",
       "<polyline clip-path=\"url(#clip1900)\" style=\"stroke:#000000; stroke-width:4; stroke-opacity:1; fill:none\" points=\"\n",
       "  1959.51,251.724 2280.76,251.724 2280.76,130.764 1959.51,130.764 1959.51,251.724 \n",
       "  \"/>\n",
       "<polyline clip-path=\"url(#clip1900)\" style=\"stroke:#009af9; stroke-width:4; stroke-opacity:1; fill:none\" points=\"\n",
       "  1983.51,191.244 2127.51,191.244 \n",
       "  \"/>\n",
       "<path clip-path=\"url(#clip1900)\" d=\"M 0 0 M2164.7 208.524 L2151.51 173.964 L2156.39 173.964 L2167.34 203.061 L2178.31 173.964 L2183.17 173.964 L2170 208.524 L2164.7 208.524 Z\" fill=\"#000000\" fill-rule=\"evenodd\" fill-opacity=\"1\" /><path clip-path=\"url(#clip1900)\" d=\"M 0 0 M2207.34 216.394 L2207.34 219.705 L2182.71 219.705 L2182.71 216.394 L2207.34 216.394 Z\" fill=\"#000000\" fill-rule=\"evenodd\" fill-opacity=\"1\" /><path clip-path=\"url(#clip1900)\" d=\"M 0 0 M2216.44 204.589 L2232.76 204.589 L2232.76 208.524 L2210.81 208.524 L2210.81 204.589 Q2213.47 201.834 2218.06 197.205 Q2222.66 192.552 2223.84 191.209 Q2226.09 188.686 2226.97 186.95 Q2227.87 185.191 2227.87 183.501 Q2227.87 180.746 2225.93 179.01 Q2224.01 177.274 2220.9 177.274 Q2218.71 177.274 2216.25 178.038 Q2213.82 178.802 2211.04 180.353 L2211.04 175.631 Q2213.87 174.496 2216.32 173.918 Q2218.77 173.339 2220.81 173.339 Q2226.18 173.339 2229.38 176.024 Q2232.57 178.709 2232.57 183.2 Q2232.57 185.33 2231.76 187.251 Q2230.97 189.149 2228.87 191.742 Q2228.29 192.413 2225.19 195.631 Q2222.08 198.825 2216.44 204.589 Z\" fill=\"#000000\" fill-rule=\"evenodd\" fill-opacity=\"1\" /></svg>\n"
      ]
     },
     "execution_count": 15,
     "metadata": {},
     "output_type": "execute_result"
    }
   ],
   "source": [
    "volt = get_voltagemag_series(sim, 2)\n",
    "plot(volt, xlabel=\"time\", ylabel=\"Voltage [pu]\", label=\"V_2\")"
   ]
  },
  {
   "cell_type": "markdown",
   "metadata": {},
   "source": [
    "## Optional: Small Signal Analysis\n",
    "\n",
    "`LITS 0.3.5` uses automatic differentiation to compute the reduced Jacobian of the system for the differential states. This can be used to analyze the eigenvalues of the linearized system."
   ]
  },
  {
   "cell_type": "code",
   "execution_count": 16,
   "metadata": {},
   "outputs": [
    {
     "data": {
      "text/plain": [
       "The system is small signal stable\n"
      ]
     },
     "execution_count": 16,
     "metadata": {},
     "output_type": "execute_result"
    }
   ],
   "source": [
    "small_sig = small_signal_analysis(sim)"
   ]
  },
  {
   "cell_type": "markdown",
   "metadata": {},
   "source": [
    "The `small_sig` result can report the reduced jacobian for $\\delta$ and $\\omega$, and can also be used to report the eigenvalues of the reduced linearized system."
   ]
  },
  {
   "cell_type": "code",
   "execution_count": 17,
   "metadata": {},
   "outputs": [
    {
     "data": {
      "text/plain": [
       "2×2 Array{Float64,2}:\n",
       "  0.0       376.991   \n",
       " -0.439168   -0.317662"
      ]
     },
     "execution_count": 17,
     "metadata": {},
     "output_type": "execute_result"
    }
   ],
   "source": [
    "small_sig.reduced_jacobian"
   ]
  },
  {
   "cell_type": "code",
   "execution_count": 18,
   "metadata": {},
   "outputs": [
    {
     "data": {
      "text/plain": [
       "2-element Array{Complex{Float64},1}:\n",
       " -0.15883100381194404 - 12.866119096482956im\n",
       " -0.15883100381194404 + 12.866119096482956im"
      ]
     },
     "execution_count": 18,
     "metadata": {},
     "output_type": "execute_result"
    }
   ],
   "source": [
    "small_sig.eigenvalues"
   ]
  },
  {
   "cell_type": "code",
   "execution_count": null,
   "metadata": {},
   "outputs": [],
   "source": []
  },
  {
   "cell_type": "code",
   "execution_count": null,
   "metadata": {},
   "outputs": [],
   "source": []
  }
 ],
 "metadata": {
  "kernelspec": {
   "display_name": "Julia 1.3.1",
   "language": "julia",
   "name": "julia-1.3"
  },
  "language_info": {
   "file_extension": ".jl",
   "mimetype": "application/julia",
   "name": "julia",
   "version": "1.3.1"
  }
 },
 "nbformat": 4,
 "nbformat_minor": 4
}
