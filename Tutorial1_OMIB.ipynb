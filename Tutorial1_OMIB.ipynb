{
 "cells": [
  {
   "cell_type": "markdown",
   "metadata": {},
   "source": [
    "# Tutorial: One Machine against Infinite Bus (OMIB)\n",
    "\n",
    "This tutorial will introduce you to the functionality of `LITS` for running Power System Simulations.\n",
    "Note that this tutorial is for `LITS 0.3.5`. Future versions will have dedicated functions to find an equilibrium point using a Power Flow method without relying in a guess of the initial condition to run a non-linear solver.\n",
    "\n",
    "This tutorial presents a simulation of a two-bus system, with an infinite bus (represented as a voltage source behind an impedance) at bus 1 and a classic machine on bus 2. The perturbation will be the trip of one of the two circuits (doubling its resistance and impedance) of the line that connects both buses.\n",
    "\n",
    "This tutorial can be found on [LITS/Examples](https://github.com/Energy-MAC/LITS-Examples) repository.\n",
    "\n",
    "## Step 1: Package Initialization\n",
    "\n",
    "The first step consists in initialize all packages that will be used to run the simulation. All the necessary packages are listed. Please note that loading the packages may take some time."
   ]
  },
  {
   "cell_type": "code",
   "execution_count": 1,
   "metadata": {},
   "outputs": [
    {
     "name": "stderr",
     "output_type": "stream",
     "text": [
      "┌ Info: Precompiling LITS [86b0dc02-7903-11e9-325f-f195ca7e6c1a]\n",
      "└ @ Base loading.jl:1260\n"
     ]
    }
   ],
   "source": [
    "using LITS\n",
    "using PowerSystems\n",
    "using Sundials\n",
    "using NLsolve\n",
    "using Plots"
   ]
  },
  {
   "cell_type": "markdown",
   "metadata": {},
   "source": [
    "`PowerSystems` is used to properly define the data structure, while `Sundials` is used to solve the problem defined in `LITS`."
   ]
  },
  {
   "cell_type": "markdown",
   "metadata": {},
   "source": [
    "## Step 2: Data creation\n",
    "\n",
    "### We are still improving the data management with a closer integration within `PowerSystems.jl`\n",
    "\n",
    "Next we need to define the different elements required to run a simulation. To run a simulation, it is required to define a `System` from `PowerSystems.jl`\n",
    "\n",
    "- A base static System, we will parse it from a PSS/e raw file\n",
    "- Add a Source to the Ref (Slack) Bus\n",
    "- Add the dynamic data to the static data sets. "
   ]
  },
  {
   "cell_type": "code",
   "execution_count": 2,
   "metadata": {},
   "outputs": [
    {
     "name": "stderr",
     "output_type": "stream",
     "text": [
      "┌ Info: The PSS(R)E parser currently supports buses, loads, shunts, generators, branches, transformers, and dc lines\n",
      "└ @ PowerSystems /Users/jdlara/.julia/packages/PowerSystems/m6mER/src/parsers/pm_io/common.jl:26\n",
      "┌ Info: the voltage setpoint on generator 1 does not match the value at bus 2\n",
      "└ @ PowerSystems /Users/jdlara/.julia/packages/PowerSystems/m6mER/src/parsers/pm_io/data.jl:1686\n",
      "┌ Info: Constructing System from Power Models\n",
      "│   data[\"name\"] = omib\n",
      "│   data[\"source_type\"] = pti\n",
      "└ @ PowerSystems /Users/jdlara/.julia/packages/PowerSystems/m6mER/src/parsers/power_models_data.jl:39\n",
      "┌ Info: Reading bus data\n",
      "└ @ PowerSystems /Users/jdlara/.julia/packages/PowerSystems/m6mER/src/parsers/power_models_data.jl:140\n",
      "┌ Info: Reading generator data\n",
      "└ @ PowerSystems /Users/jdlara/.julia/packages/PowerSystems/m6mER/src/parsers/power_models_data.jl:386\n",
      "┌ Info: Reading branch data\n",
      "└ @ PowerSystems /Users/jdlara/.julia/packages/PowerSystems/m6mER/src/parsers/power_models_data.jl:538\n",
      "┌ Info: Reading branch data\n",
      "└ @ PowerSystems /Users/jdlara/.julia/packages/PowerSystems/m6mER/src/parsers/power_models_data.jl:601\n",
      "┌ Info: Reading DC Line data\n",
      "└ @ PowerSystems /Users/jdlara/.julia/packages/PowerSystems/m6mER/src/parsers/power_models_data.jl:572\n"
     ]
    },
    {
     "data": {
      "text/html": [
       "<h1>System</h1>\n",
       "<p><b>Base Power</b>: 100.0</p>\n",
       "<h2>Components</h2>\n",
       "<p><b>Num components</b>: 7</p>\n",
       "<table class=\"data-frame\"><thead><tr><th></th><th>ConcreteType</th><th>SuperTypes</th><th>Count</th></tr><tr><th></th><th>String</th><th>String</th><th>Int64</th></tr></thead><tbody><p>6 rows × 3 columns</p><tr><th>1</th><td>Area</td><td>AggregationTopology &lt;: Topology &lt;: Component &lt;: PowerSystemType &lt;: InfrastructureSystemsType &lt;: Any</td><td>1</td></tr><tr><th>2</th><td>Bus</td><td>Topology &lt;: Component &lt;: PowerSystemType &lt;: InfrastructureSystemsType &lt;: Any</td><td>2</td></tr><tr><th>3</th><td>Line</td><td>ACBranch &lt;: Branch &lt;: Device &lt;: Component &lt;: PowerSystemType &lt;: InfrastructureSystemsType &lt;: Any</td><td>1</td></tr><tr><th>4</th><td>LoadZone</td><td>AggregationTopology &lt;: Topology &lt;: Component &lt;: PowerSystemType &lt;: InfrastructureSystemsType &lt;: Any</td><td>1</td></tr><tr><th>5</th><td>PowerLoad</td><td>StaticLoad &lt;: ElectricLoad &lt;: StaticInjection &lt;: Device &lt;: Component &lt;: PowerSystemType &lt;: InfrastructureSystemsType &lt;: Any</td><td>1</td></tr><tr><th>6</th><td>ThermalStandard</td><td>ThermalGen &lt;: Generator &lt;: StaticInjection &lt;: Device &lt;: Component &lt;: PowerSystemType &lt;: InfrastructureSystemsType &lt;: Any</td><td>1</td></tr></tbody></table>\n",
       "\n",
       "<h2>Forecasts</h2>\n",
       "<p><b>Resolution</b>: 0 seconds</p>\n",
       "<p><b>Horizon</b>: 0</p>\n",
       "<p><b>Initial Times</b>: </p>\n",
       "<p><b>Interval</b>: 0 seconds</p>\n",
       "<p><b>Components with Forecasts</b>: 0</p>\n",
       "<p><b>Total Forecasts</b>: 0</p>\n"
      ],
      "text/plain": [
       "System\n",
       "======\n",
       "Base Power: 100.0\n",
       "\n",
       "Components\n",
       "==========\n",
       "Num components: 7\n",
       "\n",
       "6×3 DataFrames.DataFrame. Omitted printing of 2 columns\n",
       "│ Row │ ConcreteType    │\n",
       "│     │ \u001b[90mString\u001b[39m          │\n",
       "├─────┼─────────────────┤\n",
       "│ 1   │ Area            │\n",
       "│ 2   │ Bus             │\n",
       "│ 3   │ Line            │\n",
       "│ 4   │ LoadZone        │\n",
       "│ 5   │ PowerLoad       │\n",
       "│ 6   │ ThermalStandard │\n",
       "\n",
       "Forecasts\n",
       "=========\n",
       "Resolution: 0 seconds\n",
       "Horizon: 0\n",
       "Initial Times: \n",
       "Interval: 0 seconds\n",
       "Components with Forecasts: 0\n",
       "Total Forecasts: 0\n"
      ]
     },
     "execution_count": 2,
     "metadata": {},
     "output_type": "execute_result"
    }
   ],
   "source": [
    "omib_file_dir= joinpath(dirname(@__FILE__), \"Data\",\"OMIB.raw\")\n",
    "omib_sys = System(PowerModelsData(omib_file_dir), runchecks=false)"
   ]
  },
  {
   "cell_type": "code",
   "execution_count": 3,
   "metadata": {},
   "outputs": [],
   "source": [
    "# get_components is designed to return fast Julia iterators. For this application we need to run collect to retrieve \n",
    "# the bus\n",
    "slack_bus = collect(get_components(Bus, omib_sys, b -> b.bustype == BusTypes.REF))[1]\n",
    "inf_source = Source(\n",
    "    name = \"InfBus\", #name\n",
    "    available = true, #availability\n",
    "    activepower = 0.0,\n",
    "    reactivepower = 0.0,\n",
    "    bus = slack_bus, #bus\n",
    "    X_th = 0.000005 #Xth\n",
    ") \n",
    "add_component!(omib_sys, inf_source)"
   ]
  },
  {
   "cell_type": "markdown",
   "metadata": {},
   "source": [
    "We can now run a PowerFlow to initialize the system voltages and static generator values."
   ]
  },
  {
   "cell_type": "code",
   "execution_count": 4,
   "metadata": {},
   "outputs": [
    {
     "name": "stderr",
     "output_type": "stream",
     "text": [
      "┌ Info: Results of Nonlinear Solver Algorithm\n",
      "│  * Algorithm: Trust-region with dogleg and autoscaling\n",
      "│  * Starting Point: [0.0, 0.0, 0.0, 0.0]\n",
      "│  * Zero: [-0.19647813976541167, -0.5730677354369834, 0.5996055866099325, 0.00382674289149611]\n",
      "│  * Inf-norm of residuals: 0.000000\n",
      "│  * Iterations: 2\n",
      "│  * Convergence: true\n",
      "│    * |x - x'| < 0.0e+00: false\n",
      "│    * |f(x)| < 1.0e-08: true\n",
      "│  * Function Calls (f): 3\n",
      "│  * Jacobian Calls (df/dx): 3\n",
      "└ @ PowerSystems /Users/jdlara/.julia/packages/PowerSystems/m6mER/src/utils/power_flow/power_flow.jl:145\n",
      "┌ Info: PowerFlow solve converged, the results have been stored in the system\n",
      "└ @ PowerSystems /Users/jdlara/.julia/packages/PowerSystems/m6mER/src/utils/power_flow/power_flow.jl:148\n"
     ]
    },
    {
     "data": {
      "text/plain": [
       "true"
      ]
     },
     "execution_count": 4,
     "metadata": {},
     "output_type": "execute_result"
    }
   ],
   "source": [
    "res = solve_powerflow!(omib_sys, nlsolve)"
   ]
  },
  {
   "cell_type": "markdown",
   "metadata": {},
   "source": [
    "### Dynamic Injection devices"
   ]
  },
  {
   "cell_type": "markdown",
   "metadata": {},
   "source": [
    "Note that a generator is defined by its 5 components, while also defining its reference for frequency, voltage and power. The reactive power reference must be defined but is not used for standard machines, since is only used for PQ generators, that will be implemented in future versions of `LITS`."
   ]
  },
  {
   "cell_type": "code",
   "execution_count": 5,
   "metadata": {},
   "outputs": [],
   "source": [
    "function dyn_gen_first_order(generator)\n",
    "    return DynamicGenerator(\n",
    "        number = 1, \n",
    "        name = \"Case1Gen\",\n",
    "        bus = get_bus(generator),\n",
    "        ω_ref = 1.0, \n",
    "        V_ref = get_voltage(get_bus(generator)),\n",
    "        P_ref = get_activepower(generator),\n",
    "        Q_ref = get_reactivepower(generator),\n",
    "        machine = machine_OMIB = BaseMachine(\n",
    "                                            0.0, #R\n",
    "                                            0.2995, #Xd_p\n",
    "                                            0.7087, #eq_p\n",
    "                                            100.0, #MVABase,\n",
    "                                            ),  \n",
    "        shaft =SingleMass(\n",
    "                          3.148, #H\n",
    "                          2.0, #D\n",
    "                          ), \n",
    "        avr = AVRFixed(0.0), \n",
    "        prime_mover = TGFixed(1.0), #No TG: Efficiency = 1.0\n",
    "        pss = PSSFixed(0.0) #No PSS without AVR,\n",
    "    )\n",
    "end\n",
    "\n",
    "#Attach dynamic generator. Currently use PSS/e format based on bus #.\n",
    "gen = [g for g in get_components(Generator, omib_sys)][1]\n",
    "case_gen = dyn_gen_first_order(gen)\n",
    "add_component!(omib_sys, case_gen)"
   ]
  },
  {
   "cell_type": "markdown",
   "metadata": {},
   "source": [
    "## Step 3: Build the simulation and initializing the problem\n",
    "\n",
    "The next step is to create the simulation structure. This will create the indexing of our system that will be used to formulate the differential-algebraic system of equations. To do so, it is required to specify the perturbation that will occur in the system. `LITS` support two types of perturbations:\n",
    "- Three Phase Fault\n",
    "- Change in Reference Parameter\n",
    "\n",
    "In here, he will use a Three Phase Fault, that is modeled by modifying the admittance matrix of the system. To do so we create a ThreePhaseFault perturbation as follows:"
   ]
  },
  {
   "cell_type": "code",
   "execution_count": 6,
   "metadata": {},
   "outputs": [],
   "source": [
    "#Obtain the Ybus of the faulted system by modifying the branch that will have the fault. \n",
    "fault_branch = deepcopy(collect(get_components(Branch, omib_sys))[1])\n",
    "fault_branch.r = 0.02; fault_branch.x = 0.1\n",
    "Ybus_fault = Ybus([fault_branch], get_components(Bus, omib_sys))[:, :]\n",
    "\n",
    "#Construct the perturbation\n",
    "perturbation_Ybus = ThreePhaseFault(\n",
    "    1.0, #change will occur at t = 1.0s\n",
    "    Ybus_fault, #new Ybus\n",
    ");"
   ]
  },
  {
   "cell_type": "markdown",
   "metadata": {},
   "source": [
    "With this, we are ready to create our simulation structure. We will skip solving for initial conditions to discuss about indexing. To construct our simulation we use:"
   ]
  },
  {
   "cell_type": "code",
   "execution_count": 7,
   "metadata": {},
   "outputs": [
    {
     "data": {
      "text/plain": [
       "Simulation()\n"
      ]
     },
     "execution_count": 7,
     "metadata": {},
     "output_type": "execute_result"
    }
   ],
   "source": [
    "#Define Simulation\n",
    "sim = Simulation(\n",
    "    omib_sys, #system\n",
    "    (0.0, 30.0), #time span\n",
    "    perturbation_Ybus, #Type of perturbation\n",
    "    initialize_simulation = false #keyword argument to not find initial conditions.\n",
    ")"
   ]
  },
  {
   "cell_type": "markdown",
   "metadata": {},
   "source": [
    "This will create the simulation structure that will be used to run the transient simulation and will modify the system to include the indexing. `LITS` will have the following structure for the vector of variables:"
   ]
  },
  {
   "cell_type": "markdown",
   "metadata": {},
   "source": [
    "Instatiating the simulation will correctly initialize the system. If no initial guess is provided, the system will use a flat start guess, assuming that all real voltages are equal to one, while imaginary voltages are equal to zero. Differential variables (states) will be guessed as zero too."
   ]
  },
  {
   "cell_type": "code",
   "execution_count": 8,
   "metadata": {},
   "outputs": [
    {
     "data": {
      "text/plain": [
       "6-element Array{Float64,1}:\n",
       " 1.0\n",
       " 1.0\n",
       " 0.0\n",
       " 0.0\n",
       " 0.0\n",
       " 0.0"
      ]
     },
     "execution_count": 8,
     "metadata": {},
     "output_type": "execute_result"
    }
   ],
   "source": [
    "# Initial condition obtained with a flat start\n",
    "sim.x0_init "
   ]
  },
  {
   "cell_type": "markdown",
   "metadata": {},
   "source": [
    "However, for most systems if a bad initial guess is used, the non-linear solver may fail in correctly initializing the system. For such purposes, an initial guess can be provided to the simulation as follows:"
   ]
  },
  {
   "cell_type": "code",
   "execution_count": 9,
   "metadata": {},
   "outputs": [
    {
     "name": "stderr",
     "output_type": "stream",
     "text": [
      "┌ Info: Initializing Simulation States\n",
      "└ @ LITS /Users/jdlara/.julia/dev/LITS/src/base/simulation.jl:32\n"
     ]
    },
    {
     "data": {
      "text/plain": [
       "6-element Array{Float64,1}:\n",
       " 1.0199952182476166\n",
       " 0.9741680860443243\n",
       " 1.0079457584301177e-6\n",
       " 0.019649070247883538\n",
       " 0.23876553035520925\n",
       " 1.0"
      ]
     },
     "execution_count": 9,
     "metadata": {},
     "output_type": "execute_result"
    }
   ],
   "source": [
    "#Initial guess\n",
    "x0_guess = [\n",
    "    1.0, #VR_1\n",
    "    1.0, #VR_2\n",
    "    0.0, #VI_1\n",
    "    0.0, #VI_2\n",
    "    0.2, #δ\n",
    "    1.0, #ω\n",
    "]\n",
    "#Define Simulation\n",
    "sim = Simulation(\n",
    "    omib_sys, #system\n",
    "    (0.0, 30.0), #time span\n",
    "    perturbation_Ybus, #Type of perturbation\n",
    "    initial_guess = x0_guess, #initial guess\n",
    ")\n",
    "\n",
    "sim.x0_init"
   ]
  },
  {
   "cell_type": "markdown",
   "metadata": {},
   "source": [
    "## Step 4: Run the Simulation\n",
    "\n",
    "Finally, to run the simulation we simply use:"
   ]
  },
  {
   "cell_type": "code",
   "execution_count": 10,
   "metadata": {},
   "outputs": [],
   "source": [
    "#Solve problem\n",
    "run_simulation!(sim, #simulation structure\n",
    "                IDA(), #Sundials DAE Solver\n",
    "                dtmax=0.02); #Arguments: Maximum timestep allowed"
   ]
  },
  {
   "cell_type": "markdown",
   "metadata": {},
   "source": [
    "In some cases, the dynamic time step used for the simulation may fail. In such case, the keyword argument `dtmax` can be used to limit the maximum time step allowed for the simulation."
   ]
  },
  {
   "cell_type": "markdown",
   "metadata": {},
   "source": [
    "## Step 5: Exploring the solution\n",
    "\n",
    "After running the simulation, our simulation structure `sim` will have the solution. `LITS` has two functions to obtain different states of the solution:\n",
    "\n",
    "- ``get_state_series(sim, (\"OMIB_Gen\", :δ))``: can be used to obtain the solution as a tuple of time and the required state. In this case, we are obtaining the rotor angle `:δ` of the generator named `\"OMIB_Gen\"`.\n",
    "- ``get_voltagemag_series(sim, 2)``: can be used to obtain the voltage magnitude as a tuple of time and voltage. In this case, we are obtaining the voltage magnitude at bus 2 (where the generator is located)."
   ]
  },
  {
   "cell_type": "code",
   "execution_count": 16,
   "metadata": {},
   "outputs": [
    {
     "data": {
      "image/svg+xml": [
       "<?xml version=\"1.0\" encoding=\"utf-8\"?>\n",
       "<svg xmlns=\"http://www.w3.org/2000/svg\" xmlns:xlink=\"http://www.w3.org/1999/xlink\" width=\"600\" height=\"400\" viewBox=\"0 0 2400 1600\">\n",
       "<defs>\n",
       "  <clipPath id=\"clip6500\">\n",
       "    <rect x=\"0\" y=\"0\" width=\"2400\" height=\"1600\"/>\n",
       "  </clipPath>\n",
       "</defs>\n",
       "<path clip-path=\"url(#clip6500)\" d=\"\n",
       "M0 1600 L2400 1600 L2400 0 L0 0  Z\n",
       "  \" fill=\"#ffffff\" fill-rule=\"evenodd\" fill-opacity=\"1\"/>\n",
       "<defs>\n",
       "  <clipPath id=\"clip6501\">\n",
       "    <rect x=\"480\" y=\"0\" width=\"1681\" height=\"1600\"/>\n",
       "  </clipPath>\n",
       "</defs>\n",
       "<path clip-path=\"url(#clip6500)\" d=\"\n",
       "M237.019 1423.18 L2352.76 1423.18 L2352.76 47.2441 L237.019 47.2441  Z\n",
       "  \" fill=\"#ffffff\" fill-rule=\"evenodd\" fill-opacity=\"1\"/>\n",
       "<defs>\n",
       "  <clipPath id=\"clip6502\">\n",
       "    <rect x=\"237\" y=\"47\" width=\"2117\" height=\"1377\"/>\n",
       "  </clipPath>\n",
       "</defs>\n",
       "<polyline clip-path=\"url(#clip6502)\" style=\"stroke:#000000; stroke-width:2; stroke-opacity:0.1; fill:none\" points=\"\n",
       "  296.898,1423.18 296.898,47.2441 \n",
       "  \"/>\n",
       "<polyline clip-path=\"url(#clip6502)\" style=\"stroke:#000000; stroke-width:2; stroke-opacity:0.1; fill:none\" points=\"\n",
       "  962.224,1423.18 962.224,47.2441 \n",
       "  \"/>\n",
       "<polyline clip-path=\"url(#clip6502)\" style=\"stroke:#000000; stroke-width:2; stroke-opacity:0.1; fill:none\" points=\"\n",
       "  1627.55,1423.18 1627.55,47.2441 \n",
       "  \"/>\n",
       "<polyline clip-path=\"url(#clip6502)\" style=\"stroke:#000000; stroke-width:2; stroke-opacity:0.1; fill:none\" points=\"\n",
       "  2292.88,1423.18 2292.88,47.2441 \n",
       "  \"/>\n",
       "<polyline clip-path=\"url(#clip6502)\" style=\"stroke:#000000; stroke-width:2; stroke-opacity:0.1; fill:none\" points=\"\n",
       "  237.019,1354.19 2352.76,1354.19 \n",
       "  \"/>\n",
       "<polyline clip-path=\"url(#clip6502)\" style=\"stroke:#000000; stroke-width:2; stroke-opacity:0.1; fill:none\" points=\"\n",
       "  237.019,1110.82 2352.76,1110.82 \n",
       "  \"/>\n",
       "<polyline clip-path=\"url(#clip6502)\" style=\"stroke:#000000; stroke-width:2; stroke-opacity:0.1; fill:none\" points=\"\n",
       "  237.019,867.438 2352.76,867.438 \n",
       "  \"/>\n",
       "<polyline clip-path=\"url(#clip6502)\" style=\"stroke:#000000; stroke-width:2; stroke-opacity:0.1; fill:none\" points=\"\n",
       "  237.019,624.06 2352.76,624.06 \n",
       "  \"/>\n",
       "<polyline clip-path=\"url(#clip6502)\" style=\"stroke:#000000; stroke-width:2; stroke-opacity:0.1; fill:none\" points=\"\n",
       "  237.019,380.682 2352.76,380.682 \n",
       "  \"/>\n",
       "<polyline clip-path=\"url(#clip6502)\" style=\"stroke:#000000; stroke-width:2; stroke-opacity:0.1; fill:none\" points=\"\n",
       "  237.019,137.304 2352.76,137.304 \n",
       "  \"/>\n",
       "<polyline clip-path=\"url(#clip6500)\" style=\"stroke:#000000; stroke-width:4; stroke-opacity:1; fill:none\" points=\"\n",
       "  237.019,1423.18 2352.76,1423.18 \n",
       "  \"/>\n",
       "<polyline clip-path=\"url(#clip6500)\" style=\"stroke:#000000; stroke-width:4; stroke-opacity:1; fill:none\" points=\"\n",
       "  237.019,1423.18 237.019,47.2441 \n",
       "  \"/>\n",
       "<polyline clip-path=\"url(#clip6500)\" style=\"stroke:#000000; stroke-width:4; stroke-opacity:1; fill:none\" points=\"\n",
       "  296.898,1423.18 296.898,1406.67 \n",
       "  \"/>\n",
       "<polyline clip-path=\"url(#clip6500)\" style=\"stroke:#000000; stroke-width:4; stroke-opacity:1; fill:none\" points=\"\n",
       "  962.224,1423.18 962.224,1406.67 \n",
       "  \"/>\n",
       "<polyline clip-path=\"url(#clip6500)\" style=\"stroke:#000000; stroke-width:4; stroke-opacity:1; fill:none\" points=\"\n",
       "  1627.55,1423.18 1627.55,1406.67 \n",
       "  \"/>\n",
       "<polyline clip-path=\"url(#clip6500)\" style=\"stroke:#000000; stroke-width:4; stroke-opacity:1; fill:none\" points=\"\n",
       "  2292.88,1423.18 2292.88,1406.67 \n",
       "  \"/>\n",
       "<polyline clip-path=\"url(#clip6500)\" style=\"stroke:#000000; stroke-width:4; stroke-opacity:1; fill:none\" points=\"\n",
       "  237.019,1354.19 262.408,1354.19 \n",
       "  \"/>\n",
       "<polyline clip-path=\"url(#clip6500)\" style=\"stroke:#000000; stroke-width:4; stroke-opacity:1; fill:none\" points=\"\n",
       "  237.019,1110.82 262.408,1110.82 \n",
       "  \"/>\n",
       "<polyline clip-path=\"url(#clip6500)\" style=\"stroke:#000000; stroke-width:4; stroke-opacity:1; fill:none\" points=\"\n",
       "  237.019,867.438 262.408,867.438 \n",
       "  \"/>\n",
       "<polyline clip-path=\"url(#clip6500)\" style=\"stroke:#000000; stroke-width:4; stroke-opacity:1; fill:none\" points=\"\n",
       "  237.019,624.06 262.408,624.06 \n",
       "  \"/>\n",
       "<polyline clip-path=\"url(#clip6500)\" style=\"stroke:#000000; stroke-width:4; stroke-opacity:1; fill:none\" points=\"\n",
       "  237.019,380.682 262.408,380.682 \n",
       "  \"/>\n",
       "<polyline clip-path=\"url(#clip6500)\" style=\"stroke:#000000; stroke-width:4; stroke-opacity:1; fill:none\" points=\"\n",
       "  237.019,137.304 262.408,137.304 \n",
       "  \"/>\n",
       "<path clip-path=\"url(#clip6500)\" d=\"M 0 0 M296.898 1445.17 Q293.287 1445.17 291.459 1448.74 Q289.653 1452.28 289.653 1459.41 Q289.653 1466.51 291.459 1470.08 Q293.287 1473.62 296.898 1473.62 Q300.533 1473.62 302.338 1470.08 Q304.167 1466.51 304.167 1459.41 Q304.167 1452.28 302.338 1448.74 Q300.533 1445.17 296.898 1445.17 M296.898 1441.47 Q302.708 1441.47 305.764 1446.07 Q308.843 1450.66 308.843 1459.41 Q308.843 1468.13 305.764 1472.74 Q302.708 1477.32 296.898 1477.32 Q291.088 1477.32 288.009 1472.74 Q284.954 1468.13 284.954 1459.41 Q284.954 1450.66 288.009 1446.07 Q291.088 1441.47 296.898 1441.47 Z\" fill=\"#000000\" fill-rule=\"evenodd\" fill-opacity=\"1\" /><path clip-path=\"url(#clip6500)\" d=\"M 0 0 M939.1 1472.72 L946.738 1472.72 L946.738 1446.35 L938.428 1448.02 L938.428 1443.76 L946.692 1442.09 L951.368 1442.09 L951.368 1472.72 L959.007 1472.72 L959.007 1476.65 L939.1 1476.65 L939.1 1472.72 Z\" fill=\"#000000\" fill-rule=\"evenodd\" fill-opacity=\"1\" /><path clip-path=\"url(#clip6500)\" d=\"M 0 0 M974.076 1445.17 Q970.465 1445.17 968.636 1448.74 Q966.831 1452.28 966.831 1459.41 Q966.831 1466.51 968.636 1470.08 Q970.465 1473.62 974.076 1473.62 Q977.71 1473.62 979.516 1470.08 Q981.345 1466.51 981.345 1459.41 Q981.345 1452.28 979.516 1448.74 Q977.71 1445.17 974.076 1445.17 M974.076 1441.47 Q979.886 1441.47 982.942 1446.07 Q986.021 1450.66 986.021 1459.41 Q986.021 1468.13 982.942 1472.74 Q979.886 1477.32 974.076 1477.32 Q968.266 1477.32 965.187 1472.74 Q962.132 1468.13 962.132 1459.41 Q962.132 1450.66 965.187 1446.07 Q968.266 1441.47 974.076 1441.47 Z\" fill=\"#000000\" fill-rule=\"evenodd\" fill-opacity=\"1\" /><path clip-path=\"url(#clip6500)\" d=\"M 0 0 M1608.7 1472.72 L1625.02 1472.72 L1625.02 1476.65 L1603.07 1476.65 L1603.07 1472.72 Q1605.73 1469.96 1610.32 1465.33 Q1614.92 1460.68 1616.1 1459.34 Q1618.35 1456.81 1619.23 1455.08 Q1620.13 1453.32 1620.13 1451.63 Q1620.13 1448.87 1618.19 1447.14 Q1616.27 1445.4 1613.16 1445.4 Q1610.96 1445.4 1608.51 1446.17 Q1606.08 1446.93 1603.3 1448.48 L1603.3 1443.76 Q1606.13 1442.62 1608.58 1442.05 Q1611.03 1441.47 1613.07 1441.47 Q1618.44 1441.47 1621.64 1444.15 Q1624.83 1446.84 1624.83 1451.33 Q1624.83 1453.46 1624.02 1455.38 Q1623.23 1457.28 1621.13 1459.87 Q1620.55 1460.54 1617.45 1463.76 Q1614.34 1466.95 1608.7 1472.72 Z\" fill=\"#000000\" fill-rule=\"evenodd\" fill-opacity=\"1\" /><path clip-path=\"url(#clip6500)\" d=\"M 0 0 M1640.09 1445.17 Q1636.47 1445.17 1634.65 1448.74 Q1632.84 1452.28 1632.84 1459.41 Q1632.84 1466.51 1634.65 1470.08 Q1636.47 1473.62 1640.09 1473.62 Q1643.72 1473.62 1645.52 1470.08 Q1647.35 1466.51 1647.35 1459.41 Q1647.35 1452.28 1645.52 1448.74 Q1643.72 1445.17 1640.09 1445.17 M1640.09 1441.47 Q1645.9 1441.47 1648.95 1446.07 Q1652.03 1450.66 1652.03 1459.41 Q1652.03 1468.13 1648.95 1472.74 Q1645.9 1477.32 1640.09 1477.32 Q1634.27 1477.32 1631.2 1472.74 Q1628.14 1468.13 1628.14 1459.41 Q1628.14 1450.66 1631.2 1446.07 Q1634.27 1441.47 1640.09 1441.47 Z\" fill=\"#000000\" fill-rule=\"evenodd\" fill-opacity=\"1\" /><path clip-path=\"url(#clip6500)\" d=\"M 0 0 M2283.62 1458.02 Q2286.97 1458.74 2288.85 1461 Q2290.75 1463.27 2290.75 1466.61 Q2290.75 1471.72 2287.23 1474.52 Q2283.71 1477.32 2277.23 1477.32 Q2275.05 1477.32 2272.74 1476.88 Q2270.45 1476.47 2267.99 1475.61 L2267.99 1471.1 Q2269.94 1472.23 2272.25 1472.81 Q2274.57 1473.39 2277.09 1473.39 Q2281.49 1473.39 2283.78 1471.65 Q2286.09 1469.92 2286.09 1466.61 Q2286.09 1463.55 2283.94 1461.84 Q2281.81 1460.1 2277.99 1460.1 L2273.96 1460.1 L2273.96 1456.26 L2278.18 1456.26 Q2281.63 1456.26 2283.46 1454.89 Q2285.28 1453.5 2285.28 1450.91 Q2285.28 1448.25 2283.39 1446.84 Q2281.51 1445.4 2277.99 1445.4 Q2276.07 1445.4 2273.87 1445.82 Q2271.67 1446.24 2269.03 1447.11 L2269.03 1442.95 Q2271.7 1442.21 2274.01 1441.84 Q2276.35 1441.47 2278.41 1441.47 Q2283.73 1441.47 2286.83 1443.9 Q2289.94 1446.3 2289.94 1450.43 Q2289.94 1453.3 2288.29 1455.29 Q2286.65 1457.25 2283.62 1458.02 Z\" fill=\"#000000\" fill-rule=\"evenodd\" fill-opacity=\"1\" /><path clip-path=\"url(#clip6500)\" d=\"M 0 0 M2305.82 1445.17 Q2302.21 1445.17 2300.38 1448.74 Q2298.57 1452.28 2298.57 1459.41 Q2298.57 1466.51 2300.38 1470.08 Q2302.21 1473.62 2305.82 1473.62 Q2309.45 1473.62 2311.26 1470.08 Q2313.08 1466.51 2313.08 1459.41 Q2313.08 1452.28 2311.26 1448.74 Q2309.45 1445.17 2305.82 1445.17 M2305.82 1441.47 Q2311.63 1441.47 2314.68 1446.07 Q2317.76 1450.66 2317.76 1459.41 Q2317.76 1468.13 2314.68 1472.74 Q2311.63 1477.32 2305.82 1477.32 Q2300.01 1477.32 2296.93 1472.74 Q2293.87 1468.13 2293.87 1459.41 Q2293.87 1450.66 2296.93 1446.07 Q2300.01 1441.47 2305.82 1441.47 Z\" fill=\"#000000\" fill-rule=\"evenodd\" fill-opacity=\"1\" /><path clip-path=\"url(#clip6500)\" d=\"M 0 0 M138.205 1339.99 Q134.593 1339.99 132.765 1343.56 Q130.959 1347.1 130.959 1354.23 Q130.959 1361.34 132.765 1364.9 Q134.593 1368.44 138.205 1368.44 Q141.839 1368.44 143.644 1364.9 Q145.473 1361.34 145.473 1354.23 Q145.473 1347.1 143.644 1343.56 Q141.839 1339.99 138.205 1339.99 M138.205 1336.29 Q144.015 1336.29 147.07 1340.9 Q150.149 1345.48 150.149 1354.23 Q150.149 1362.96 147.07 1367.56 Q144.015 1372.15 138.205 1372.15 Q132.394 1372.15 129.316 1367.56 Q126.26 1362.96 126.26 1354.23 Q126.26 1345.48 129.316 1340.9 Q132.394 1336.29 138.205 1336.29 Z\" fill=\"#000000\" fill-rule=\"evenodd\" fill-opacity=\"1\" /><path clip-path=\"url(#clip6500)\" d=\"M 0 0 M155.218 1365.59 L160.103 1365.59 L160.103 1371.47 L155.218 1371.47 L155.218 1365.59 Z\" fill=\"#000000\" fill-rule=\"evenodd\" fill-opacity=\"1\" /><path clip-path=\"url(#clip6500)\" d=\"M 0 0 M169.2 1367.54 L185.519 1367.54 L185.519 1371.47 L163.575 1371.47 L163.575 1367.54 Q166.237 1364.78 170.82 1360.15 Q175.427 1355.5 176.607 1354.16 Q178.852 1351.64 179.732 1349.9 Q180.635 1348.14 180.635 1346.45 Q180.635 1343.7 178.69 1341.96 Q176.769 1340.22 173.667 1340.22 Q171.468 1340.22 169.015 1340.99 Q166.584 1341.75 163.806 1343.3 L163.806 1338.58 Q166.63 1337.45 169.084 1336.87 Q171.538 1336.29 173.575 1336.29 Q178.945 1336.29 182.139 1338.97 Q185.334 1341.66 185.334 1346.15 Q185.334 1348.28 184.524 1350.2 Q183.737 1352.1 181.63 1354.69 Q181.052 1355.36 177.95 1358.58 Q174.848 1361.77 169.2 1367.54 Z\" fill=\"#000000\" fill-rule=\"evenodd\" fill-opacity=\"1\" /><path clip-path=\"url(#clip6500)\" d=\"M 0 0 M203.436 1340.99 L191.63 1359.44 L203.436 1359.44 L203.436 1340.99 M202.209 1336.91 L208.088 1336.91 L208.088 1359.44 L213.019 1359.44 L213.019 1363.33 L208.088 1363.33 L208.088 1371.47 L203.436 1371.47 L203.436 1363.33 L187.834 1363.33 L187.834 1358.81 L202.209 1336.91 Z\" fill=\"#000000\" fill-rule=\"evenodd\" fill-opacity=\"1\" /><path clip-path=\"url(#clip6500)\" d=\"M 0 0 M139.686 1096.61 Q136.075 1096.61 134.246 1100.18 Q132.441 1103.72 132.441 1110.85 Q132.441 1117.96 134.246 1121.52 Q136.075 1125.06 139.686 1125.06 Q143.32 1125.06 145.126 1121.52 Q146.954 1117.96 146.954 1110.85 Q146.954 1103.72 145.126 1100.18 Q143.32 1096.61 139.686 1096.61 M139.686 1092.91 Q145.496 1092.91 148.552 1097.52 Q151.63 1102.1 151.63 1110.85 Q151.63 1119.58 148.552 1124.18 Q145.496 1128.77 139.686 1128.77 Q133.876 1128.77 130.797 1124.18 Q127.742 1119.58 127.742 1110.85 Q127.742 1102.1 130.797 1097.52 Q133.876 1092.91 139.686 1092.91 Z\" fill=\"#000000\" fill-rule=\"evenodd\" fill-opacity=\"1\" /><path clip-path=\"url(#clip6500)\" d=\"M 0 0 M156.7 1122.22 L161.584 1122.22 L161.584 1128.1 L156.7 1128.1 L156.7 1122.22 Z\" fill=\"#000000\" fill-rule=\"evenodd\" fill-opacity=\"1\" /><path clip-path=\"url(#clip6500)\" d=\"M 0 0 M170.681 1124.16 L187.001 1124.16 L187.001 1128.1 L165.056 1128.1 L165.056 1124.16 Q167.718 1121.41 172.302 1116.78 Q176.908 1112.12 178.089 1110.78 Q180.334 1108.26 181.214 1106.52 Q182.116 1104.76 182.116 1103.07 Q182.116 1100.32 180.172 1098.58 Q178.251 1096.85 175.149 1096.85 Q172.95 1096.85 170.496 1097.61 Q168.065 1098.37 165.288 1099.92 L165.288 1095.2 Q168.112 1094.07 170.565 1093.49 Q173.019 1092.91 175.056 1092.91 Q180.427 1092.91 183.621 1095.6 Q186.815 1098.28 186.815 1102.77 Q186.815 1104.9 186.005 1106.82 Q185.218 1108.72 183.112 1111.31 Q182.533 1111.98 179.431 1115.2 Q176.329 1118.4 170.681 1124.16 Z\" fill=\"#000000\" fill-rule=\"evenodd\" fill-opacity=\"1\" /><path clip-path=\"url(#clip6500)\" d=\"M 0 0 M192.116 1093.54 L210.473 1093.54 L210.473 1097.47 L196.399 1097.47 L196.399 1105.94 Q197.417 1105.6 198.436 1105.43 Q199.454 1105.25 200.473 1105.25 Q206.26 1105.25 209.639 1108.42 Q213.019 1111.59 213.019 1117.01 Q213.019 1122.59 209.547 1125.69 Q206.075 1128.77 199.755 1128.77 Q197.579 1128.77 195.311 1128.4 Q193.065 1128.03 190.658 1127.29 L190.658 1122.59 Q192.741 1123.72 194.963 1124.28 Q197.186 1124.83 199.663 1124.83 Q203.667 1124.83 206.005 1122.73 Q208.343 1120.62 208.343 1117.01 Q208.343 1113.4 206.005 1111.29 Q203.667 1109.18 199.663 1109.18 Q197.788 1109.18 195.913 1109.6 Q194.061 1110.02 192.116 1110.9 L192.116 1093.54 Z\" fill=\"#000000\" fill-rule=\"evenodd\" fill-opacity=\"1\" /><path clip-path=\"url(#clip6500)\" d=\"M 0 0 M138.529 853.237 Q134.918 853.237 133.089 856.801 Q131.283 860.343 131.283 867.473 Q131.283 874.579 133.089 878.144 Q134.918 881.686 138.529 881.686 Q142.163 881.686 143.968 878.144 Q145.797 874.579 145.797 867.473 Q145.797 860.343 143.968 856.801 Q142.163 853.237 138.529 853.237 M138.529 849.533 Q144.339 849.533 147.394 854.139 Q150.473 858.723 150.473 867.473 Q150.473 876.199 147.394 880.806 Q144.339 885.389 138.529 885.389 Q132.718 885.389 129.64 880.806 Q126.584 876.199 126.584 867.473 Q126.584 858.723 129.64 854.139 Q132.718 849.533 138.529 849.533 Z\" fill=\"#000000\" fill-rule=\"evenodd\" fill-opacity=\"1\" /><path clip-path=\"url(#clip6500)\" d=\"M 0 0 M155.542 878.838 L160.427 878.838 L160.427 884.718 L155.542 884.718 L155.542 878.838 Z\" fill=\"#000000\" fill-rule=\"evenodd\" fill-opacity=\"1\" /><path clip-path=\"url(#clip6500)\" d=\"M 0 0 M169.524 880.783 L185.843 880.783 L185.843 884.718 L163.899 884.718 L163.899 880.783 Q166.561 878.028 171.144 873.399 Q175.751 868.746 176.931 867.403 Q179.177 864.88 180.056 863.144 Q180.959 861.385 180.959 859.695 Q180.959 856.94 179.015 855.204 Q177.093 853.468 173.991 853.468 Q171.792 853.468 169.339 854.232 Q166.908 854.996 164.13 856.547 L164.13 851.825 Q166.954 850.69 169.408 850.112 Q171.862 849.533 173.899 849.533 Q179.269 849.533 182.464 852.218 Q185.658 854.903 185.658 859.394 Q185.658 861.524 184.848 863.445 Q184.061 865.343 181.954 867.936 Q181.376 868.607 178.274 871.824 Q175.172 875.019 169.524 880.783 Z\" fill=\"#000000\" fill-rule=\"evenodd\" fill-opacity=\"1\" /><path clip-path=\"url(#clip6500)\" d=\"M 0 0 M201.491 865.575 Q198.343 865.575 196.491 867.727 Q194.663 869.88 194.663 873.63 Q194.663 877.357 196.491 879.533 Q198.343 881.686 201.491 881.686 Q204.639 881.686 206.468 879.533 Q208.32 877.357 208.32 873.63 Q208.32 869.88 206.468 867.727 Q204.639 865.575 201.491 865.575 M210.774 850.922 L210.774 855.181 Q209.014 854.348 207.209 853.908 Q205.426 853.468 203.667 853.468 Q199.038 853.468 196.584 856.593 Q194.153 859.718 193.806 866.037 Q195.172 864.024 197.232 862.959 Q199.292 861.871 201.769 861.871 Q206.977 861.871 209.987 865.042 Q213.019 868.19 213.019 873.63 Q213.019 878.954 209.871 882.172 Q206.723 885.389 201.491 885.389 Q195.496 885.389 192.325 880.806 Q189.153 876.199 189.153 867.473 Q189.153 859.278 193.042 854.417 Q196.931 849.533 203.482 849.533 Q205.241 849.533 207.024 849.88 Q208.829 850.227 210.774 850.922 Z\" fill=\"#000000\" fill-rule=\"evenodd\" fill-opacity=\"1\" /><path clip-path=\"url(#clip6500)\" d=\"M 0 0 M139.593 609.859 Q135.982 609.859 134.154 613.423 Q132.348 616.965 132.348 624.095 Q132.348 631.201 134.154 634.766 Q135.982 638.307 139.593 638.307 Q143.228 638.307 145.033 634.766 Q146.862 631.201 146.862 624.095 Q146.862 616.965 145.033 613.423 Q143.228 609.859 139.593 609.859 M139.593 606.155 Q145.404 606.155 148.459 610.761 Q151.538 615.345 151.538 624.095 Q151.538 632.821 148.459 637.428 Q145.404 642.011 139.593 642.011 Q133.783 642.011 130.705 637.428 Q127.649 632.821 127.649 624.095 Q127.649 615.345 130.705 610.761 Q133.783 606.155 139.593 606.155 Z\" fill=\"#000000\" fill-rule=\"evenodd\" fill-opacity=\"1\" /><path clip-path=\"url(#clip6500)\" d=\"M 0 0 M156.607 635.46 L161.491 635.46 L161.491 641.34 L156.607 641.34 L156.607 635.46 Z\" fill=\"#000000\" fill-rule=\"evenodd\" fill-opacity=\"1\" /><path clip-path=\"url(#clip6500)\" d=\"M 0 0 M170.589 637.405 L186.908 637.405 L186.908 641.34 L164.964 641.34 L164.964 637.405 Q167.626 634.65 172.209 630.021 Q176.815 625.368 177.996 624.025 Q180.241 621.502 181.121 619.766 Q182.024 618.007 182.024 616.317 Q182.024 613.562 180.079 611.826 Q178.158 610.09 175.056 610.09 Q172.857 610.09 170.403 610.854 Q167.973 611.618 165.195 613.169 L165.195 608.447 Q168.019 607.312 170.473 606.734 Q172.927 606.155 174.964 606.155 Q180.334 606.155 183.528 608.84 Q186.723 611.525 186.723 616.016 Q186.723 618.146 185.913 620.067 Q185.126 621.965 183.019 624.558 Q182.44 625.229 179.339 628.446 Q176.237 631.641 170.589 637.405 Z\" fill=\"#000000\" fill-rule=\"evenodd\" fill-opacity=\"1\" /><path clip-path=\"url(#clip6500)\" d=\"M 0 0 M190.797 606.78 L213.019 606.78 L213.019 608.771 L200.473 641.34 L195.588 641.34 L207.394 610.715 L190.797 610.715 L190.797 606.78 Z\" fill=\"#000000\" fill-rule=\"evenodd\" fill-opacity=\"1\" /><path clip-path=\"url(#clip6500)\" d=\"M 0 0 M138.783 366.481 Q135.172 366.481 133.343 370.045 Q131.538 373.587 131.538 380.717 Q131.538 387.823 133.343 391.388 Q135.172 394.929 138.783 394.929 Q142.417 394.929 144.223 391.388 Q146.052 387.823 146.052 380.717 Q146.052 373.587 144.223 370.045 Q142.417 366.481 138.783 366.481 M138.783 362.777 Q144.593 362.777 147.649 367.383 Q150.728 371.967 150.728 380.717 Q150.728 389.443 147.649 394.05 Q144.593 398.633 138.783 398.633 Q132.973 398.633 129.894 394.05 Q126.839 389.443 126.839 380.717 Q126.839 371.967 129.894 367.383 Q132.973 362.777 138.783 362.777 Z\" fill=\"#000000\" fill-rule=\"evenodd\" fill-opacity=\"1\" /><path clip-path=\"url(#clip6500)\" d=\"M 0 0 M155.797 392.082 L160.681 392.082 L160.681 397.962 L155.797 397.962 L155.797 392.082 Z\" fill=\"#000000\" fill-rule=\"evenodd\" fill-opacity=\"1\" /><path clip-path=\"url(#clip6500)\" d=\"M 0 0 M169.778 394.027 L186.098 394.027 L186.098 397.962 L164.153 397.962 L164.153 394.027 Q166.815 391.272 171.399 386.642 Q176.005 381.99 177.186 380.647 Q179.431 378.124 180.311 376.388 Q181.214 374.629 181.214 372.939 Q181.214 370.184 179.269 368.448 Q177.348 366.712 174.246 366.712 Q172.047 366.712 169.593 367.476 Q167.163 368.24 164.385 369.791 L164.385 365.069 Q167.209 363.934 169.663 363.356 Q172.116 362.777 174.153 362.777 Q179.524 362.777 182.718 365.462 Q185.913 368.147 185.913 372.638 Q185.913 374.768 185.102 376.689 Q184.315 378.587 182.209 381.18 Q181.63 381.851 178.528 385.068 Q175.427 388.263 169.778 394.027 Z\" fill=\"#000000\" fill-rule=\"evenodd\" fill-opacity=\"1\" /><path clip-path=\"url(#clip6500)\" d=\"M 0 0 M201.167 381.55 Q197.834 381.55 195.913 383.332 Q194.014 385.115 194.014 388.24 Q194.014 391.365 195.913 393.147 Q197.834 394.929 201.167 394.929 Q204.5 394.929 206.422 393.147 Q208.343 391.342 208.343 388.24 Q208.343 385.115 206.422 383.332 Q204.524 381.55 201.167 381.55 M196.491 379.559 Q193.482 378.818 191.792 376.758 Q190.126 374.698 190.126 371.735 Q190.126 367.592 193.065 365.184 Q196.028 362.777 201.167 362.777 Q206.329 362.777 209.269 365.184 Q212.209 367.592 212.209 371.735 Q212.209 374.698 210.519 376.758 Q208.852 378.818 205.866 379.559 Q209.246 380.346 211.121 382.638 Q213.019 384.93 213.019 388.24 Q213.019 393.263 209.94 395.948 Q206.885 398.633 201.167 398.633 Q195.45 398.633 192.371 395.948 Q189.315 393.263 189.315 388.24 Q189.315 384.93 191.214 382.638 Q193.112 380.346 196.491 379.559 M194.778 372.175 Q194.778 374.86 196.445 376.365 Q198.135 377.869 201.167 377.869 Q204.176 377.869 205.866 376.365 Q207.579 374.86 207.579 372.175 Q207.579 369.49 205.866 367.985 Q204.176 366.481 201.167 366.481 Q198.135 366.481 196.445 367.985 Q194.778 369.49 194.778 372.175 Z\" fill=\"#000000\" fill-rule=\"evenodd\" fill-opacity=\"1\" /><path clip-path=\"url(#clip6500)\" d=\"M 0 0 M138.876 123.103 Q135.265 123.103 133.436 126.667 Q131.63 130.209 131.63 137.339 Q131.63 144.445 133.436 148.01 Q135.265 151.551 138.876 151.551 Q142.51 151.551 144.316 148.01 Q146.144 144.445 146.144 137.339 Q146.144 130.209 144.316 126.667 Q142.51 123.103 138.876 123.103 M138.876 119.399 Q144.686 119.399 147.742 124.005 Q150.82 128.589 150.82 137.339 Q150.82 146.065 147.742 150.672 Q144.686 155.255 138.876 155.255 Q133.066 155.255 129.987 150.672 Q126.931 146.065 126.931 137.339 Q126.931 128.589 129.987 124.005 Q133.066 119.399 138.876 119.399 Z\" fill=\"#000000\" fill-rule=\"evenodd\" fill-opacity=\"1\" /><path clip-path=\"url(#clip6500)\" d=\"M 0 0 M155.89 148.704 L160.774 148.704 L160.774 154.584 L155.89 154.584 L155.89 148.704 Z\" fill=\"#000000\" fill-rule=\"evenodd\" fill-opacity=\"1\" /><path clip-path=\"url(#clip6500)\" d=\"M 0 0 M169.871 150.649 L186.19 150.649 L186.19 154.584 L164.246 154.584 L164.246 150.649 Q166.908 147.894 171.491 143.264 Q176.098 138.612 177.278 137.269 Q179.524 134.746 180.403 133.01 Q181.306 131.251 181.306 129.561 Q181.306 126.806 179.362 125.07 Q177.44 123.334 174.339 123.334 Q172.14 123.334 169.686 124.098 Q167.255 124.862 164.478 126.413 L164.478 121.69 Q167.302 120.556 169.755 119.978 Q172.209 119.399 174.246 119.399 Q179.616 119.399 182.811 122.084 Q186.005 124.769 186.005 129.26 Q186.005 131.39 185.195 133.311 Q184.408 135.209 182.302 137.802 Q181.723 138.473 178.621 141.69 Q175.519 144.885 169.871 150.649 Z\" fill=\"#000000\" fill-rule=\"evenodd\" fill-opacity=\"1\" /><path clip-path=\"url(#clip6500)\" d=\"M 0 0 M191.399 153.866 L191.399 149.607 Q193.158 150.44 194.963 150.88 Q196.769 151.32 198.505 151.32 Q203.135 151.32 205.565 148.218 Q208.019 145.093 208.366 138.751 Q207.024 140.741 204.963 141.806 Q202.903 142.871 200.403 142.871 Q195.218 142.871 192.186 139.746 Q189.176 136.598 189.176 131.158 Q189.176 125.834 192.325 122.616 Q195.473 119.399 200.704 119.399 Q206.7 119.399 209.848 124.005 Q213.019 128.589 213.019 137.339 Q213.019 145.51 209.13 150.394 Q205.264 155.255 198.713 155.255 Q196.954 155.255 195.149 154.908 Q193.343 154.561 191.399 153.866 M200.704 139.214 Q203.852 139.214 205.681 137.061 Q207.533 134.908 207.533 131.158 Q207.533 127.431 205.681 125.278 Q203.852 123.103 200.704 123.103 Q197.556 123.103 195.704 125.278 Q193.876 127.431 193.876 131.158 Q193.876 134.908 195.704 137.061 Q197.556 139.214 200.704 139.214 Z\" fill=\"#000000\" fill-rule=\"evenodd\" fill-opacity=\"1\" /><path clip-path=\"url(#clip6500)\" d=\"M 0 0 M1240.65 1510.27 L1240.65 1520.4 L1252.71 1520.4 L1252.71 1524.95 L1240.65 1524.95 L1240.65 1544.3 Q1240.65 1548.66 1241.83 1549.9 Q1243.04 1551.14 1246.7 1551.14 L1252.71 1551.14 L1252.71 1556.04 L1246.7 1556.04 Q1239.92 1556.04 1237.34 1553.53 Q1234.76 1550.98 1234.76 1544.3 L1234.76 1524.95 L1230.47 1524.95 L1230.47 1520.4 L1234.76 1520.4 L1234.76 1510.27 L1240.65 1510.27 Z\" fill=\"#000000\" fill-rule=\"evenodd\" fill-opacity=\"1\" /><path clip-path=\"url(#clip6500)\" d=\"M 0 0 M1258.86 1520.4 L1264.71 1520.4 L1264.71 1556.04 L1258.86 1556.04 L1258.86 1520.4 M1258.86 1506.52 L1264.71 1506.52 L1264.71 1513.93 L1258.86 1513.93 L1258.86 1506.52 Z\" fill=\"#000000\" fill-rule=\"evenodd\" fill-opacity=\"1\" /><path clip-path=\"url(#clip6500)\" d=\"M 0 0 M1298.61 1527.24 Q1300.81 1523.29 1303.86 1521.41 Q1306.92 1519.54 1311.06 1519.54 Q1316.63 1519.54 1319.65 1523.45 Q1322.67 1527.33 1322.67 1534.53 L1322.67 1556.04 L1316.79 1556.04 L1316.79 1534.72 Q1316.79 1529.59 1314.97 1527.11 Q1313.16 1524.63 1309.43 1524.63 Q1304.88 1524.63 1302.24 1527.65 Q1299.6 1530.68 1299.6 1535.9 L1299.6 1556.04 L1293.71 1556.04 L1293.71 1534.72 Q1293.71 1529.56 1291.9 1527.11 Q1290.08 1524.63 1286.29 1524.63 Q1281.81 1524.63 1279.16 1527.68 Q1276.52 1530.71 1276.52 1535.9 L1276.52 1556.04 L1270.63 1556.04 L1270.63 1520.4 L1276.52 1520.4 L1276.52 1525.93 Q1278.53 1522.66 1281.33 1521.1 Q1284.13 1519.54 1287.98 1519.54 Q1291.86 1519.54 1294.57 1521.51 Q1297.31 1523.48 1298.61 1527.24 Z\" fill=\"#000000\" fill-rule=\"evenodd\" fill-opacity=\"1\" /><path clip-path=\"url(#clip6500)\" d=\"M 0 0 M1359.31 1536.76 L1359.31 1539.62 L1332.38 1539.62 Q1332.76 1545.67 1336.01 1548.85 Q1339.29 1552 1345.11 1552 Q1348.49 1552 1351.64 1551.17 Q1354.82 1550.35 1357.94 1548.69 L1357.94 1554.23 Q1354.79 1555.57 1351.48 1556.27 Q1348.17 1556.97 1344.76 1556.97 Q1336.23 1556.97 1331.24 1552 Q1326.27 1547.04 1326.27 1538.57 Q1326.27 1529.82 1330.98 1524.69 Q1335.72 1519.54 1343.74 1519.54 Q1350.94 1519.54 1355.11 1524.18 Q1359.31 1528.8 1359.31 1536.76 M1353.45 1535.04 Q1353.39 1530.23 1350.75 1527.37 Q1348.14 1524.5 1343.81 1524.5 Q1338.91 1524.5 1335.95 1527.27 Q1333.02 1530.04 1332.57 1535.07 L1353.45 1535.04 Z\" fill=\"#000000\" fill-rule=\"evenodd\" fill-opacity=\"1\" /><path clip-path=\"url(#clip6500)\" d=\"M 0 0 M57.8307 951.041 Q57.2578 952.028 57.0032 953.206 Q56.7167 954.351 56.7167 955.752 Q56.7167 960.717 59.9632 963.391 Q63.1779 966.032 69.2253 966.032 L88.0042 966.032 L88.0042 971.921 L52.3562 971.921 L52.3562 966.032 L57.8944 966.032 Q54.6479 964.186 53.0883 961.226 Q51.4968 958.266 51.4968 954.033 Q51.4968 953.428 51.5923 952.696 Q51.656 951.964 51.8151 951.073 L57.8307 951.041 Z\" fill=\"#000000\" fill-rule=\"evenodd\" fill-opacity=\"1\" /><path clip-path=\"url(#clip6500)\" d=\"M 0 0 M56.4621 932.517 Q56.4621 937.228 60.1542 939.965 Q63.8145 942.702 70.212 942.702 Q76.6095 942.702 80.3017 939.997 Q83.9619 937.259 83.9619 932.517 Q83.9619 927.838 80.2698 925.101 Q76.5777 922.364 70.212 922.364 Q63.8781 922.364 60.186 925.101 Q56.4621 927.838 56.4621 932.517 M51.4968 932.517 Q51.4968 924.878 56.4621 920.518 Q61.4273 916.157 70.212 916.157 Q78.9649 916.157 83.9619 920.518 Q88.9272 924.878 88.9272 932.517 Q88.9272 940.188 83.9619 944.548 Q78.9649 948.877 70.212 948.877 Q61.4273 948.877 56.4621 944.548 Q51.4968 940.188 51.4968 932.517 Z\" fill=\"#000000\" fill-rule=\"evenodd\" fill-opacity=\"1\" /><path clip-path=\"url(#clip6500)\" d=\"M 0 0 M42.2347 904.221 L52.3562 904.221 L52.3562 892.158 L56.9077 892.158 L56.9077 904.221 L76.2594 904.221 Q80.6199 904.221 81.8613 903.044 Q83.1026 901.834 83.1026 898.174 L83.1026 892.158 L88.0042 892.158 L88.0042 898.174 Q88.0042 904.954 85.4897 907.532 Q82.9434 910.11 76.2594 910.11 L56.9077 910.11 L56.9077 914.407 L52.3562 914.407 L52.3562 910.11 L42.2347 910.11 L42.2347 904.221 Z\" fill=\"#000000\" fill-rule=\"evenodd\" fill-opacity=\"1\" /><path clip-path=\"url(#clip6500)\" d=\"M 0 0 M56.4621 872.202 Q56.4621 876.913 60.1542 879.65 Q63.8145 882.387 70.212 882.387 Q76.6095 882.387 80.3017 879.682 Q83.9619 876.944 83.9619 872.202 Q83.9619 867.523 80.2698 864.786 Q76.5777 862.049 70.212 862.049 Q63.8781 862.049 60.186 864.786 Q56.4621 867.523 56.4621 872.202 M51.4968 872.202 Q51.4968 864.563 56.4621 860.203 Q61.4273 855.842 70.212 855.842 Q78.9649 855.842 83.9619 860.203 Q88.9272 864.563 88.9272 872.202 Q88.9272 879.873 83.9619 884.233 Q78.9649 888.562 70.212 888.562 Q61.4273 888.562 56.4621 884.233 Q51.4968 879.873 51.4968 872.202 Z\" fill=\"#000000\" fill-rule=\"evenodd\" fill-opacity=\"1\" /><path clip-path=\"url(#clip6500)\" d=\"M 0 0 M57.8307 829.042 Q57.2578 830.029 57.0032 831.207 Q56.7167 832.353 56.7167 833.753 Q56.7167 838.718 59.9632 841.392 Q63.1779 844.034 69.2253 844.034 L88.0042 844.034 L88.0042 849.922 L52.3562 849.922 L52.3562 844.034 L57.8944 844.034 Q54.6479 842.188 53.0883 839.228 Q51.4968 836.268 51.4968 832.034 Q51.4968 831.43 51.5923 830.698 Q51.656 829.966 51.8151 829.074 L57.8307 829.042 Z\" fill=\"#000000\" fill-rule=\"evenodd\" fill-opacity=\"1\" /><path clip-path=\"url(#clip6500)\" d=\"M 0 0 M70.0847 785.978 Q70.0847 793.076 71.7079 795.813 Q73.3312 798.551 77.2461 798.551 Q80.3653 798.551 82.2114 796.514 Q84.0256 794.445 84.0256 790.912 Q84.0256 786.042 80.5881 783.114 Q77.1188 780.154 71.3897 780.154 L70.0847 780.154 L70.0847 785.978 M67.6657 774.297 L88.0042 774.297 L88.0042 780.154 L82.5933 780.154 Q85.8398 782.159 87.3994 785.151 Q88.9272 788.143 88.9272 792.471 Q88.9272 797.946 85.8716 801.193 Q82.7843 804.407 77.6281 804.407 Q71.6125 804.407 68.5569 800.397 Q65.5014 796.355 65.5014 788.366 L65.5014 780.154 L64.9285 780.154 Q60.8862 780.154 58.6901 782.827 Q56.4621 785.469 56.4621 790.275 Q56.4621 793.331 57.1941 796.227 Q57.9262 799.124 59.3903 801.797 L53.9795 801.797 Q52.7381 798.583 52.1334 795.559 Q51.4968 792.535 51.4968 789.671 Q51.4968 781.936 55.5072 778.117 Q59.5176 774.297 67.6657 774.297 Z\" fill=\"#000000\" fill-rule=\"evenodd\" fill-opacity=\"1\" /><path clip-path=\"url(#clip6500)\" d=\"M 0 0 M66.4881 738.522 L88.0042 738.522 L88.0042 744.379 L66.679 744.379 Q61.6183 744.379 59.1038 746.352 Q56.5894 748.325 56.5894 752.272 Q56.5894 757.015 59.6131 759.752 Q62.6368 762.489 67.8567 762.489 L88.0042 762.489 L88.0042 768.377 L52.3562 768.377 L52.3562 762.489 L57.8944 762.489 Q54.6797 760.388 53.0883 757.556 Q51.4968 754.691 51.4968 750.967 Q51.4968 744.824 55.3163 741.673 Q59.1038 738.522 66.4881 738.522 Z\" fill=\"#000000\" fill-rule=\"evenodd\" fill-opacity=\"1\" /><path clip-path=\"url(#clip6500)\" d=\"M 0 0 M69.7664 708.922 Q63.4007 708.922 59.8996 711.563 Q56.3984 714.173 56.3984 718.916 Q56.3984 723.626 59.8996 726.268 Q63.4007 728.878 69.7664 728.878 Q76.1003 728.878 79.6014 726.268 Q83.1026 723.626 83.1026 718.916 Q83.1026 714.173 79.6014 711.563 Q76.1003 708.922 69.7664 708.922 M83.58 703.065 Q92.683 703.065 97.1071 707.107 Q101.563 711.15 101.563 719.489 Q101.563 722.576 101.086 725.313 Q100.64 728.051 99.6852 730.629 L93.9879 730.629 Q95.3884 728.051 96.0568 725.536 Q96.7252 723.022 96.7252 720.412 Q96.7252 714.651 93.7015 711.786 Q90.7096 708.922 84.6303 708.922 L81.7339 708.922 Q84.885 710.736 86.4446 713.569 Q88.0042 716.401 88.0042 720.348 Q88.0042 726.905 83.0071 730.915 Q78.01 734.926 69.7664 734.926 Q61.491 734.926 56.4939 730.915 Q51.4968 726.905 51.4968 720.348 Q51.4968 716.401 53.0564 713.569 Q54.616 710.736 57.7671 708.922 L52.3562 708.922 L52.3562 703.065 L83.58 703.065 Z\" fill=\"#000000\" fill-rule=\"evenodd\" fill-opacity=\"1\" /><path clip-path=\"url(#clip6500)\" d=\"M 0 0 M38.479 696.922 L38.479 691.066 L88.0042 691.066 L88.0042 696.922 L38.479 696.922 Z\" fill=\"#000000\" fill-rule=\"evenodd\" fill-opacity=\"1\" /><path clip-path=\"url(#clip6500)\" d=\"M 0 0 M68.7161 654.431 L71.5806 654.431 L71.5806 681.358 Q77.6281 680.976 80.8109 677.73 Q83.9619 674.451 83.9619 668.627 Q83.9619 665.253 83.1344 662.102 Q82.3069 658.919 80.6518 655.8 L86.1899 655.8 Q87.5267 658.951 88.227 662.261 Q88.9272 665.571 88.9272 668.977 Q88.9272 677.507 83.9619 682.504 Q78.9967 687.469 70.5303 687.469 Q61.7774 687.469 56.6531 682.759 Q51.4968 678.016 51.4968 669.995 Q51.4968 662.802 56.1438 658.633 Q60.7589 654.431 68.7161 654.431 M66.9973 660.288 Q62.1912 660.351 59.3266 662.993 Q56.4621 665.603 56.4621 669.932 Q56.4621 674.833 59.2312 677.793 Q62.0002 680.722 67.0292 681.167 L66.9973 660.288 Z\" fill=\"#000000\" fill-rule=\"evenodd\" fill-opacity=\"1\" /><path clip-path=\"url(#clip6500)\" d=\"M 0 0 M38.479 628.109 L38.479 614.614 L43.0304 614.614 L43.0304 622.253 L92.0464 622.253 L92.0464 614.614 L96.5979 614.614 L96.5979 628.109 L38.479 628.109 Z\" fill=\"#000000\" fill-rule=\"evenodd\" fill-opacity=\"1\" /><path clip-path=\"url(#clip6500)\" d=\"M 0 0 M57.8307 587.814 Q57.2578 588.801 57.0032 589.978 Q56.7167 591.124 56.7167 592.525 Q56.7167 597.49 59.9632 600.164 Q63.1779 602.805 69.2253 602.805 L88.0042 602.805 L88.0042 608.694 L52.3562 608.694 L52.3562 602.805 L57.8944 602.805 Q54.6479 600.959 53.0883 597.999 Q51.4968 595.039 51.4968 590.806 Q51.4968 590.201 51.5923 589.469 Q51.656 588.737 51.8151 587.846 L57.8307 587.814 Z\" fill=\"#000000\" fill-rule=\"evenodd\" fill-opacity=\"1\" /><path clip-path=\"url(#clip6500)\" d=\"M 0 0 M70.0847 565.47 Q70.0847 572.568 71.7079 575.305 Q73.3312 578.043 77.2461 578.043 Q80.3653 578.043 82.2114 576.006 Q84.0256 573.937 84.0256 570.404 Q84.0256 565.534 80.5881 562.606 Q77.1188 559.646 71.3897 559.646 L70.0847 559.646 L70.0847 565.47 M67.6657 553.789 L88.0042 553.789 L88.0042 559.646 L82.5933 559.646 Q85.8398 561.651 87.3994 564.643 Q88.9272 567.635 88.9272 571.963 Q88.9272 577.438 85.8716 580.684 Q82.7843 583.899 77.6281 583.899 Q71.6125 583.899 68.5569 579.889 Q65.5014 575.847 65.5014 567.858 L65.5014 559.646 L64.9285 559.646 Q60.8862 559.646 58.6901 562.319 Q56.4621 564.961 56.4621 569.767 Q56.4621 572.823 57.1941 575.719 Q57.9262 578.616 59.3903 581.289 L53.9795 581.289 Q52.7381 578.075 52.1334 575.051 Q51.4968 572.027 51.4968 569.163 Q51.4968 561.428 55.5072 557.609 Q59.5176 553.789 67.6657 553.789 Z\" fill=\"#000000\" fill-rule=\"evenodd\" fill-opacity=\"1\" /><path clip-path=\"url(#clip6500)\" d=\"M 0 0 M57.7671 524.189 L38.479 524.189 L38.479 518.332 L88.0042 518.332 L88.0042 524.189 L82.657 524.189 Q85.8398 526.035 87.3994 528.868 Q88.9272 531.668 88.9272 535.615 Q88.9272 542.076 83.771 546.15 Q78.6147 550.193 70.212 550.193 Q61.8093 550.193 56.6531 546.15 Q51.4968 542.076 51.4968 535.615 Q51.4968 531.668 53.0564 528.868 Q54.5842 526.035 57.7671 524.189 M70.212 544.145 Q76.6732 544.145 80.3653 541.504 Q84.0256 538.83 84.0256 534.183 Q84.0256 529.536 80.3653 526.862 Q76.6732 524.189 70.212 524.189 Q63.7508 524.189 60.0905 526.862 Q56.3984 529.536 56.3984 534.183 Q56.3984 538.83 60.0905 541.504 Q63.7508 544.145 70.212 544.145 Z\" fill=\"#000000\" fill-rule=\"evenodd\" fill-opacity=\"1\" /><path clip-path=\"url(#clip6500)\" d=\"M 0 0 M38.479 498.503 L96.5979 498.503 L96.5979 511.998 L92.0464 511.998 L92.0464 504.391 L43.0304 504.391 L43.0304 511.998 L38.479 511.998 L38.479 498.503 Z\" fill=\"#000000\" fill-rule=\"evenodd\" fill-opacity=\"1\" /><polyline clip-path=\"url(#clip6502)\" style=\"stroke:#009af9; stroke-width:4; stroke-opacity:1; fill:none\" points=\"\n",
       "  296.898,1384.24 296.965,1384.24 297.031,1384.24 297.164,1384.24 297.431,1384.24 297.963,1384.24 299.027,1384.24 300.358,1384.24 301.689,1384.24 303.019,1384.24 \n",
       "  304.35,1384.24 305.681,1384.24 307.011,1384.24 308.342,1384.24 309.673,1384.24 311.003,1384.24 312.334,1384.24 313.665,1384.24 314.995,1384.24 316.326,1384.24 \n",
       "  317.656,1384.24 318.987,1384.24 320.318,1384.24 321.648,1384.24 322.979,1384.24 324.31,1384.24 325.64,1384.24 326.971,1384.24 328.302,1384.24 329.632,1384.24 \n",
       "  330.963,1384.24 332.294,1384.24 333.624,1384.24 334.955,1384.24 336.286,1384.24 337.616,1384.24 338.947,1384.24 340.278,1384.24 341.608,1384.24 342.939,1384.24 \n",
       "  344.27,1384.24 345.6,1384.24 346.931,1384.24 348.261,1384.24 349.592,1384.24 350.923,1384.24 352.253,1384.24 353.584,1384.24 354.915,1384.24 356.245,1384.24 \n",
       "  357.576,1384.24 358.907,1384.24 360.237,1384.24 361.568,1384.24 362.899,1384.24 363.431,1384.24 364.104,1376.77 364.776,1362.02 365.449,1340.23 \n",
       "  366.78,1282.02 368.11,1201.54 369.441,1100.29 370.771,982.751 372.102,853.093 373.433,716.814 374.763,579.725 376.094,453.84 377.292,352.118 378.37,271.983 \n",
       "  379.34,210.362 380.31,162.973 381.162,128.631 382.015,104.183 382.867,92.5864 383.72,86.1857 384.572,88.2505 385.425,99.7599 386.755,136.641 388.086,195.192 \n",
       "  389.417,273.505 390.747,368.402 392.078,475.828 393.409,590.927 394.739,708.866 396.07,824.8 397.4,933.943 398.731,1031.78 400.062,1114.3 401.392,1178.13 \n",
       "  402.723,1220.73 404.054,1240.44 405.384,1236.61 406.715,1209.53 408.046,1160.49 409.376,1091.68 410.707,1006.17 412.038,907.53 413.368,799.925 414.699,687.917 \n",
       "  416.03,576.232 417.36,469.524 418.691,372.188 420.022,288.197 421.352,220.947 422.683,173.118 424.014,146.691 425.344,142.253 426.675,159.969 428.005,199.146 \n",
       "  429.336,258.123 430.667,334.359 431.997,424.571 433.328,524.907 434.659,631.109 435.989,738.699 437.32,837.783 438.651,925.946 439.848,994.233 440.926,1045.45 \n",
       "  441.896,1082.49 442.866,1107.87 443.739,1124.37 444.612,1130.69 445.398,1131.33 446.184,1125.46 446.97,1113.28 448.3,1082.39 449.631,1036.58 450.961,976.774 \n",
       "  452.292,905.239 453.623,824.538 454.953,738.105 456.284,649.598 457.615,562.739 458.945,481.144 460.276,408.178 461.607,346.891 462.937,299.766 464.268,268.695 \n",
       "  465.599,254.858 466.929,258.722 468.26,280.01 469.591,317.729 470.921,370.212 472.252,435.177 473.583,509.834 474.913,591.025 476.244,675.337 477.575,759.253 \n",
       "  478.905,839.284 480.236,912.122 481.566,974.775 482.897,1024.69 484.228,1059.88 485.558,1078.96 486.889,1081.24 488.22,1066.73 489.55,1036.15 490.881,990.871 \n",
       "  492.212,932.873 493.542,864.642 494.873,789.145 496.204,709.529 497.534,629.082 498.865,551.125 500.196,478.874 501.526,415.295 502.857,362.979 504.188,324.118 \n",
       "  505.518,300.244 506.849,292.269 508.18,300.408 509.51,324.22 510.841,362.612 512.171,413.901 513.502,475.878 514.833,545.884 516.163,620.962 517.494,697.949 \n",
       "  518.825,773.647 520.155,844.904 521.486,908.801 522.817,962.73 524.147,1004.5 525.478,1032.43 526.809,1045.42 528.139,1043.04 529.47,1025.47 530.801,993.556 \n",
       "  532.131,948.717 533.462,892.921 534.793,828.561 536.123,758.369 537.454,685.288 538.785,612.382 540.115,542.684 541.446,479.081 542.776,424.179 544.107,380.206 \n",
       "  545.438,348.858 546.768,331.335 548.099,328.298 549.43,339.803 550.76,365.303 552.091,403.754 553.422,453.465 554.752,512.278 556.083,577.654 557.414,646.82 \n",
       "  558.744,716.872 560.075,784.893 561.406,848.047 562.736,903.74 564.067,949.716 565.398,984.118 566.728,1005.58 568.059,1013.27 569.39,1006.96 570.72,986.999 \n",
       "  572.051,954.31 573.381,910.351 574.712,857.027 576.043,796.628 577.373,731.704 578.704,664.978 580.035,599.226 581.365,537.182 582.696,481.409 584.027,434.19 \n",
       "  585.357,397.437 586.688,372.609 588.019,360.593 589.349,361.8 590.68,376.126 592.011,402.921 593.341,441.017 594.672,488.778 596.003,544.224 597.333,604.986 \n",
       "  598.664,668.474 599.995,731.996 601.325,792.893 602.656,848.644 603.986,896.948 605.317,935.849 606.648,963.798 607.978,979.696 609.309,982.949 610.64,973.496 \n",
       "  611.97,951.807 613.301,918.865 614.632,876.116 615.962,825.405 617.293,768.914 618.624,709.033 619.954,648.283 621.285,589.18 622.616,534.157 623.946,485.476 \n",
       "  625.277,445.13 626.608,414.749 627.938,395.535 629.269,388.216 630.6,392.953 631.93,409.476 633.261,437.059 634.591,474.517 635.922,520.252 637.253,572.37 \n",
       "  638.583,628.648 639.914,686.692 641.245,744.043 642.575,798.308 643.906,847.243 645.237,888.846 646.567,921.419 647.898,943.663 649.229,954.719 650.559,954.21 \n",
       "  651.89,942.233 653.221,919.363 654.551,886.619 655.882,845.426 657.213,797.558 658.543,745.047 659.874,690.116 661.205,635.056 662.535,582.145 663.866,533.559 \n",
       "  665.196,491.268 666.527,456.984 667.858,432.081 669.188,417.543 670.519,413.918 671.85,421.301 673.18,439.394 674.511,467.371 675.842,503.996 677.172,547.665 \n",
       "  678.503,596.51 679.834,648.465 681.164,701.35 682.495,752.962 683.826,801.143 685.156,843.914 686.487,879.543 687.818,906.588 689.148,923.971 690.479,931.021 \n",
       "  691.81,927.506 693.14,913.641 694.471,890.071 695.801,857.85 697.132,818.378 698.463,773.342 699.793,724.642 701.124,674.328 702.455,624.507 703.785,577.251 \n",
       "  705.116,534.513 706.447,498.042 707.777,469.28 709.108,449.354 710.439,439.045 711.769,438.732 713.1,448.379 714.431,467.401 715.761,494.958 717.092,529.84 \n",
       "  718.423,570.561 719.753,615.65 721.084,663.196 722.415,711.163 723.745,757.534 725.076,800.385 726.406,837.918 727.737,868.595 729.068,891.163 730.398,904.733 \n",
       "  731.729,908.791 733.06,903.233 734.39,888.354 735.721,864.834 737.052,833.715 738.382,796.34 739.713,754.312 741.044,709.404 742.374,663.51 743.705,618.536 \n",
       "  745.036,576.354 746.366,538.691 747.697,507.074 749.028,482.783 750.358,466.788 751.689,459.707 753.02,461.78 754.35,472.863 755.681,492.438 757.011,519.639 \n",
       "  758.342,553.278 759.673,591.916 761.003,633.911 762.334,677.5 763.665,720.866 764.995,762.216 766.326,799.835 767.657,832.175 768.987,857.918 770.318,876.03 \n",
       "  771.649,885.798 772.979,886.874 774.31,879.271 775.641,863.362 776.971,839.858 778.302,809.785 779.633,774.437 780.963,735.321 782.294,694.091 783.625,652.491 \n",
       "  784.955,612.228 786.286,574.949 787.616,542.178 788.947,515.246 790.278,495.283 791.608,483.078 792.939,479.098 794.27,483.448 795.6,495.895 796.931,515.867 \n",
       "  798.262,542.487 799.592,574.6 800.923,610.837 802.254,649.658 803.584,689.439 804.915,728.516 806.246,765.275 807.576,798.211 808.907,825.97 810.238,847.424 \n",
       "  811.568,861.712 812.899,868.283 814.23,866.909 815.56,857.7 816.891,841.088 818.221,817.818 819.552,788.903 820.883,755.578 822.213,719.257 823.544,681.472 \n",
       "  824.875,643.807 826.205,607.829 827.536,575.026 828.867,546.725 830.197,524.057 831.528,507.928 832.859,498.971 834.189,497.522 835.52,503.655 836.851,517.068 \n",
       "  838.181,537.139 839.512,562.972 840.843,593.454 842.173,627.287 843.504,663.047 844.835,699.225 846.165,734.318 847.496,766.879 848.826,795.57 850.157,819.216 \n",
       "  851.488,836.86 852.818,847.802 854.149,851.625 855.48,848.217 856.81,837.769 858.141,820.768 859.472,797.966 860.802,770.347 862.133,739.092 863.464,705.521 \n",
       "  864.794,671.038 866.125,637.085 867.456,605.073 868.786,576.324 870.117,552.017 871.448,533.14 872.778,520.439 874.109,514.397 875.44,515.221 876.77,522.8 \n",
       "  878.101,536.782 879.431,556.568 880.762,581.318 882.093,609.981 883.423,641.349 884.754,674.115 886.085,706.898 887.415,738.315 888.746,767.055 890.077,791.929 \n",
       "  891.407,811.928 892.738,826.246 894.069,834.323 895.399,835.867 896.73,830.859 898.061,819.551 899.391,802.455 900.722,780.318 902.053,754.094 903.383,724.896 \n",
       "  904.714,693.953 906.045,662.566 907.375,632.043 908.706,603.652 910.036,578.563 911.367,557.799 912.698,542.171 914.028,532.286 915.359,528.527 916.69,531.02 \n",
       "  918.02,539.631 919.351,553.866 920.682,573.125 922.012,596.572 923.343,623.215 924.674,652.089 926.004,681.96 927.335,711.563 928.666,739.653 929.996,765.063 \n",
       "  931.327,786.727 932.658,803.75 933.988,815.453 935.319,821.384 936.65,821.333 937.98,815.34 939.311,803.693 940.641,786.91 941.972,765.729 943.303,741.06 \n",
       "  944.633,713.957 945.964,685.56 947.295,657.062 948.625,629.643 949.956,604.434 951.287,582.47 952.617,564.639 953.948,551.662 955.279,544.05 956.609,542.088 \n",
       "  957.94,545.824 959.271,555.065 960.601,569.393 961.932,588.176 963.263,610.603 964.593,635.715 965.924,662.455 967.255,689.696 968.585,716.309 969.916,741.192 \n",
       "  971.246,763.324 972.577,781.797 973.908,795.862 975.238,804.957 976.569,808.734 977.9,807.067 979.23,800.065 980.561,788.052 981.892,771.561 983.222,751.304 \n",
       "  984.553,728.149 985.884,703.079 987.214,677.15 988.545,651.451 989.876,627.038 991.206,604.904 992.537,585.952 993.868,570.95 995.198,560.53 996.529,555.106 \n",
       "  997.86,554.866 999.19,559.78 1000.52,569.609 1001.85,583.914 1003.18,602.074 1004.51,623.303 1005.84,646.701 1007.17,671.276 1008.5,696.004 1009.84,719.858 \n",
       "  1011.17,741.855 1012.5,761.088 1013.83,776.771 1015.16,788.269 1016.49,795.131 1017.82,797.098 1019.15,794.147 1020.48,786.431 1021.81,774.286 1023.14,758.235 \n",
       "  1024.47,738.962 1025.8,717.267 1027.13,694.077 1028.46,670.377 1029.8,647.171 1031.13,625.425 1032.46,606.034 1033.79,589.791 1035.12,577.353 1036.45,569.213 \n",
       "  1037.78,565.68 1039.11,566.866 1040.44,572.692 1041.77,582.886 1043.1,596.996 1044.43,614.413 1045.76,634.396 1047.09,656.096 1048.42,678.604 1049.75,700.975 \n",
       "  1051.09,722.279 1052.42,741.634 1053.75,758.258 1055.08,771.485 1056.41,780.786 1057.74,785.795 1059.07,786.326 1060.4,782.351 1061.73,774.066 1063.06,761.847 \n",
       "  1064.39,746.238 1065.72,727.914 1067.05,707.657 1068.38,686.322 1069.71,664.802 1071.05,643.997 1072.38,624.754 1073.71,607.857 1075.04,593.992 1076.37,583.717 \n",
       "  1077.7,577.466 1079.03,575.481 1080.36,577.81 1081.69,584.324 1083.02,594.722 1084.35,608.547 1085.68,625.205 1087.01,643.981 1088.34,664.079 1089.67,684.654 \n",
       "  1091.01,704.85 1092.34,723.832 1093.67,740.818 1095,755.116 1096.33,766.145 1097.66,773.464 1098.99,776.788 1100.32,776.005 1101.65,771.173 1102.98,762.52 \n",
       "  1104.31,750.433 1105.64,735.439 1106.97,718.183 1108.3,699.393 1109.63,679.859 1110.96,660.395 1112.3,641.812 1113.63,624.879 1114.96,610.292 1116.29,598.644 \n",
       "  1117.62,590.404 1118.95,585.891 1120.28,585.243 1121.61,588.465 1122.94,595.408 1124.27,605.772 1125.6,619.11 1126.93,634.87 1128.26,652.375 1129.59,670.879 \n",
       "  1130.92,689.593 1132.26,707.735 1133.59,724.551 1134.92,739.346 1136.25,751.52 1137.58,760.581 1138.91,766.178 1140.24,768.099 1141.57,766.291 1142.9,760.85 \n",
       "  1144.23,752.028 1145.56,740.207 1146.89,725.901 1148.22,709.716 1149.55,692.341 1150.88,674.505 1152.22,656.955 1153.55,640.419 1154.88,625.568 1156.21,613.004 \n",
       "  1157.54,603.235 1158.87,596.652 1160.2,593.533 1161.53,593.992 1162.86,597.979 1164.19,605.3 1165.52,615.629 1166.85,628.516 1168.18,643.41 1169.51,659.676 \n",
       "  1170.84,676.629 1172.17,693.561 1173.51,709.77 1174.84,724.587 1176.17,737.402 1177.5,747.691 1178.83,755.042 1180.16,759.166 1181.49,759.931 1182.82,757.325 \n",
       "  1184.15,751.472 1185.48,742.625 1186.81,731.169 1188.14,717.573 1189.47,702.425 1190.8,686.375 1192.13,670.108 1193.47,654.303 1194.8,639.614 1196.13,626.639 \n",
       "  1197.46,615.896 1198.79,607.819 1200.12,602.727 1201.45,600.817 1202.78,602.174 1204.11,606.723 1205.44,614.246 1206.77,624.404 1208.1,636.756 1209.43,650.774 \n",
       "  1210.76,665.863 1212.09,681.388 1213.43,696.699 1214.76,711.162 1216.09,724.182 1217.42,735.23 1218.75,743.86 1220.08,749.725 1221.41,752.597 1222.74,752.371 \n",
       "  1224.07,749.096 1225.4,742.924 1226.73,734.121 1228.06,723.062 1229.39,710.218 1230.72,696.131 1232.05,681.384 1233.38,666.605 1234.72,652.42 1236.05,639.416 \n",
       "  1237.38,628.13 1238.71,619.018 1240.04,612.449 1241.37,608.679 1242.7,607.847 1244.03,609.966 1245.36,614.929 1246.69,622.509 1248.02,632.377 1249.35,644.108 \n",
       "  1250.68,657.204 1252.01,671.114 1253.34,685.254 1254.68,699.034 1256.01,711.881 1257.34,723.265 1258.67,732.722 1260,739.88 1261.33,744.46 1262.66,746.285 \n",
       "  1263.99,745.292 1265.32,741.537 1266.65,735.236 1267.98,726.655 1269.31,716.17 1270.64,704.223 1271.97,691.248 1273.3,677.795 1274.64,664.441 1275.97,651.747 \n",
       "  1277.3,640.24 1278.63,630.401 1279.96,622.636 1281.29,617.255 1282.62,614.464 1283.95,614.364 1285.28,616.942 1286.61,622.074 1287.94,629.53 1289.27,638.985 \n",
       "  1290.6,650.03 1291.93,662.196 1293.26,674.97 1294.59,687.816 1295.93,700.202 1297.26,711.616 1298.59,721.589 1299.92,729.717 1301.25,735.672 1302.58,739.216 \n",
       "  1303.91,740.218 1305.24,738.651 1306.57,734.595 1307.9,728.237 1309.23,719.855 1310.56,709.812 1311.89,698.538 1313.22,686.512 1314.55,674.239 1315.89,662.23 \n",
       "  1317.22,650.98 1318.55,640.953 1319.88,632.555 1321.21,626.129 1322.54,621.931 1323.87,620.122 1325.2,620.762 1326.53,623.81 1327.86,629.124 1329.19,636.466 \n",
       "  1330.52,645.518 1331.85,655.891 1333.18,667.147 1334.51,678.809 1335.85,690.397 1337.18,701.426 1338.51,711.441 1339.84,720.031 1341.17,726.846 1342.5,731.613 \n",
       "  1343.83,734.157 1345.16,734.388 1346.49,732.307 1347.82,728.009 1349.15,721.685 1350.48,713.593 1351.81,704.085 1353.14,693.574 1354.47,682.51 1355.8,671.358 \n",
       "  1357.14,660.583 1358.47,650.627 1359.8,641.894 1361.13,634.737 1362.46,629.443 1363.79,626.222 1365.12,625.213 1366.45,626.445 1367.78,629.849 1369.11,635.265 \n",
       "  1370.44,642.454 1371.77,651.104 1373.1,660.849 1374.43,671.273 1375.76,681.938 1377.1,692.398 1378.43,702.222 1379.76,711.006 1381.09,718.392 1382.42,724.081 \n",
       "  1383.75,727.846 1385.08,729.541 1386.41,729.107 1387.74,726.576 1389.07,722.067 1390.4,715.78 1391.73,707.989 1393.06,699.027 1394.39,689.273 1395.72,679.14 \n",
       "  1397.06,669.052 1398.39,659.427 1399.72,650.658 1401.05,643.103 1402.38,637.067 1403.71,632.791 1405.04,630.456 1406.37,630.147 1407.7,631.866 1409.03,635.524 \n",
       "  1410.36,640.957 1411.69,647.926 1413.02,656.132 1414.35,665.223 1415.68,674.817 1417.01,684.508 1418.35,693.896 1419.68,702.591 1421.01,710.238 1422.34,716.526 \n",
       "  1423.67,721.202 1425,724.08 1426.33,725.05 1427.66,724.082 1428.99,721.23 1430.32,716.625 1431.65,710.472 1432.98,703.036 1434.31,694.633 1435.64,685.618 \n",
       "  1436.97,676.37 1438.31,667.276 1439.64,658.714 1440.97,651.035 1442.3,644.548 1443.63,639.514 1444.96,636.134 1446.29,634.539 1447.62,634.8 1448.95,636.895 \n",
       "  1450.28,640.72 1451.61,646.102 1452.94,652.806 1454.27,660.545 1455.6,668.988 1456.93,677.781 1458.27,686.554 1459.6,694.944 1460.93,702.606 1462.26,709.227 \n",
       "  1463.59,714.537 1464.92,718.322 1466.25,720.433 1467.58,720.792 1468.91,719.396 1470.24,716.313 1471.57,711.684 1472.9,705.713 1474.23,698.656 1475.56,690.814 \n",
       "  1476.89,682.518 1478.22,674.115 1479.56,665.952 1480.89,658.369 1482.22,651.672 1483.55,646.135 1484.88,641.979 1486.21,639.37 1487.54,638.408 1488.87,639.137 \n",
       "  1490.2,641.513 1491.53,645.427 1492.86,650.702 1494.19,657.109 1495.52,664.373 1496.85,672.186 1498.18,680.219 1499.52,688.136 1500.85,695.611 1502.18,702.335 \n",
       "  1503.51,708.036 1504.84,712.481 1506.17,715.491 1507.5,716.95 1508.83,716.806 1510.16,715.076 1511.49,711.843 1512.82,707.258 1514.15,701.519 1515.48,694.864 \n",
       "  1516.81,687.574 1518.14,679.953 1519.48,672.318 1520.81,664.99 1522.14,658.276 1523.47,652.455 1524.8,647.763 1526.13,644.389 1527.46,642.466 1528.79,642.063 \n",
       "  1530.12,643.187 1531.45,645.779 1532.78,649.723 1534.11,654.847 1535.44,660.931 1536.77,667.716 1538.1,674.914 1539.43,682.226 1540.77,689.345 1542.1,695.976 \n",
       "  1543.43,701.851 1544.76,706.73 1546.09,710.417 1547.42,712.766 1548.75,713.687 1550.08,713.14 1551.41,711.158 1552.74,707.831 1554.07,703.312 1555.4,697.795 \n",
       "  1556.73,691.519 1558.06,684.749 1559.39,677.772 1560.73,670.879 1562.06,664.354 1563.39,658.468 1564.72,653.46 1566.05,649.531 1567.38,646.84 1568.71,645.49 \n",
       "  1570.04,645.531 1571.37,646.952 1572.7,649.687 1574.03,653.611 1575.36,658.554 1576.69,664.305 1578.02,670.619 1579.35,677.23 1580.69,683.86 1582.02,690.234 \n",
       "  1583.35,696.088 1584.68,701.185 1586.01,705.318 1587.34,708.323 1588.67,710.082 1590,710.527 1591.33,709.637 1592.66,707.46 1593.99,704.095 1595.32,699.693 \n",
       "  1596.65,694.444 1597.98,688.572 1599.31,682.326 1600.64,675.971 1601.98,669.769 1603.31,663.98 1604.64,658.837 1605.97,654.552 1607.3,651.297 1608.63,649.203 \n",
       "  1609.96,648.35 1611.29,648.766 1612.62,650.425 1613.95,653.251 1615.28,657.118 1616.61,661.858 1617.94,667.27 1619.27,673.123 1620.6,679.172 1621.94,685.163 \n",
       "  1623.27,690.846 1624.6,695.989 1625.93,700.379 1627.26,703.843 1628.59,706.245 1629.92,707.49 1631.25,707.532 1632.58,706.375 1633.91,704.09 1635.24,700.778 \n",
       "  1636.57,696.585 1637.9,691.689 1639.23,686.268 1640.56,680.551 1641.9,674.785 1643.23,669.21 1644.56,664.058 1645.89,659.545 1647.22,655.857 1648.55,653.143 \n",
       "  1649.88,651.51 1651.21,651.019 1652.54,651.684 1653.87,653.469 1655.2,656.292 1656.53,660.028 1657.86,664.517 1659.19,669.567 1660.52,674.963 1661.85,680.481 \n",
       "  1663.19,685.888 1664.52,690.962 1665.85,695.496 1667.18,699.302 1668.51,702.227 1669.84,704.154 1671.17,705.009 1672.5,704.762 1673.83,703.431 1675.16,701.078 \n",
       "  1676.49,697.808 1677.82,693.763 1679.15,689.116 1680.48,684.064 1681.81,678.82 1683.15,673.603 1684.48,668.631 1685.81,664.109 1687.14,660.223 1688.47,657.131 \n",
       "  1689.8,654.955 1691.13,653.781 1692.46,653.65 1693.79,654.564 1695.12,656.476 1696.45,659.301 1697.78,662.916 1699.11,667.166 1700.44,671.867 1701.77,676.824 \n",
       "  1703.11,681.828 1704.44,686.67 1705.77,691.15 1707.1,695.083 1708.43,698.309 1709.76,700.697 1711.09,702.155 1712.42,702.627 1713.75,702.099 1715.08,700.601 \n",
       "  1716.41,698.199 1717.74,695 1719.07,691.142 1720.4,686.791 1721.73,682.13 1723.06,677.354 1724.4,672.664 1725.73,668.254 1727.06,664.307 1728.39,660.983 \n",
       "  1729.72,658.418 1731.05,656.713 1732.38,655.933 1733.71,656.105 1735.04,657.217 1736.37,659.216 1737.7,662.013 1739.03,665.487 1740.36,669.485 1741.69,673.84 \n",
       "  1743.02,678.373 1744.36,682.894 1745.69,687.218 1747.02,691.165 1748.35,694.572 1749.68,697.299 1751.01,699.233 1752.34,700.299 1753.67,700.458 1755,699.709 \n",
       "  1756.33,698.091 1757.66,695.674 1758.99,692.566 1760.32,688.901 1761.65,684.834 1762.98,680.538 1764.32,676.194 1765.65,671.981 1766.98,668.073 1768.31,664.63 \n",
       "  1769.64,661.794 1770.97,659.678 1772.3,658.368 1773.63,657.913 1774.96,658.325 1776.29,659.578 1777.62,661.615 1778.95,664.348 1780.28,667.663 1781.61,671.418 \n",
       "  1782.94,675.459 1784.27,679.613 1785.61,683.705 1786.94,687.563 1788.27,691.026 1789.6,693.954 1790.93,696.227 1792.26,697.755 1793.59,698.48 1794.92,698.378 \n",
       "  1796.25,697.457 1797.58,695.763 1798.91,693.369 1800.24,690.38 1801.57,686.924 1802.9,683.147 1804.23,679.208 1805.57,675.272 1806.9,671.503 1808.23,668.057 \n",
       "  1809.56,665.075 1810.89,662.679 1812.22,660.961 1813.55,659.988 1814.88,659.797 1816.21,660.391 1817.54,661.742 1818.87,663.796 1820.2,666.461 1821.53,669.621 \n",
       "  1822.86,673.139 1824.19,676.866 1825.53,680.645 1826.86,684.32 1828.19,687.735 1829.52,690.754 1830.85,693.252 1832.18,695.128 1833.51,696.309 1834.84,696.748 \n",
       "  1836.17,696.433 1837.5,695.381 1838.83,693.641 1840.16,691.29 1841.49,688.429 1842.82,685.18 1844.15,681.682 1845.48,678.081 1846.82,674.528 1848.15,671.171 \n",
       "  1849.48,668.149 1850.81,665.584 1852.14,663.581 1853.47,662.219 1854.8,661.552 1856.13,661.603 1857.46,662.365 1858.79,663.802 1860.12,665.85 1861.45,668.419 \n",
       "  1862.78,671.401 1864.11,674.667 1865.44,678.081 1866.78,681.498 1868.11,684.777 1869.44,687.782 1870.77,690.391 1872.1,692.496 1873.43,694.013 1874.76,694.883 \n",
       "  1876.09,695.073 1877.42,694.584 1878.75,693.44 1880.08,691.69 1881.41,689.41 1882.74,686.697 1884.07,683.662 1885.4,680.437 1886.74,677.157 1888.07,673.961 \n",
       "  1889.4,670.983 1890.73,668.346 1892.06,666.155 1893.39,664.501 1894.72,663.449 1896.05,663.037 1897.38,663.279 1898.71,664.161 1900.04,665.642 1901.37,667.657 \n",
       "  1902.7,670.118 1904.03,672.922 1905.36,675.948 1906.69,679.068 1908.03,682.154 1909.36,685.079 1910.69,687.723 1912.02,689.979 1913.35,691.75 1914.68,692.967 \n",
       "  1916.01,693.582 1917.34,693.572 1918.67,692.942 1920,691.723 1921.33,689.969 1922.66,687.758 1923.99,685.183 1925.32,682.355 1926.65,679.393 1927.99,676.421 \n",
       "  1929.32,673.562 1930.65,670.934 1931.98,668.644 1933.31,666.787 1934.64,665.438 1935.97,664.649 1937.3,664.449 1938.63,664.844 1939.96,665.813 1941.29,667.311 \n",
       "  1942.62,669.274 1943.95,671.618 1945.28,674.241 1946.61,677.033 1947.95,679.877 1949.28,682.653 1950.61,685.247 1951.94,687.552 1953.27,689.474 1954.6,690.935 \n",
       "  1955.93,691.878 1957.26,692.265 1958.59,692.085 1959.92,691.348 1961.25,690.089 1962.58,688.364 1963.91,686.247 1965.24,683.828 1966.57,681.211 1967.9,678.506 \n",
       "  1969.24,675.825 1970.57,673.281 1971.9,670.978 1973.23,669.01 1974.56,667.458 1975.89,666.383 1977.22,665.828 1978.55,665.812 1979.88,666.332 1981.21,667.363 \n",
       "  1982.54,668.86 1983.87,670.756 1985.2,672.972 1986.53,675.411 1987.86,677.972 1989.2,680.546 1990.53,683.028 1991.86,685.313 1993.19,687.309 1994.52,688.933 \n",
       "  1995.85,690.121 1997.18,690.826 1998.51,691.021 1999.84,690.701 2001.17,689.884 2002.5,688.61 2003.83,686.932 2005.16,684.922 2006.49,682.663 2007.82,680.252 \n",
       "  2009.16,677.787 2010.49,675.373 2011.82,673.113 2013.15,671.098 2014.48,669.413 2015.81,668.125 2017.14,667.285 2018.47,666.926 2019.8,667.059 2021.13,667.675 \n",
       "  2022.46,668.745 2023.79,670.222 2025.12,672.042 2026.45,674.126 2027.78,676.387 2029.11,678.731 2030.45,681.058 2031.78,683.273 2033.11,685.283 2034.44,687.007 \n",
       "  2035.77,688.373 2037.1,689.328 2038.43,689.837 2039.76,689.882 2041.09,689.461 2042.42,688.596 2043.75,687.323 2045.08,685.696 2046.41,683.785 2047.74,681.673 \n",
       "  2049.07,679.45 2050.41,677.209 2051.74,675.045 2053.07,673.045 2054.4,671.292 2055.73,669.855 2057.06,668.793 2058.39,668.148 2059.72,667.948 2061.05,668.197 \n",
       "  2062.38,668.883 2063.71,669.973 2065.04,671.42 2066.37,673.16 2067.7,675.119 2069.03,677.215 2070.37,679.358 2071.7,681.46 2073.03,683.434 2074.36,685.199 \n",
       "  2075.69,686.682 2077.02,687.823 2078.35,688.577 2079.68,688.915 2081.01,688.825 2082.34,688.313 2083.67,687.405 2085,686.14 2086.33,684.574 2087.66,682.773 \n",
       "  2088.99,680.814 2090.32,678.778 2091.66,676.752 2092.99,674.818 2094.32,673.059 2095.65,671.545 2096.98,670.338 2098.31,669.484 2099.64,669.016 2100.97,668.954 \n",
       "  2102.3,669.296 2103.63,670.026 2104.96,671.116 2106.29,672.516 2107.62,674.166 2108.95,675.994 2110.28,677.923 2111.62,679.872 2112.95,681.76 2114.28,683.507 \n",
       "  2115.61,685.043 2116.94,686.305 2118.27,687.243 2119.6,687.819 2120.93,688.012 2122.26,687.815 2123.59,687.239 2124.92,686.312 2126.25,685.073 2127.58,683.579 \n",
       "  2128.91,681.891 2130.24,680.08 2131.58,678.221 2132.91,676.391 2134.24,674.666 2135.57,673.12 2136.9,671.814 2138.23,670.804 2139.56,670.128 2140.89,669.814 \n",
       "  2142.22,669.871 2143.55,670.295 2144.88,671.066 2146.21,672.149 2147.54,673.498 2148.87,675.053 2150.2,676.751 2151.53,678.519 2152.87,680.283 2154.2,681.97 \n",
       "  2155.53,683.51 2156.86,684.84 2158.19,685.906 2159.52,686.665 2160.85,687.089 2162.18,687.163 2163.51,686.885 2164.84,686.269 2166.17,685.34 2167.5,684.138 \n",
       "  2168.83,682.716 2170.16,681.133 2171.49,679.459 2172.83,677.764 2174.16,676.118 2175.49,674.59 2176.82,673.24 2178.15,672.124 2179.48,671.288 2180.81,670.763 \n",
       "  2182.14,670.572 2183.47,670.722 2184.8,671.204 2186.13,671.994 2187.46,673.059 2188.79,674.351 2190.12,675.816 2191.45,677.391 2192.79,679.011 2194.12,680.606 \n",
       "  2195.45,682.112 2196.78,683.467 2198.11,684.615 2199.44,685.509 2200.77,686.114 2202.1,686.405 2203.43,686.374 2204.76,686.024 2206.09,685.37 2207.42,684.443 \n",
       "  2208.75,683.285 2210.08,681.943 2211.41,680.473 2212.74,678.938 2214.08,677.401 2215.41,675.925 2216.74,674.572 2218.07,673.398 2219.4,672.452 2220.73,671.772 \n",
       "  2222.06,671.384 2223.39,671.303 2224.72,671.531 2226.05,672.055 2227.38,672.852 2228.71,673.887 2230.04,675.116 2231.37,676.485 2232.7,677.938 2234.04,679.414 \n",
       "  2235.37,680.85 2236.7,682.188 2238.03,683.372 2239.36,684.353 2240.69,685.093 2242.02,685.561 2243.35,685.741 2244.68,685.628 2246.01,685.229 2247.34,684.561 \n",
       "  2248.67,683.652 2250,682.542 2251.33,681.277 2252.66,679.911 2254,678.501 2255.33,677.109 2256.66,675.791 2257.99,674.603 2259.32,673.593 2260.65,672.802 \n",
       "  2261.98,672.261 2263.31,671.991 2264.64,672.001 2265.97,672.29 2267.3,672.843 2268.63,673.636 2269.96,674.635 2271.29,675.796 2272.62,677.071 2273.95,678.405 \n",
       "  2275.29,679.744 2276.62,681.03 2277.95,682.211 2279.28,683.24 2280.61,684.075 2281.94,684.682 2283.27,685.035 2284.6,685.121 2285.93,684.939 2287.26,684.497 \n",
       "  2288.59,683.817 2289.92,682.928 2291.25,681.868 2292.58,680.682 2292.88,680.41 \n",
       "  \"/>\n",
       "<path clip-path=\"url(#clip6500)\" d=\"\n",
       "M1809.85 251.724 L2280.76 251.724 L2280.76 130.764 L1809.85 130.764  Z\n",
       "  \" fill=\"#ffffff\" fill-rule=\"evenodd\" fill-opacity=\"1\"/>\n",
       "<polyline clip-path=\"url(#clip6500)\" style=\"stroke:#000000; stroke-width:4; stroke-opacity:1; fill:none\" points=\"\n",
       "  1809.85,251.724 2280.76,251.724 2280.76,130.764 1809.85,130.764 1809.85,251.724 \n",
       "  \"/>\n",
       "<polyline clip-path=\"url(#clip6500)\" style=\"stroke:#009af9; stroke-width:4; stroke-opacity:1; fill:none\" points=\"\n",
       "  1833.85,191.244 1977.85,191.244 \n",
       "  \"/>\n",
       "<path clip-path=\"url(#clip6500)\" d=\"M 0 0 M2017.04 186.58 Q2016.32 186.163 2015.47 185.978 Q2014.63 185.77 2013.61 185.77 Q2010 185.77 2008.06 188.131 Q2006.14 190.469 2006.14 194.867 L2006.14 208.524 L2001.85 208.524 L2001.85 182.598 L2006.14 182.598 L2006.14 186.626 Q2007.48 184.265 2009.63 183.131 Q2011.78 181.973 2014.86 181.973 Q2015.3 181.973 2015.84 182.043 Q2016.37 182.089 2017.02 182.205 L2017.04 186.58 Z\" fill=\"#000000\" fill-rule=\"evenodd\" fill-opacity=\"1\" /><path clip-path=\"url(#clip6500)\" d=\"M 0 0 M2030.51 185.584 Q2027.09 185.584 2025.09 188.27 Q2023.1 190.932 2023.1 195.584 Q2023.1 200.237 2025.07 202.922 Q2027.06 205.584 2030.51 205.584 Q2033.91 205.584 2035.91 202.899 Q2037.9 200.214 2037.9 195.584 Q2037.9 190.978 2035.91 188.293 Q2033.91 185.584 2030.51 185.584 M2030.51 181.973 Q2036.07 181.973 2039.24 185.584 Q2042.41 189.195 2042.41 195.584 Q2042.41 201.95 2039.24 205.584 Q2036.07 209.195 2030.51 209.195 Q2024.93 209.195 2021.76 205.584 Q2018.61 201.95 2018.61 195.584 Q2018.61 189.195 2021.76 185.584 Q2024.93 181.973 2030.51 181.973 Z\" fill=\"#000000\" fill-rule=\"evenodd\" fill-opacity=\"1\" /><path clip-path=\"url(#clip6500)\" d=\"M 0 0 M2051.09 175.237 L2051.09 182.598 L2059.86 182.598 L2059.86 185.908 L2051.09 185.908 L2051.09 199.982 Q2051.09 203.154 2051.95 204.057 Q2052.83 204.959 2055.49 204.959 L2059.86 204.959 L2059.86 208.524 L2055.49 208.524 Q2050.56 208.524 2048.68 206.695 Q2046.81 204.844 2046.81 199.982 L2046.81 185.908 L2043.68 185.908 L2043.68 182.598 L2046.81 182.598 L2046.81 175.237 L2051.09 175.237 Z\" fill=\"#000000\" fill-rule=\"evenodd\" fill-opacity=\"1\" /><path clip-path=\"url(#clip6500)\" d=\"M 0 0 M2074.38 185.584 Q2070.95 185.584 2068.96 188.27 Q2066.97 190.932 2066.97 195.584 Q2066.97 200.237 2068.94 202.922 Q2070.93 205.584 2074.38 205.584 Q2077.78 205.584 2079.77 202.899 Q2081.76 200.214 2081.76 195.584 Q2081.76 190.978 2079.77 188.293 Q2077.78 185.584 2074.38 185.584 M2074.38 181.973 Q2079.93 181.973 2083.1 185.584 Q2086.28 189.195 2086.28 195.584 Q2086.28 201.95 2083.1 205.584 Q2079.93 209.195 2074.38 209.195 Q2068.8 209.195 2065.63 205.584 Q2062.48 201.95 2062.48 195.584 Q2062.48 189.195 2065.63 185.584 Q2068.8 181.973 2074.38 181.973 Z\" fill=\"#000000\" fill-rule=\"evenodd\" fill-opacity=\"1\" /><path clip-path=\"url(#clip6500)\" d=\"M 0 0 M2105.77 186.58 Q2105.05 186.163 2104.19 185.978 Q2103.36 185.77 2102.34 185.77 Q2098.73 185.77 2096.78 188.131 Q2094.86 190.469 2094.86 194.867 L2094.86 208.524 L2090.58 208.524 L2090.58 182.598 L2094.86 182.598 L2094.86 186.626 Q2096.21 184.265 2098.36 183.131 Q2100.51 181.973 2103.59 181.973 Q2104.03 181.973 2104.56 182.043 Q2105.09 182.089 2105.74 182.205 L2105.77 186.58 Z\" fill=\"#000000\" fill-rule=\"evenodd\" fill-opacity=\"1\" /><path clip-path=\"url(#clip6500)\" d=\"M 0 0 M2137.09 195.492 Q2131.92 195.492 2129.93 196.672 Q2127.94 197.853 2127.94 200.7 Q2127.94 202.969 2129.42 204.311 Q2130.93 205.631 2133.5 205.631 Q2137.04 205.631 2139.17 203.131 Q2141.32 200.607 2141.32 196.441 L2141.32 195.492 L2137.09 195.492 M2145.58 193.733 L2145.58 208.524 L2141.32 208.524 L2141.32 204.589 Q2139.86 206.95 2137.69 208.084 Q2135.51 209.195 2132.36 209.195 Q2128.38 209.195 2126.02 206.973 Q2123.68 204.728 2123.68 200.978 Q2123.68 196.603 2126.6 194.381 Q2129.54 192.158 2135.35 192.158 L2141.32 192.158 L2141.32 191.742 Q2141.32 188.802 2139.38 187.205 Q2137.46 185.584 2133.96 185.584 Q2131.74 185.584 2129.63 186.117 Q2127.52 186.649 2125.58 187.714 L2125.58 183.779 Q2127.92 182.876 2130.12 182.436 Q2132.32 181.973 2134.4 181.973 Q2140.02 181.973 2142.8 184.89 Q2145.58 187.807 2145.58 193.733 Z\" fill=\"#000000\" fill-rule=\"evenodd\" fill-opacity=\"1\" /><path clip-path=\"url(#clip6500)\" d=\"M 0 0 M2171.6 192.876 L2171.6 208.524 L2167.34 208.524 L2167.34 193.015 Q2167.34 189.334 2165.9 187.506 Q2164.47 185.677 2161.6 185.677 Q2158.15 185.677 2156.16 187.876 Q2154.17 190.075 2154.17 193.871 L2154.17 208.524 L2149.89 208.524 L2149.89 182.598 L2154.17 182.598 L2154.17 186.626 Q2155.7 184.288 2157.76 183.131 Q2159.84 181.973 2162.55 181.973 Q2167.02 181.973 2169.31 184.751 Q2171.6 187.506 2171.6 192.876 Z\" fill=\"#000000\" fill-rule=\"evenodd\" fill-opacity=\"1\" /><path clip-path=\"url(#clip6500)\" d=\"M 0 0 M2193.13 195.26 Q2193.13 190.631 2191.21 188.084 Q2189.31 185.538 2185.86 185.538 Q2182.43 185.538 2180.51 188.084 Q2178.61 190.631 2178.61 195.26 Q2178.61 199.867 2180.51 202.413 Q2182.43 204.959 2185.86 204.959 Q2189.31 204.959 2191.21 202.413 Q2193.13 199.867 2193.13 195.26 M2197.39 205.307 Q2197.39 211.927 2194.45 215.144 Q2191.51 218.385 2185.44 218.385 Q2183.2 218.385 2181.21 218.038 Q2179.21 217.714 2177.34 217.019 L2177.34 212.876 Q2179.21 213.894 2181.04 214.381 Q2182.87 214.867 2184.77 214.867 Q2188.96 214.867 2191.04 212.668 Q2193.13 210.492 2193.13 206.07 L2193.13 203.964 Q2191.81 206.256 2189.75 207.39 Q2187.69 208.524 2184.82 208.524 Q2180.05 208.524 2177.13 204.89 Q2174.21 201.256 2174.21 195.26 Q2174.21 189.242 2177.13 185.608 Q2180.05 181.973 2184.82 181.973 Q2187.69 181.973 2189.75 183.108 Q2191.81 184.242 2193.13 186.533 L2193.13 182.598 L2197.39 182.598 L2197.39 205.307 Z\" fill=\"#000000\" fill-rule=\"evenodd\" fill-opacity=\"1\" /><path clip-path=\"url(#clip6500)\" d=\"M 0 0 M2201.85 172.506 L2206.11 172.506 L2206.11 208.524 L2201.85 208.524 L2201.85 172.506 Z\" fill=\"#000000\" fill-rule=\"evenodd\" fill-opacity=\"1\" /><path clip-path=\"url(#clip6500)\" d=\"M 0 0 M2232.76 194.496 L2232.76 196.58 L2213.17 196.58 Q2213.45 200.978 2215.81 203.293 Q2218.2 205.584 2222.43 205.584 Q2224.89 205.584 2227.18 204.982 Q2229.49 204.381 2231.76 203.177 L2231.76 207.205 Q2229.47 208.177 2227.06 208.686 Q2224.65 209.195 2222.18 209.195 Q2215.97 209.195 2212.34 205.584 Q2208.73 201.973 2208.73 195.816 Q2208.73 189.45 2212.15 185.723 Q2215.6 181.973 2221.44 181.973 Q2226.67 181.973 2229.7 185.353 Q2232.76 188.709 2232.76 194.496 M2228.5 193.246 Q2228.45 189.751 2226.53 187.668 Q2224.63 185.584 2221.48 185.584 Q2217.92 185.584 2215.77 187.598 Q2213.64 189.612 2213.31 193.27 L2228.5 193.246 Z\" fill=\"#000000\" fill-rule=\"evenodd\" fill-opacity=\"1\" /></svg>\n"
      ]
     },
     "execution_count": 16,
     "metadata": {},
     "output_type": "execute_result"
    }
   ],
   "source": [
    "angle = get_state_series(sim, (\"Case1Gen\", :δ))\n",
    "plot(angle, xlabel=\"time\", ylabel=\"rotor angle [rad]\", label=\"rotor angle\")"
   ]
  },
  {
   "cell_type": "code",
   "execution_count": 17,
   "metadata": {},
   "outputs": [
    {
     "data": {
      "image/svg+xml": [
       "<?xml version=\"1.0\" encoding=\"utf-8\"?>\n",
       "<svg xmlns=\"http://www.w3.org/2000/svg\" xmlns:xlink=\"http://www.w3.org/1999/xlink\" width=\"600\" height=\"400\" viewBox=\"0 0 2400 1600\">\n",
       "<defs>\n",
       "  <clipPath id=\"clip6900\">\n",
       "    <rect x=\"0\" y=\"0\" width=\"2400\" height=\"1600\"/>\n",
       "  </clipPath>\n",
       "</defs>\n",
       "<path clip-path=\"url(#clip6900)\" d=\"\n",
       "M0 1600 L2400 1600 L2400 0 L0 0  Z\n",
       "  \" fill=\"#ffffff\" fill-rule=\"evenodd\" fill-opacity=\"1\"/>\n",
       "<defs>\n",
       "  <clipPath id=\"clip6901\">\n",
       "    <rect x=\"480\" y=\"0\" width=\"1681\" height=\"1600\"/>\n",
       "  </clipPath>\n",
       "</defs>\n",
       "<path clip-path=\"url(#clip6900)\" d=\"\n",
       "M238.431 1423.18 L2352.76 1423.18 L2352.76 47.2441 L238.431 47.2441  Z\n",
       "  \" fill=\"#ffffff\" fill-rule=\"evenodd\" fill-opacity=\"1\"/>\n",
       "<defs>\n",
       "  <clipPath id=\"clip6902\">\n",
       "    <rect x=\"238\" y=\"47\" width=\"2115\" height=\"1377\"/>\n",
       "  </clipPath>\n",
       "</defs>\n",
       "<polyline clip-path=\"url(#clip6902)\" style=\"stroke:#000000; stroke-width:2; stroke-opacity:0.1; fill:none\" points=\"\n",
       "  298.27,1423.18 298.27,47.2441 \n",
       "  \"/>\n",
       "<polyline clip-path=\"url(#clip6902)\" style=\"stroke:#000000; stroke-width:2; stroke-opacity:0.1; fill:none\" points=\"\n",
       "  963.152,1423.18 963.152,47.2441 \n",
       "  \"/>\n",
       "<polyline clip-path=\"url(#clip6902)\" style=\"stroke:#000000; stroke-width:2; stroke-opacity:0.1; fill:none\" points=\"\n",
       "  1628.03,1423.18 1628.03,47.2441 \n",
       "  \"/>\n",
       "<polyline clip-path=\"url(#clip6902)\" style=\"stroke:#000000; stroke-width:2; stroke-opacity:0.1; fill:none\" points=\"\n",
       "  2292.92,1423.18 2292.92,47.2441 \n",
       "  \"/>\n",
       "<polyline clip-path=\"url(#clip6902)\" style=\"stroke:#000000; stroke-width:2; stroke-opacity:0.1; fill:none\" points=\"\n",
       "  238.431,1372.14 2352.76,1372.14 \n",
       "  \"/>\n",
       "<polyline clip-path=\"url(#clip6902)\" style=\"stroke:#000000; stroke-width:2; stroke-opacity:0.1; fill:none\" points=\"\n",
       "  238.431,997.951 2352.76,997.951 \n",
       "  \"/>\n",
       "<polyline clip-path=\"url(#clip6902)\" style=\"stroke:#000000; stroke-width:2; stroke-opacity:0.1; fill:none\" points=\"\n",
       "  238.431,623.759 2352.76,623.759 \n",
       "  \"/>\n",
       "<polyline clip-path=\"url(#clip6902)\" style=\"stroke:#000000; stroke-width:2; stroke-opacity:0.1; fill:none\" points=\"\n",
       "  238.431,249.566 2352.76,249.566 \n",
       "  \"/>\n",
       "<polyline clip-path=\"url(#clip6900)\" style=\"stroke:#000000; stroke-width:4; stroke-opacity:1; fill:none\" points=\"\n",
       "  238.431,1423.18 2352.76,1423.18 \n",
       "  \"/>\n",
       "<polyline clip-path=\"url(#clip6900)\" style=\"stroke:#000000; stroke-width:4; stroke-opacity:1; fill:none\" points=\"\n",
       "  238.431,1423.18 238.431,47.2441 \n",
       "  \"/>\n",
       "<polyline clip-path=\"url(#clip6900)\" style=\"stroke:#000000; stroke-width:4; stroke-opacity:1; fill:none\" points=\"\n",
       "  298.27,1423.18 298.27,1406.67 \n",
       "  \"/>\n",
       "<polyline clip-path=\"url(#clip6900)\" style=\"stroke:#000000; stroke-width:4; stroke-opacity:1; fill:none\" points=\"\n",
       "  963.152,1423.18 963.152,1406.67 \n",
       "  \"/>\n",
       "<polyline clip-path=\"url(#clip6900)\" style=\"stroke:#000000; stroke-width:4; stroke-opacity:1; fill:none\" points=\"\n",
       "  1628.03,1423.18 1628.03,1406.67 \n",
       "  \"/>\n",
       "<polyline clip-path=\"url(#clip6900)\" style=\"stroke:#000000; stroke-width:4; stroke-opacity:1; fill:none\" points=\"\n",
       "  2292.92,1423.18 2292.92,1406.67 \n",
       "  \"/>\n",
       "<polyline clip-path=\"url(#clip6900)\" style=\"stroke:#000000; stroke-width:4; stroke-opacity:1; fill:none\" points=\"\n",
       "  238.431,1372.14 263.803,1372.14 \n",
       "  \"/>\n",
       "<polyline clip-path=\"url(#clip6900)\" style=\"stroke:#000000; stroke-width:4; stroke-opacity:1; fill:none\" points=\"\n",
       "  238.431,997.951 263.803,997.951 \n",
       "  \"/>\n",
       "<polyline clip-path=\"url(#clip6900)\" style=\"stroke:#000000; stroke-width:4; stroke-opacity:1; fill:none\" points=\"\n",
       "  238.431,623.759 263.803,623.759 \n",
       "  \"/>\n",
       "<polyline clip-path=\"url(#clip6900)\" style=\"stroke:#000000; stroke-width:4; stroke-opacity:1; fill:none\" points=\"\n",
       "  238.431,249.566 263.803,249.566 \n",
       "  \"/>\n",
       "<path clip-path=\"url(#clip6900)\" d=\"M 0 0 M298.27 1445.17 Q294.659 1445.17 292.831 1448.74 Q291.025 1452.28 291.025 1459.41 Q291.025 1466.51 292.831 1470.08 Q294.659 1473.62 298.27 1473.62 Q301.905 1473.62 303.71 1470.08 Q305.539 1466.51 305.539 1459.41 Q305.539 1452.28 303.71 1448.74 Q301.905 1445.17 298.27 1445.17 M298.27 1441.47 Q304.081 1441.47 307.136 1446.07 Q310.215 1450.66 310.215 1459.41 Q310.215 1468.13 307.136 1472.74 Q304.081 1477.32 298.27 1477.32 Q292.46 1477.32 289.382 1472.74 Q286.326 1468.13 286.326 1459.41 Q286.326 1450.66 289.382 1446.07 Q292.46 1441.47 298.27 1441.47 Z\" fill=\"#000000\" fill-rule=\"evenodd\" fill-opacity=\"1\" /><path clip-path=\"url(#clip6900)\" d=\"M 0 0 M940.028 1472.72 L947.666 1472.72 L947.666 1446.35 L939.356 1448.02 L939.356 1443.76 L947.62 1442.09 L952.296 1442.09 L952.296 1472.72 L959.935 1472.72 L959.935 1476.65 L940.028 1476.65 L940.028 1472.72 Z\" fill=\"#000000\" fill-rule=\"evenodd\" fill-opacity=\"1\" /><path clip-path=\"url(#clip6900)\" d=\"M 0 0 M975.004 1445.17 Q971.393 1445.17 969.564 1448.74 Q967.759 1452.28 967.759 1459.41 Q967.759 1466.51 969.564 1470.08 Q971.393 1473.62 975.004 1473.62 Q978.638 1473.62 980.444 1470.08 Q982.273 1466.51 982.273 1459.41 Q982.273 1452.28 980.444 1448.74 Q978.638 1445.17 975.004 1445.17 M975.004 1441.47 Q980.814 1441.47 983.87 1446.07 Q986.949 1450.66 986.949 1459.41 Q986.949 1468.13 983.87 1472.74 Q980.814 1477.32 975.004 1477.32 Q969.194 1477.32 966.115 1472.74 Q963.06 1468.13 963.06 1459.41 Q963.06 1450.66 966.115 1446.07 Q969.194 1441.47 975.004 1441.47 Z\" fill=\"#000000\" fill-rule=\"evenodd\" fill-opacity=\"1\" /><path clip-path=\"url(#clip6900)\" d=\"M 0 0 M1609.18 1472.72 L1625.5 1472.72 L1625.5 1476.65 L1603.56 1476.65 L1603.56 1472.72 Q1606.22 1469.96 1610.8 1465.33 Q1615.41 1460.68 1616.59 1459.34 Q1618.83 1456.81 1619.71 1455.08 Q1620.62 1453.32 1620.62 1451.63 Q1620.62 1448.87 1618.67 1447.14 Q1616.75 1445.4 1613.65 1445.4 Q1611.45 1445.4 1609 1446.17 Q1606.56 1446.93 1603.79 1448.48 L1603.79 1443.76 Q1606.61 1442.62 1609.06 1442.05 Q1611.52 1441.47 1613.56 1441.47 Q1618.93 1441.47 1622.12 1444.15 Q1625.31 1446.84 1625.31 1451.33 Q1625.31 1453.46 1624.5 1455.38 Q1623.72 1457.28 1621.61 1459.87 Q1621.03 1460.54 1617.93 1463.76 Q1614.83 1466.95 1609.18 1472.72 Z\" fill=\"#000000\" fill-rule=\"evenodd\" fill-opacity=\"1\" /><path clip-path=\"url(#clip6900)\" d=\"M 0 0 M1640.57 1445.17 Q1636.96 1445.17 1635.13 1448.74 Q1633.32 1452.28 1633.32 1459.41 Q1633.32 1466.51 1635.13 1470.08 Q1636.96 1473.62 1640.57 1473.62 Q1644.2 1473.62 1646.01 1470.08 Q1647.84 1466.51 1647.84 1459.41 Q1647.84 1452.28 1646.01 1448.74 Q1644.2 1445.17 1640.57 1445.17 M1640.57 1441.47 Q1646.38 1441.47 1649.43 1446.07 Q1652.51 1450.66 1652.51 1459.41 Q1652.51 1468.13 1649.43 1472.74 Q1646.38 1477.32 1640.57 1477.32 Q1634.76 1477.32 1631.68 1472.74 Q1628.62 1468.13 1628.62 1459.41 Q1628.62 1450.66 1631.68 1446.07 Q1634.76 1441.47 1640.57 1441.47 Z\" fill=\"#000000\" fill-rule=\"evenodd\" fill-opacity=\"1\" /><path clip-path=\"url(#clip6900)\" d=\"M 0 0 M2283.66 1458.02 Q2287.01 1458.74 2288.89 1461 Q2290.79 1463.27 2290.79 1466.61 Q2290.79 1471.72 2287.27 1474.52 Q2283.75 1477.32 2277.27 1477.32 Q2275.09 1477.32 2272.78 1476.88 Q2270.49 1476.47 2268.03 1475.61 L2268.03 1471.1 Q2269.98 1472.23 2272.29 1472.81 Q2274.61 1473.39 2277.13 1473.39 Q2281.53 1473.39 2283.82 1471.65 Q2286.13 1469.92 2286.13 1466.61 Q2286.13 1463.55 2283.98 1461.84 Q2281.85 1460.1 2278.03 1460.1 L2274 1460.1 L2274 1456.26 L2278.22 1456.26 Q2281.67 1456.26 2283.5 1454.89 Q2285.32 1453.5 2285.32 1450.91 Q2285.32 1448.25 2283.43 1446.84 Q2281.55 1445.4 2278.03 1445.4 Q2276.11 1445.4 2273.91 1445.82 Q2271.71 1446.24 2269.07 1447.11 L2269.07 1442.95 Q2271.74 1442.21 2274.05 1441.84 Q2276.39 1441.47 2278.45 1441.47 Q2283.77 1441.47 2286.87 1443.9 Q2289.98 1446.3 2289.98 1450.43 Q2289.98 1453.3 2288.33 1455.29 Q2286.69 1457.25 2283.66 1458.02 Z\" fill=\"#000000\" fill-rule=\"evenodd\" fill-opacity=\"1\" /><path clip-path=\"url(#clip6900)\" d=\"M 0 0 M2305.86 1445.17 Q2302.25 1445.17 2300.42 1448.74 Q2298.61 1452.28 2298.61 1459.41 Q2298.61 1466.51 2300.42 1470.08 Q2302.25 1473.62 2305.86 1473.62 Q2309.49 1473.62 2311.3 1470.08 Q2313.12 1466.51 2313.12 1459.41 Q2313.12 1452.28 2311.3 1448.74 Q2309.49 1445.17 2305.86 1445.17 M2305.86 1441.47 Q2311.67 1441.47 2314.72 1446.07 Q2317.8 1450.66 2317.8 1459.41 Q2317.8 1468.13 2314.72 1472.74 Q2311.67 1477.32 2305.86 1477.32 Q2300.05 1477.32 2296.97 1472.74 Q2293.91 1468.13 2293.91 1459.41 Q2293.91 1450.66 2296.97 1446.07 Q2300.05 1441.47 2305.86 1441.47 Z\" fill=\"#000000\" fill-rule=\"evenodd\" fill-opacity=\"1\" /><path clip-path=\"url(#clip6900)\" d=\"M 0 0 M138.205 1357.94 Q134.593 1357.94 132.765 1361.51 Q130.959 1365.05 130.959 1372.18 Q130.959 1379.28 132.765 1382.85 Q134.593 1386.39 138.205 1386.39 Q141.839 1386.39 143.644 1382.85 Q145.473 1379.28 145.473 1372.18 Q145.473 1365.05 143.644 1361.51 Q141.839 1357.94 138.205 1357.94 M138.205 1354.24 Q144.015 1354.24 147.07 1358.84 Q150.149 1363.43 150.149 1372.18 Q150.149 1380.9 147.07 1385.51 Q144.015 1390.09 138.205 1390.09 Q132.394 1390.09 129.316 1385.51 Q126.26 1380.9 126.26 1372.18 Q126.26 1363.43 129.316 1358.84 Q132.394 1354.24 138.205 1354.24 Z\" fill=\"#000000\" fill-rule=\"evenodd\" fill-opacity=\"1\" /><path clip-path=\"url(#clip6900)\" d=\"M 0 0 M155.218 1383.54 L160.103 1383.54 L160.103 1389.42 L155.218 1389.42 L155.218 1383.54 Z\" fill=\"#000000\" fill-rule=\"evenodd\" fill-opacity=\"1\" /><path clip-path=\"url(#clip6900)\" d=\"M 0 0 M165.311 1388.71 L165.311 1384.45 Q167.07 1385.28 168.876 1385.72 Q170.681 1386.16 172.417 1386.16 Q177.047 1386.16 179.477 1383.06 Q181.931 1379.93 182.278 1373.59 Q180.936 1375.58 178.876 1376.64 Q176.815 1377.71 174.315 1377.71 Q169.13 1377.71 166.098 1374.58 Q163.089 1371.44 163.089 1366 Q163.089 1360.67 166.237 1357.46 Q169.385 1354.24 174.616 1354.24 Q180.612 1354.24 183.76 1358.84 Q186.931 1363.43 186.931 1372.18 Q186.931 1380.35 183.042 1385.23 Q179.177 1390.09 172.626 1390.09 Q170.866 1390.09 169.061 1389.75 Q167.255 1389.4 165.311 1388.71 M174.616 1374.05 Q177.765 1374.05 179.593 1371.9 Q181.445 1369.75 181.445 1366 Q181.445 1362.27 179.593 1360.12 Q177.765 1357.94 174.616 1357.94 Q171.468 1357.94 169.616 1360.12 Q167.788 1362.27 167.788 1366 Q167.788 1369.75 169.616 1371.9 Q171.468 1374.05 174.616 1374.05 Z\" fill=\"#000000\" fill-rule=\"evenodd\" fill-opacity=\"1\" /><path clip-path=\"url(#clip6900)\" d=\"M 0 0 M204.848 1358.94 L193.042 1377.39 L204.848 1377.39 L204.848 1358.94 M203.621 1354.86 L209.5 1354.86 L209.5 1377.39 L214.431 1377.39 L214.431 1381.27 L209.5 1381.27 L209.5 1389.42 L204.848 1389.42 L204.848 1381.27 L189.246 1381.27 L189.246 1376.76 L203.621 1354.86 Z\" fill=\"#000000\" fill-rule=\"evenodd\" fill-opacity=\"1\" /><path clip-path=\"url(#clip6900)\" d=\"M 0 0 M139.686 983.749 Q136.075 983.749 134.246 987.314 Q132.441 990.856 132.441 997.985 Q132.441 1005.09 134.246 1008.66 Q136.075 1012.2 139.686 1012.2 Q143.32 1012.2 145.126 1008.66 Q146.954 1005.09 146.954 997.985 Q146.954 990.856 145.126 987.314 Q143.32 983.749 139.686 983.749 M139.686 980.046 Q145.496 980.046 148.552 984.652 Q151.63 989.235 151.63 997.985 Q151.63 1006.71 148.552 1011.32 Q145.496 1015.9 139.686 1015.9 Q133.876 1015.9 130.797 1011.32 Q127.742 1006.71 127.742 997.985 Q127.742 989.235 130.797 984.652 Q133.876 980.046 139.686 980.046 Z\" fill=\"#000000\" fill-rule=\"evenodd\" fill-opacity=\"1\" /><path clip-path=\"url(#clip6900)\" d=\"M 0 0 M156.7 1009.35 L161.584 1009.35 L161.584 1015.23 L156.7 1015.23 L156.7 1009.35 Z\" fill=\"#000000\" fill-rule=\"evenodd\" fill-opacity=\"1\" /><path clip-path=\"url(#clip6900)\" d=\"M 0 0 M166.792 1014.51 L166.792 1010.25 Q168.552 1011.09 170.357 1011.53 Q172.163 1011.97 173.899 1011.97 Q178.528 1011.97 180.959 1008.86 Q183.413 1005.74 183.76 999.397 Q182.417 1001.39 180.357 1002.45 Q178.297 1003.52 175.797 1003.52 Q170.612 1003.52 167.579 1000.39 Q164.57 997.245 164.57 991.805 Q164.57 986.481 167.718 983.263 Q170.866 980.046 176.098 980.046 Q182.093 980.046 185.241 984.652 Q188.413 989.235 188.413 997.985 Q188.413 1006.16 184.524 1011.04 Q180.658 1015.9 174.107 1015.9 Q172.348 1015.9 170.542 1015.55 Q168.737 1015.21 166.792 1014.51 M176.098 999.86 Q179.246 999.86 181.075 997.708 Q182.927 995.555 182.927 991.805 Q182.927 988.078 181.075 985.925 Q179.246 983.749 176.098 983.749 Q172.95 983.749 171.098 985.925 Q169.269 988.078 169.269 991.805 Q169.269 995.555 171.098 997.708 Q172.95 999.86 176.098 999.86 Z\" fill=\"#000000\" fill-rule=\"evenodd\" fill-opacity=\"1\" /><path clip-path=\"url(#clip6900)\" d=\"M 0 0 M193.528 980.671 L211.885 980.671 L211.885 984.606 L197.811 984.606 L197.811 993.078 Q198.829 992.731 199.848 992.569 Q200.866 992.383 201.885 992.383 Q207.672 992.383 211.051 995.555 Q214.431 998.726 214.431 1004.14 Q214.431 1009.72 210.959 1012.82 Q207.487 1015.9 201.167 1015.9 Q198.991 1015.9 196.723 1015.53 Q194.477 1015.16 192.07 1014.42 L192.07 1009.72 Q194.153 1010.86 196.376 1011.41 Q198.598 1011.97 201.075 1011.97 Q205.079 1011.97 207.417 1009.86 Q209.755 1007.75 209.755 1004.14 Q209.755 1000.53 207.417 998.425 Q205.079 996.319 201.075 996.319 Q199.2 996.319 197.325 996.735 Q195.473 997.152 193.528 998.032 L193.528 980.671 Z\" fill=\"#000000\" fill-rule=\"evenodd\" fill-opacity=\"1\" /><path clip-path=\"url(#clip6900)\" d=\"M 0 0 M138.529 609.557 Q134.918 609.557 133.089 613.122 Q131.283 616.664 131.283 623.793 Q131.283 630.9 133.089 634.464 Q134.918 638.006 138.529 638.006 Q142.163 638.006 143.968 634.464 Q145.797 630.9 145.797 623.793 Q145.797 616.664 143.968 613.122 Q142.163 609.557 138.529 609.557 M138.529 605.854 Q144.339 605.854 147.394 610.46 Q150.473 615.043 150.473 623.793 Q150.473 632.52 147.394 637.126 Q144.339 641.71 138.529 641.71 Q132.718 641.71 129.64 637.126 Q126.584 632.52 126.584 623.793 Q126.584 615.043 129.64 610.46 Q132.718 605.854 138.529 605.854 Z\" fill=\"#000000\" fill-rule=\"evenodd\" fill-opacity=\"1\" /><path clip-path=\"url(#clip6900)\" d=\"M 0 0 M155.542 635.159 L160.427 635.159 L160.427 641.039 L155.542 641.039 L155.542 635.159 Z\" fill=\"#000000\" fill-rule=\"evenodd\" fill-opacity=\"1\" /><path clip-path=\"url(#clip6900)\" d=\"M 0 0 M165.635 640.321 L165.635 636.062 Q167.394 636.895 169.2 637.335 Q171.005 637.775 172.741 637.775 Q177.371 637.775 179.802 634.673 Q182.255 631.548 182.602 625.205 Q181.26 627.196 179.2 628.261 Q177.14 629.326 174.64 629.326 Q169.454 629.326 166.422 626.201 Q163.413 623.052 163.413 617.613 Q163.413 612.289 166.561 609.071 Q169.709 605.854 174.94 605.854 Q180.936 605.854 184.084 610.46 Q187.255 615.043 187.255 623.793 Q187.255 631.964 183.366 636.849 Q179.501 641.71 172.95 641.71 Q171.19 641.71 169.385 641.363 Q167.579 641.015 165.635 640.321 M174.94 625.668 Q178.089 625.668 179.917 623.515 Q181.769 621.363 181.769 617.613 Q181.769 613.886 179.917 611.733 Q178.089 609.557 174.94 609.557 Q171.792 609.557 169.94 611.733 Q168.112 613.886 168.112 617.613 Q168.112 621.363 169.94 623.515 Q171.792 625.668 174.94 625.668 Z\" fill=\"#000000\" fill-rule=\"evenodd\" fill-opacity=\"1\" /><path clip-path=\"url(#clip6900)\" d=\"M 0 0 M202.903 621.895 Q199.755 621.895 197.903 624.048 Q196.075 626.201 196.075 629.951 Q196.075 633.677 197.903 635.853 Q199.755 638.006 202.903 638.006 Q206.051 638.006 207.88 635.853 Q209.732 633.677 209.732 629.951 Q209.732 626.201 207.88 624.048 Q206.051 621.895 202.903 621.895 M212.186 607.242 L212.186 611.502 Q210.426 610.668 208.621 610.228 Q206.838 609.789 205.079 609.789 Q200.45 609.789 197.996 612.914 Q195.565 616.039 195.218 622.358 Q196.584 620.344 198.644 619.279 Q200.704 618.191 203.181 618.191 Q208.389 618.191 211.399 621.363 Q214.431 624.511 214.431 629.951 Q214.431 635.275 211.283 638.492 Q208.135 641.71 202.903 641.71 Q196.908 641.71 193.737 637.126 Q190.565 632.52 190.565 623.793 Q190.565 615.599 194.454 610.738 Q198.343 605.854 204.894 605.854 Q206.653 605.854 208.436 606.201 Q210.241 606.548 212.186 607.242 Z\" fill=\"#000000\" fill-rule=\"evenodd\" fill-opacity=\"1\" /><path clip-path=\"url(#clip6900)\" d=\"M 0 0 M139.593 235.365 Q135.982 235.365 134.154 238.93 Q132.348 242.472 132.348 249.601 Q132.348 256.708 134.154 260.272 Q135.982 263.814 139.593 263.814 Q143.228 263.814 145.033 260.272 Q146.862 256.708 146.862 249.601 Q146.862 242.472 145.033 238.93 Q143.228 235.365 139.593 235.365 M139.593 231.661 Q145.404 231.661 148.459 236.268 Q151.538 240.851 151.538 249.601 Q151.538 258.328 148.459 262.934 Q145.404 267.518 139.593 267.518 Q133.783 267.518 130.705 262.934 Q127.649 258.328 127.649 249.601 Q127.649 240.851 130.705 236.268 Q133.783 231.661 139.593 231.661 Z\" fill=\"#000000\" fill-rule=\"evenodd\" fill-opacity=\"1\" /><path clip-path=\"url(#clip6900)\" d=\"M 0 0 M156.607 260.967 L161.491 260.967 L161.491 266.846 L156.607 266.846 L156.607 260.967 Z\" fill=\"#000000\" fill-rule=\"evenodd\" fill-opacity=\"1\" /><path clip-path=\"url(#clip6900)\" d=\"M 0 0 M166.7 266.129 L166.7 261.87 Q168.459 262.703 170.265 263.143 Q172.07 263.583 173.806 263.583 Q178.436 263.583 180.866 260.481 Q183.32 257.356 183.667 251.013 Q182.325 253.004 180.264 254.069 Q178.204 255.134 175.704 255.134 Q170.519 255.134 167.487 252.009 Q164.478 248.86 164.478 243.421 Q164.478 238.097 167.626 234.879 Q170.774 231.661 176.005 231.661 Q182.001 231.661 185.149 236.268 Q188.32 240.851 188.32 249.601 Q188.32 257.772 184.431 262.657 Q180.565 267.518 174.015 267.518 Q172.255 267.518 170.45 267.171 Q168.644 266.823 166.7 266.129 M176.005 251.476 Q179.153 251.476 180.982 249.323 Q182.834 247.171 182.834 243.421 Q182.834 239.694 180.982 237.541 Q179.153 235.365 176.005 235.365 Q172.857 235.365 171.005 237.541 Q169.177 239.694 169.177 243.421 Q169.177 247.171 171.005 249.323 Q172.857 251.476 176.005 251.476 Z\" fill=\"#000000\" fill-rule=\"evenodd\" fill-opacity=\"1\" /><path clip-path=\"url(#clip6900)\" d=\"M 0 0 M192.209 232.286 L214.431 232.286 L214.431 234.277 L201.885 266.846 L197.001 266.846 L208.806 236.222 L192.209 236.222 L192.209 232.286 Z\" fill=\"#000000\" fill-rule=\"evenodd\" fill-opacity=\"1\" /><path clip-path=\"url(#clip6900)\" d=\"M 0 0 M1241.36 1510.27 L1241.36 1520.4 L1253.42 1520.4 L1253.42 1524.95 L1241.36 1524.95 L1241.36 1544.3 Q1241.36 1548.66 1242.54 1549.9 Q1243.74 1551.14 1247.41 1551.14 L1253.42 1551.14 L1253.42 1556.04 L1247.41 1556.04 Q1240.63 1556.04 1238.05 1553.53 Q1235.47 1550.98 1235.47 1544.3 L1235.47 1524.95 L1231.17 1524.95 L1231.17 1520.4 L1235.47 1520.4 L1235.47 1510.27 L1241.36 1510.27 Z\" fill=\"#000000\" fill-rule=\"evenodd\" fill-opacity=\"1\" /><path clip-path=\"url(#clip6900)\" d=\"M 0 0 M1259.56 1520.4 L1265.42 1520.4 L1265.42 1556.04 L1259.56 1556.04 L1259.56 1520.4 M1259.56 1506.52 L1265.42 1506.52 L1265.42 1513.93 L1259.56 1513.93 L1259.56 1506.52 Z\" fill=\"#000000\" fill-rule=\"evenodd\" fill-opacity=\"1\" /><path clip-path=\"url(#clip6900)\" d=\"M 0 0 M1299.32 1527.24 Q1301.51 1523.29 1304.57 1521.41 Q1307.62 1519.54 1311.76 1519.54 Q1317.33 1519.54 1320.36 1523.45 Q1323.38 1527.33 1323.38 1534.53 L1323.38 1556.04 L1317.49 1556.04 L1317.49 1534.72 Q1317.49 1529.59 1315.68 1527.11 Q1313.86 1524.63 1310.14 1524.63 Q1305.59 1524.63 1302.95 1527.65 Q1300.3 1530.68 1300.3 1535.9 L1300.3 1556.04 L1294.42 1556.04 L1294.42 1534.72 Q1294.42 1529.56 1292.6 1527.11 Q1290.79 1524.63 1287 1524.63 Q1282.51 1524.63 1279.87 1527.68 Q1277.23 1530.71 1277.23 1535.9 L1277.23 1556.04 L1271.34 1556.04 L1271.34 1520.4 L1277.23 1520.4 L1277.23 1525.93 Q1279.23 1522.66 1282.03 1521.1 Q1284.84 1519.54 1288.69 1519.54 Q1292.57 1519.54 1295.28 1521.51 Q1298.01 1523.48 1299.32 1527.24 Z\" fill=\"#000000\" fill-rule=\"evenodd\" fill-opacity=\"1\" /><path clip-path=\"url(#clip6900)\" d=\"M 0 0 M1360.01 1536.76 L1360.01 1539.62 L1333.09 1539.62 Q1333.47 1545.67 1336.72 1548.85 Q1339.99 1552 1345.82 1552 Q1349.19 1552 1352.34 1551.17 Q1355.53 1550.35 1358.65 1548.69 L1358.65 1554.23 Q1355.49 1555.57 1352.18 1556.27 Q1348.87 1556.97 1345.47 1556.97 Q1336.94 1556.97 1331.94 1552 Q1326.98 1547.04 1326.98 1538.57 Q1326.98 1529.82 1331.69 1524.69 Q1336.43 1519.54 1344.45 1519.54 Q1351.64 1519.54 1355.81 1524.18 Q1360.01 1528.8 1360.01 1536.76 M1354.16 1535.04 Q1354.09 1530.23 1351.45 1527.37 Q1348.84 1524.5 1344.51 1524.5 Q1339.61 1524.5 1336.65 1527.27 Q1333.72 1530.04 1333.28 1535.07 L1354.16 1535.04 Z\" fill=\"#000000\" fill-rule=\"evenodd\" fill-opacity=\"1\" /><path clip-path=\"url(#clip6900)\" d=\"M 0 0 M88.0042 891.952 L40.4842 910.094 L40.4842 903.378 L80.4926 888.323 L40.4842 873.236 L40.4842 866.552 L88.0042 884.663 L88.0042 891.952 Z\" fill=\"#000000\" fill-rule=\"evenodd\" fill-opacity=\"1\" /><path clip-path=\"url(#clip6900)\" d=\"M 0 0 M56.4621 851.657 Q56.4621 856.367 60.1542 859.105 Q63.8145 861.842 70.212 861.842 Q76.6095 861.842 80.3017 859.136 Q83.9619 856.399 83.9619 851.657 Q83.9619 846.978 80.2698 844.241 Q76.5777 841.503 70.212 841.503 Q63.8781 841.503 60.186 844.241 Q56.4621 846.978 56.4621 851.657 M51.4968 851.657 Q51.4968 844.018 56.4621 839.657 Q61.4273 835.297 70.212 835.297 Q78.9649 835.297 83.9619 839.657 Q88.9272 844.018 88.9272 851.657 Q88.9272 859.327 83.9619 863.688 Q78.9649 868.017 70.212 868.017 Q61.4273 868.017 56.4621 863.688 Q51.4968 859.327 51.4968 851.657 Z\" fill=\"#000000\" fill-rule=\"evenodd\" fill-opacity=\"1\" /><path clip-path=\"url(#clip6900)\" d=\"M 0 0 M38.479 829.154 L38.479 823.297 L88.0042 823.297 L88.0042 829.154 L38.479 829.154 Z\" fill=\"#000000\" fill-rule=\"evenodd\" fill-opacity=\"1\" /><path clip-path=\"url(#clip6900)\" d=\"M 0 0 M42.2347 811.362 L52.3562 811.362 L52.3562 799.299 L56.9077 799.299 L56.9077 811.362 L76.2594 811.362 Q80.6199 811.362 81.8613 810.184 Q83.1026 808.975 83.1026 805.314 L83.1026 799.299 L88.0042 799.299 L88.0042 805.314 Q88.0042 812.094 85.4897 814.672 Q82.9434 817.25 76.2594 817.25 L56.9077 817.25 L56.9077 821.547 L52.3562 821.547 L52.3562 817.25 L42.2347 817.25 L42.2347 811.362 Z\" fill=\"#000000\" fill-rule=\"evenodd\" fill-opacity=\"1\" /><path clip-path=\"url(#clip6900)\" d=\"M 0 0 M70.0847 776.955 Q70.0847 784.053 71.7079 786.79 Q73.3312 789.527 77.2461 789.527 Q80.3653 789.527 82.2114 787.49 Q84.0256 785.421 84.0256 781.889 Q84.0256 777.019 80.5881 774.091 Q77.1188 771.13 71.3897 771.13 L70.0847 771.13 L70.0847 776.955 M67.6657 765.274 L88.0042 765.274 L88.0042 771.13 L82.5933 771.13 Q85.8398 773.136 87.3994 776.128 Q88.9272 779.119 88.9272 783.448 Q88.9272 788.923 85.8716 792.169 Q82.7843 795.384 77.6281 795.384 Q71.6125 795.384 68.5569 791.373 Q65.5014 787.331 65.5014 779.342 L65.5014 771.13 L64.9285 771.13 Q60.8862 771.13 58.6901 773.804 Q56.4621 776.446 56.4621 781.252 Q56.4621 784.307 57.1941 787.204 Q57.9262 790.1 59.3903 792.774 L53.9795 792.774 Q52.7381 789.559 52.1334 786.535 Q51.4968 783.512 51.4968 780.647 Q51.4968 772.913 55.5072 769.093 Q59.5176 765.274 67.6657 765.274 Z\" fill=\"#000000\" fill-rule=\"evenodd\" fill-opacity=\"1\" /><path clip-path=\"url(#clip6900)\" d=\"M 0 0 M69.7664 735.673 Q63.4007 735.673 59.8996 738.315 Q56.3984 740.925 56.3984 745.668 Q56.3984 750.378 59.8996 753.02 Q63.4007 755.63 69.7664 755.63 Q76.1003 755.63 79.6014 753.02 Q83.1026 750.378 83.1026 745.668 Q83.1026 740.925 79.6014 738.315 Q76.1003 735.673 69.7664 735.673 M83.58 729.817 Q92.683 729.817 97.1071 733.859 Q101.563 737.901 101.563 746.241 Q101.563 749.328 101.086 752.065 Q100.64 754.802 99.6852 757.381 L93.9879 757.381 Q95.3884 754.802 96.0568 752.288 Q96.7252 749.774 96.7252 747.164 Q96.7252 741.403 93.7015 738.538 Q90.7096 735.673 84.6303 735.673 L81.7339 735.673 Q84.885 737.488 86.4446 740.32 Q88.0042 743.153 88.0042 747.1 Q88.0042 753.657 83.0071 757.667 Q78.01 761.677 69.7664 761.677 Q61.491 761.677 56.4939 757.667 Q51.4968 753.657 51.4968 747.1 Q51.4968 743.153 53.0564 740.32 Q54.616 737.488 57.7671 735.673 L52.3562 735.673 L52.3562 729.817 L83.58 729.817 Z\" fill=\"#000000\" fill-rule=\"evenodd\" fill-opacity=\"1\" /><path clip-path=\"url(#clip6900)\" d=\"M 0 0 M68.7161 693.182 L71.5806 693.182 L71.5806 720.109 Q77.6281 719.727 80.8109 716.481 Q83.9619 713.203 83.9619 707.378 Q83.9619 704.004 83.1344 700.853 Q82.3069 697.67 80.6518 694.551 L86.1899 694.551 Q87.5267 697.702 88.227 701.012 Q88.9272 704.322 88.9272 707.728 Q88.9272 716.258 83.9619 721.255 Q78.9967 726.22 70.5303 726.22 Q61.7774 726.22 56.6531 721.51 Q51.4968 716.767 51.4968 708.747 Q51.4968 701.553 56.1438 697.384 Q60.7589 693.182 68.7161 693.182 M66.9973 699.039 Q62.1912 699.102 59.3266 701.744 Q56.4621 704.354 56.4621 708.683 Q56.4621 713.584 59.2312 716.545 Q62.0002 719.473 67.0292 719.918 L66.9973 699.039 Z\" fill=\"#000000\" fill-rule=\"evenodd\" fill-opacity=\"1\" /><path clip-path=\"url(#clip6900)\" d=\"M 0 0 M38.479 666.86 L38.479 653.365 L43.0304 653.365 L43.0304 661.004 L92.0464 661.004 L92.0464 653.365 L96.5979 653.365 L96.5979 666.86 L38.479 666.86 Z\" fill=\"#000000\" fill-rule=\"evenodd\" fill-opacity=\"1\" /><path clip-path=\"url(#clip6900)\" d=\"M 0 0 M82.657 641.557 L101.563 641.557 L101.563 647.445 L52.3562 647.445 L52.3562 641.557 L57.7671 641.557 Q54.5842 639.71 53.0564 636.91 Q51.4968 634.077 51.4968 630.162 Q51.4968 623.669 56.6531 619.627 Q61.8093 615.553 70.212 615.553 Q78.6147 615.553 83.771 619.627 Q88.9272 623.669 88.9272 630.162 Q88.9272 634.077 87.3994 636.91 Q85.8398 639.71 82.657 641.557 M70.212 621.632 Q63.7508 621.632 60.0905 624.305 Q56.3984 626.947 56.3984 631.594 Q56.3984 636.241 60.0905 638.915 Q63.7508 641.557 70.212 641.557 Q76.6732 641.557 80.3653 638.915 Q84.0256 636.241 84.0256 631.594 Q84.0256 626.947 80.3653 624.305 Q76.6732 621.632 70.212 621.632 Z\" fill=\"#000000\" fill-rule=\"evenodd\" fill-opacity=\"1\" /><path clip-path=\"url(#clip6900)\" d=\"M 0 0 M73.9359 610.014 L52.3562 610.014 L52.3562 604.158 L73.7131 604.158 Q78.7739 604.158 81.3202 602.185 Q83.8346 600.211 83.8346 596.265 Q83.8346 591.522 80.8109 588.785 Q77.7872 586.016 72.5673 586.016 L52.3562 586.016 L52.3562 580.159 L88.0042 580.159 L88.0042 586.016 L82.5296 586.016 Q85.7762 588.148 87.3676 590.981 Q88.9272 593.782 88.9272 597.506 Q88.9272 603.649 85.1078 606.832 Q81.2883 610.014 73.9359 610.014 M51.4968 595.278 L51.4968 595.278 Z\" fill=\"#000000\" fill-rule=\"evenodd\" fill-opacity=\"1\" /><path clip-path=\"url(#clip6900)\" d=\"M 0 0 M38.479 560.33 L96.5979 560.33 L96.5979 573.825 L92.0464 573.825 L92.0464 566.218 L43.0304 566.218 L43.0304 573.825 L38.479 573.825 L38.479 560.33 Z\" fill=\"#000000\" fill-rule=\"evenodd\" fill-opacity=\"1\" /><polyline clip-path=\"url(#clip6902)\" style=\"stroke:#009af9; stroke-width:4; stroke-opacity:1; fill:none\" points=\"\n",
       "  298.27,86.1857 298.337,86.1857 298.403,86.1857 298.536,86.1857 298.802,86.1857 299.334,86.1857 300.398,86.1857 301.728,86.1857 303.058,86.1857 304.387,86.1857 \n",
       "  305.717,86.1857 307.047,86.1857 308.377,86.1857 309.706,86.1857 311.036,86.1857 312.366,86.1857 313.696,86.1857 315.025,86.1857 316.355,86.1857 317.685,86.1857 \n",
       "  319.015,86.1857 320.344,86.1857 321.674,86.1857 323.004,86.1857 324.334,86.1857 325.664,86.1857 326.993,86.1857 328.323,86.1857 329.653,86.1857 330.983,86.1857 \n",
       "  332.312,86.1857 333.642,86.1857 334.972,86.1857 336.302,86.1857 337.631,86.1857 338.961,86.1857 340.291,86.1857 341.621,86.1857 342.95,86.1857 344.28,86.1857 \n",
       "  345.61,86.1857 346.94,86.1857 348.269,86.1857 349.599,86.1857 350.929,86.1857 352.259,86.1857 353.589,86.1857 354.918,86.1857 356.248,86.1857 357.578,86.1857 \n",
       "  358.908,86.1857 360.237,86.1857 361.567,86.1857 362.897,86.1857 364.227,86.1857 364.759,86.1857 365.431,1364.56 366.103,1364.7 366.775,1364.9 \n",
       "  368.105,1365.48 369.435,1366.33 370.764,1367.5 372.094,1368.95 373.424,1370.74 374.754,1372.74 376.084,1374.97 377.413,1377.08 378.61,1378.93 379.687,1380.46 \n",
       "  380.657,1381.68 381.626,1382.68 382.478,1383.35 383.33,1383.86 384.182,1384.15 385.034,1384.24 385.886,1384.19 386.738,1383.95 388.067,1383.18 389.397,1381.98 \n",
       "  390.727,1380.45 392.057,1378.64 393.386,1376.72 394.716,1374.72 396.046,1372.85 397.376,1371.08 398.705,1369.61 400.035,1368.28 401.365,1367.32 402.695,1366.55 \n",
       "  404.025,1366.17 405.354,1365.87 406.684,1366.02 408.014,1366.16 409.344,1366.89 410.673,1367.46 412.003,1368.62 413.333,1369.79 414.663,1371.59 415.992,1372.98 \n",
       "  417.322,1375.21 418.652,1376.46 419.982,1379.01 421.311,1379.54 422.641,1382.29 423.971,1381.33 425.301,1382.67 426.631,1382.36 427.96,1383.21 429.29,1381.18 \n",
       "  430.62,1381.71 431.95,1378.05 433.279,1379.22 434.609,1373.79 435.939,1376.77 437.269,1368.94 438.598,1370.92 439.928,1369.71 441.125,1368.8 442.202,1368.15 \n",
       "  443.171,1367.7 444.141,1367.43 445.013,1367.21 445.886,1367.16 446.671,1367.12 447.456,1367.19 448.241,1367.33 449.571,1367.7 450.901,1368.26 452.231,1369.03 \n",
       "  453.56,1369.98 454.89,1371.11 456.22,1372.39 457.55,1373.77 458.88,1375.19 460.209,1376.59 461.539,1377.9 462.869,1379.03 464.199,1379.92 465.528,1380.52 \n",
       "  466.858,1380.8 468.188,1380.72 469.518,1380.31 470.847,1379.58 472.177,1378.6 473.507,1377.41 474.837,1376.09 476.166,1374.73 477.496,1373.36 478.826,1372.05 \n",
       "  480.156,1370.91 481.486,1369.91 482.815,1368.99 484.145,1368.39 485.475,1368.11 486.805,1367.7 488.134,1367.46 489.464,1368.15 490.794,1368.64 492.124,1368.04 \n",
       "  493.453,1369.56 494.783,1371.56 496.113,1371.62 497.443,1372.61 498.772,1374.23 500.102,1375.42 501.432,1376.57 502.762,1377.78 504.092,1378.74 505.421,1379.45 \n",
       "  506.751,1379.94 508.081,1380.09 509.411,1379.89 510.74,1379.45 512.07,1378.77 513.4,1377.78 514.73,1376.65 516.059,1375.49 517.389,1374.19 518.719,1372.91 \n",
       "  520.049,1371.94 521.378,1370.95 522.708,1369.92 524.038,1369.2 525.368,1368.75 526.698,1368.29 528.027,1368.07 529.357,1368.25 530.687,1368.46 532.017,1368.77 \n",
       "  533.346,1369.59 534.676,1370.35 536.006,1370.62 537.336,1372.06 538.665,1373.73 539.995,1374.14 541.325,1375.08 542.655,1377.15 543.984,1377.82 545.314,1377.69 \n",
       "  546.644,1378.99 547.974,1379.5 549.303,1379.28 550.633,1379.13 551.963,1378.73 553.293,1377.96 554.623,1377.06 555.952,1376.11 557.282,1374.95 558.612,1373.75 \n",
       "  559.942,1372.74 561.271,1371.74 562.601,1370.75 563.931,1370 565.261,1369.44 566.59,1368.91 567.92,1368.6 569.25,1368.6 570.58,1368.67 571.909,1368.87 \n",
       "  573.239,1369.47 574.569,1370.03 575.899,1370.33 577.229,1371.48 578.558,1373.16 579.888,1373.52 581.218,1374.02 582.548,1376.02 583.877,1377.02 585.207,1376.73 \n",
       "  586.537,1377.99 587.867,1379.39 589.196,1378.78 590.526,1378.56 591.856,1378.59 593.186,1378.02 594.515,1377.25 595.845,1376.46 597.175,1375.51 598.505,1374.43 \n",
       "  599.835,1373.47 601.164,1372.54 602.494,1371.53 603.824,1370.72 605.154,1370.11 606.483,1369.56 607.813,1369.15 609.143,1369.01 610.473,1368.98 611.802,1369.02 \n",
       "  613.132,1369.33 614.462,1369.86 615.792,1370.37 617.121,1371.03 618.451,1371.95 619.781,1372.81 621.111,1373.61 622.441,1374.75 623.77,1375.81 625.1,1376.42 \n",
       "  626.43,1377.12 627.76,1377.95 629.089,1378.15 630.419,1378.05 631.749,1378.18 633.079,1377.92 634.408,1377.34 635.738,1376.7 637.068,1375.92 638.398,1375.03 \n",
       "  639.727,1374.1 641.057,1373.2 642.387,1372.3 643.717,1371.47 645.047,1370.79 646.376,1370.21 647.706,1369.75 649.036,1369.48 650.366,1369.35 651.695,1369.26 \n",
       "  653.025,1369.44 654.355,1369.93 655.685,1370.22 657.014,1370.52 658.344,1371.72 659.674,1372.75 661.004,1372.35 662.333,1373.95 663.663,1375.98 664.993,1375.69 \n",
       "  666.323,1376.17 667.653,1377.16 668.982,1377.5 670.312,1377.66 671.642,1377.8 672.972,1377.67 674.301,1377.33 675.631,1376.86 676.961,1376.22 678.291,1375.42 \n",
       "  679.62,1374.62 680.95,1373.83 682.28,1372.94 683.61,1372.13 684.939,1371.46 686.269,1370.83 687.599,1370.29 688.929,1369.97 690.258,1369.76 691.588,1369.59 \n",
       "  692.918,1369.65 694.248,1369.88 695.578,1370.08 696.907,1370.55 698.237,1371.4 699.567,1371.87 700.897,1372.34 702.226,1373.49 703.556,1374.38 704.886,1374.7 \n",
       "  706.216,1375.57 707.545,1376.63 708.875,1376.8 710.205,1377.07 711.535,1377.38 712.864,1377.36 714.194,1377.15 715.524,1376.83 716.854,1376.34 718.184,1375.74 \n",
       "  719.513,1375.05 720.843,1374.31 722.173,1373.55 723.503,1372.8 724.832,1372.09 726.162,1371.46 727.492,1370.92 728.822,1370.48 730.151,1370.17 731.481,1369.98 \n",
       "  732.811,1369.93 734.141,1370 735.47,1370.21 736.8,1370.53 738.13,1370.98 739.46,1371.52 740.79,1372.14 742.119,1372.82 743.449,1373.56 744.779,1374.27 \n",
       "  746.109,1374.93 747.438,1375.6 748.768,1376.17 750.098,1376.54 751.428,1376.82 752.757,1377.01 754.087,1376.94 755.417,1376.69 756.747,1376.41 758.076,1375.96 \n",
       "  759.406,1375.33 760.736,1374.75 762.066,1374.14 763.396,1373.21 764.725,1372.64 766.055,1372.23 767.385,1371.41 768.715,1370.81 770.044,1370.8 771.374,1370.49 \n",
       "  772.704,1370.17 774.034,1370.24 775.363,1370.43 776.693,1370.47 778.023,1370.81 779.353,1371.45 780.682,1371.86 782.012,1372.27 783.342,1373.13 784.672,1373.72 \n",
       "  786.002,1374.33 787.331,1375 788.661,1375.55 789.991,1375.99 791.321,1376.35 792.65,1376.57 793.98,1376.62 795.31,1376.55 796.64,1376.35 797.969,1375.99 \n",
       "  799.299,1375.52 800.629,1375 801.959,1374.4 803.288,1373.73 804.618,1373.14 805.948,1372.61 807.278,1371.98 808.607,1371.44 809.937,1371.13 811.267,1370.82 \n",
       "  812.597,1370.51 813.927,1370.49 815.256,1370.59 816.586,1370.59 817.916,1370.8 819.246,1371.24 820.575,1371.63 821.905,1372.05 823.235,1372.7 824.565,1373.33 \n",
       "  825.894,1373.79 827.224,1374.41 828.554,1375.08 829.884,1375.46 831.213,1375.82 832.543,1376.14 833.873,1376.28 835.203,1376.3 836.533,1376.22 837.862,1375.97 \n",
       "  839.192,1375.6 840.522,1375.2 841.852,1374.7 843.181,1374.1 844.511,1373.54 845.841,1372.99 847.171,1372.44 848.5,1371.94 849.83,1371.54 851.16,1371.19 \n",
       "  852.49,1370.92 853.819,1370.78 855.149,1370.73 856.479,1370.72 857.809,1370.91 859.139,1371.26 860.468,1371.45 861.798,1371.73 863.128,1372.58 864.458,1372.91 \n",
       "  865.787,1373.08 867.117,1374.06 868.447,1374.79 869.777,1374.68 871.106,1375.19 872.436,1375.82 873.766,1375.89 875.096,1375.87 876.425,1376.14 877.755,1375.87 \n",
       "  879.085,1375.57 880.415,1375.31 881.745,1374.89 883.074,1374.4 884.404,1373.9 885.734,1373.38 887.064,1372.85 888.393,1372.38 889.723,1371.97 891.053,1371.58 \n",
       "  892.383,1371.28 893.712,1371.09 895.042,1370.95 896.372,1370.91 897.702,1371.07 899.031,1371.23 900.361,1371.3 901.691,1371.75 903.021,1372.42 904.351,1372.59 \n",
       "  905.68,1372.85 907.01,1373.72 908.34,1374.22 909.67,1374.23 910.999,1374.89 912.329,1375.61 913.659,1375.54 914.989,1375.63 916.318,1375.81 917.648,1375.74 \n",
       "  918.978,1375.56 920.308,1375.34 921.637,1375.01 922.967,1374.63 924.297,1374.19 925.627,1373.73 926.957,1373.25 928.286,1372.79 929.616,1372.36 930.946,1371.98 \n",
       "  932.276,1371.66 933.605,1371.41 934.935,1371.24 936.265,1371.15 937.595,1371.15 938.924,1371.24 940.254,1371.41 941.584,1371.65 942.914,1371.97 944.243,1372.35 \n",
       "  945.573,1372.75 946.903,1373.19 948.233,1373.67 949.562,1374.08 950.892,1374.49 952.222,1374.86 953.552,1375.15 954.882,1375.37 956.211,1375.51 957.541,1375.54 \n",
       "  958.871,1375.47 960.201,1375.32 961.53,1375.09 962.86,1374.76 964.19,1374.4 965.52,1374.02 966.849,1373.55 968.179,1373.08 969.509,1372.79 970.839,1372.35 \n",
       "  972.168,1371.89 973.498,1371.76 974.828,1371.62 976.158,1371.3 977.488,1371.28 978.817,1371.4 980.147,1371.46 981.477,1371.59 982.807,1371.93 984.136,1372.23 \n",
       "  985.466,1372.47 986.796,1372.92 988.126,1373.41 989.455,1373.74 990.785,1374.13 992.115,1374.5 993.445,1374.8 994.774,1375.05 996.104,1375.24 997.434,1375.32 \n",
       "  998.764,1375.31 1000.09,1375.25 1001.42,1375.09 1002.75,1374.82 1004.08,1374.53 1005.41,1374.2 1006.74,1373.77 1008.07,1373.4 1009.4,1373.12 1010.73,1372.67 \n",
       "  1012.06,1372.23 1013.39,1372.09 1014.72,1371.88 1016.05,1371.53 1017.38,1371.5 1018.71,1371.64 1020.04,1371.55 1021.37,1371.63 1022.7,1371.86 1024.03,1372.09 \n",
       "  1025.36,1372.37 1026.69,1372.71 1028.02,1373.07 1029.35,1373.43 1030.68,1373.8 1032.01,1374.17 1033.34,1374.47 1034.67,1374.73 1036,1374.95 1037.33,1375.07 \n",
       "  1038.66,1375.11 1039.99,1375.16 1041.32,1375.06 1042.65,1374.76 1043.98,1374.61 1045.31,1374.54 1046.64,1374.02 1047.97,1373.65 1049.29,1373.5 1050.62,1372.97 \n",
       "  1051.95,1372.44 1053.28,1372.42 1054.61,1372.08 1055.94,1371.83 1057.27,1371.76 1058.6,1371.68 1059.93,1371.66 1061.26,1371.73 1062.59,1371.86 1063.92,1372.02 \n",
       "  1065.25,1372.26 1066.58,1372.56 1067.91,1372.85 1069.24,1373.17 1070.57,1373.53 1071.9,1373.86 1073.23,1374.16 1074.56,1374.44 1075.89,1374.67 1077.22,1374.84 \n",
       "  1078.55,1374.95 1079.88,1374.98 1081.21,1374.93 1082.54,1374.83 1083.87,1374.66 1085.2,1374.43 1086.53,1374.16 1087.86,1373.87 1089.19,1373.53 1090.52,1373.19 \n",
       "  1091.85,1372.92 1093.18,1372.61 1094.51,1372.34 1095.84,1372.15 1097.17,1371.97 1098.5,1371.83 1099.83,1371.81 1101.16,1371.84 1102.49,1371.88 1103.82,1372.03 \n",
       "  1105.14,1372.27 1106.47,1372.39 1107.8,1372.58 1109.13,1373.13 1110.46,1373.3 1111.79,1373.36 1113.12,1373.96 1114.45,1374.37 1115.78,1374.2 1117.11,1374.47 \n",
       "  1118.44,1374.82 1119.77,1374.79 1121.1,1374.81 1122.43,1374.78 1123.76,1374.64 1125.09,1374.47 1126.42,1374.26 1127.75,1374 1129.08,1373.72 1130.41,1373.43 \n",
       "  1131.74,1373.14 1133.07,1372.85 1134.4,1372.59 1135.73,1372.38 1137.06,1372.18 1138.39,1372.02 1139.72,1371.97 1141.05,1371.94 1142.38,1371.91 1143.71,1372.05 \n",
       "  1145.04,1372.28 1146.37,1372.35 1147.7,1372.56 1149.03,1372.92 1150.36,1373.09 1151.69,1373.27 1153.02,1373.7 1154.35,1373.92 1155.68,1374.13 1157.01,1374.37 \n",
       "  1158.34,1374.52 1159.67,1374.62 1160.99,1374.69 1162.32,1374.67 1163.65,1374.58 1164.98,1374.49 1166.31,1374.33 1167.64,1374.09 1168.97,1373.85 1170.3,1373.61 \n",
       "  1171.63,1373.28 1172.96,1373.07 1174.29,1372.89 1175.62,1372.57 1176.95,1372.34 1178.28,1372.3 1179.61,1372.16 1180.94,1371.99 1182.27,1372.06 1183.6,1372.12 \n",
       "  1184.93,1372.17 1186.26,1372.31 1187.59,1372.5 1188.92,1372.68 1190.25,1372.93 1191.58,1373.21 1192.91,1373.43 1194.24,1373.67 1195.57,1373.95 1196.9,1374.14 \n",
       "  1198.23,1374.3 1199.56,1374.45 1200.89,1374.53 1202.22,1374.56 1203.55,1374.54 1204.88,1374.46 1206.21,1374.33 1207.54,1374.17 1208.87,1373.98 1210.2,1373.74 \n",
       "  1211.53,1373.51 1212.86,1373.28 1214.19,1373.01 1215.52,1372.79 1216.85,1372.68 1218.17,1372.43 1219.5,1372.22 1220.83,1372.25 1222.16,1372.23 1223.49,1372.09 \n",
       "  1224.82,1372.22 1226.15,1372.34 1227.48,1372.44 1228.81,1372.61 1230.14,1372.82 1231.47,1373.03 1232.8,1373.26 1234.13,1373.5 1235.46,1373.72 1236.79,1373.92 \n",
       "  1238.12,1374.12 1239.45,1374.27 1240.78,1374.36 1242.11,1374.44 1243.44,1374.47 1244.77,1374.39 1246.1,1374.29 1247.43,1374.27 1248.76,1374.06 1250.09,1373.7 \n",
       "  1251.42,1373.64 1252.75,1373.57 1254.08,1373.11 1255.41,1372.87 1256.74,1372.96 1258.07,1372.65 1259.4,1372.26 1260.73,1372.36 1262.06,1372.34 1263.39,1372.24 \n",
       "  1264.72,1372.27 1266.05,1372.35 1267.38,1372.43 1268.71,1372.57 1270.04,1372.72 1271.37,1372.91 1272.7,1373.11 1274.02,1373.32 1275.35,1373.53 1276.68,1373.73 \n",
       "  1278.01,1373.92 1279.34,1374.08 1280.67,1374.2 1282,1374.29 1283.33,1374.33 1284.66,1374.34 1285.99,1374.29 1287.32,1374.21 1288.65,1374.09 1289.98,1373.94 \n",
       "  1291.31,1373.76 1292.64,1373.57 1293.97,1373.37 1295.3,1373.16 1296.63,1372.97 1297.96,1372.79 1299.29,1372.64 1300.62,1372.52 1301.95,1372.43 1303.28,1372.37 \n",
       "  1304.61,1372.35 1305.94,1372.38 1307.27,1372.44 1308.6,1372.53 1309.93,1372.67 1311.26,1372.82 1312.59,1372.99 1313.92,1373.18 1315.25,1373.4 1316.58,1373.56 \n",
       "  1317.91,1373.74 1319.24,1373.91 1320.57,1374.03 1321.9,1374.14 1323.23,1374.22 1324.56,1374.25 1325.89,1374.22 1327.22,1374.18 1328.55,1374.11 1329.88,1373.97 \n",
       "  1331.2,1373.83 1332.53,1373.7 1333.86,1373.48 1335.19,1373.25 1336.52,1373.13 1337.85,1372.95 1339.18,1372.74 1340.51,1372.67 1341.84,1372.61 1343.17,1372.45 \n",
       "  1344.5,1372.45 1345.83,1372.46 1347.16,1372.47 1348.49,1372.54 1349.82,1372.64 1351.15,1372.75 1352.48,1372.91 1353.81,1373.09 1355.14,1373.24 1356.47,1373.41 \n",
       "  1357.8,1373.6 1359.13,1373.75 1360.46,1373.89 1361.79,1374.01 1363.12,1374.09 1364.45,1374.14 1365.78,1374.16 1367.11,1374.14 1368.44,1374.08 1369.77,1374 \n",
       "  1371.1,1373.89 1372.43,1373.74 1373.76,1373.59 1375.09,1373.43 1376.42,1373.25 1377.75,1373.07 1379.08,1372.96 1380.41,1372.81 1381.74,1372.68 1383.07,1372.62 \n",
       "  1384.4,1372.55 1385.73,1372.49 1387.05,1372.53 1388.38,1372.59 1389.71,1372.62 1391.04,1372.72 1392.37,1372.85 1393.7,1372.98 1395.03,1373.13 1396.36,1373.31 \n",
       "  1397.69,1373.46 1399.02,1373.61 1400.35,1373.75 1401.68,1373.87 1403.01,1373.97 1404.34,1374.04 1405.67,1374.08 1407,1374.08 1408.33,1374.05 1409.66,1373.99 \n",
       "  1410.99,1373.91 1412.32,1373.79 1413.65,1373.66 1414.98,1373.52 1416.31,1373.36 1417.64,1373.21 1418.97,1373.07 1420.3,1372.93 1421.63,1372.81 1422.96,1372.73 \n",
       "  1424.29,1372.64 1425.62,1372.59 1426.95,1372.59 1428.28,1372.61 1429.61,1372.62 1430.94,1372.71 1432.27,1372.82 1433.6,1372.92 1434.93,1373.06 1436.26,1373.21 \n",
       "  1437.59,1373.34 1438.92,1373.48 1440.25,1373.63 1441.58,1373.74 1442.9,1373.84 1444.23,1373.93 1445.56,1373.98 1446.89,1374.01 1448.22,1374.01 1449.55,1373.97 \n",
       "  1450.88,1373.91 1452.21,1373.82 1453.54,1373.72 1454.87,1373.59 1456.2,1373.46 1457.53,1373.33 1458.86,1373.18 1460.19,1373.04 1461.52,1372.93 1462.85,1372.84 \n",
       "  1464.18,1372.74 1465.51,1372.69 1466.84,1372.67 1468.17,1372.65 1469.5,1372.66 1470.83,1372.73 1472.16,1372.78 1473.49,1372.84 1474.82,1373.02 1476.15,1373.17 \n",
       "  1477.48,1373.14 1478.81,1373.37 1480.14,1373.65 1481.47,1373.63 1482.8,1373.7 1484.13,1373.84 1485.46,1373.89 1486.79,1373.92 1488.12,1373.95 1489.45,1373.94 \n",
       "  1490.78,1373.89 1492.11,1373.83 1493.44,1373.76 1494.77,1373.64 1496.1,1373.52 1497.43,1373.41 1498.76,1373.27 1500.08,1373.13 1501.41,1373.07 1502.74,1372.94 \n",
       "  1504.07,1372.8 1505.4,1372.8 1506.73,1372.78 1508.06,1372.67 1509.39,1372.69 1510.72,1372.76 1512.05,1372.79 1513.38,1372.86 1514.71,1372.95 1516.04,1373.05 \n",
       "  1517.37,1373.16 1518.7,1373.29 1520.03,1373.4 1521.36,1373.52 1522.69,1373.63 1524.02,1373.72 1525.35,1373.79 1526.68,1373.85 1528.01,1373.88 1529.34,1373.88 \n",
       "  1530.67,1373.86 1532,1373.84 1533.33,1373.77 1534.66,1373.68 1535.99,1373.6 1537.32,1373.48 1538.65,1373.36 1539.98,1373.26 1541.31,1373.14 1542.64,1373.02 \n",
       "  1543.97,1372.94 1545.3,1372.87 1546.63,1372.81 1547.96,1372.77 1549.29,1372.76 1550.62,1372.77 1551.95,1372.8 1553.28,1372.85 1554.61,1372.92 1555.93,1373 \n",
       "  1557.26,1373.1 1558.59,1373.21 1559.92,1373.31 1561.25,1373.43 1562.58,1373.54 1563.91,1373.62 1565.24,1373.68 1566.57,1373.77 1567.9,1373.81 1569.23,1373.81 \n",
       "  1570.56,1373.83 1571.89,1373.83 1573.22,1373.75 1574.55,1373.69 1575.88,1373.63 1577.21,1373.53 1578.54,1373.43 1579.87,1373.35 1581.2,1373.22 1582.53,1373.11 \n",
       "  1583.86,1373.04 1585.19,1372.96 1586.52,1372.89 1587.85,1372.84 1589.18,1372.82 1590.51,1372.81 1591.84,1372.82 1593.17,1372.86 1594.5,1372.91 1595.83,1372.98 \n",
       "  1597.16,1373.06 1598.49,1373.15 1599.82,1373.25 1601.15,1373.35 1602.48,1373.45 1603.81,1373.53 1605.14,1373.62 1606.47,1373.7 1607.8,1373.74 1609.13,1373.77 \n",
       "  1610.46,1373.8 1611.79,1373.78 1613.11,1373.74 1614.44,1373.71 1615.77,1373.66 1617.1,1373.57 1618.43,1373.48 1619.76,1373.4 1621.09,1373.3 1622.42,1373.2 \n",
       "  1623.75,1373.13 1625.08,1373.04 1626.41,1372.95 1627.74,1372.91 1629.07,1372.88 1630.4,1372.85 1631.73,1372.86 1633.06,1372.87 1634.39,1372.91 1635.72,1372.96 \n",
       "  1637.05,1373.03 1638.38,1373.1 1639.71,1373.19 1641.04,1373.28 1642.37,1373.37 1643.7,1373.45 1645.03,1373.54 1646.36,1373.61 1647.69,1373.67 1649.02,1373.71 \n",
       "  1650.35,1373.74 1651.68,1373.74 1653.01,1373.73 1654.34,1373.71 1655.67,1373.66 1657,1373.6 1658.33,1373.53 1659.66,1373.45 1660.99,1373.37 1662.32,1373.27 \n",
       "  1663.65,1373.19 1664.98,1373.12 1666.31,1373.04 1667.64,1372.98 1668.96,1372.94 1670.29,1372.91 1671.62,1372.89 1672.95,1372.9 1674.28,1372.93 1675.61,1372.95 \n",
       "  1676.94,1373 1678.27,1373.07 1679.6,1373.14 1680.93,1373.21 1682.26,1373.3 1683.59,1373.4 1684.92,1373.46 1686.25,1373.53 1687.58,1373.6 1688.91,1373.64 \n",
       "  1690.24,1373.67 1691.57,1373.71 1692.9,1373.71 1694.23,1373.68 1695.56,1373.66 1696.89,1373.62 1698.22,1373.55 1699.55,1373.48 1700.88,1373.42 1702.21,1373.33 \n",
       "  1703.54,1373.25 1704.87,1373.18 1706.2,1373.12 1707.53,1373.04 1708.86,1372.99 1710.19,1372.96 1711.52,1372.93 1712.85,1372.92 1714.18,1372.95 1715.51,1372.97 \n",
       "  1716.84,1372.99 1718.17,1373.05 1719.5,1373.12 1720.83,1373.17 1722.16,1373.25 1723.49,1373.34 1724.81,1373.4 1726.14,1373.46 1727.47,1373.54 1728.8,1373.59 \n",
       "  1730.13,1373.62 1731.46,1373.65 1732.79,1373.68 1734.12,1373.66 1735.45,1373.64 1736.78,1373.62 1738.11,1373.57 1739.44,1373.5 1740.77,1373.45 1742.1,1373.38 \n",
       "  1743.43,1373.31 1744.76,1373.24 1746.09,1373.17 1747.42,1373.11 1748.75,1373.06 1750.08,1373.02 1751.41,1372.98 1752.74,1372.97 1754.07,1372.97 1755.4,1372.98 \n",
       "  1756.73,1373 1758.06,1373.04 1759.39,1373.09 1760.72,1373.14 1762.05,1373.21 1763.38,1373.28 1764.71,1373.35 1766.04,1373.4 1767.37,1373.47 1768.7,1373.54 \n",
       "  1770.03,1373.57 1771.36,1373.59 1772.69,1373.64 1774.02,1373.64 1775.35,1373.63 1776.68,1373.61 1778.01,1373.58 1779.34,1373.53 1780.67,1373.48 1781.99,1373.42 \n",
       "  1783.32,1373.36 1784.65,1373.29 1785.98,1373.23 1787.31,1373.17 1788.64,1373.11 1789.97,1373.07 1791.3,1373.03 1792.63,1373.01 1793.96,1373 1795.29,1373 \n",
       "  1796.62,1373.01 1797.95,1373.03 1799.28,1373.08 1800.61,1373.13 1801.94,1373.15 1803.27,1373.23 1804.6,1373.3 1805.93,1373.34 1807.26,1373.41 1808.59,1373.49 \n",
       "  1809.92,1373.52 1811.25,1373.54 1812.58,1373.59 1813.91,1373.6 1815.24,1373.6 1816.57,1373.59 1817.9,1373.57 1819.23,1373.54 1820.56,1373.5 1821.89,1373.45 \n",
       "  1823.22,1373.39 1824.55,1373.33 1825.88,1373.28 1827.21,1373.22 1828.54,1373.15 1829.87,1373.11 1831.2,1373.09 1832.53,1373.04 1833.86,1373.02 1835.19,1373.03 \n",
       "  1836.52,1373.03 1837.84,1373.04 1839.17,1373.08 1840.5,1373.12 1841.83,1373.14 1843.16,1373.2 1844.49,1373.27 1845.82,1373.31 1847.15,1373.36 1848.48,1373.43 \n",
       "  1849.81,1373.48 1851.14,1373.5 1852.47,1373.54 1853.8,1373.58 1855.13,1373.57 1856.46,1373.56 1857.79,1373.57 1859.12,1373.54 1860.45,1373.5 1861.78,1373.47 \n",
       "  1863.11,1373.43 1864.44,1373.36 1865.77,1373.31 1867.1,1373.27 1868.43,1373.2 1869.76,1373.15 1871.09,1373.13 1872.42,1373.09 1873.75,1373.05 1875.08,1373.05 \n",
       "  1876.41,1373.06 1877.74,1373.06 1879.07,1373.07 1880.4,1373.1 1881.73,1373.14 1883.06,1373.18 1884.39,1373.23 1885.72,1373.28 1887.05,1373.33 1888.38,1373.38 \n",
       "  1889.71,1373.43 1891.04,1373.47 1892.37,1373.5 1893.7,1373.54 1895.02,1373.55 1896.35,1373.54 1897.68,1373.55 1899.01,1373.55 1900.34,1373.5 1901.67,1373.47 \n",
       "  1903,1373.46 1904.33,1373.4 1905.66,1373.35 1906.99,1373.3 1908.32,1373.25 1909.65,1373.2 1910.98,1373.16 1912.31,1373.13 1913.64,1373.1 1914.97,1373.08 \n",
       "  1916.3,1373.07 1917.63,1373.07 1918.96,1373.08 1920.29,1373.1 1921.62,1373.13 1922.95,1373.16 1924.28,1373.2 1925.61,1373.25 1926.94,1373.29 1928.27,1373.33 \n",
       "  1929.6,1373.4 1930.93,1373.43 1932.26,1373.45 1933.59,1373.5 1934.92,1373.52 1936.25,1373.51 1937.58,1373.53 1938.91,1373.54 1940.24,1373.5 1941.57,1373.47 \n",
       "  1942.9,1373.46 1944.23,1373.41 1945.56,1373.36 1946.89,1373.34 1948.22,1373.3 1949.55,1373.24 1950.87,1373.2 1952.2,1373.18 1953.53,1373.13 1954.86,1373.1 \n",
       "  1956.19,1373.11 1957.52,1373.1 1958.85,1373.09 1960.18,1373.11 1961.51,1373.13 1962.84,1373.15 1964.17,1373.18 1965.5,1373.23 1966.83,1373.26 1968.16,1373.3 \n",
       "  1969.49,1373.35 1970.82,1373.39 1972.15,1373.42 1973.48,1373.46 1974.81,1373.49 1976.14,1373.49 1977.47,1373.5 1978.8,1373.51 1980.13,1373.5 1981.46,1373.47 \n",
       "  1982.79,1373.46 1984.12,1373.44 1985.45,1373.39 1986.78,1373.35 1988.11,1373.34 1989.44,1373.28 1990.77,1373.23 1992.1,1373.22 1993.43,1373.17 1994.76,1373.12 \n",
       "  1996.09,1373.13 1997.42,1373.13 1998.75,1373.1 2000.08,1373.11 2001.41,1373.13 2002.74,1373.15 2004.07,1373.18 2005.4,1373.21 2006.72,1373.24 2008.05,1373.28 \n",
       "  2009.38,1373.32 2010.71,1373.36 2012.04,1373.39 2013.37,1373.43 2014.7,1373.45 2016.03,1373.47 2017.36,1373.48 2018.69,1373.49 2020.02,1373.49 2021.35,1373.47 \n",
       "  2022.68,1373.46 2024.01,1373.45 2025.34,1373.4 2026.67,1373.37 2028,1373.35 2029.33,1373.3 2030.66,1373.26 2031.99,1373.24 2033.32,1373.21 2034.65,1373.16 \n",
       "  2035.98,1373.15 2037.31,1373.15 2038.64,1373.13 2039.97,1373.13 2041.3,1373.14 2042.63,1373.15 2043.96,1373.17 2045.29,1373.2 2046.62,1373.23 2047.95,1373.26 \n",
       "  2049.28,1373.29 2050.61,1373.33 2051.94,1373.36 2053.27,1373.39 2054.6,1373.42 2055.93,1373.44 2057.26,1373.46 2058.59,1373.47 2059.92,1373.47 2061.25,1373.47 \n",
       "  2062.58,1373.46 2063.9,1373.44 2065.23,1373.42 2066.56,1373.39 2067.89,1373.36 2069.22,1373.33 2070.55,1373.29 2071.88,1373.26 2073.21,1373.23 2074.54,1373.2 \n",
       "  2075.87,1373.18 2077.2,1373.16 2078.53,1373.15 2079.86,1373.14 2081.19,1373.15 2082.52,1373.15 2083.85,1373.15 2085.18,1373.2 2086.51,1373.24 2087.84,1373.24 \n",
       "  2089.17,1373.26 2090.5,1373.31 2091.83,1373.33 2093.16,1373.36 2094.49,1373.4 2095.82,1373.42 2097.15,1373.43 2098.48,1373.45 2099.81,1373.46 2101.14,1373.46 \n",
       "  2102.47,1373.45 2103.8,1373.44 2105.13,1373.42 2106.46,1373.4 2107.79,1373.38 2109.12,1373.35 2110.45,1373.31 2111.78,1373.29 2113.11,1373.26 2114.44,1373.22 \n",
       "  2115.77,1373.2 2117.1,1373.19 2118.43,1373.17 2119.75,1373.16 2121.08,1373.16 2122.41,1373.17 2123.74,1373.15 2125.07,1373.18 2126.4,1373.21 2127.73,1373.23 \n",
       "  2129.06,1373.25 2130.39,1373.28 2131.72,1373.31 2133.05,1373.34 2134.38,1373.37 2135.71,1373.39 2137.04,1373.41 2138.37,1373.43 2139.7,1373.44 2141.03,1373.44 \n",
       "  2142.36,1373.44 2143.69,1373.44 2145.02,1373.42 2146.35,1373.4 2147.68,1373.39 2149.01,1373.37 2150.34,1373.32 2151.67,1373.3 2153,1373.3 2154.33,1373.25 \n",
       "  2155.66,1373.23 2156.99,1373.23 2158.32,1373.19 2159.65,1373.16 2160.98,1373.17 2162.31,1373.18 2163.64,1373.17 2164.97,1373.19 2166.3,1373.2 2167.63,1373.22 \n",
       "  2168.96,1373.24 2170.29,1373.27 2171.62,1373.29 2172.95,1373.32 2174.28,1373.35 2175.6,1373.37 2176.93,1373.39 2178.26,1373.41 2179.59,1373.42 2180.92,1373.43 \n",
       "  2182.25,1373.43 2183.58,1373.43 2184.91,1373.42 2186.24,1373.41 2187.57,1373.39 2188.9,1373.37 2190.23,1373.35 2191.56,1373.33 2192.89,1373.3 2194.22,1373.27 \n",
       "  2195.55,1373.25 2196.88,1373.23 2198.21,1373.21 2199.54,1373.19 2200.87,1373.19 2202.2,1373.19 2203.53,1373.17 2204.86,1373.19 2206.19,1373.2 2207.52,1373.2 \n",
       "  2208.85,1373.23 2210.18,1373.26 2211.51,1373.28 2212.84,1373.3 2214.17,1373.33 2215.5,1373.35 2216.83,1373.37 2218.16,1373.39 2219.49,1373.4 2220.82,1373.41 \n",
       "  2222.15,1373.42 2223.48,1373.42 2224.81,1373.42 2226.14,1373.41 2227.47,1373.4 2228.8,1373.38 2230.13,1373.36 2231.46,1373.34 2232.78,1373.32 2234.11,1373.29 \n",
       "  2235.44,1373.27 2236.77,1373.26 2238.1,1373.23 2239.43,1373.21 2240.76,1373.22 2242.09,1373.21 2243.42,1373.19 2244.75,1373.2 2246.08,1373.2 2247.41,1373.21 \n",
       "  2248.74,1373.23 2250.07,1373.25 2251.4,1373.26 2252.73,1373.29 2254.06,1373.31 2255.39,1373.33 2256.72,1373.35 2258.05,1373.37 2259.38,1373.39 2260.71,1373.4 \n",
       "  2262.04,1373.41 2263.37,1373.42 2264.7,1373.41 2266.03,1373.39 2267.36,1373.4 2268.69,1373.39 2270.02,1373.36 2271.35,1373.35 2272.68,1373.34 2274.01,1373.31 \n",
       "  2275.34,1373.27 2276.67,1373.27 2278,1373.25 2279.33,1373.23 2280.66,1373.22 2281.99,1373.21 2283.32,1373.2 2284.65,1373.2 2285.98,1373.21 2287.31,1373.21 \n",
       "  2288.63,1373.22 2289.96,1373.24 2291.29,1373.26 2292.62,1373.27 2292.92,1373.28 \n",
       "  \"/>\n",
       "<path clip-path=\"url(#clip6900)\" d=\"\n",
       "M1959.51 251.724 L2280.76 251.724 L2280.76 130.764 L1959.51 130.764  Z\n",
       "  \" fill=\"#ffffff\" fill-rule=\"evenodd\" fill-opacity=\"1\"/>\n",
       "<polyline clip-path=\"url(#clip6900)\" style=\"stroke:#000000; stroke-width:4; stroke-opacity:1; fill:none\" points=\"\n",
       "  1959.51,251.724 2280.76,251.724 2280.76,130.764 1959.51,130.764 1959.51,251.724 \n",
       "  \"/>\n",
       "<polyline clip-path=\"url(#clip6900)\" style=\"stroke:#009af9; stroke-width:4; stroke-opacity:1; fill:none\" points=\"\n",
       "  1983.51,191.244 2127.51,191.244 \n",
       "  \"/>\n",
       "<path clip-path=\"url(#clip6900)\" d=\"M 0 0 M2164.7 208.524 L2151.51 173.964 L2156.39 173.964 L2167.34 203.061 L2178.31 173.964 L2183.17 173.964 L2170 208.524 L2164.7 208.524 Z\" fill=\"#000000\" fill-rule=\"evenodd\" fill-opacity=\"1\" /><path clip-path=\"url(#clip6900)\" d=\"M 0 0 M2207.34 216.394 L2207.34 219.705 L2182.71 219.705 L2182.71 216.394 L2207.34 216.394 Z\" fill=\"#000000\" fill-rule=\"evenodd\" fill-opacity=\"1\" /><path clip-path=\"url(#clip6900)\" d=\"M 0 0 M2216.44 204.589 L2232.76 204.589 L2232.76 208.524 L2210.81 208.524 L2210.81 204.589 Q2213.47 201.834 2218.06 197.205 Q2222.66 192.552 2223.84 191.209 Q2226.09 188.686 2226.97 186.95 Q2227.87 185.191 2227.87 183.501 Q2227.87 180.746 2225.93 179.01 Q2224.01 177.274 2220.9 177.274 Q2218.71 177.274 2216.25 178.038 Q2213.82 178.802 2211.04 180.353 L2211.04 175.631 Q2213.87 174.496 2216.32 173.918 Q2218.77 173.339 2220.81 173.339 Q2226.18 173.339 2229.38 176.024 Q2232.57 178.709 2232.57 183.2 Q2232.57 185.33 2231.76 187.251 Q2230.97 189.149 2228.87 191.742 Q2228.29 192.413 2225.19 195.631 Q2222.08 198.825 2216.44 204.589 Z\" fill=\"#000000\" fill-rule=\"evenodd\" fill-opacity=\"1\" /></svg>\n"
      ]
     },
     "execution_count": 17,
     "metadata": {},
     "output_type": "execute_result"
    }
   ],
   "source": [
    "volt = get_voltagemag_series(sim, 2)\n",
    "plot(volt, xlabel=\"time\", ylabel=\"Voltage [pu]\", label=\"V_2\")"
   ]
  },
  {
   "cell_type": "markdown",
   "metadata": {},
   "source": [
    "## Optional: Small Signal Analysis\n",
    "\n",
    "`LITS 0.3.5` uses automatic differentiation to compute the reduced Jacobian of the system for the differential states. This can be used to analyze the eigenvalues of the linearized system."
   ]
  },
  {
   "cell_type": "code",
   "execution_count": 18,
   "metadata": {},
   "outputs": [
    {
     "data": {
      "text/plain": [
       "The system is small signal stable\n"
      ]
     },
     "execution_count": 18,
     "metadata": {},
     "output_type": "execute_result"
    }
   ],
   "source": [
    "small_sig = small_signal_analysis(sim)"
   ]
  },
  {
   "cell_type": "markdown",
   "metadata": {},
   "source": [
    "The `small_sig` result can report the reduced jacobian for $\\delta$ and $\\omega$, and can also be used to report the eigenvalues of the reduced linearized system."
   ]
  },
  {
   "cell_type": "code",
   "execution_count": 19,
   "metadata": {},
   "outputs": [
    {
     "data": {
      "text/plain": [
       "2×2 Array{Float64,2}:\n",
       "  0.0       376.991\n",
       " -0.290845   -0.317662"
      ]
     },
     "execution_count": 19,
     "metadata": {},
     "output_type": "execute_result"
    }
   ],
   "source": [
    "small_sig.reduced_jacobian"
   ]
  },
  {
   "cell_type": "code",
   "execution_count": 20,
   "metadata": {},
   "outputs": [
    {
     "data": {
      "text/plain": [
       "2-element Array{Complex{Float64},1}:\n",
       " -0.1588310038119441 - 10.469989795014571im\n",
       " -0.1588310038119441 + 10.469989795014571im"
      ]
     },
     "execution_count": 20,
     "metadata": {},
     "output_type": "execute_result"
    }
   ],
   "source": [
    "small_sig.eigenvalues"
   ]
  },
  {
   "cell_type": "code",
   "execution_count": null,
   "metadata": {},
   "outputs": [],
   "source": []
  },
  {
   "cell_type": "code",
   "execution_count": null,
   "metadata": {},
   "outputs": [],
   "source": []
  }
 ],
 "metadata": {
  "kernelspec": {
   "display_name": "Julia 1.4.1",
   "language": "julia",
   "name": "julia-1.4"
  },
  "language_info": {
   "file_extension": ".jl",
   "mimetype": "application/julia",
   "name": "julia",
   "version": "1.4.1"
  }
 },
 "nbformat": 4,
 "nbformat_minor": 4
}
