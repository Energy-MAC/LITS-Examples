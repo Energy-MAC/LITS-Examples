{
 "cells": [
  {
   "cell_type": "markdown",
   "metadata": {},
   "source": [
    "# Tutorial: One Machine against Infinite Bus (OMIB)\n",
    "\n",
    "This tutorial will introduce you to the functionality of `LITS` for running Power System Simulations.\n",
    "Note that this tutorial is for `LITS 0.3.0`. Future versions will have dedicated functions to find an equilibrium point using a Power Flow method without relying in a guess of the initial condition to run a non-linear solver.\n",
    "\n",
    "This tutorial presents a simulation of a two-bus system, with an infinite bus (represented as a voltage source behind an impedance) at bus 1 and a classic machine on bus 2. The perturbation will be the trip of one of the two circuits (doubling its resistance and impedance) of the line that connects both buses.\n",
    "\n",
    "This tutorial can be found on [LITS/Examples](https://github.com/Energy-MAC/LITS-Examples) repository.\n",
    "\n",
    "## Step 1: Package Initialization\n",
    "\n",
    "The first step consists in initialize all packages that will be used to run the simulation. All the necessary packages are listed. Please note that loading the packages may take some time."
   ]
  },
  {
   "cell_type": "code",
   "execution_count": 2,
   "metadata": {},
   "outputs": [],
   "source": [
    "using LITS\n",
    "using PowerSystems\n",
    "using Sundials\n",
    "using Plots"
   ]
  },
  {
   "cell_type": "markdown",
   "metadata": {},
   "source": [
    "`PowerSystems` is used to properly define the data structure, while `Sundials` is used to solve the problem defined in `LITS`."
   ]
  },
  {
   "cell_type": "markdown",
   "metadata": {},
   "source": [
    "## Step 2: Data creation\n",
    "\n",
    "Next we need to define the different elements required to run a simulation. To run a simulation, it is required to define a `System` that requires the following components:\n",
    "\n",
    "- Vector of `Bus` elements, that define all the buses in the network.\n",
    "- Vector of `Branch` elements, that define all the branches elements (that connect two buses) in the network.\n",
    "- Vector of `DynamicInjection` elements, that define all the devices connected to buses that can inject (or withdraw) current, while also defining differential equations to model its dynamics. These include generators and inverters.\n",
    "- Vector of `PowerLoad` elements, that define all the loads connected to buses that can withdraw current, without defining any differential equation. Note that `LITS` will convert ConstantPower loads to RLC loads for transient simulations.\n",
    "- Vector of `Source` elements, that define source components behind a reactance that can inject or withdraw current, without defining any differential equation.\n",
    "- The base of power used to define per unit values, in MVA as a `Float64` value.\n",
    "- The base frequency used in the system, in Hz as a `Float64` value.\n",
    "- (Optional) Selecting which of the `Lines` (of the `Branch` vector) elements must be modeled of `DynamicLines` elements, that can be used to model lines with differential equations."
   ]
  },
  {
   "cell_type": "markdown",
   "metadata": {},
   "source": [
    "To start we will define the data structures for the network.\n",
    "\n",
    "### Buses and Branches\n",
    "\n",
    "As mentioned earlier, we require to create a `Vector` of `Bus` to define the buses in the network. Currently, some of the parameters are not used in `LITS`, but will be used once the initialization procedure is implemented (such as voltage limits or the requested bus voltage)."
   ]
  },
  {
   "cell_type": "code",
   "execution_count": 3,
   "metadata": {},
   "outputs": [],
   "source": [
    "#Define the vector of buses\n",
    "nodes_OMIB = [\n",
    "    Bus(\n",
    "        1, #number\n",
    "        \"Bus 1\", #Name\n",
    "        \"REF\", #BusType (REF, PV, PQ)\n",
    "        0, #Angle in radians\n",
    "        1.05, #Voltage in pu\n",
    "        (min = 0.94, max = 1.06), #Voltage limits in pu\n",
    "        69, #Base voltage in kV\n",
    "    ),\n",
    "    Bus(2, \"Bus 2\", \"PV\", 0, 1.0, (min = 0.94, max = 1.06), 69),\n",
    "];"
   ]
  },
  {
   "cell_type": "markdown",
   "metadata": {},
   "source": [
    "Note that two buses are defined in the vector `nodes_case1`. It is important that the bus numbers are ordered from ``1`` to ``n``, since that structure will be used to construct the vector of variables. Future versions of `LITS` will allow to relax this assumption. Similarly, to define the branches (that also has some parameters that are currently not used, such as the rate and angle limits):"
   ]
  },
  {
   "cell_type": "code",
   "execution_count": 4,
   "metadata": {},
   "outputs": [],
   "source": [
    "#Define the vector of branches\n",
    "branch_OMIB = [Line(\n",
    "    \"Line1\", #name\n",
    "    true, #available\n",
    "    0.0, #active power flow initial condition (from-to)\n",
    "    0.0, #reactive power flow initial condition (from-to)\n",
    "    Arc(from = nodes_OMIB[1], to = nodes_OMIB[2]), #Connection between buses\n",
    "    0.01, #resistance in pu\n",
    "    0.05, #reactance in pu\n",
    "    (from = 0.0, to = 0.0), #susceptance in pu\n",
    "    18.046, #rate in MW\n",
    "    1.04, #angle limits (-min and max)\n",
    ")];"
   ]
  },
  {
   "cell_type": "markdown",
   "metadata": {},
   "source": [
    "Since we are interested in creating a fault that trips one of the two circuits of the line, we will create an additional `Vector` of branches with doubled impedance:"
   ]
  },
  {
   "cell_type": "code",
   "execution_count": 5,
   "metadata": {},
   "outputs": [],
   "source": [
    "#Define the vector of branches under the fault\n",
    "branch_OMIB_fault = [Line(\n",
    "    \"Line1\", #name\n",
    "    true, #available\n",
    "    0.0, #active power flow initial condition (from-to)\n",
    "    0.0, #reactive power flow initial condition (from-to)\n",
    "    Arc(from = nodes_OMIB[1], to = nodes_OMIB[2]), #Connection between buses\n",
    "    0.02, #resistance in pu\n",
    "    0.1, #reactance in pu\n",
    "    (from = 0.0, to = 0.0), #susceptance in pu\n",
    "    18.046, #rate in MW\n",
    "    1.04, #angle limits (-min and max)\n",
    ")];"
   ]
  },
  {
   "cell_type": "markdown",
   "metadata": {},
   "source": [
    "Note that the resistance and reactance is doubled in comparison to the system without fault."
   ]
  },
  {
   "cell_type": "markdown",
   "metadata": {},
   "source": [
    "### Injection devices\n",
    "\n",
    "Secondly, we will define devices that can inject/withdraw electric current directly without defining differential equations. In this case we include a load and the voltage source that model the infinite bus."
   ]
  },
  {
   "cell_type": "code",
   "execution_count": 6,
   "metadata": {},
   "outputs": [],
   "source": [
    "loads_OMIB = [PowerLoad(\n",
    "    \"LBus1\", #name\n",
    "    true, #availability\n",
    "    nodes_OMIB[2], #bus\n",
    "    PowerSystems.ConstantPower, #type\n",
    "    0.3, #P\n",
    "    0.01, #Q\n",
    "    0.3, #P_max\n",
    "    0.01, #Q_max\n",
    ")]\n",
    "\n",
    "inf_gen_OMIB = [Source(\n",
    "    \"InfBus\", #name\n",
    "    true, #availability\n",
    "    nodes_OMIB[1], #bus\n",
    "    1.05, #VR\n",
    "    0.0, #VI\n",
    "    0.000005, #Xth\n",
    ")];"
   ]
  },
  {
   "cell_type": "markdown",
   "metadata": {},
   "source": [
    "Note that loads are assumed as constant power for power flow purposes, but for dynamic simulations are converted to impedance loads assuming nominal voltage equals to 1 pu."
   ]
  },
  {
   "cell_type": "markdown",
   "metadata": {},
   "source": [
    "### Dynamic Injection devices\n",
    "\n",
    "Third, we define the `Vector` of `DynamicInjection` elements. In this case, we require to define a generator located in bus 2. For that purpose, we need to define its machine, shaft, automatic voltage regulator (AVR), turbine governor (TG) and power system stabilizer (PSS):"
   ]
  },
  {
   "cell_type": "code",
   "execution_count": 7,
   "metadata": {},
   "outputs": [],
   "source": [
    "### Machine ###\n",
    "machine_OMIB = BaseMachine(\n",
    "    0.0, #R\n",
    "    0.2995, #Xd_p\n",
    "    0.7087, #eq_p\n",
    "    100.0,\n",
    ")  #MVABase\n",
    "\n",
    "######## Shaft Data #########\n",
    "\n",
    "### Shaft for Case 1 ###\n",
    "shaft_OMIB = SingleMass(\n",
    "    3.148, #H\n",
    "    2.0, #D\n",
    ")\n",
    "\n",
    "########  AVR Data #########\n",
    "avr_OMIB = AVRFixed(0.0) #Vf not applicable in Classic Machines\n",
    "\n",
    "######## TG Data #########\n",
    "### No TG ###\n",
    "tg_OMIB = TGFixed(1.0) #No TG: Efficiency = 1.0\n",
    "\n",
    "######## PSS Data #########\n",
    "### No PSS ###\n",
    "pss_OMIB = PSSFixed(0.0) #No PSS without AVR\n",
    "\n",
    "### Constructing the Generator ###\n",
    "gen_OMIB = DynamicGenerator(\n",
    "    1, #Number\n",
    "    \"OMIB_Gen\", #name\n",
    "    nodes_OMIB[2], #bus\n",
    "    1.0, #ω_ref\n",
    "    1.0, #V_ref\n",
    "    0.5, #P_ref\n",
    "    0.0, #Q_ref: Not used for standard machines (only for PQ gens)\n",
    "    machine_OMIB, #machine\n",
    "    shaft_OMIB, #shaft\n",
    "    avr_OMIB, #avr\n",
    "    tg_OMIB, #tg\n",
    "    pss_OMIB, #pss\n",
    ");"
   ]
  },
  {
   "cell_type": "markdown",
   "metadata": {},
   "source": [
    "Note that a generator is defined by its 5 components, while also defining its reference for frequency, voltage and power. The reactive power reference must be defined but is not used for standard machines, since is only used for PQ generators, that will be implemented in future versions of `LITS`."
   ]
  },
  {
   "cell_type": "markdown",
   "metadata": {},
   "source": [
    "### Defining the Dynamic System\n",
    "\n",
    "Finally, with all the components properly constructed we define the dynamic system:"
   ]
  },
  {
   "cell_type": "code",
   "execution_count": 8,
   "metadata": {},
   "outputs": [
    {
     "name": "stderr",
     "output_type": "stream",
     "text": [
      "┌ Warning: struct DynamicGenerator does not exist in validation configuration file, validation skipped\n",
      "└ @ InfrastructureSystems /Users/rhenriquez/.julia/packages/InfrastructureSystems/wvWoQ/src/validation.jl:42\n"
     ]
    }
   ],
   "source": [
    "#Create the system\n",
    "sys = System(\n",
    "      100.0, #Base MVA\n",
    "      frequency = 60.0, #Nominal frequency in Hz\n",
    ")\n",
    "\n",
    "#Add the buses to the system\n",
    "for bus in nodes_OMIB\n",
    "    add_component!(sys, bus)\n",
    "end\n",
    "\n",
    "#Add the branches to the system\n",
    "for br in branch_OMIB\n",
    "    add_component!(sys, br)\n",
    "end\n",
    "\n",
    "#Add the loads to the system\n",
    "for load in loads_OMIB\n",
    "    add_component!(sys, load)\n",
    "end\n",
    "\n",
    "#Add the sources (infinite gens) to the system\n",
    "for source in inf_gen_OMIB\n",
    "    add_component!(sys, source)\n",
    "end\n",
    "\n",
    "#Add the generator\n",
    "add_component!(sys, gen_OMIB)"
   ]
  },
  {
   "cell_type": "markdown",
   "metadata": {},
   "source": [
    "## Step 3: Build the simulation and initializing the problem\n",
    "\n",
    "The next step is to create the simulation structure. This will create the indexing of our system that will be used to formulate the differential-algebraic system of equations. To do so, it is required to specify the perturbation that will occur in the system. `LITS` support two types of perturbations:\n",
    "- Three Phase Fault\n",
    "- Change in Reference Parameter\n",
    "\n",
    "In here, he will use a Three Phase Fault, that is modeled by modifying the admittance matrix of the system. To do so we create a ThreePhaseFault perturbation as follows:"
   ]
  },
  {
   "cell_type": "code",
   "execution_count": 9,
   "metadata": {},
   "outputs": [],
   "source": [
    "#Obtain the Ybus of the faulted system\n",
    "Ybus_fault = Ybus(\n",
    "    branch_OMIB_fault, #fault set of lines\n",
    "    nodes_OMIB, #set of buses\n",
    ")[:,:]\n",
    "\n",
    "#Construct the perturbation\n",
    "perturbation_Ybus = ThreePhaseFault(\n",
    "    1.0, #change will occur at t = 1.0s\n",
    "    Ybus_fault, #new Ybus\n",
    ");"
   ]
  },
  {
   "cell_type": "markdown",
   "metadata": {},
   "source": [
    "With this, we are ready to create our simulation structure. We will skip solving for initial conditions to discuss about indexing. To construct our simulation we use:"
   ]
  },
  {
   "cell_type": "code",
   "execution_count": 10,
   "metadata": {},
   "outputs": [
    {
     "data": {
      "text/plain": [
       "Simulation()\n"
      ]
     },
     "execution_count": 10,
     "metadata": {},
     "output_type": "execute_result"
    }
   ],
   "source": [
    "#Time span of our simulation\n",
    "tspan = (0.0, 30.0)\n",
    "\n",
    "#Define Simulation\n",
    "sim = Simulation(\n",
    "    sys, #system\n",
    "    tspan, #time span\n",
    "    perturbation_Ybus, #Type of perturbation\n",
    "    initialize_simulation = false #keyword argument to not find initial conditions.\n",
    ")"
   ]
  },
  {
   "cell_type": "markdown",
   "metadata": {},
   "source": [
    "This will create the simulation structure that will be used to run the transient simulation and will modify the system to include the indexing. `LITS` will have the following structure for the vector of variables:\n",
    "\n",
    "$$x = \\left[\\begin{array}{c} v_r \\\\ v_i \\\\ z \\end{array}\\right]$$\n",
    "\n",
    "on which $v_r$ is the vector of real voltages of all buses, $v_i$ is the vector of imaginary voltages of all buses and $z$ is the rest of states defined by the dynamic devices. Then, the length of the vector of variables will $2n + \\text{len}(z)$, where $n$ is the number of buses in the system. The indexing of the states can be found using:"
   ]
  },
  {
   "cell_type": "code",
   "execution_count": 11,
   "metadata": {},
   "outputs": [
    {
     "data": {
      "text/plain": [
       "Dict{String,Dict{Symbol,Int64}} with 1 entry:\n",
       "  \"OMIB_Gen\" => Dict(:ω=>6,:δ=>5)"
      ]
     },
     "execution_count": 11,
     "metadata": {},
     "output_type": "execute_result"
    }
   ],
   "source": [
    "ext = get_ext(sim.system) #Obtain ext information of the system\n",
    "ext[\"global_index\"] #Showcase the global indexing of z"
   ]
  },
  {
   "cell_type": "markdown",
   "metadata": {},
   "source": [
    "In this system, $\\delta$ of the generator is state 5 and $\\omega$ is state 6 (since the first 4 states are the bus voltages). In addition, ``ext[\"lits_counts\"]`` has information on the total variables and total states (differential variables).\n",
    "\n",
    "The next step consists in finding an initial condition for the states. In this case simply running       "
   ]
  },
  {
   "cell_type": "code",
   "execution_count": 12,
   "metadata": {},
   "outputs": [
    {
     "name": "stderr",
     "output_type": "stream",
     "text": [
      "┌ Info: Initializing Simulation States\n",
      "└ @ LITS /Users/rhenriquez/.julia/packages/LITS/uFVsj/src/base/simulation.jl:27\n"
     ]
    },
    {
     "data": {
      "text/plain": [
       "Simulation()\n"
      ]
     },
     "execution_count": 12,
     "metadata": {},
     "output_type": "execute_result"
    }
   ],
   "source": [
    "#Define Simulation\n",
    "sim = Simulation(\n",
    "    sys, #system\n",
    "    tspan, #time span\n",
    "    perturbation_Ybus, #Type of perturbation\n",
    ")"
   ]
  },
  {
   "cell_type": "markdown",
   "metadata": {},
   "source": [
    "will correctly initialize the system. If no initial guess is provided, the system will use a flat start guess, assuming that all real voltages are equal to one, while imaginary voltages are equal to zero. Differential variables (states) will be guessed as zero too. The initial values can be obtained using ``sim.x0_init``."
   ]
  },
  {
   "cell_type": "code",
   "execution_count": 13,
   "metadata": {},
   "outputs": [
    {
     "data": {
      "text/plain": [
       "6-element Array{Float64,1}:\n",
       " 1.049994801403534   \n",
       " 0.9998075882667568  \n",
       " 8.993757618485317e-7\n",
       " 0.01939184992634203 \n",
       " 0.2323013344356654  \n",
       " 1.0                 "
      ]
     },
     "execution_count": 13,
     "metadata": {},
     "output_type": "execute_result"
    }
   ],
   "source": [
    "# Initial condition obtained with a flat start\n",
    "sim.x0_init "
   ]
  },
  {
   "cell_type": "markdown",
   "metadata": {},
   "source": [
    "However, for most systems if a bad initial guess is used, the non-linear solver may fail in correctly initializing the system. For such purposes, an initial guess can be provided to the simulation as follows:"
   ]
  },
  {
   "cell_type": "code",
   "execution_count": 14,
   "metadata": {},
   "outputs": [
    {
     "name": "stderr",
     "output_type": "stream",
     "text": [
      "┌ Info: Initializing Simulation States\n",
      "└ @ LITS /Users/rhenriquez/.julia/packages/LITS/uFVsj/src/base/simulation.jl:27\n"
     ]
    },
    {
     "data": {
      "text/plain": [
       "6-element Array{Float64,1}:\n",
       " 1.049994801403533   \n",
       " 0.9998075882692508  \n",
       " 8.99375768572439e-7 \n",
       " 0.019391849995778525\n",
       " 0.23230133510717615 \n",
       " 1.0                 "
      ]
     },
     "execution_count": 14,
     "metadata": {},
     "output_type": "execute_result"
    }
   ],
   "source": [
    "#Initial guess\n",
    "x0_guess = [\n",
    "    1.0, #VR_1\n",
    "    1.0, #VR_2\n",
    "    0.0, #VI_1\n",
    "    0.0, #VI_2\n",
    "    0.2, #δ\n",
    "    1.0, #ω\n",
    "]\n",
    "#Define Simulation\n",
    "sim = Simulation(\n",
    "    sys, #system\n",
    "    tspan, #time span\n",
    "    perturbation_Ybus, #Type of perturbation\n",
    "    initial_guess = x0_guess, #initial guess\n",
    ")\n",
    "\n",
    "sim.x0_init"
   ]
  },
  {
   "cell_type": "markdown",
   "metadata": {},
   "source": [
    "## Step 4: Run the Simulation\n",
    "\n",
    "Finally, to run the simulation we simply use:"
   ]
  },
  {
   "cell_type": "code",
   "execution_count": 15,
   "metadata": {},
   "outputs": [],
   "source": [
    "#Solve problem\n",
    "run_simulation!(sim, #simulation structure\n",
    "                IDA(), #Sundials DAE Solver\n",
    "                dtmax=0.02); #Arguments: Maximum timestep allowed"
   ]
  },
  {
   "cell_type": "markdown",
   "metadata": {},
   "source": [
    "In some cases, the dynamic time step used for the simulation may fail. In such case, the keyword argument `dtmax` can be used to limit the maximum time step allowed for the simulation."
   ]
  },
  {
   "cell_type": "markdown",
   "metadata": {},
   "source": [
    "## Step 5: Exploring the solution\n",
    "\n",
    "After running the simulation, our simulation structure `sim` will have the solution. For that `sim.solution` can be used to explore the solution structure. In this case `sim.solution.t` returns the vector of time, while `sim.solution.u` return the array of states. In addition, `LITS` have two functions to obtain different states of the solution:\n",
    "\n",
    "- ``get_state_series(sim, (\"OMIB_Gen\", :δ))``: can be used to obtain the solution as a tuple of time and the required state. In this case, we are obtaining the rotor angle `:δ` of the generator named `\"OMIB_Gen\"`.\n",
    "- ``get_voltagemag_series(sim, 2)``: can be used to obtain the voltage magnitude as a tuple of time and voltage. In this case, we are obtaining the voltage magnitude at bus 2 (where the generator is located)."
   ]
  },
  {
   "cell_type": "code",
   "execution_count": 16,
   "metadata": {},
   "outputs": [
    {
     "data": {
      "image/svg+xml": [
       "<?xml version=\"1.0\" encoding=\"utf-8\"?>\n",
       "<svg xmlns=\"http://www.w3.org/2000/svg\" xmlns:xlink=\"http://www.w3.org/1999/xlink\" width=\"600\" height=\"400\" viewBox=\"0 0 2400 1600\">\n",
       "<defs>\n",
       "  <clipPath id=\"clip5200\">\n",
       "    <rect x=\"0\" y=\"0\" width=\"2400\" height=\"1600\"/>\n",
       "  </clipPath>\n",
       "</defs>\n",
       "<path clip-path=\"url(#clip5200)\" d=\"\n",
       "M0 1600 L2400 1600 L2400 0 L0 0  Z\n",
       "  \" fill=\"#ffffff\" fill-rule=\"evenodd\" fill-opacity=\"1\"/>\n",
       "<defs>\n",
       "  <clipPath id=\"clip5201\">\n",
       "    <rect x=\"480\" y=\"0\" width=\"1681\" height=\"1600\"/>\n",
       "  </clipPath>\n",
       "</defs>\n",
       "<path clip-path=\"url(#clip5200)\" d=\"\n",
       "M242.516 1425.62 L2352.76 1425.62 L2352.76 47.2441 L242.516 47.2441  Z\n",
       "  \" fill=\"#ffffff\" fill-rule=\"evenodd\" fill-opacity=\"1\"/>\n",
       "<defs>\n",
       "  <clipPath id=\"clip5202\">\n",
       "    <rect x=\"242\" y=\"47\" width=\"2111\" height=\"1379\"/>\n",
       "  </clipPath>\n",
       "</defs>\n",
       "<polyline clip-path=\"url(#clip5202)\" style=\"stroke:#000000; stroke-width:2; stroke-opacity:0.1; fill:none\" points=\"\n",
       "  302.24,1425.62 302.24,47.2441 \n",
       "  \"/>\n",
       "<polyline clip-path=\"url(#clip5202)\" style=\"stroke:#000000; stroke-width:2; stroke-opacity:0.1; fill:none\" points=\"\n",
       "  965.838,1425.62 965.838,47.2441 \n",
       "  \"/>\n",
       "<polyline clip-path=\"url(#clip5202)\" style=\"stroke:#000000; stroke-width:2; stroke-opacity:0.1; fill:none\" points=\"\n",
       "  1629.43,1425.62 1629.43,47.2441 \n",
       "  \"/>\n",
       "<polyline clip-path=\"url(#clip5202)\" style=\"stroke:#000000; stroke-width:2; stroke-opacity:0.1; fill:none\" points=\"\n",
       "  2293.03,1425.62 2293.03,47.2441 \n",
       "  \"/>\n",
       "<polyline clip-path=\"url(#clip5202)\" style=\"stroke:#000000; stroke-width:2; stroke-opacity:0.1; fill:none\" points=\"\n",
       "  242.516,1195.74 2352.76,1195.74 \n",
       "  \"/>\n",
       "<polyline clip-path=\"url(#clip5202)\" style=\"stroke:#000000; stroke-width:2; stroke-opacity:0.1; fill:none\" points=\"\n",
       "  242.516,947.82 2352.76,947.82 \n",
       "  \"/>\n",
       "<polyline clip-path=\"url(#clip5202)\" style=\"stroke:#000000; stroke-width:2; stroke-opacity:0.1; fill:none\" points=\"\n",
       "  242.516,699.898 2352.76,699.898 \n",
       "  \"/>\n",
       "<polyline clip-path=\"url(#clip5202)\" style=\"stroke:#000000; stroke-width:2; stroke-opacity:0.1; fill:none\" points=\"\n",
       "  242.516,451.976 2352.76,451.976 \n",
       "  \"/>\n",
       "<polyline clip-path=\"url(#clip5202)\" style=\"stroke:#000000; stroke-width:2; stroke-opacity:0.1; fill:none\" points=\"\n",
       "  242.516,204.055 2352.76,204.055 \n",
       "  \"/>\n",
       "<polyline clip-path=\"url(#clip5200)\" style=\"stroke:#000000; stroke-width:4; stroke-opacity:1; fill:none\" points=\"\n",
       "  242.516,1425.62 2352.76,1425.62 \n",
       "  \"/>\n",
       "<polyline clip-path=\"url(#clip5200)\" style=\"stroke:#000000; stroke-width:4; stroke-opacity:1; fill:none\" points=\"\n",
       "  242.516,1425.62 242.516,47.2441 \n",
       "  \"/>\n",
       "<polyline clip-path=\"url(#clip5200)\" style=\"stroke:#000000; stroke-width:4; stroke-opacity:1; fill:none\" points=\"\n",
       "  302.24,1425.62 302.24,1409.08 \n",
       "  \"/>\n",
       "<polyline clip-path=\"url(#clip5200)\" style=\"stroke:#000000; stroke-width:4; stroke-opacity:1; fill:none\" points=\"\n",
       "  965.838,1425.62 965.838,1409.08 \n",
       "  \"/>\n",
       "<polyline clip-path=\"url(#clip5200)\" style=\"stroke:#000000; stroke-width:4; stroke-opacity:1; fill:none\" points=\"\n",
       "  1629.43,1425.62 1629.43,1409.08 \n",
       "  \"/>\n",
       "<polyline clip-path=\"url(#clip5200)\" style=\"stroke:#000000; stroke-width:4; stroke-opacity:1; fill:none\" points=\"\n",
       "  2293.03,1425.62 2293.03,1409.08 \n",
       "  \"/>\n",
       "<polyline clip-path=\"url(#clip5200)\" style=\"stroke:#000000; stroke-width:4; stroke-opacity:1; fill:none\" points=\"\n",
       "  242.516,1195.74 267.839,1195.74 \n",
       "  \"/>\n",
       "<polyline clip-path=\"url(#clip5200)\" style=\"stroke:#000000; stroke-width:4; stroke-opacity:1; fill:none\" points=\"\n",
       "  242.516,947.82 267.839,947.82 \n",
       "  \"/>\n",
       "<polyline clip-path=\"url(#clip5200)\" style=\"stroke:#000000; stroke-width:4; stroke-opacity:1; fill:none\" points=\"\n",
       "  242.516,699.898 267.839,699.898 \n",
       "  \"/>\n",
       "<polyline clip-path=\"url(#clip5200)\" style=\"stroke:#000000; stroke-width:4; stroke-opacity:1; fill:none\" points=\"\n",
       "  242.516,451.976 267.839,451.976 \n",
       "  \"/>\n",
       "<polyline clip-path=\"url(#clip5200)\" style=\"stroke:#000000; stroke-width:4; stroke-opacity:1; fill:none\" points=\"\n",
       "  242.516,204.055 267.839,204.055 \n",
       "  \"/>\n",
       "<g clip-path=\"url(#clip5200)\">\n",
       "<text style=\"fill:#000000; fill-opacity:1; font-family:Arial,Helvetica Neue,Helvetica,sans-serif; font-size:48px; text-anchor:middle;\" transform=\"rotate(0, 302.24, 1479.62)\" x=\"302.24\" y=\"1479.62\">0</text>\n",
       "</g>\n",
       "<g clip-path=\"url(#clip5200)\">\n",
       "<text style=\"fill:#000000; fill-opacity:1; font-family:Arial,Helvetica Neue,Helvetica,sans-serif; font-size:48px; text-anchor:middle;\" transform=\"rotate(0, 965.838, 1479.62)\" x=\"965.838\" y=\"1479.62\">10</text>\n",
       "</g>\n",
       "<g clip-path=\"url(#clip5200)\">\n",
       "<text style=\"fill:#000000; fill-opacity:1; font-family:Arial,Helvetica Neue,Helvetica,sans-serif; font-size:48px; text-anchor:middle;\" transform=\"rotate(0, 1629.43, 1479.62)\" x=\"1629.43\" y=\"1479.62\">20</text>\n",
       "</g>\n",
       "<g clip-path=\"url(#clip5200)\">\n",
       "<text style=\"fill:#000000; fill-opacity:1; font-family:Arial,Helvetica Neue,Helvetica,sans-serif; font-size:48px; text-anchor:middle;\" transform=\"rotate(0, 2293.03, 1479.62)\" x=\"2293.03\" y=\"1479.62\">30</text>\n",
       "</g>\n",
       "<g clip-path=\"url(#clip5200)\">\n",
       "<text style=\"fill:#000000; fill-opacity:1; font-family:Arial,Helvetica Neue,Helvetica,sans-serif; font-size:48px; text-anchor:end;\" transform=\"rotate(0, 218.516, 1213.24)\" x=\"218.516\" y=\"1213.24\">0.24</text>\n",
       "</g>\n",
       "<g clip-path=\"url(#clip5200)\">\n",
       "<text style=\"fill:#000000; fill-opacity:1; font-family:Arial,Helvetica Neue,Helvetica,sans-serif; font-size:48px; text-anchor:end;\" transform=\"rotate(0, 218.516, 965.32)\" x=\"218.516\" y=\"965.32\">0.25</text>\n",
       "</g>\n",
       "<g clip-path=\"url(#clip5200)\">\n",
       "<text style=\"fill:#000000; fill-opacity:1; font-family:Arial,Helvetica Neue,Helvetica,sans-serif; font-size:48px; text-anchor:end;\" transform=\"rotate(0, 218.516, 717.398)\" x=\"218.516\" y=\"717.398\">0.26</text>\n",
       "</g>\n",
       "<g clip-path=\"url(#clip5200)\">\n",
       "<text style=\"fill:#000000; fill-opacity:1; font-family:Arial,Helvetica Neue,Helvetica,sans-serif; font-size:48px; text-anchor:end;\" transform=\"rotate(0, 218.516, 469.476)\" x=\"218.516\" y=\"469.476\">0.27</text>\n",
       "</g>\n",
       "<g clip-path=\"url(#clip5200)\">\n",
       "<text style=\"fill:#000000; fill-opacity:1; font-family:Arial,Helvetica Neue,Helvetica,sans-serif; font-size:48px; text-anchor:end;\" transform=\"rotate(0, 218.516, 221.555)\" x=\"218.516\" y=\"221.555\">0.28</text>\n",
       "</g>\n",
       "<g clip-path=\"url(#clip5200)\">\n",
       "<text style=\"fill:#000000; fill-opacity:1; font-family:Arial,Helvetica Neue,Helvetica,sans-serif; font-size:66px; text-anchor:middle;\" transform=\"rotate(0, 1297.64, 1559.48)\" x=\"1297.64\" y=\"1559.48\">time</text>\n",
       "</g>\n",
       "<g clip-path=\"url(#clip5200)\">\n",
       "<text style=\"fill:#000000; fill-opacity:1; font-family:Arial,Helvetica Neue,Helvetica,sans-serif; font-size:66px; text-anchor:middle;\" transform=\"rotate(-90, 89.2861, 736.431)\" x=\"89.2861\" y=\"736.431\">rotor angle [rad]</text>\n",
       "</g>\n",
       "<polyline clip-path=\"url(#clip5202)\" style=\"stroke:#009af9; stroke-width:4; stroke-opacity:1; fill:none\" points=\"\n",
       "  302.24,1386.61 302.307,1386.61 302.373,1386.61 302.506,1386.61 302.771,1386.61 303.302,1386.61 304.364,1386.61 305.691,1386.61 307.018,1386.61 308.345,1386.61 \n",
       "  309.672,1386.61 311,1386.61 312.327,1386.61 313.654,1386.61 314.981,1386.61 316.308,1386.61 317.636,1386.61 318.963,1386.61 320.29,1386.61 321.617,1386.61 \n",
       "  322.944,1386.61 324.272,1386.61 325.599,1386.61 326.926,1386.61 328.253,1386.61 329.58,1386.61 330.908,1386.61 332.235,1386.61 333.562,1386.61 334.889,1386.61 \n",
       "  336.216,1386.61 337.544,1386.61 338.871,1386.61 340.198,1386.61 341.525,1386.61 342.852,1386.61 344.18,1386.61 345.507,1386.61 346.834,1386.61 348.161,1386.61 \n",
       "  349.488,1386.61 350.816,1386.61 352.143,1386.61 353.47,1386.61 354.797,1386.61 356.124,1386.61 357.451,1386.61 358.779,1386.61 360.106,1386.61 361.433,1386.61 \n",
       "  362.76,1386.61 364.087,1386.61 365.415,1386.61 366.742,1386.61 368.069,1386.61 368.6,1386.61 369.26,1379.15 369.92,1364.4 370.581,1342.63 \n",
       "  371.901,1283.67 373.222,1202 374.542,1099.16 375.869,979.173 377.196,846.885 378.524,708.065 379.851,568.831 381.178,442.051 382.373,340.341 383.448,260.92 \n",
       "  384.415,200.524 385.383,155.022 386.214,123.153 387.045,101.107 387.876,89.1681 389.203,86.2547 390.531,107.084 391.858,150.344 393.185,215.378 394.512,298.298 \n",
       "  395.839,396.421 397.167,506.315 398.494,623.71 399.821,743.274 401.148,859.627 402.475,967.687 403.803,1062.83 405.13,1140.96 406.457,1198.79 407.784,1233.95 \n",
       "  409.111,1245.08 410.439,1231.83 411.766,1194.95 413.093,1136.16 414.42,1058.15 415.747,964.406 417.074,859.083 418.402,746.779 419.729,632.352 421.056,520.716 \n",
       "  422.383,416.634 423.71,324.515 425.038,248.222 426.365,190.914 427.692,154.913 429.019,141.619 430.346,151.453 431.674,183.848 433.001,237.277 434.328,309.329 \n",
       "  435.655,396.806 436.982,495.871 438.31,602.213 439.637,711.246 440.964,818.296 442.291,918.773 443.618,1008.39 444.946,1083.35 446.273,1140.52 447.6,1177.55 \n",
       "  448.927,1192.95 450.254,1186.21 451.582,1157.77 452.909,1108.98 454.236,1042.08 455.563,960.052 456.89,866.52 458.218,765.583 459.545,661.651 460.872,559.206 \n",
       "  462.199,462.63 463.526,376.002 464.853,302.962 466.181,246.539 467.508,209.045 468.835,191.959 470.162,195.871 471.489,220.492 472.817,264.649 474.144,326.342 \n",
       "  475.471,402.827 476.798,490.737 478.125,586.235 479.453,685.155 480.78,783.243 482.107,876.318 483.434,960.411 484.761,1031.96 486.089,1087.95 487.416,1126.07 \n",
       "  488.743,1144.78 490.07,1143.41 491.397,1122.13 492.725,1082.01 494.052,1024.9 495.379,953.365 496.706,870.58 498.033,780.167 499.361,686.054 500.688,592.305 \n",
       "  502.015,502.921 503.342,421.691 504.669,352.05 505.997,296.915 507.324,258.56 508.651,238.521 509.978,237.538 511.305,255.534 512.632,291.615 513.96,344.12 \n",
       "  515.287,410.71 516.614,488.449 517.941,573.939 519.268,663.467 520.596,753.166 521.923,839.161 523.25,917.795 524.577,985.754 525.904,1040.18 527.232,1078.81 \n",
       "  528.559,1100.08 529.886,1103.16 531.213,1088.05 532.54,1055.51 533.868,1007.05 535.195,944.851 536.522,871.701 537.849,790.823 539.176,705.737 540.504,620.114 \n",
       "  541.831,537.623 543.158,461.776 544.485,395.782 545.812,342.401 547.14,303.836 548.467,281.638 549.794,276.65 551.121,288.975 552.448,317.975 553.776,362.307 \n",
       "  555.103,419.99 556.43,488.479 557.757,564.776 559.084,645.562 560.412,727.343 561.739,806.599 563.066,879.981 564.393,944.4 565.72,997.147 567.047,1036.02 \n",
       "  568.375,1059.36 569.702,1066.21 571.029,1056.42 572.356,1030.53 573.683,989.752 575.011,935.946 576.338,871.515 577.665,799.306 578.992,722.465 580.319,644.318 \n",
       "  581.647,568.219 582.974,497.415 584.301,434.906 585.628,383.315 586.955,344.779 588.283,320.86 589.61,312.488 590.937,319.919 592.264,342.735 593.591,379.864 \n",
       "  594.919,429.628 596.246,489.817 597.573,557.79 598.9,630.588 600.227,705.061 601.555,778.005 602.882,846.313 604.209,907.091 605.536,957.765 606.863,996.211 \n",
       "  608.191,1020.85 609.518,1030.69 610.845,1025.43 612.172,1005.36 613.499,971.468 614.826,925.285 616.154,868.875 617.481,804.726 618.808,735.643 620.135,664.626 \n",
       "  621.462,594.734 622.79,528.951 624.117,470.041 625.444,420.467 626.771,382.291 628.098,357.082 629.426,345.917 630.753,349.204 632.08,366.688 633.407,397.512 \n",
       "  634.734,440.267 636.062,493.048 637.389,553.524 638.716,619.048 640.043,686.783 641.37,753.817 642.698,817.282 644.025,874.476 645.352,922.982 646.679,960.77 \n",
       "  648.006,986.283 649.334,998.505 650.661,996.995 651.988,981.906 653.315,953.974 654.642,914.481 655.97,865.199 657.297,808.306 658.624,746.295 659.951,681.859 \n",
       "  661.278,617.767 662.605,556.756 663.933,501.426 665.26,454.119 666.587,416.815 667.914,391.05 669.241,377.854 670.569,377.716 671.896,390.555 673.223,415.733 \n",
       "  674.55,452.086 675.877,497.988 677.205,551.414 678.532,610.039 679.859,671.328 681.186,732.634 682.513,791.322 683.841,844.885 685.168,891.052 686.495,927.884 \n",
       "  687.822,953.846 689.149,967.899 690.477,969.522 691.804,958.721 693.131,936.034 694.458,902.508 695.785,859.653 697.113,809.371 698.44,753.882 699.767,695.604 \n",
       "  701.094,637.059 702.421,580.743 703.749,529.045 705.076,484.157 706.403,447.965 707.73,421.97 709.057,407.223 710.384,404.284 711.712,413.205 713.039,433.525 \n",
       "  714.366,464.296 715.693,504.131 717.02,551.265 718.348,603.636 719.675,658.967 721.002,714.878 722.329,768.974 723.656,818.942 724.984,862.655 726.311,898.27 \n",
       "  727.638,924.305 728.965,939.701 730.292,943.926 731.62,936.854 732.947,918.835 734.274,890.693 735.601,853.689 736.928,809.418 738.256,759.838 739.583,707.139 \n",
       "  740.91,653.625 742.237,601.606 743.564,553.303 744.892,510.774 746.219,475.804 747.546,449.832 748.873,433.903 750.2,428.631 751.528,434.177 752.855,450.238 \n",
       "  754.182,476.06 755.509,510.476 756.836,551.955 758.164,598.677 759.491,648.608 760.818,699.588 762.145,749.424 763.472,795.987 764.799,837.299 766.127,871.62 \n",
       "  767.454,897.52 768.781,913.942 770.108,920.24 771.435,916.208 772.763,902.086 774.09,878.544 775.417,846.653 776.744,807.828 778.071,763.778 779.399,716.426 \n",
       "  780.726,667.829 782.053,620.08 783.38,575.216 784.707,535.124 786.035,501.479 787.362,475.682 788.689,458.792 790.016,451.534 791.343,454.168 792.671,466.504 \n",
       "  793.998,487.939 795.325,517.494 796.652,553.851 797.979,595.405 799.307,640.335 800.634,686.698 801.961,732.5 803.288,775.782 804.615,814.703 805.943,847.619 \n",
       "  807.27,873.153 808.597,890.257 809.924,898.251 811.251,896.848 812.578,886.171 813.906,866.736 815.233,839.434 816.56,805.488 817.887,766.398 819.214,723.874 \n",
       "  820.542,679.763 821.869,635.966 823.196,594.359 824.523,556.702 825.85,524.581 827.178,499.341 828.505,482.027 829.832,473.333 831.159,473.578 832.486,482.695 \n",
       "  833.814,500.236 835.141,525.393 836.468,557.036 837.795,593.768 839.122,633.981 840.45,675.933 841.777,717.821 843.104,757.853 844.431,794.321 845.758,825.676 \n",
       "  847.086,850.599 848.413,868.06 849.74,877.354 851.067,878.131 852.394,870.416 853.722,854.596 855.049,831.399 856.376,801.868 857.703,767.31 859.03,729.241 \n",
       "  860.357,689.318 861.685,649.278 863.012,610.834 864.339,575.616 865.666,545.112 866.993,520.604 868.321,503.107 869.648,493.329 870.975,491.644 872.302,498.069 \n",
       "  873.629,512.271 874.957,533.587 876.284,561.06 877.611,593.476 878.938,629.416 880.265,667.318 881.593,705.544 882.92,742.452 884.247,776.474 885.574,806.173 \n",
       "  886.901,830.295 888.229,847.836 889.556,858.08 890.883,860.63 892.21,855.428 893.537,842.745 894.865,823.177 896.192,797.606 897.519,767.168 898.846,733.199 \n",
       "  900.173,697.18 901.501,660.671 902.828,625.243 904.155,592.4 905.482,563.522 906.809,539.813 908.137,522.258 909.464,511.574 910.791,508.218 912.118,512.297 \n",
       "  913.445,523.575 914.772,541.514 916.1,565.299 917.427,593.875 918.754,625.982 920.081,660.22 921.408,695.106 922.736,729.144 924.063,760.879 925.39,788.965 \n",
       "  926.717,812.22 928.044,829.676 929.372,840.62 930.699,844.626 932.026,841.563 933.353,831.611 934.68,815.24 936.008,793.193 937.335,766.456 938.662,736.203 \n",
       "  939.989,703.754 941.316,670.516 942.644,637.918 943.971,607.356 945.298,580.118 946.625,557.35 947.952,540.002 949.28,528.788 950.607,524.152 951.934,526.252 \n",
       "  953.261,534.957 954.588,549.847 955.916,570.245 957.243,595.239 958.57,623.728 959.897,654.467 961.224,686.128 962.551,717.346 963.879,746.79 965.206,773.213 \n",
       "  966.533,795.495 967.86,812.701 969.187,824.123 970.515,829.305 971.842,828.063 973.169,820.492 974.496,806.956 975.823,788.075 977.151,764.693 978.478,737.843 \n",
       "  979.805,708.708 981.132,678.548 982.459,648.659 983.787,620.321 985.114,594.741 986.441,573.001 987.768,556.009 989.095,544.472 990.423,538.845 991.75,539.328 \n",
       "  993.077,545.854 994.404,558.106 995.731,575.524 997.059,597.331 998.386,622.565 999.713,650.122 1001.04,678.81 1002.37,707.395 1003.69,734.651 1005.02,759.415 \n",
       "  1006.35,780.635 1007.68,797.424 1009,809.086 1010.33,815.15 1011.66,815.396 1012.98,809.85 1014.31,798.787 1015.64,782.716 1016.97,762.356 1018.29,738.609 \n",
       "  1019.62,712.517 1020.95,685.221 1022.28,657.901 1023.6,631.729 1024.93,607.816 1026.26,587.171 1027.58,570.657 1028.91,558.956 1030.24,552.539 1031.57,551.644 \n",
       "  1032.89,556.277 1034.22,566.208 1035.55,580.98 1036.87,599.931 1038.2,622.221 1039.53,646.873 1040.86,672.808 1042.18,698.908 1043.51,724.058 1044.84,747.185 \n",
       "  1046.16,767.306 1047.49,783.576 1048.82,795.318 1050.15,802.057 1051.47,803.53 1052.8,799.711 1054.13,790.803 1055.46,777.222 1056.78,759.58 1058.11,738.658 \n",
       "  1059.44,715.37 1060.76,690.732 1062.09,665.808 1063.42,641.67 1064.75,619.35 1066.07,599.794 1067.4,583.807 1068.73,572.049 1070.05,564.999 1071.38,562.934 \n",
       "  1072.71,565.915 1074.04,573.815 1075.36,586.265 1076.69,602.69 1078.02,622.351 1079.34,644.381 1080.67,667.822 1082,691.654 1083.33,714.854 1084.65,736.431 \n",
       "  1085.98,755.471 1087.31,771.175 1088.63,782.892 1089.96,790.142 1091.29,792.643 1092.62,790.318 1093.94,783.298 1095.27,771.914 1096.6,756.682 1097.93,738.282 \n",
       "  1099.25,717.521 1100.58,695.307 1101.91,672.6 1103.23,650.378 1104.56,629.59 1105.89,611.118 1107.22,595.738 1108.54,584.089 1109.87,576.648 1111.2,573.705 \n",
       "  1112.52,575.358 1113.85,581.508 1115.18,591.86 1116.51,605.947 1117.83,623.144 1119.16,642.695 1120.49,663.748 1121.81,685.389 1123.14,706.686 1124.47,726.729 \n",
       "  1125.8,744.675 1127.12,759.771 1128.45,771.389 1129.78,779.049 1131.11,782.421 1132.43,781.383 1133.76,776.015 1135.09,766.579 1136.41,753.508 1137.74,737.388 \n",
       "  1139.07,718.931 1140.4,698.944 1141.72,678.298 1143.05,657.878 1144.38,638.56 1145.7,621.163 1147.03,606.421 1148.36,594.95 1149.69,587.219 1151.01,583.535 \n",
       "  1152.34,584.032 1153.67,588.66 1154.99,597.195 1156.32,609.246 1157.65,624.276 1158.98,641.619 1160.3,660.519 1161.63,680.156 1162.96,699.683 1164.29,718.264 \n",
       "  1165.61,735.108 1166.94,749.506 1168.27,760.857 1169.59,768.691 1170.92,772.691 1172.25,772.707 1173.58,768.765 1174.9,761.057 1176.23,749.942 1177.56,735.918 \n",
       "  1178.88,719.609 1180.21,701.723 1181.54,683.039 1182.87,664.362 1184.19,646.495 1185.52,630.199 1186.85,616.164 1188.17,604.965 1189.5,597.061 1190.83,592.775 \n",
       "  1192.16,592.269 1193.48,595.545 1194.81,602.391 1196.14,612.508 1197.46,625.441 1198.79,640.62 1200.12,657.446 1201.45,675.188 1202.77,693.072 1204.1,710.324 \n",
       "  1205.43,726.205 1206.76,740.033 1208.08,751.218 1209.41,759.298 1210.74,763.944 1212.06,764.978 1213.39,762.38 1214.72,756.284 1216.05,746.973 1217.37,734.866 \n",
       "  1218.7,720.506 1220.03,704.522 1221.35,687.613 1222.68,670.507 1224.01,653.941 1225.34,638.619 1226.66,625.191 1227.99,614.22 1229.32,606.161 1230.64,601.34 \n",
       "  1231.97,599.944 1233.3,602.01 1234.63,607.427 1235.95,615.942 1237.28,627.171 1238.61,640.614 1239.94,655.683 1241.26,671.719 1242.59,688.03 1243.92,703.915 \n",
       "  1245.24,718.695 1246.57,731.744 1247.9,742.513 1249.23,750.554 1250.55,755.54 1251.88,757.277 1253.21,755.71 1254.53,750.928 1255.86,743.157 1257.19,732.749 \n",
       "  1258.52,720.164 1259.84,705.956 1261.17,690.745 1262.5,675.189 1263.82,659.959 1265.15,645.705 1266.48,633.025 1267.81,622.449 1269.13,614.419 1270.46,609.263 \n",
       "  1271.79,607.203 1273.12,608.311 1274.44,612.515 1275.77,619.611 1277.1,629.274 1278.42,641.074 1279.75,654.49 1281.08,668.936 1282.41,683.785 1283.73,698.399 \n",
       "  1285.06,712.152 1286.39,724.462 1287.71,734.808 1289.04,742.761 1290.37,747.992 1291.7,750.297 1293.02,749.594 1294.35,745.933 1295.68,739.49 1297,730.559 \n",
       "  1298.33,719.539 1299.66,706.917 1300.99,693.243 1302.31,679.11 1303.64,665.129 1304.97,651.896 1306.29,639.976 1307.62,629.869 1308.95,621.998 1310.28,616.685 \n",
       "  1311.6,614.142 1312.93,614.461 1314.26,617.609 1315.59,623.433 1316.91,631.666 1318.24,641.94 1319.57,653.803 1320.89,666.736 1322.22,680.177 1323.55,693.546 \n",
       "  1324.88,706.274 1326.2,717.819 1327.53,727.694 1328.86,735.481 1330.18,740.861 1331.51,743.615 1332.84,743.643 1334.17,740.961 1335.49,735.701 1336.82,728.106 \n",
       "  1338.15,718.516 1339.47,707.355 1340.8,695.112 1342.13,682.319 1343.46,669.532 1344.78,657.3 1346.11,646.144 1347.44,636.532 1348.77,628.866 1350.09,623.461 \n",
       "  1351.42,620.538 1352.75,620.205 1354.07,622.459 1355.4,627.188 1356.73,634.172 1358.06,643.099 1359.38,653.575 1360.71,665.142 1362.04,677.297 1363.36,689.515 \n",
       "  1364.69,701.27 1366.02,712.061 1367.35,721.436 1368.67,729.005 1370,734.454 1371.33,737.563 1372.65,738.21 1373.98,736.368 1375.31,732.131 1376.64,725.7 \n",
       "  1377.96,717.369 1379.29,707.508 1380.62,696.552 1381.94,684.98 1383.27,673.291 1384.6,661.988 1385.93,651.551 1387.25,642.423 1388.58,634.986 1389.91,629.548 \n",
       "  1391.24,626.33 1392.56,625.455 1393.89,626.946 1395.22,630.724 1396.54,636.611 1397.87,644.344 1399.2,653.577 1400.53,663.907 1401.85,674.882 1403.18,686.029 \n",
       "  1404.51,696.869 1405.83,706.942 1407.16,715.818 1408.49,723.126 1409.82,728.559 1411.14,731.896 1412.47,733.006 1413.8,731.855 1415.12,728.507 1416.45,723.122 \n",
       "  1417.78,715.944 1419.11,707.292 1420.43,697.548 1421.76,687.136 1423.09,676.503 1424.42,666.108 1425.74,656.396 1427.07,647.779 1428.4,640.621 1429.72,635.22 \n",
       "  1431.05,631.796 1432.38,630.485 1433.71,631.33 1435.03,634.279 1436.36,639.194 1437.69,645.849 1439.01,653.949 1440.34,663.136 1441.67,673.01 1443,683.146 \n",
       "  1444.32,693.107 1445.65,702.466 1446.98,710.824 1448.3,717.829 1449.63,723.196 1450.96,726.706 1452.29,728.219 1453.61,727.68 1454.94,725.122 1456.27,720.655 \n",
       "  1457.6,714.485 1458.92,706.892 1460.25,698.213 1461.58,688.83 1462.9,679.15 1464.23,669.592 1465.56,660.565 1466.89,652.453 1468.21,645.595 1469.54,640.278 \n",
       "  1470.87,636.719 1472.19,635.061 1473.52,635.362 1474.85,637.597 1476.18,641.657 1477.5,647.358 1478.83,654.443 1480.16,662.601 1481.48,671.474 1482.81,680.679 \n",
       "  1484.14,689.818 1485.47,698.5 1486.79,706.356 1488.12,713.053 1489.45,718.312 1490.77,721.917 1492.1,723.724 1493.43,723.667 1494.76,721.76 1496.08,718.096 \n",
       "  1497.41,712.852 1498.74,706.258 1500.07,698.599 1501.39,690.207 1502.72,681.446 1504.05,672.69 1505.37,664.319 1506.7,656.694 1508.03,650.14 1509.36,644.932 \n",
       "  1510.68,641.284 1512.01,639.343 1513.34,639.182 1514.66,640.795 1515.99,644.099 1517.32,648.944 1518.65,655.111 1519.97,662.328 1521.3,670.278 1522.63,678.617 \n",
       "  1523.95,686.984 1525.28,695.021 1526.61,702.384 1527.94,708.762 1529.26,713.889 1530.59,717.552 1531.92,719.603 1533.25,719.965 1534.57,718.634 1535.9,715.676 \n",
       "  1537.23,711.23 1538.55,705.495 1539.88,698.726 1541.21,691.219 1542.54,683.302 1543.86,675.315 1545.19,667.601 1546.52,660.487 1547.84,654.277 1549.17,649.232 \n",
       "  1550.5,645.561 1551.83,643.413 1553.15,642.872 1554.48,643.949 1555.81,646.589 1557.13,650.668 1558.46,656.002 1559.79,662.353 1561.12,669.442 1562.44,676.96 \n",
       "  1563.77,684.583 1565.1,691.982 1566.43,698.845 1567.75,704.881 1569.08,709.834 1570.41,713.497 1571.73,715.721 1573.06,716.421 1574.39,715.574 1575.72,713.228 \n",
       "  1577.04,709.493 1578.37,704.54 1579.7,698.588 1581.02,691.898 1582.35,684.761 1583.68,677.486 1585.01,670.387 1586.33,663.766 1587.66,657.906 1588.99,653.054 \n",
       "  1590.31,649.41 1591.64,647.124 1592.97,646.285 1594.3,646.921 1595.62,648.995 1596.95,652.407 1598.28,657.003 1599.6,662.577 1600.93,668.884 1602.26,675.652 \n",
       "  1603.59,682.586 1604.91,689.389 1606.24,695.769 1607.57,701.454 1608.9,706.205 1610.22,709.83 1611.55,712.179 1612.88,713.16 1614.2,712.736 1615.53,710.934 \n",
       "  1616.86,707.831 1618.19,703.57 1619.51,698.342 1620.84,692.382 1622.17,685.951 1623.49,679.327 1624.82,672.798 1626.15,666.642 1627.48,661.122 1628.8,656.468 \n",
       "  1630.13,652.875 1631.46,650.49 1632.78,649.407 1634.11,649.665 1635.44,651.244 1636.77,654.068 1638.09,658.008 1639.42,662.887 1640.75,668.491 1642.08,674.575 \n",
       "  1643.4,680.875 1644.73,687.119 1646.06,693.041 1647.38,698.387 1648.71,702.933 1650.04,706.489 1651.37,708.909 1652.69,710.096 1654.02,710.007 1655.35,708.654 \n",
       "  1656.67,706.104 1658,702.472 1659.33,697.922 1660.66,692.655 1661.98,686.901 1663.31,680.908 1664.64,674.935 1665.96,669.239 1667.29,664.063 1668.62,659.625 \n",
       "  1669.95,656.108 1671.27,653.654 1672.6,652.365 1673.93,652.289 1675.26,653.422 1676.58,655.693 1677.91,659.003 1679.24,663.203 1680.56,668.109 1681.89,673.526 \n",
       "  1683.22,679.221 1684.55,684.943 1685.87,690.445 1687.2,695.492 1688.53,699.867 1689.85,703.384 1691.18,705.898 1692.51,707.307 1693.84,707.556 1695.16,706.643 \n",
       "  1696.49,704.614 1697.82,701.565 1699.14,697.632 1700.47,692.991 1701.8,687.845 1703.13,682.418 1704.45,676.943 1705.78,671.657 1707.11,666.785 1708.43,662.532 \n",
       "  1709.76,659.078 1711.09,656.565 1712.42,655.095 1713.74,654.724 1715.07,655.462 1716.4,657.268 1717.73,660.06 1719.05,663.711 1720.38,668.06 1721.71,672.914 \n",
       "  1723.03,678.064 1724.36,683.286 1725.69,688.355 1727.02,693.058 1728.34,697.195 1729.67,700.59 1731,703.103 1732.32,704.63 1733.65,705.112 1734.98,704.536 \n",
       "  1736.31,702.932 1737.63,700.377 1738.96,696.986 1740.29,692.911 1741.61,688.33 1742.94,683.442 1744.27,678.459 1745.6,673.595 1746.92,669.058 1748.25,665.042 \n",
       "  1749.58,661.712 1750.91,659.206 1752.23,657.626 1753.56,657.036 1754.89,657.455 1756.21,658.865 1757.54,661.199 1758.87,664.35 1760.2,668.175 1761.52,672.506 \n",
       "  1762.85,677.153 1764.18,681.914 1765.5,686.584 1766.83,690.964 1768.16,694.868 1769.49,698.131 1770.81,700.619 1772.14,702.229 1773.47,702.898 1774.79,702.603 \n",
       "  1776.12,701.362 1777.45,699.236 1778.78,696.321 1780.1,692.747 1781.43,688.671 1782.76,684.272 1784.08,679.74 1785.41,675.271 1786.74,671.054 1788.07,667.271 \n",
       "  1789.39,664.08 1790.72,661.614 1792.05,659.974 1793.38,659.225 1794.7,659.394 1796.03,660.467 1797.36,662.393 1798.68,665.084 1800.01,668.419 1801.34,672.253 \n",
       "  1802.67,676.417 1803.99,680.732 1805.32,685.011 1806.65,689.07 1807.97,692.736 1809.3,695.855 1810.63,698.295 1811.96,699.958 1813.28,700.776 1814.61,700.719 \n",
       "  1815.94,699.796 1817.26,698.051 1818.59,695.565 1819.92,692.448 1821.25,688.84 1822.57,684.897 1823.9,680.793 1825.23,676.701 1826.56,672.799 1827.88,669.251 \n",
       "  1829.21,666.21 1830.54,663.801 1831.86,662.126 1833.19,661.25 1834.52,661.206 1835.85,661.992 1837.17,663.568 1838.5,665.86 1839.83,668.767 1841.15,672.159 \n",
       "  1842.48,675.89 1843.81,679.795 1845.14,683.708 1846.46,687.459 1847.79,690.89 1849.12,693.856 1850.44,696.235 1851.77,697.927 1853.1,698.864 1854.43,699.006 \n",
       "  1855.75,698.351 1857.08,696.934 1858.41,694.82 1859.74,692.106 1861.06,688.912 1862.39,685.378 1863.72,681.659 1865.04,677.915 1866.37,674.306 1867.7,670.987 \n",
       "  1869.03,668.098 1870.35,665.759 1871.68,664.069 1873.01,663.094 1874.33,662.872 1875.66,663.409 1876.99,664.675 1878.32,666.613 1879.64,669.134 1880.97,672.127 \n",
       "  1882.3,675.461 1883.62,678.991 1884.95,682.563 1886.28,686.025 1887.61,689.228 1888.93,692.038 1890.26,694.336 1891.59,696.026 1892.91,697.041 1894.24,697.341 \n",
       "  1895.57,696.918 1896.9,695.794 1898.22,694.022 1899.55,691.681 1900.88,688.876 1902.21,685.729 1903.53,682.378 1904.86,678.969 1906.19,675.647 1907.51,672.555 \n",
       "  1908.84,669.821 1910.17,667.562 1911.5,665.869 1912.82,664.813 1914.15,664.44 1915.48,664.76 1916.8,665.756 1918.13,667.379 1919.46,669.556 1920.79,672.19 \n",
       "  1922.11,675.164 1923.44,678.348 1924.77,681.605 1926.09,684.794 1927.42,687.78 1928.75,690.435 1930.08,692.648 1931.4,694.327 1932.73,695.403 1934.06,695.834 \n",
       "  1935.39,695.605 1936.71,694.731 1938.04,693.254 1939.37,691.239 1940.69,688.778 1942.02,685.978 1943.35,682.962 1944.68,679.861 1946,676.808 1947.33,673.933 \n",
       "  1948.66,671.359 1949.98,669.194 1951.31,667.528 1952.64,666.43 1953.97,665.943 1955.29,666.084 1956.62,666.843 1957.95,668.183 1959.27,670.044 1960.6,672.342 \n",
       "  1961.93,674.977 1963.26,677.834 1964.58,680.788 1965.91,683.711 1967.24,686.48 1968.57,688.976 1969.89,691.096 1971.22,692.75 1972.55,693.872 1973.87,694.415 \n",
       "  1975.2,694.357 1976.53,693.703 1977.86,692.487 1979.18,690.764 1980.51,688.612 1981.84,686.127 1983.16,683.417 1984.49,680.6 1985.82,677.798 1987.15,675.13 \n",
       "  1988.47,672.711 1989.8,670.642 1991.13,669.009 1992.45,667.88 1993.78,667.301 1995.11,667.291 1996.44,667.849 1997.76,668.946 1999.09,670.533 2000.42,672.537 \n",
       "  2001.74,674.871 2003.07,677.432 2004.4,680.109 2005.73,682.786 2007.05,685.349 2008.38,687.689 2009.71,689.706 2011.04,691.316 2012.36,692.453 2013.69,693.071 \n",
       "  2015.02,693.147 2016.34,692.681 2017.67,691.696 2019,690.238 2020.33,688.372 2021.65,686.18 2022.98,683.759 2024.31,681.214 2025.63,678.656 2026.96,676.193 \n",
       "  2028.29,673.932 2029.62,671.967 2030.94,670.381 2032.27,669.24 2033.6,668.591 2034.92,668.457 2036.25,668.842 2037.58,669.726 2038.91,671.067 2040.23,672.804 \n",
       "  2041.56,674.861 2042.89,677.149 2044.22,679.567 2045.54,682.011 2046.87,684.375 2048.2,686.558 2049.52,688.469 2050.85,690.026 2052.18,691.166 2053.51,691.842 \n",
       "  2054.83,692.028 2056.16,691.718 2057.49,690.929 2058.81,689.699 2060.14,688.082 2061.47,686.151 2062.8,683.99 2064.12,681.694 2065.45,679.362 2066.78,677.093 \n",
       "  2068.1,674.986 2069.43,673.129 2070.76,671.599 2072.09,670.459 2073.41,669.756 2074.74,669.518 2076.07,669.756 2077.39,670.455 2078.72,671.583 2080.05,673.087 \n",
       "  2081.38,674.901 2082.7,676.944 2084.03,679.127 2085.36,681.356 2086.69,683.534 2088.01,685.569 2089.34,687.375 2090.67,688.875 2091.99,690.007 2093.32,690.726 \n",
       "  2094.65,691.001 2095.98,690.826 2097.3,690.21 2098.63,689.182 2099.96,687.789 2101.28,686.094 2102.61,684.17 2103.94,682.102 2105.27,679.979 2106.59,677.893 \n",
       "  2107.92,675.933 2109.25,674.182 2110.57,672.714 2111.9,671.589 2113.23,670.855 2114.56,670.54 2115.88,670.654 2117.21,671.191 2118.54,672.124 2119.87,673.411 \n",
       "  2121.19,674.995 2122.52,676.806 2123.85,678.765 2125.17,680.787 2126.5,682.785 2127.83,684.673 2129.16,686.371 2130.48,687.809 2131.81,688.927 2133.14,689.679 \n",
       "  2134.46,690.034 2135.79,689.977 2137.12,689.513 2138.45,688.665 2139.77,687.473 2141.1,685.99 2142.43,684.281 2143.75,682.422 2145.08,680.494 2146.41,678.579 \n",
       "  2147.74,676.759 2149.06,675.112 2150.39,673.708 2151.72,672.604 2153.05,671.847 2154.37,671.466 2155.7,671.476 2157.03,671.874 2158.35,672.639 2159.68,673.738 \n",
       "  2161.01,675.12 2162.34,676.724 2163.66,678.482 2164.99,680.315 2166.32,682.145 2167.64,683.894 2168.97,685.487 2170.3,686.856 2171.63,687.945 2172.95,688.709 \n",
       "  2174.28,689.117 2175.61,689.153 2176.93,688.819 2178.26,688.131 2179.59,687.121 2180.92,685.834 2182.24,684.326 2183.57,682.665 2184.9,680.921 2186.22,679.172 \n",
       "  2187.55,677.491 2188.88,675.951 2190.21,674.616 2191.53,673.543 2192.86,672.776 2194.19,672.346 2195.52,672.27 2196.84,672.546 2198.17,673.161 2199.5,674.087 \n",
       "  2200.82,675.284 2202.15,676.699 2203.48,678.27 2204.81,679.93 2206.13,681.606 2207.46,683.224 2208.79,684.715 2210.11,686.018 2211.44,687.075 2212.77,687.844 \n",
       "  2214.1,688.294 2215.42,688.408 2216.75,688.183 2218.08,687.63 2219.4,686.776 2220.73,685.66 2222.06,684.33 2223.39,682.845 2224.71,681.27 2226.04,679.672 \n",
       "  2227.37,678.121 2228.7,676.683 2230.02,675.419 2231.35,674.381 2232.68,673.613 2234,673.145 2235.33,672.997 2236.66,673.173 2237.99,673.662 2239.31,674.442 \n",
       "  2240.64,675.477 2241.97,676.722 2243.29,678.122 2244.62,679.616 2245.95,681.139 2247.28,682.627 2248.6,684.014 2249.93,685.243 2251.26,686.262 2252.58,687.027 \n",
       "  2253.91,687.508 2255.24,687.686 2256.57,687.555 2257.89,687.124 2259.22,686.411 2260.55,685.45 2261.88,684.284 2263.2,682.963 2264.53,681.546 2265.86,680.094 \n",
       "  2267.18,678.668 2268.51,677.329 2269.84,676.135 2271.17,675.135 2272.49,674.372 2273.82,673.879 2275.15,673.673 2276.47,673.763 2277.8,674.142 2279.13,674.792 \n",
       "  2280.46,675.684 2281.78,676.777 2283.11,678.024 2284.44,679.37 2285.76,680.757 2287.09,682.124 2288.42,683.414 2289.75,684.571 2291.07,685.548 2292.4,686.302 \n",
       "  2293.03,686.574 \n",
       "  \"/>\n",
       "<path clip-path=\"url(#clip5200)\" d=\"\n",
       "M1810.68 251.724 L2280.76 251.724 L2280.76 130.764 L1810.68 130.764  Z\n",
       "  \" fill=\"#ffffff\" fill-rule=\"evenodd\" fill-opacity=\"1\"/>\n",
       "<polyline clip-path=\"url(#clip5200)\" style=\"stroke:#000000; stroke-width:4; stroke-opacity:1; fill:none\" points=\"\n",
       "  1810.68,251.724 2280.76,251.724 2280.76,130.764 1810.68,130.764 1810.68,251.724 \n",
       "  \"/>\n",
       "<polyline clip-path=\"url(#clip5200)\" style=\"stroke:#009af9; stroke-width:4; stroke-opacity:1; fill:none\" points=\"\n",
       "  1834.68,191.244 1978.68,191.244 \n",
       "  \"/>\n",
       "<g clip-path=\"url(#clip5200)\">\n",
       "<text style=\"fill:#000000; fill-opacity:1; font-family:Arial,Helvetica Neue,Helvetica,sans-serif; font-size:48px; text-anchor:start;\" transform=\"rotate(0, 2002.68, 208.744)\" x=\"2002.68\" y=\"208.744\">rotor angle</text>\n",
       "</g>\n",
       "</svg>\n"
      ]
     },
     "execution_count": 16,
     "metadata": {},
     "output_type": "execute_result"
    }
   ],
   "source": [
    "angle = get_state_series(sim, (\"OMIB_Gen\", :δ))\n",
    "plot(angle, xlabel=\"time\", ylabel=\"rotor angle [rad]\", label=\"rotor angle\")"
   ]
  },
  {
   "cell_type": "code",
   "execution_count": 17,
   "metadata": {},
   "outputs": [
    {
     "data": {
      "image/svg+xml": [
       "<?xml version=\"1.0\" encoding=\"utf-8\"?>\n",
       "<svg xmlns=\"http://www.w3.org/2000/svg\" xmlns:xlink=\"http://www.w3.org/1999/xlink\" width=\"600\" height=\"400\" viewBox=\"0 0 2400 1600\">\n",
       "<defs>\n",
       "  <clipPath id=\"clip5600\">\n",
       "    <rect x=\"0\" y=\"0\" width=\"2400\" height=\"1600\"/>\n",
       "  </clipPath>\n",
       "</defs>\n",
       "<path clip-path=\"url(#clip5600)\" d=\"\n",
       "M0 1600 L2400 1600 L2400 0 L0 0  Z\n",
       "  \" fill=\"#ffffff\" fill-rule=\"evenodd\" fill-opacity=\"1\"/>\n",
       "<defs>\n",
       "  <clipPath id=\"clip5601\">\n",
       "    <rect x=\"480\" y=\"0\" width=\"1681\" height=\"1600\"/>\n",
       "  </clipPath>\n",
       "</defs>\n",
       "<path clip-path=\"url(#clip5600)\" d=\"\n",
       "M242.516 1425.62 L2352.76 1425.62 L2352.76 47.2441 L242.516 47.2441  Z\n",
       "  \" fill=\"#ffffff\" fill-rule=\"evenodd\" fill-opacity=\"1\"/>\n",
       "<defs>\n",
       "  <clipPath id=\"clip5602\">\n",
       "    <rect x=\"242\" y=\"47\" width=\"2111\" height=\"1379\"/>\n",
       "  </clipPath>\n",
       "</defs>\n",
       "<polyline clip-path=\"url(#clip5602)\" style=\"stroke:#000000; stroke-width:2; stroke-opacity:0.1; fill:none\" points=\"\n",
       "  302.24,1425.62 302.24,47.2441 \n",
       "  \"/>\n",
       "<polyline clip-path=\"url(#clip5602)\" style=\"stroke:#000000; stroke-width:2; stroke-opacity:0.1; fill:none\" points=\"\n",
       "  965.838,1425.62 965.838,47.2441 \n",
       "  \"/>\n",
       "<polyline clip-path=\"url(#clip5602)\" style=\"stroke:#000000; stroke-width:2; stroke-opacity:0.1; fill:none\" points=\"\n",
       "  1629.43,1425.62 1629.43,47.2441 \n",
       "  \"/>\n",
       "<polyline clip-path=\"url(#clip5602)\" style=\"stroke:#000000; stroke-width:2; stroke-opacity:0.1; fill:none\" points=\"\n",
       "  2293.03,1425.62 2293.03,47.2441 \n",
       "  \"/>\n",
       "<polyline clip-path=\"url(#clip5602)\" style=\"stroke:#000000; stroke-width:2; stroke-opacity:0.1; fill:none\" points=\"\n",
       "  242.516,1115.53 2352.76,1115.53 \n",
       "  \"/>\n",
       "<polyline clip-path=\"url(#clip5602)\" style=\"stroke:#000000; stroke-width:2; stroke-opacity:0.1; fill:none\" points=\"\n",
       "  242.516,772.389 2352.76,772.389 \n",
       "  \"/>\n",
       "<polyline clip-path=\"url(#clip5602)\" style=\"stroke:#000000; stroke-width:2; stroke-opacity:0.1; fill:none\" points=\"\n",
       "  242.516,429.247 2352.76,429.247 \n",
       "  \"/>\n",
       "<polyline clip-path=\"url(#clip5602)\" style=\"stroke:#000000; stroke-width:2; stroke-opacity:0.1; fill:none\" points=\"\n",
       "  242.516,86.1047 2352.76,86.1047 \n",
       "  \"/>\n",
       "<polyline clip-path=\"url(#clip5600)\" style=\"stroke:#000000; stroke-width:4; stroke-opacity:1; fill:none\" points=\"\n",
       "  242.516,1425.62 2352.76,1425.62 \n",
       "  \"/>\n",
       "<polyline clip-path=\"url(#clip5600)\" style=\"stroke:#000000; stroke-width:4; stroke-opacity:1; fill:none\" points=\"\n",
       "  242.516,1425.62 242.516,47.2441 \n",
       "  \"/>\n",
       "<polyline clip-path=\"url(#clip5600)\" style=\"stroke:#000000; stroke-width:4; stroke-opacity:1; fill:none\" points=\"\n",
       "  302.24,1425.62 302.24,1409.08 \n",
       "  \"/>\n",
       "<polyline clip-path=\"url(#clip5600)\" style=\"stroke:#000000; stroke-width:4; stroke-opacity:1; fill:none\" points=\"\n",
       "  965.838,1425.62 965.838,1409.08 \n",
       "  \"/>\n",
       "<polyline clip-path=\"url(#clip5600)\" style=\"stroke:#000000; stroke-width:4; stroke-opacity:1; fill:none\" points=\"\n",
       "  1629.43,1425.62 1629.43,1409.08 \n",
       "  \"/>\n",
       "<polyline clip-path=\"url(#clip5600)\" style=\"stroke:#000000; stroke-width:4; stroke-opacity:1; fill:none\" points=\"\n",
       "  2293.03,1425.62 2293.03,1409.08 \n",
       "  \"/>\n",
       "<polyline clip-path=\"url(#clip5600)\" style=\"stroke:#000000; stroke-width:4; stroke-opacity:1; fill:none\" points=\"\n",
       "  242.516,1115.53 267.839,1115.53 \n",
       "  \"/>\n",
       "<polyline clip-path=\"url(#clip5600)\" style=\"stroke:#000000; stroke-width:4; stroke-opacity:1; fill:none\" points=\"\n",
       "  242.516,772.389 267.839,772.389 \n",
       "  \"/>\n",
       "<polyline clip-path=\"url(#clip5600)\" style=\"stroke:#000000; stroke-width:4; stroke-opacity:1; fill:none\" points=\"\n",
       "  242.516,429.247 267.839,429.247 \n",
       "  \"/>\n",
       "<polyline clip-path=\"url(#clip5600)\" style=\"stroke:#000000; stroke-width:4; stroke-opacity:1; fill:none\" points=\"\n",
       "  242.516,86.1047 267.839,86.1047 \n",
       "  \"/>\n",
       "<g clip-path=\"url(#clip5600)\">\n",
       "<text style=\"fill:#000000; fill-opacity:1; font-family:Arial,Helvetica Neue,Helvetica,sans-serif; font-size:48px; text-anchor:middle;\" transform=\"rotate(0, 302.24, 1479.62)\" x=\"302.24\" y=\"1479.62\">0</text>\n",
       "</g>\n",
       "<g clip-path=\"url(#clip5600)\">\n",
       "<text style=\"fill:#000000; fill-opacity:1; font-family:Arial,Helvetica Neue,Helvetica,sans-serif; font-size:48px; text-anchor:middle;\" transform=\"rotate(0, 965.838, 1479.62)\" x=\"965.838\" y=\"1479.62\">10</text>\n",
       "</g>\n",
       "<g clip-path=\"url(#clip5600)\">\n",
       "<text style=\"fill:#000000; fill-opacity:1; font-family:Arial,Helvetica Neue,Helvetica,sans-serif; font-size:48px; text-anchor:middle;\" transform=\"rotate(0, 1629.43, 1479.62)\" x=\"1629.43\" y=\"1479.62\">20</text>\n",
       "</g>\n",
       "<g clip-path=\"url(#clip5600)\">\n",
       "<text style=\"fill:#000000; fill-opacity:1; font-family:Arial,Helvetica Neue,Helvetica,sans-serif; font-size:48px; text-anchor:middle;\" transform=\"rotate(0, 2293.03, 1479.62)\" x=\"2293.03\" y=\"1479.62\">30</text>\n",
       "</g>\n",
       "<g clip-path=\"url(#clip5600)\">\n",
       "<text style=\"fill:#000000; fill-opacity:1; font-family:Arial,Helvetica Neue,Helvetica,sans-serif; font-size:48px; text-anchor:end;\" transform=\"rotate(0, 218.516, 1133.03)\" x=\"218.516\" y=\"1133.03\">0.97</text>\n",
       "</g>\n",
       "<g clip-path=\"url(#clip5600)\">\n",
       "<text style=\"fill:#000000; fill-opacity:1; font-family:Arial,Helvetica Neue,Helvetica,sans-serif; font-size:48px; text-anchor:end;\" transform=\"rotate(0, 218.516, 789.889)\" x=\"218.516\" y=\"789.889\">0.98</text>\n",
       "</g>\n",
       "<g clip-path=\"url(#clip5600)\">\n",
       "<text style=\"fill:#000000; fill-opacity:1; font-family:Arial,Helvetica Neue,Helvetica,sans-serif; font-size:48px; text-anchor:end;\" transform=\"rotate(0, 218.516, 446.747)\" x=\"218.516\" y=\"446.747\">0.99</text>\n",
       "</g>\n",
       "<g clip-path=\"url(#clip5600)\">\n",
       "<text style=\"fill:#000000; fill-opacity:1; font-family:Arial,Helvetica Neue,Helvetica,sans-serif; font-size:48px; text-anchor:end;\" transform=\"rotate(0, 218.516, 103.605)\" x=\"218.516\" y=\"103.605\">1.00</text>\n",
       "</g>\n",
       "<g clip-path=\"url(#clip5600)\">\n",
       "<text style=\"fill:#000000; fill-opacity:1; font-family:Arial,Helvetica Neue,Helvetica,sans-serif; font-size:66px; text-anchor:middle;\" transform=\"rotate(0, 1297.64, 1559.48)\" x=\"1297.64\" y=\"1559.48\">time</text>\n",
       "</g>\n",
       "<g clip-path=\"url(#clip5600)\">\n",
       "<text style=\"fill:#000000; fill-opacity:1; font-family:Arial,Helvetica Neue,Helvetica,sans-serif; font-size:66px; text-anchor:middle;\" transform=\"rotate(-90, 89.2861, 736.431)\" x=\"89.2861\" y=\"736.431\">Voltage [pu]</text>\n",
       "</g>\n",
       "<polyline clip-path=\"url(#clip5602)\" style=\"stroke:#009af9; stroke-width:4; stroke-opacity:1; fill:none\" points=\"\n",
       "  302.24,86.2547 302.307,86.2547 302.373,86.2547 302.506,86.2547 302.771,86.2547 303.302,86.2547 304.364,86.2547 305.691,86.2547 307.018,86.2547 308.345,86.2547 \n",
       "  309.672,86.2547 311,86.2547 312.327,86.2547 313.654,86.2547 314.981,86.2547 316.308,86.2547 317.636,86.2547 318.963,86.2547 320.29,86.2547 321.617,86.2547 \n",
       "  322.944,86.2547 324.272,86.2547 325.599,86.2547 326.926,86.2547 328.253,86.2547 329.58,86.2547 330.908,86.2547 332.235,86.2547 333.562,86.2547 334.889,86.2547 \n",
       "  336.216,86.2547 337.544,86.2547 338.871,86.2547 340.198,86.2547 341.525,86.2547 342.852,86.2547 344.18,86.2547 345.507,86.2547 346.834,86.2547 348.161,86.2547 \n",
       "  349.488,86.2547 350.816,86.2547 352.143,86.2547 353.47,86.2547 354.797,86.2547 356.124,86.2547 357.451,86.2547 358.779,86.2547 360.106,86.2547 361.433,86.2547 \n",
       "  362.76,86.2547 364.087,86.2547 365.415,86.2547 366.742,86.2547 368.069,86.2547 368.6,86.2547 369.26,1370.57 369.92,1370.67 370.581,1370.83 \n",
       "  371.901,1371.29 373.222,1371.96 374.542,1372.9 375.869,1374.07 377.196,1375.56 378.524,1377.22 379.851,1379.08 381.178,1380.83 382.373,1382.38 383.448,1383.64 \n",
       "  384.415,1384.64 385.383,1385.45 386.214,1385.96 387.045,1386.34 387.876,1386.56 389.203,1386.61 390.531,1386.25 391.858,1385.49 393.185,1384.39 394.512,1383.03 \n",
       "  395.839,1381.5 397.167,1379.9 398.494,1378.28 399.821,1376.75 401.148,1375.37 402.475,1374.19 403.803,1373.23 405.13,1372.5 406.457,1371.99 407.784,1371.69 \n",
       "  409.111,1371.6 410.439,1371.71 411.766,1372.02 413.093,1372.54 414.42,1373.28 415.747,1374.23 417.074,1375.38 418.402,1376.71 419.729,1378.17 421.056,1379.69 \n",
       "  422.383,1381.22 423.71,1382.63 425.038,1383.83 426.365,1384.81 427.692,1385.43 429.019,1385.6 430.346,1385.46 431.674,1384.99 433.001,1383.98 434.328,1382.77 \n",
       "  435.655,1381.67 436.982,1380.08 438.31,1378.25 439.637,1377.15 440.964,1376.02 442.291,1374.56 443.618,1373.72 444.946,1373.2 446.273,1372.44 447.6,1372.07 \n",
       "  448.927,1372.08 450.254,1372.1 451.582,1372.29 452.909,1372.83 454.236,1373.47 455.563,1374.23 456.89,1375.3 458.218,1376.52 459.545,1377.77 460.872,1379.2 \n",
       "  462.199,1380.61 463.526,1381.73 464.853,1382.91 466.181,1384.09 467.508,1384.42 468.835,1384.46 470.162,1384.72 471.489,1384.4 472.817,1383.44 474.144,1382.6 \n",
       "  475.471,1381.55 476.798,1380.04 478.125,1378.73 479.453,1377.51 480.78,1376.26 482.107,1375.16 483.434,1374.3 484.761,1373.54 486.089,1372.96 487.416,1372.64 \n",
       "  488.743,1372.48 490.07,1372.47 491.397,1372.71 492.725,1373.08 494.052,1373.54 495.379,1374.35 496.706,1375.37 498.033,1376.19 499.361,1377.35 500.688,1379.01 \n",
       "  502.015,1379.95 503.342,1380.91 504.669,1382.35 505.997,1383.15 507.324,1383.49 508.651,1384.06 509.978,1384.16 511.305,1383.68 512.632,1383.15 513.96,1382.32 \n",
       "  515.287,1381.23 516.614,1380.15 517.941,1379 519.268,1377.73 520.596,1376.61 521.923,1375.62 523.25,1374.73 524.577,1374 525.904,1373.46 527.232,1373.08 \n",
       "  528.559,1372.87 529.886,1372.85 531.213,1372.99 532.54,1373.3 533.868,1373.79 535.195,1374.44 536.522,1375.22 537.849,1376.18 539.176,1377.25 540.504,1378.31 \n",
       "  541.831,1379.42 543.158,1380.61 544.485,1381.53 545.812,1382.23 547.14,1383.04 548.467,1383.46 549.794,1383.12 551.121,1383.15 552.448,1383.25 553.776,1382.04 \n",
       "  555.103,1380.89 556.43,1380.4 557.757,1379.16 559.084,1377.73 560.412,1377.06 561.739,1375.99 563.066,1375.14 564.393,1374.44 565.72,1373.89 567.047,1373.49 \n",
       "  568.375,1373.27 569.702,1373.2 571.029,1373.29 572.356,1373.55 573.683,1373.96 575.011,1374.53 576.338,1375.24 577.665,1376.08 578.992,1377.01 580.319,1378.01 \n",
       "  581.647,1379.04 582.974,1380.02 584.301,1380.94 585.628,1381.72 586.955,1382.31 588.283,1382.67 589.61,1382.83 590.937,1382.71 592.264,1382.31 593.591,1381.77 \n",
       "  594.919,1381.07 596.246,1380.09 597.573,1379.13 598.9,1378.32 600.227,1377.22 601.555,1376.11 602.882,1375.53 604.209,1374.93 605.536,1374.2 606.863,1373.88 \n",
       "  608.191,1373.75 609.518,1373.5 610.845,1373.55 612.172,1373.83 613.499,1374.15 614.826,1374.62 616.154,1375.29 617.481,1376.02 618.808,1376.82 620.135,1377.75 \n",
       "  621.462,1378.69 622.79,1379.58 624.117,1380.42 625.444,1381.15 626.771,1381.73 628.098,1382.12 629.426,1382.29 630.753,1382.24 632.08,1381.97 633.407,1381.5 \n",
       "  634.734,1380.86 636.062,1380.09 637.389,1379.24 638.716,1378.35 640.043,1377.46 641.37,1376.62 642.698,1375.86 644.025,1375.2 645.352,1374.67 646.679,1374.27 \n",
       "  648.006,1374 649.334,1373.87 650.661,1373.9 651.988,1374.05 653.315,1374.32 654.642,1374.77 655.97,1375.35 657.297,1375.93 658.624,1376.68 659.951,1377.61 \n",
       "  661.278,1378.36 662.605,1379.13 663.933,1380.01 665.26,1380.68 666.587,1381.15 667.914,1381.61 669.241,1381.84 670.569,1381.79 671.896,1381.67 673.223,1381.31 \n",
       "  674.55,1380.56 675.877,1379.98 677.205,1379.52 678.532,1378.47 679.859,1377.52 681.186,1377 682.513,1376.21 683.841,1375.41 685.168,1375.07 686.495,1374.7 \n",
       "  687.822,1374.31 689.149,1374.19 690.477,1374.22 691.804,1374.26 693.131,1374.51 694.458,1374.93 695.785,1375.37 697.113,1375.93 698.44,1376.63 699.767,1377.31 \n",
       "  701.094,1378.04 702.421,1378.86 703.749,1379.59 705.076,1380.19 706.403,1380.75 707.73,1381.15 709.057,1381.34 710.384,1381.39 711.712,1381.27 713.039,1380.91 \n",
       "  714.366,1380.49 715.693,1380.01 717.02,1379.24 718.348,1378.44 719.675,1377.98 721.002,1377.11 722.329,1376.28 723.656,1375.92 724.984,1375.41 726.311,1374.82 \n",
       "  727.638,1374.67 728.965,1374.58 730.292,1374.44 731.62,1374.52 732.947,1374.71 734.274,1375.02 735.601,1375.44 736.928,1375.96 738.256,1376.55 739.583,1377.2 \n",
       "  740.91,1377.89 742.237,1378.58 743.564,1379.24 744.892,1379.84 746.219,1380.34 747.546,1380.72 748.873,1380.95 750.2,1381.03 751.528,1380.95 752.855,1380.71 \n",
       "  754.182,1380.34 755.509,1379.84 756.836,1379.25 758.164,1378.62 759.491,1377.96 760.818,1377.29 762.145,1376.68 763.472,1376.13 764.799,1375.61 766.127,1375.22 \n",
       "  767.454,1375 768.781,1374.77 770.108,1374.61 771.435,1374.82 772.763,1374.99 774.09,1374.94 775.417,1375.52 776.744,1376.14 778.071,1376.39 779.399,1377.02 \n",
       "  780.726,1377.85 782.053,1378.3 783.38,1378.94 784.707,1379.49 786.035,1379.97 787.362,1380.34 788.689,1380.59 790.016,1380.69 791.343,1380.65 792.671,1380.47 \n",
       "  793.998,1380.16 795.325,1379.74 796.652,1379.23 797.979,1378.66 799.307,1378.06 800.634,1377.46 801.961,1376.89 803.288,1376.36 804.615,1375.89 805.943,1375.51 \n",
       "  807.27,1375.22 808.597,1375.03 809.924,1374.94 811.251,1374.96 812.578,1375.08 813.906,1375.29 815.233,1375.61 816.56,1376.02 817.887,1376.46 819.214,1376.98 \n",
       "  820.542,1377.59 821.869,1378.12 823.196,1378.61 824.523,1379.19 825.85,1379.67 827.178,1379.97 828.505,1380.24 829.832,1380.4 831.159,1380.36 832.486,1380.22 \n",
       "  833.814,1379.99 835.141,1379.58 836.468,1379.16 837.795,1378.77 839.122,1378.13 840.45,1377.47 841.777,1377.07 843.104,1376.62 844.431,1376.07 845.758,1375.76 \n",
       "  847.086,1375.53 848.413,1375.25 849.74,1375.15 851.067,1375.18 852.394,1375.25 853.722,1375.42 855.049,1375.71 856.376,1376.05 857.703,1376.45 859.03,1376.93 \n",
       "  860.357,1377.44 861.685,1377.94 863.012,1378.46 864.339,1378.94 865.666,1379.35 866.993,1379.69 868.321,1379.95 869.648,1380.09 870.975,1380.11 872.302,1380.03 \n",
       "  873.629,1379.82 874.957,1379.51 876.284,1379.15 877.611,1378.7 878.938,1378.18 880.265,1377.72 881.593,1377.27 882.92,1376.7 884.247,1376.35 885.574,1376.05 \n",
       "  886.901,1375.68 888.229,1375.48 889.556,1375.44 890.883,1375.36 892.21,1375.39 893.537,1375.58 894.865,1375.79 896.192,1376.07 897.519,1376.47 898.846,1376.89 \n",
       "  900.173,1377.31 901.501,1377.8 902.828,1378.28 904.155,1378.7 905.482,1379.1 906.809,1379.43 908.137,1379.67 909.464,1379.83 910.791,1379.87 912.118,1379.82 \n",
       "  913.445,1379.66 914.772,1379.4 916.1,1379.07 917.427,1378.68 918.754,1378.25 920.081,1377.8 921.408,1377.35 922.736,1376.93 924.063,1376.54 925.39,1376.2 \n",
       "  926.717,1375.92 928.044,1375.72 929.372,1375.59 930.699,1375.54 932.026,1375.58 933.353,1375.7 934.68,1375.88 936.008,1376.14 937.335,1376.47 938.662,1376.83 \n",
       "  939.989,1377.24 941.316,1377.68 942.644,1378.09 943.971,1378.48 945.298,1378.87 946.625,1379.19 947.952,1379.42 949.28,1379.58 950.607,1379.66 951.934,1379.61 \n",
       "  953.261,1379.49 954.588,1379.29 955.916,1378.99 957.243,1378.66 958.57,1378.31 959.897,1377.87 961.224,1377.43 962.551,1377.12 963.879,1376.71 965.206,1376.34 \n",
       "  966.533,1376.15 967.86,1375.94 969.187,1375.74 970.515,1375.73 971.842,1375.77 973.169,1375.8 974.496,1375.97 975.823,1376.24 977.151,1376.48 978.478,1376.8 \n",
       "  979.805,1377.19 981.132,1377.57 982.459,1377.94 983.787,1378.33 985.114,1378.68 986.441,1378.96 987.768,1379.2 989.095,1379.37 990.423,1379.44 991.75,1379.44 \n",
       "  993.077,1379.36 994.404,1379.16 995.731,1378.91 997.059,1378.67 998.386,1378.31 999.713,1377.86 1001.04,1377.56 1002.37,1377.24 1003.69,1376.82 1005.02,1376.54 \n",
       "  1006.35,1376.34 1007.68,1376.08 1009,1375.94 1010.33,1375.9 1011.66,1375.88 1012.98,1375.94 1014.31,1376.09 1015.64,1376.28 1016.97,1376.51 1018.29,1376.81 \n",
       "  1019.62,1377.14 1020.95,1377.48 1022.28,1377.84 1023.6,1378.2 1024.93,1378.47 1026.26,1378.76 1027.58,1379.05 1028.91,1379.15 1030.24,1379.17 1031.57,1379.26 \n",
       "  1032.89,1379.22 1034.22,1379.03 1035.55,1378.86 1036.87,1378.63 1038.2,1378.28 1039.53,1377.96 1040.86,1377.65 1042.18,1377.31 1043.51,1376.99 1044.84,1376.71 \n",
       "  1046.16,1376.46 1047.49,1376.26 1048.82,1376.12 1050.15,1376.05 1051.47,1376.01 1052.8,1376.07 1054.13,1376.18 1055.46,1376.31 1056.78,1376.55 1058.11,1376.86 \n",
       "  1059.44,1377.09 1060.76,1377.41 1062.09,1377.76 1063.42,1378.04 1064.75,1378.32 1066.07,1378.62 1067.4,1378.82 1068.73,1378.98 1070.05,1379.08 1071.38,1379.11 \n",
       "  1072.71,1379.07 1074.04,1378.96 1075.36,1378.79 1076.69,1378.56 1078.02,1378.3 1079.34,1378.01 1080.67,1377.71 1082,1377.4 1083.33,1377.11 1084.65,1376.84 \n",
       "  1085.98,1376.6 1087.31,1376.41 1088.63,1376.27 1089.96,1376.18 1091.29,1376.15 1092.62,1376.18 1093.94,1376.26 1095.27,1376.4 1096.6,1376.59 1097.93,1376.81 \n",
       "  1099.25,1377.07 1100.58,1377.36 1101.91,1377.64 1103.23,1377.93 1104.56,1378.22 1105.89,1378.45 1107.22,1378.66 1108.54,1378.85 1109.87,1378.92 1111.2,1378.91 \n",
       "  1112.52,1378.97 1113.85,1378.9 1115.18,1378.6 1116.51,1378.52 1117.83,1378.38 1119.16,1377.98 1120.49,1377.72 1121.81,1377.55 1123.14,1377.19 1124.47,1376.96 \n",
       "  1125.8,1376.74 1127.12,1376.55 1128.45,1376.41 1129.78,1376.32 1131.11,1376.28 1132.43,1376.29 1133.76,1376.35 1135.09,1376.47 1136.41,1376.63 1137.74,1376.83 \n",
       "  1139.07,1377.05 1140.4,1377.31 1141.72,1377.57 1143.05,1377.83 1144.38,1378.09 1145.7,1378.32 1147.03,1378.51 1148.36,1378.67 1149.69,1378.77 1151.01,1378.82 \n",
       "  1152.34,1378.82 1153.67,1378.76 1154.99,1378.64 1156.32,1378.47 1157.65,1378.28 1158.98,1378.04 1160.3,1377.8 1161.63,1377.57 1162.96,1377.29 1164.29,1377.03 \n",
       "  1165.61,1376.88 1166.94,1376.68 1168.27,1376.5 1169.59,1376.46 1170.92,1376.41 1172.25,1376.37 1173.58,1376.44 1174.9,1376.56 1176.23,1376.66 1177.56,1376.86 \n",
       "  1178.88,1377.09 1180.21,1377.26 1181.54,1377.51 1182.87,1377.78 1184.19,1377.97 1185.52,1378.18 1186.85,1378.4 1188.17,1378.53 1189.5,1378.64 1190.83,1378.7 \n",
       "  1192.16,1378.71 1193.48,1378.66 1194.81,1378.57 1196.14,1378.43 1197.46,1378.26 1198.79,1378.06 1200.12,1377.84 1201.45,1377.61 1202.77,1377.38 1204.1,1377.16 \n",
       "  1205.43,1376.96 1206.76,1376.79 1208.08,1376.65 1209.41,1376.56 1210.74,1376.5 1212.06,1376.49 1213.39,1376.52 1214.72,1376.59 1216.05,1376.71 1217.37,1376.86 \n",
       "  1218.7,1377.03 1220.03,1377.24 1221.35,1377.45 1222.68,1377.67 1224.01,1377.89 1225.34,1378.09 1226.66,1378.26 1227.99,1378.41 1229.32,1378.52 1230.64,1378.58 \n",
       "  1231.97,1378.6 1233.3,1378.57 1234.63,1378.5 1235.95,1378.39 1237.28,1378.24 1238.61,1378.06 1239.94,1377.86 1241.26,1377.65 1242.59,1377.45 1243.92,1377.25 \n",
       "  1245.24,1377.06 1246.57,1376.91 1247.9,1376.77 1249.23,1376.64 1250.55,1376.61 1251.88,1376.62 1253.21,1376.54 1254.53,1376.64 1255.86,1376.87 1257.19,1376.88 \n",
       "  1258.52,1376.97 1259.84,1377.27 1261.17,1377.43 1262.5,1377.54 1263.82,1377.83 1265.15,1377.99 1266.48,1378.16 1267.81,1378.3 1269.13,1378.41 1270.46,1378.48 \n",
       "  1271.79,1378.5 1273.12,1378.49 1274.44,1378.43 1275.77,1378.34 1277.1,1378.21 1278.42,1378.05 1279.75,1377.88 1281.08,1377.69 1282.41,1377.5 1283.73,1377.31 \n",
       "  1285.06,1377.14 1286.39,1376.99 1287.71,1376.86 1289.04,1376.76 1290.37,1376.69 1291.7,1376.67 1293.02,1376.67 1294.35,1376.72 1295.68,1376.8 1297,1376.91 \n",
       "  1298.33,1377.05 1299.66,1377.21 1300.99,1377.38 1302.31,1377.56 1303.64,1377.74 1304.97,1377.91 1306.29,1378.07 1307.62,1378.2 1308.95,1378.31 1310.28,1378.37 \n",
       "  1311.6,1378.41 1312.93,1378.41 1314.26,1378.36 1315.59,1378.28 1316.91,1378.18 1318.24,1378.02 1319.57,1377.88 1320.89,1377.75 1322.22,1377.54 1323.55,1377.33 \n",
       "  1324.88,1377.21 1326.2,1377.08 1327.53,1376.92 1328.86,1376.85 1330.18,1376.8 1331.51,1376.74 1332.84,1376.74 1334.17,1376.79 1335.49,1376.84 1336.82,1376.93 \n",
       "  1338.15,1377.06 1339.47,1377.2 1340.8,1377.35 1342.13,1377.52 1343.46,1377.68 1344.78,1377.84 1346.11,1378 1347.44,1378.12 1348.77,1378.21 1350.09,1378.31 \n",
       "  1351.42,1378.33 1352.75,1378.29 1354.07,1378.33 1355.4,1378.28 1356.73,1378.06 1358.06,1378.03 1359.38,1377.96 1360.71,1377.7 1362.04,1377.55 1363.36,1377.49 \n",
       "  1364.69,1377.26 1366.02,1377.1 1367.35,1377.02 1368.67,1376.93 1370,1376.86 1371.33,1376.82 1372.65,1376.81 1373.98,1376.84 1375.31,1376.89 1376.64,1376.97 \n",
       "  1377.96,1377.07 1379.29,1377.2 1380.62,1377.34 1381.94,1377.48 1383.27,1377.63 1384.6,1377.78 1385.93,1377.92 1387.25,1378.04 1388.58,1378.13 1389.91,1378.21 \n",
       "  1391.24,1378.25 1392.56,1378.26 1393.89,1378.24 1395.22,1378.19 1396.54,1378.11 1397.87,1378.01 1399.2,1377.89 1400.53,1377.76 1401.85,1377.61 1403.18,1377.47 \n",
       "  1404.51,1377.34 1405.83,1377.21 1407.16,1377.09 1408.49,1377.01 1409.82,1376.94 1411.14,1376.89 1412.47,1376.88 1413.8,1376.9 1415.12,1376.93 1416.45,1377 \n",
       "  1417.78,1377.09 1419.11,1377.18 1420.43,1377.33 1421.76,1377.49 1423.09,1377.59 1424.42,1377.73 1425.74,1377.87 1427.07,1377.96 1428.4,1378.05 1429.72,1378.14 \n",
       "  1431.05,1378.18 1432.38,1378.18 1433.71,1378.19 1435.03,1378.15 1436.36,1378.08 1437.69,1378.01 1439.01,1377.9 1440.34,1377.73 1441.67,1377.64 1443,1377.53 \n",
       "  1444.32,1377.36 1445.65,1377.25 1446.98,1377.18 1448.3,1377.06 1449.63,1377 1450.96,1376.96 1452.29,1376.94 1453.61,1376.95 1454.94,1376.98 1456.27,1377.03 \n",
       "  1457.6,1377.11 1458.92,1377.21 1460.25,1377.32 1461.58,1377.44 1462.9,1377.56 1464.23,1377.68 1465.56,1377.8 1466.89,1377.9 1468.21,1377.99 1469.54,1378.06 \n",
       "  1470.87,1378.11 1472.19,1378.13 1473.52,1378.13 1474.85,1378.1 1476.18,1378.05 1477.5,1377.97 1478.83,1377.88 1480.16,1377.77 1481.48,1377.66 1482.81,1377.54 \n",
       "  1484.14,1377.42 1485.47,1377.31 1486.79,1377.22 1488.12,1377.13 1489.45,1377.05 1490.77,1377.03 1492.1,1377 1493.43,1376.96 1494.76,1377.02 1496.08,1377.07 \n",
       "  1497.41,1377.13 1498.74,1377.21 1500.07,1377.31 1501.39,1377.42 1502.72,1377.53 1504.05,1377.64 1505.37,1377.75 1506.7,1377.85 1508.03,1377.94 1509.36,1378 \n",
       "  1510.68,1378.05 1512.01,1378.08 1513.34,1378.08 1514.66,1378.06 1515.99,1378.01 1517.32,1377.95 1518.65,1377.87 1519.97,1377.78 1521.3,1377.67 1522.63,1377.57 \n",
       "  1523.95,1377.46 1525.28,1377.36 1526.61,1377.26 1527.94,1377.18 1529.26,1377.12 1530.59,1377.07 1531.92,1377.05 1533.25,1377.04 1534.57,1377.06 1535.9,1377.1 \n",
       "  1537.23,1377.15 1538.55,1377.23 1539.88,1377.32 1541.21,1377.4 1542.54,1377.5 1543.86,1377.61 1545.19,1377.7 1546.52,1377.8 1547.84,1377.88 1549.17,1377.95 \n",
       "  1550.5,1377.99 1551.83,1378.03 1553.15,1378.03 1554.48,1378.01 1555.81,1377.98 1557.13,1377.93 1558.46,1377.85 1559.79,1377.78 1561.12,1377.69 1562.44,1377.58 \n",
       "  1563.77,1377.48 1565.1,1377.4 1566.43,1377.31 1567.75,1377.23 1569.08,1377.17 1570.41,1377.12 1571.73,1377.09 1573.06,1377.09 1574.39,1377.1 1575.72,1377.12 \n",
       "  1577.04,1377.17 1578.37,1377.24 1579.7,1377.29 1581.02,1377.39 1582.35,1377.49 1583.68,1377.57 1585.01,1377.67 1586.33,1377.77 1587.66,1377.83 1588.99,1377.89 \n",
       "  1590.31,1377.95 1591.64,1377.97 1592.97,1377.98 1594.3,1377.98 1595.62,1377.94 1596.95,1377.9 1598.28,1377.86 1599.6,1377.78 1600.93,1377.66 1602.26,1377.6 \n",
       "  1603.59,1377.52 1604.91,1377.41 1606.24,1377.35 1607.57,1377.29 1608.9,1377.2 1610.22,1377.17 1611.55,1377.14 1612.88,1377.13 1614.2,1377.13 1615.53,1377.15 \n",
       "  1616.86,1377.19 1618.19,1377.25 1619.51,1377.31 1620.84,1377.39 1622.17,1377.47 1623.49,1377.56 1624.82,1377.64 1626.15,1377.72 1627.48,1377.79 1628.8,1377.85 \n",
       "  1630.13,1377.9 1631.46,1377.93 1632.78,1377.94 1634.11,1377.94 1635.44,1377.92 1636.77,1377.88 1638.09,1377.83 1639.42,1377.77 1640.75,1377.7 1642.08,1377.62 \n",
       "  1643.4,1377.54 1644.73,1377.46 1646.06,1377.38 1647.38,1377.32 1648.71,1377.26 1650.04,1377.2 1651.37,1377.19 1652.69,1377.18 1654.02,1377.16 1655.35,1377.19 \n",
       "  1656.67,1377.23 1658,1377.25 1659.33,1377.3 1660.66,1377.43 1661.98,1377.46 1663.31,1377.51 1664.64,1377.63 1665.96,1377.7 1667.29,1377.73 1668.62,1377.82 \n",
       "  1669.95,1377.86 1671.27,1377.89 1672.6,1377.91 1673.93,1377.91 1675.26,1377.89 1676.58,1377.86 1677.91,1377.82 1679.24,1377.76 1680.56,1377.7 1681.89,1377.63 \n",
       "  1683.22,1377.56 1684.55,1377.48 1685.87,1377.41 1687.2,1377.35 1688.53,1377.29 1689.85,1377.25 1691.18,1377.22 1692.51,1377.2 1693.84,1377.2 1695.16,1377.21 \n",
       "  1696.49,1377.23 1697.82,1377.27 1699.14,1377.32 1700.47,1377.38 1701.8,1377.45 1703.13,1377.52 1704.45,1377.59 1705.78,1377.66 1707.11,1377.72 1708.43,1377.77 \n",
       "  1709.76,1377.82 1711.09,1377.85 1712.42,1377.87 1713.74,1377.88 1715.07,1377.87 1716.4,1377.84 1717.73,1377.81 1719.05,1377.76 1720.38,1377.7 1721.71,1377.64 \n",
       "  1723.03,1377.58 1724.36,1377.51 1725.69,1377.43 1727.02,1377.38 1728.34,1377.33 1729.67,1377.28 1731,1377.25 1732.32,1377.24 1733.65,1377.23 1734.98,1377.23 \n",
       "  1736.31,1377.26 1737.63,1377.29 1738.96,1377.33 1740.29,1377.4 1741.61,1377.45 1742.94,1377.5 1744.27,1377.58 1745.6,1377.63 1746.92,1377.68 1748.25,1377.74 \n",
       "  1749.58,1377.78 1750.91,1377.82 1752.23,1377.84 1753.56,1377.85 1754.89,1377.84 1756.21,1377.82 1757.54,1377.79 1758.87,1377.75 1760.2,1377.7 1761.52,1377.64 \n",
       "  1762.85,1377.58 1764.18,1377.52 1765.5,1377.46 1766.83,1377.41 1768.16,1377.36 1769.49,1377.32 1770.81,1377.29 1772.14,1377.26 1773.47,1377.26 1774.79,1377.26 \n",
       "  1776.12,1377.28 1777.45,1377.3 1778.78,1377.34 1780.1,1377.39 1781.43,1377.44 1782.76,1377.49 1784.08,1377.55 1785.41,1377.61 1786.74,1377.66 1788.07,1377.71 \n",
       "  1789.39,1377.76 1790.72,1377.78 1792.05,1377.8 1793.38,1377.82 1794.7,1377.82 1796.03,1377.79 1797.36,1377.78 1798.68,1377.75 1800.01,1377.7 1801.34,1377.65 \n",
       "  1802.67,1377.6 1803.99,1377.54 1805.32,1377.48 1806.65,1377.44 1807.97,1377.39 1809.3,1377.34 1810.63,1377.33 1811.96,1377.3 1813.28,1377.28 1814.61,1377.29 \n",
       "  1815.94,1377.3 1817.26,1377.31 1818.59,1377.35 1819.92,1377.39 1821.25,1377.43 1822.57,1377.49 1823.9,1377.54 1825.23,1377.58 1826.56,1377.64 1827.88,1377.69 \n",
       "  1829.21,1377.72 1830.54,1377.76 1831.86,1377.78 1833.19,1377.79 1834.52,1377.79 1835.85,1377.79 1837.17,1377.76 1838.5,1377.73 1839.83,1377.7 1841.15,1377.65 \n",
       "  1842.48,1377.6 1843.81,1377.55 1845.14,1377.5 1846.46,1377.45 1847.79,1377.41 1849.12,1377.37 1850.44,1377.34 1851.77,1377.32 1853.1,1377.31 1854.43,1377.31 \n",
       "  1855.75,1377.31 1857.08,1377.33 1858.41,1377.36 1859.74,1377.39 1861.06,1377.43 1862.39,1377.48 1863.72,1377.53 1865.04,1377.57 1866.37,1377.62 1867.7,1377.66 \n",
       "  1869.03,1377.7 1870.35,1377.73 1871.68,1377.75 1873.01,1377.77 1874.33,1377.77 1875.66,1377.76 1876.99,1377.75 1878.32,1377.72 1879.64,1377.69 1880.97,1377.65 \n",
       "  1882.3,1377.61 1883.62,1377.56 1884.95,1377.52 1886.28,1377.47 1887.61,1377.43 1888.93,1377.4 1890.26,1377.37 1891.59,1377.34 1892.91,1377.33 1894.24,1377.33 \n",
       "  1895.57,1377.33 1896.9,1377.35 1898.22,1377.37 1899.55,1377.4 1900.88,1377.43 1902.21,1377.48 1903.53,1377.52 1904.86,1377.56 1906.19,1377.61 1907.51,1377.64 \n",
       "  1908.84,1377.68 1910.17,1377.71 1911.5,1377.73 1912.82,1377.74 1914.15,1377.75 1915.48,1377.74 1916.8,1377.73 1918.13,1377.71 1919.46,1377.68 1920.79,1377.65 \n",
       "  1922.11,1377.61 1923.44,1377.57 1924.77,1377.53 1926.09,1377.49 1927.42,1377.45 1928.75,1377.41 1930.08,1377.39 1931.4,1377.37 1932.73,1377.35 1934.06,1377.35 \n",
       "  1935.39,1377.35 1936.71,1377.36 1938.04,1377.38 1939.37,1377.4 1940.69,1377.44 1942.02,1377.47 1943.35,1377.51 1944.68,1377.55 1946,1377.59 1947.33,1377.63 \n",
       "  1948.66,1377.66 1949.98,1377.69 1951.31,1377.71 1952.64,1377.72 1953.97,1377.72 1955.29,1377.73 1956.62,1377.73 1957.95,1377.7 1959.27,1377.67 1960.6,1377.65 \n",
       "  1961.93,1377.61 1963.26,1377.57 1964.58,1377.54 1965.91,1377.5 1967.24,1377.46 1968.57,1377.43 1969.89,1377.41 1971.22,1377.39 1972.55,1377.37 1973.87,1377.36 \n",
       "  1975.2,1377.36 1976.53,1377.37 1977.86,1377.39 1979.18,1377.41 1980.51,1377.44 1981.84,1377.47 1983.16,1377.5 1984.49,1377.54 1985.82,1377.58 1987.15,1377.61 \n",
       "  1988.47,1377.64 1989.8,1377.67 1991.13,1377.69 1992.45,1377.7 1993.78,1377.71 1995.11,1377.71 1996.44,1377.7 1997.76,1377.69 1999.09,1377.67 2000.42,1377.64 \n",
       "  2001.74,1377.61 2003.07,1377.58 2004.4,1377.55 2005.73,1377.51 2007.05,1377.48 2008.38,1377.45 2009.71,1377.43 2011.04,1377.41 2012.36,1377.38 2013.69,1377.38 \n",
       "  2015.02,1377.39 2016.34,1377.39 2017.67,1377.39 2019,1377.42 2020.33,1377.44 2021.65,1377.46 2022.98,1377.5 2024.31,1377.54 2025.63,1377.55 2026.96,1377.59 \n",
       "  2028.29,1377.63 2029.62,1377.65 2030.94,1377.67 2032.27,1377.69 2033.6,1377.69 2034.92,1377.7 2036.25,1377.7 2037.58,1377.68 2038.91,1377.66 2040.23,1377.64 \n",
       "  2041.56,1377.61 2042.89,1377.58 2044.22,1377.56 2045.54,1377.52 2046.87,1377.49 2048.2,1377.47 2049.52,1377.44 2050.85,1377.42 2052.18,1377.41 2053.51,1377.4 \n",
       "  2054.83,1377.39 2056.16,1377.4 2057.49,1377.41 2058.81,1377.42 2060.14,1377.44 2061.47,1377.48 2062.8,1377.49 2064.12,1377.52 2065.45,1377.56 2066.78,1377.59 \n",
       "  2068.1,1377.61 2069.43,1377.64 2070.76,1377.66 2072.09,1377.67 2073.41,1377.68 2074.74,1377.68 2076.07,1377.68 2077.39,1377.67 2078.72,1377.66 2080.05,1377.64 \n",
       "  2081.38,1377.61 2082.7,1377.59 2084.03,1377.56 2085.36,1377.53 2086.69,1377.5 2088.01,1377.48 2089.34,1377.45 2090.67,1377.43 2091.99,1377.42 2093.32,1377.41 \n",
       "  2094.65,1377.41 2095.98,1377.41 2097.3,1377.42 2098.63,1377.43 2099.96,1377.45 2101.28,1377.47 2102.61,1377.49 2103.94,1377.52 2105.27,1377.55 2106.59,1377.57 \n",
       "  2107.92,1377.6 2109.25,1377.62 2110.57,1377.64 2111.9,1377.65 2113.23,1377.67 2114.56,1377.67 2115.88,1377.66 2117.21,1377.66 2118.54,1377.66 2119.87,1377.62 \n",
       "  2121.19,1377.61 2122.52,1377.59 2123.85,1377.56 2125.17,1377.54 2126.5,1377.52 2127.83,1377.49 2129.16,1377.47 2130.48,1377.45 2131.81,1377.43 2133.14,1377.42 \n",
       "  2134.46,1377.42 2135.79,1377.42 2137.12,1377.43 2138.45,1377.44 2139.77,1377.45 2141.1,1377.47 2142.43,1377.49 2143.75,1377.52 2145.08,1377.54 2146.41,1377.57 \n",
       "  2147.74,1377.59 2149.06,1377.61 2150.39,1377.63 2151.72,1377.64 2153.05,1377.65 2154.37,1377.66 2155.7,1377.66 2157.03,1377.65 2158.35,1377.64 2159.68,1377.63 \n",
       "  2161.01,1377.61 2162.34,1377.59 2163.66,1377.57 2164.99,1377.54 2166.32,1377.52 2167.64,1377.5 2168.97,1377.48 2170.3,1377.46 2171.63,1377.45 2172.95,1377.43 \n",
       "  2174.28,1377.43 2175.61,1377.44 2176.93,1377.44 2178.26,1377.44 2179.59,1377.46 2180.92,1377.47 2182.24,1377.49 2183.57,1377.52 2184.9,1377.54 2186.22,1377.55 \n",
       "  2187.55,1377.58 2188.88,1377.61 2190.21,1377.61 2191.53,1377.63 2192.86,1377.65 2194.19,1377.65 2195.52,1377.64 2196.84,1377.64 2198.17,1377.64 2199.5,1377.62 \n",
       "  2200.82,1377.61 2202.15,1377.59 2203.48,1377.57 2204.81,1377.55 2206.13,1377.53 2207.46,1377.51 2208.79,1377.49 2210.11,1377.47 2211.44,1377.46 2212.77,1377.45 \n",
       "  2214.1,1377.44 2215.42,1377.44 2216.75,1377.44 2218.08,1377.45 2219.4,1377.46 2220.73,1377.48 2222.06,1377.49 2223.39,1377.51 2224.71,1377.53 2226.04,1377.55 \n",
       "  2227.37,1377.57 2228.7,1377.59 2230.02,1377.61 2231.35,1377.62 2232.68,1377.63 2234,1377.64 2235.33,1377.64 2236.66,1377.64 2237.99,1377.63 2239.31,1377.62 \n",
       "  2240.64,1377.61 2241.97,1377.59 2243.29,1377.57 2244.62,1377.55 2245.95,1377.54 2247.28,1377.51 2248.6,1377.5 2249.93,1377.48 2251.26,1377.47 2252.58,1377.46 \n",
       "  2253.91,1377.46 2255.24,1377.45 2256.57,1377.45 2257.89,1377.46 2259.22,1377.47 2260.55,1377.48 2261.88,1377.49 2263.2,1377.51 2264.53,1377.53 2265.86,1377.55 \n",
       "  2267.18,1377.57 2268.51,1377.58 2269.84,1377.6 2271.17,1377.61 2272.49,1377.62 2273.82,1377.63 2275.15,1377.63 2276.47,1377.63 2277.8,1377.62 2279.13,1377.62 \n",
       "  2280.46,1377.6 2281.78,1377.59 2283.11,1377.57 2284.44,1377.56 2285.76,1377.54 2287.09,1377.52 2288.42,1377.5 2289.75,1377.49 2291.07,1377.48 2292.4,1377.47 \n",
       "  2293.03,1377.46 \n",
       "  \"/>\n",
       "<path clip-path=\"url(#clip5600)\" d=\"\n",
       "M1955.13 251.724 L2280.76 251.724 L2280.76 130.764 L1955.13 130.764  Z\n",
       "  \" fill=\"#ffffff\" fill-rule=\"evenodd\" fill-opacity=\"1\"/>\n",
       "<polyline clip-path=\"url(#clip5600)\" style=\"stroke:#000000; stroke-width:4; stroke-opacity:1; fill:none\" points=\"\n",
       "  1955.13,251.724 2280.76,251.724 2280.76,130.764 1955.13,130.764 1955.13,251.724 \n",
       "  \"/>\n",
       "<polyline clip-path=\"url(#clip5600)\" style=\"stroke:#009af9; stroke-width:4; stroke-opacity:1; fill:none\" points=\"\n",
       "  1979.13,191.244 2123.13,191.244 \n",
       "  \"/>\n",
       "<g clip-path=\"url(#clip5600)\">\n",
       "<text style=\"fill:#000000; fill-opacity:1; font-family:Arial,Helvetica Neue,Helvetica,sans-serif; font-size:48px; text-anchor:start;\" transform=\"rotate(0, 2147.13, 208.744)\" x=\"2147.13\" y=\"208.744\">V_2</text>\n",
       "</g>\n",
       "</svg>\n"
      ]
     },
     "execution_count": 17,
     "metadata": {},
     "output_type": "execute_result"
    }
   ],
   "source": [
    "volt = get_voltagemag_series(sim, 2)\n",
    "plot(volt, xlabel=\"time\", ylabel=\"Voltage [pu]\", label=\"V_2\")"
   ]
  },
  {
   "cell_type": "markdown",
   "metadata": {},
   "source": [
    "## Optional: Small Signal Analysis\n",
    "\n",
    "`LITS 0.3.0` uses automatic differentiation to compute the reduced Jacobian of the system for the differential states. This can be used to analyze the eigenvalues of the linearized system."
   ]
  },
  {
   "cell_type": "code",
   "execution_count": 18,
   "metadata": {},
   "outputs": [
    {
     "data": {
      "text/plain": [
       "The system is small signal stable\n"
      ]
     },
     "execution_count": 18,
     "metadata": {},
     "output_type": "execute_result"
    }
   ],
   "source": [
    "small_sig = small_signal_analysis(sim)"
   ]
  },
  {
   "cell_type": "markdown",
   "metadata": {},
   "source": [
    "The `small_sig` result can report the reduced jacobian for $\\delta$ and $\\omega$, and can also be used to report the eigenvalues of the reduced linearized system."
   ]
  },
  {
   "cell_type": "code",
   "execution_count": 19,
   "metadata": {},
   "outputs": [
    {
     "data": {
      "text/plain": [
       "2×2 Array{Float64,2}:\n",
       "  0.0       376.991   \n",
       " -0.300708   -0.317662"
      ]
     },
     "execution_count": 19,
     "metadata": {},
     "output_type": "execute_result"
    }
   ],
   "source": [
    "small_sig.reduced_jacobian"
   ]
  },
  {
   "cell_type": "code",
   "execution_count": 20,
   "metadata": {},
   "outputs": [
    {
     "data": {
      "text/plain": [
       "2-element Array{Complex{Float64},1}:\n",
       " -0.15883100381194398 - 10.646085881059669im\n",
       " -0.15883100381194398 + 10.646085881059669im"
      ]
     },
     "execution_count": 20,
     "metadata": {},
     "output_type": "execute_result"
    }
   ],
   "source": [
    "small_sig.eigenvalues"
   ]
  },
  {
   "cell_type": "code",
   "execution_count": null,
   "metadata": {},
   "outputs": [],
   "source": []
  }
 ],
 "metadata": {
  "kernelspec": {
   "display_name": "Julia 1.3.1",
   "language": "julia",
   "name": "julia-1.3"
  },
  "language_info": {
   "file_extension": ".jl",
   "mimetype": "application/julia",
   "name": "julia",
   "version": "1.3.1"
  }
 },
 "nbformat": 4,
 "nbformat_minor": 2
}
