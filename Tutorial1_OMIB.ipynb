{
 "cells": [
  {
   "cell_type": "markdown",
   "metadata": {},
   "source": [
    "# Tutorial: One Machine against Infinite Bus (OMIB)\n",
    "\n",
    "This tutorial will introduce you to the functionality of `LITS` for running Power System Simulations.\n",
    "Note that this tutorial is for `LITS 0.4.0`. Current version already have a dedicated function to find an equilibrium point using a Power Flow method without relying in a guess of the initial condition.\n",
    "\n",
    "This tutorial presents a simulation of a two-bus system, with an infinite bus (represented as a voltage source behind an impedance) at bus 1 and a classic machine on bus 2. The perturbation will be the trip of one of the two circuits (doubling its resistance and impedance) of the line that connects both buses."
   ]
  },
  {
   "cell_type": "markdown",
   "metadata": {},
   "source": [
    "## Step 1: Package Initialization\n",
    "\n",
    "The first step consists in initialize all packages that will be used to run the simulation. All the necessary packages are listed:"
   ]
  },
  {
   "cell_type": "code",
   "execution_count": 4,
   "metadata": {},
   "outputs": [
    {
     "name": "stderr",
     "output_type": "stream",
     "text": [
      "┌ Info: Precompiling LITS [86b0dc02-7903-11e9-325f-f195ca7e6c1a]\n",
      "└ @ Base loading.jl:1260\n"
     ]
    },
    {
     "data": {
      "text/plain": [
       "PowerSystems"
      ]
     },
     "execution_count": 4,
     "metadata": {},
     "output_type": "execute_result"
    }
   ],
   "source": [
    "using LITS\n",
    "using PowerSystems\n",
    "using Sundials\n",
    "const PSY = PowerSystems"
   ]
  },
  {
   "cell_type": "markdown",
   "metadata": {},
   "source": [
    "`PowerSystems` is used to properly define the data structure, while `Sundials` is used to solve the problem defined in `LITS`. We used `PSY` to abbreviate the `PowerSystems.jl` package.\n",
    "\n",
    "## Step 2: Load the system\n",
    "\n",
    "We will load the system using the a RAW file:"
   ]
  },
  {
   "cell_type": "code",
   "execution_count": 5,
   "metadata": {},
   "outputs": [
    {
     "name": "stderr",
     "output_type": "stream",
     "text": [
      "┌ Info: The PSS(R)E parser currently supports buses, loads, shunts, generators, branches, transformers, and dc lines\n",
      "└ @ PowerSystems /Users/rhenriquez/.julia/packages/PowerSystems/3Pdts/src/parsers/pm_io/common.jl:26\n",
      "┌ Info: the voltage setpoint on generator 1 does not match the value at bus 102\n",
      "└ @ PowerSystems /Users/rhenriquez/.julia/packages/PowerSystems/3Pdts/src/parsers/pm_io/data.jl:1686\n",
      "┌ Info: Constructing System from Power Models\n",
      "│   data[\"name\"] = omib\n",
      "│   data[\"source_type\"] = pti\n",
      "└ @ PowerSystems /Users/rhenriquez/.julia/packages/PowerSystems/3Pdts/src/parsers/power_models_data.jl:39\n",
      "┌ Info: Reading bus data\n",
      "└ @ PowerSystems /Users/rhenriquez/.julia/packages/PowerSystems/3Pdts/src/parsers/power_models_data.jl:140\n",
      "┌ Info: Reading generator data\n",
      "└ @ PowerSystems /Users/rhenriquez/.julia/packages/PowerSystems/3Pdts/src/parsers/power_models_data.jl:418\n",
      "┌ Info: Reading branch data\n",
      "└ @ PowerSystems /Users/rhenriquez/.julia/packages/PowerSystems/3Pdts/src/parsers/power_models_data.jl:575\n",
      "┌ Warning: Rate provided for 1 is larger than the SIL Inf in the range of (min = 134.0, max = 145.0).\n",
      "└ @ PowerSystems /Users/rhenriquez/.julia/packages/PowerSystems/3Pdts/src/utils/IO/branchdata_checks.jl:151\n",
      "┌ Info: Reading branch data\n",
      "└ @ PowerSystems /Users/rhenriquez/.julia/packages/PowerSystems/3Pdts/src/parsers/power_models_data.jl:638\n",
      "┌ Info: Reading DC Line data\n",
      "└ @ PowerSystems /Users/rhenriquez/.julia/packages/PowerSystems/3Pdts/src/parsers/power_models_data.jl:609\n",
      "┌ Warning: There are no ElectricLoad Components in the System\n",
      "└ @ PowerSystems /Users/rhenriquez/.julia/packages/PowerSystems/3Pdts/src/utils/IO/system_checks.jl:56\n"
     ]
    }
   ],
   "source": [
    "omib_sys = System(\"Data/OMIB.raw\");"
   ]
  },
  {
   "cell_type": "markdown",
   "metadata": {},
   "source": [
    "Now, the RAW file only contains one generator at bus 2, so we will attach an infinite source at bus 1."
   ]
  },
  {
   "cell_type": "code",
   "execution_count": 6,
   "metadata": {},
   "outputs": [],
   "source": [
    "#Attach an infinite source at bus 1.\n",
    "function add_source_to_ref(sys::PSY.System)\n",
    "    for g in PSY.get_components(StaticInjection, sys)\n",
    "        isa(g, ElectricLoad) && continue\n",
    "        g.bus.bustype == BusTypes.REF &&\n",
    "            error(\"A device is already attached to the REF bus\")\n",
    "    end\n",
    "\n",
    "    #Find the Slack bus\n",
    "    slack_bus = [b for b in PSY.get_components(Bus, sys) if b.bustype == BusTypes.REF][1]\n",
    "    inf_source = Source(\n",
    "        name = \"InfBus\", #name\n",
    "        available = true, #availability\n",
    "        active_power = 0.0,\n",
    "        reactive_power = 0.0,\n",
    "        bus = slack_bus, #bus\n",
    "        R_th = 0.0,\n",
    "        X_th = 5e-6, #Xth\n",
    "    )\n",
    "    PSY.add_component!(sys, inf_source)\n",
    "    return\n",
    "end\n",
    "\n",
    "add_source_to_ref(omib_sys)"
   ]
  },
  {
   "cell_type": "markdown",
   "metadata": {},
   "source": [
    "Now we create the Dynamic Components that Define a Generator:"
   ]
  },
  {
   "cell_type": "code",
   "execution_count": 7,
   "metadata": {},
   "outputs": [
    {
     "data": {
      "text/plain": [
       "dyn_gen_classic (generic function with 1 method)"
      ]
     },
     "execution_count": 7,
     "metadata": {},
     "output_type": "execute_result"
    }
   ],
   "source": [
    "# Create the Dynamic Components\n",
    "#Machine\n",
    "machine_classic() = BaseMachine(\n",
    "    0.0, #R\n",
    "    0.2995, #Xd_p\n",
    "    0.7087, #eq_p\n",
    ")\n",
    "\n",
    "#Shaft\n",
    "shaft_damping() = SingleMass(\n",
    "    3.148, #H\n",
    "    2.0, #D\n",
    ")\n",
    "\n",
    "#AVR\n",
    "avr_none() = AVRFixed(0.0)\n",
    "#TG\n",
    "tg_none() = TGFixed(1.0) #efficiency\n",
    "#PSS\n",
    "pss_none() = PSSFixed(0.0)\n",
    "\n",
    "function dyn_gen_classic(generator)\n",
    "    return PSY.DynamicGenerator(\n",
    "        generator,\n",
    "        1.0, #ω_ref\n",
    "        machine_classic(), #machine\n",
    "        shaft_damping(), #shaft\n",
    "        avr_none(), #avr\n",
    "        tg_none(), #tg\n",
    "        pss_none(), #pss\n",
    "    ) \n",
    "end"
   ]
  },
  {
   "cell_type": "markdown",
   "metadata": {},
   "source": [
    "The function dyn_gen_classic receives a static generator, and creates the dynamic one based on such static model."
   ]
  },
  {
   "cell_type": "code",
   "execution_count": 8,
   "metadata": {},
   "outputs": [
    {
     "name": "stderr",
     "output_type": "stream",
     "text": [
      "┌ Warning: struct DynamicGenerator does not exist in validation configuration file, validation skipped\n",
      "└ @ InfrastructureSystems /Users/rhenriquez/.julia/packages/InfrastructureSystems/uXGZ2/src/validation.jl:55\n"
     ]
    }
   ],
   "source": [
    "#Collect the static gen in the system\n",
    "static_gen = get_component(Generator, omib_sys, \"generator-102-1\")\n",
    "#Creates the dynamic generator\n",
    "dyn_gen = dyn_gen_classic(static_gen)\n",
    "#Add the dynamic generator the system\n",
    "add_component!(omib_sys, dyn_gen);"
   ]
  },
  {
   "cell_type": "markdown",
   "metadata": {},
   "source": [
    "## Step 3: Build the simulation and initializing the problem\n",
    "\n",
    "The next step is to create the simulation structure. This will create the indexing of our system that will be used to formulate the differential-algebraic system of equations. To do so, it is required to specify the perturbation that will occur in the system. `LITS` support two types of perturbations:\n",
    "- Three Phase Fault\n",
    "- Change in Reference Parameter\n",
    "\n",
    "In here, he will use a Three Phase Fault, that is modeled by modifying the admittance matrix of the system. To do so we create a ThreePhaseFault perturbation as follows:"
   ]
  },
  {
   "cell_type": "code",
   "execution_count": 9,
   "metadata": {},
   "outputs": [
    {
     "name": "stderr",
     "output_type": "stream",
     "text": [
      "┌ Info: The System has no islands\n",
      "└ @ PowerSystems /Users/rhenriquez/.julia/packages/PowerSystems/3Pdts/src/utils/network_calculations/ybus_calculations.jl:139\n"
     ]
    },
    {
     "data": {
      "text/plain": [
       "ThreePhaseFault(1.0, \n",
       "  [1, 1]  =  0.0-10.0im\n",
       "  [2, 1]  =  0.0+10.0im\n",
       "  [1, 2]  =  0.0+10.0im\n",
       "  [2, 2]  =  0.0-10.0im)"
      ]
     },
     "execution_count": 9,
     "metadata": {},
     "output_type": "execute_result"
    }
   ],
   "source": [
    "#Compute the Y_bus after fault\n",
    "#Collect the branch of the system as:\n",
    "fault_branch = deepcopy(collect(get_components(Branch, omib_sys))[1])\n",
    "#Duplicates the impedance of the reactance\n",
    "fault_branch.x = fault_branch.x * 2\n",
    "#Obtain the new Ybus of the faulted system\n",
    "Ybus_fault = Ybus([fault_branch], get_components(Bus, omib_sys))[:, :]\n",
    "\n",
    "#Construct the perturbation\n",
    "perturbation_Ybus = ThreePhaseFault(\n",
    "    1.0, #change will occur at t = 1.0s\n",
    "    Ybus_fault, #new Ybus\n",
    ")"
   ]
  },
  {
   "cell_type": "markdown",
   "metadata": {},
   "source": [
    "With this, we are ready to create our simulation structure. To construct our simulation we use:"
   ]
  },
  {
   "cell_type": "code",
   "execution_count": 10,
   "metadata": {},
   "outputs": [
    {
     "name": "stderr",
     "output_type": "stream",
     "text": [
      "┌ Info: Serialized time series data to /var/folders/fz/6cnhcl5n2dggz6f6c_l54g740000gn/T/jl_zJUfuY/sys_time_series_storage.h5.\n",
      "└ @ InfrastructureSystems /Users/rhenriquez/.julia/packages/InfrastructureSystems/uXGZ2/src/time_series_storage.jl:53\n",
      "┌ Info: Serialized System to /var/folders/fz/6cnhcl5n2dggz6f6c_l54g740000gn/T/jl_zJUfuY/sys.json\n",
      "└ @ InfrastructureSystems /Users/rhenriquez/.julia/packages/InfrastructureSystems/uXGZ2/src/serialization.jl:8\n",
      "┌ Info: Loaded time series from storage file existing=sys_time_series_storage.h5 new=/var/folders/fz/6cnhcl5n2dggz6f6c_l54g740000gn/T/jl_L3zmfp\n",
      "└ @ InfrastructureSystems /Users/rhenriquez/.julia/packages/InfrastructureSystems/uXGZ2/src/hdf5_time_series_storage.jl:82\n",
      "┌ Warning: struct DynamicGenerator does not exist in validation configuration file, validation skipped\n",
      "└ @ InfrastructureSystems /Users/rhenriquez/.julia/packages/InfrastructureSystems/uXGZ2/src/validation.jl:55\n",
      "┌ Warning: There are no ElectricLoad Components in the System\n",
      "└ @ PowerSystems /Users/rhenriquez/.julia/packages/PowerSystems/3Pdts/src/utils/IO/system_checks.jl:56\n",
      "┌ Info: Unit System changed to DEVICE_BASE\n",
      "└ @ PowerSystems /Users/rhenriquez/.julia/packages/PowerSystems/3Pdts/src/base.jl:352\n",
      "┌ Info: The System has no islands\n",
      "└ @ PowerSystems /Users/rhenriquez/.julia/packages/PowerSystems/3Pdts/src/utils/network_calculations/ybus_calculations.jl:139\n",
      "┌ Info: Initializing Simulation States\n",
      "└ @ LITS /Users/rhenriquez/.julia/packages/LITS/sqdou/src/base/simulation.jl:37\n",
      "┌ Info: Unit System changed to SYSTEM_BASE\n",
      "└ @ PowerSystems /Users/rhenriquez/.julia/packages/PowerSystems/3Pdts/src/base.jl:352\n",
      "┌ Info: The System has no islands\n",
      "└ @ PowerSystems /Users/rhenriquez/.julia/packages/PowerSystems/3Pdts/src/utils/network_calculations/ybus_calculations.jl:139\n",
      "┌ Info: PowerFlow solve converged, the results have been stored in the system\n",
      "└ @ PowerSystems /Users/rhenriquez/.julia/packages/PowerSystems/3Pdts/src/utils/power_flow/power_flow.jl:307\n",
      "┌ Info: Unit System changed to DEVICE_BASE\n",
      "└ @ PowerSystems /Users/rhenriquez/.julia/packages/PowerSystems/3Pdts/src/base.jl:358\n"
     ]
    },
    {
     "data": {
      "text/plain": [
       "Simulation()\n"
      ]
     },
     "execution_count": 10,
     "metadata": {},
     "output_type": "execute_result"
    }
   ],
   "source": [
    "#Time span of our simulation\n",
    "tspan = (0.0, 30.0)\n",
    "\n",
    "#Define Simulation\n",
    "sim = Simulation(\n",
    "    pwd(), #Folder to save results\n",
    "    omib_sys, #system\n",
    "    tspan, #time span\n",
    "    perturbation_Ybus, #Type of perturbation\n",
    ")"
   ]
  },
  {
   "cell_type": "markdown",
   "metadata": {},
   "source": [
    "This will correctly initialize the system. It essentially will run a power flow and update `V_ref`, `P_ref` and hence `eq_p` (the internal voltage) to match the solution of the power flow. It will also initialize the states in the equilibrium. "
   ]
  },
  {
   "cell_type": "code",
   "execution_count": 11,
   "metadata": {},
   "outputs": [
    {
     "name": "stdout",
     "output_type": "stream",
     "text": [
      "Voltage Variables\n",
      "====================\n",
      "BUS 1       \n",
      "====================\n",
      "Vm 1.05\n",
      "θ -0.0\n",
      "====================\n",
      "BUS 2       \n",
      "====================\n",
      "Vm 1.04\n",
      "θ 0.0229\n",
      "====================\n",
      "====================\n",
      "Differential States\n",
      "generator-102-1\n",
      "====================\n",
      "δ 0.1685\n",
      "ω 1.0\n",
      "====================\n"
     ]
    },
    {
     "data": {
      "text/plain": [
       "Dict{String,Any} with 5 entries:\n",
       "  \"generator-102-1\" => Dict(:ω=>1.0,:δ=>0.168525)\n",
       "  \"V_R\"             => Dict(102=>1.03973,101=>1.05)\n",
       "  \"Vm\"              => Dict(102=>1.04,101=>1.05)\n",
       "  \"θ\"               => Dict(102=>0.0228958,101=>-1.27016e-19)\n",
       "  \"V_I\"             => Dict(102=>0.0238095,101=>-1.33367e-19)"
      ]
     },
     "execution_count": 11,
     "metadata": {},
     "output_type": "execute_result"
    }
   ],
   "source": [
    "#Will print the initial states. It also give the symbols used to describe those states.\n",
    "print_device_states(sim)\n",
    "#Will export a dictionary with the initial condition values to explore\n",
    "x0_init = get_initial_conditions(sim)"
   ]
  },
  {
   "cell_type": "markdown",
   "metadata": {},
   "source": [
    "## Step 4: Run the Simulation\n",
    "\n",
    "Finally, to run the simulation we simply use:"
   ]
  },
  {
   "cell_type": "code",
   "execution_count": 12,
   "metadata": {},
   "outputs": [],
   "source": [
    "#Solve problem\n",
    "run_simulation!(sim, #simulation structure\n",
    "                IDA(), #Sundials DAE Solver\n",
    "                dtmax=0.02); #Arguments: Maximum timestep allowed"
   ]
  },
  {
   "cell_type": "markdown",
   "metadata": {},
   "source": [
    "## Step 5: Exploring the solution\n",
    "\n",
    "After running the simulation, our simulation structure `sim` will have the solution. For that `sim.solution` can be used to explore the solution structure. In this case `sim.solution.t` returns the vector of time, while `sim.solution.u` return the array of states. In addition, `LITS` have two functions to obtain different states of the solution:\n",
    "\n",
    "- `get_state_series(sim, (\"generator-102-1\", :δ))`: can be used to obtain the solution as a tuple of time and the required state. In this case, we are obtaining the rotor angle `:δ` of the generator named `\"generator-102-1\"`.\n",
    "- `get_voltagemag_series(sim, 102)`: can be used to obtain the voltage magnitude as a tuple of time and voltage. In this case, we are obtaining the voltage magnitude at bus 102 (where the generator is located).\n"
   ]
  },
  {
   "cell_type": "code",
   "execution_count": 13,
   "metadata": {},
   "outputs": [
    {
     "name": "stderr",
     "output_type": "stream",
     "text": [
      "┌ Info: Precompiling Plots [91a5bcdd-55d7-5caf-9e0b-520d859cae80]\n",
      "└ @ Base loading.jl:1260\n"
     ]
    },
    {
     "data": {
      "image/svg+xml": [
       "<?xml version=\"1.0\" encoding=\"utf-8\"?>\n",
       "<svg xmlns=\"http://www.w3.org/2000/svg\" xmlns:xlink=\"http://www.w3.org/1999/xlink\" width=\"600\" height=\"400\" viewBox=\"0 0 2400 1600\">\n",
       "<defs>\n",
       "  <clipPath id=\"clip830\">\n",
       "    <rect x=\"0\" y=\"0\" width=\"2400\" height=\"1600\"/>\n",
       "  </clipPath>\n",
       "</defs>\n",
       "<path clip-path=\"url(#clip830)\" d=\"\n",
       "M0 1600 L2400 1600 L2400 0 L0 0  Z\n",
       "  \" fill=\"#ffffff\" fill-rule=\"evenodd\" fill-opacity=\"1\"/>\n",
       "<defs>\n",
       "  <clipPath id=\"clip831\">\n",
       "    <rect x=\"480\" y=\"0\" width=\"1681\" height=\"1600\"/>\n",
       "  </clipPath>\n",
       "</defs>\n",
       "<path clip-path=\"url(#clip830)\" d=\"\n",
       "M236.811 1423.18 L2352.76 1423.18 L2352.76 47.2441 L236.811 47.2441  Z\n",
       "  \" fill=\"#ffffff\" fill-rule=\"evenodd\" fill-opacity=\"1\"/>\n",
       "<defs>\n",
       "  <clipPath id=\"clip832\">\n",
       "    <rect x=\"236\" y=\"47\" width=\"2117\" height=\"1377\"/>\n",
       "  </clipPath>\n",
       "</defs>\n",
       "<polyline clip-path=\"url(#clip832)\" style=\"stroke:#000000; stroke-width:2; stroke-opacity:0.1; fill:none\" points=\"\n",
       "  296.696,1423.18 296.696,47.2441 \n",
       "  \"/>\n",
       "<polyline clip-path=\"url(#clip832)\" style=\"stroke:#000000; stroke-width:2; stroke-opacity:0.1; fill:none\" points=\"\n",
       "  962.087,1423.18 962.087,47.2441 \n",
       "  \"/>\n",
       "<polyline clip-path=\"url(#clip832)\" style=\"stroke:#000000; stroke-width:2; stroke-opacity:0.1; fill:none\" points=\"\n",
       "  1627.48,1423.18 1627.48,47.2441 \n",
       "  \"/>\n",
       "<polyline clip-path=\"url(#clip832)\" style=\"stroke:#000000; stroke-width:2; stroke-opacity:0.1; fill:none\" points=\"\n",
       "  2292.87,1423.18 2292.87,47.2441 \n",
       "  \"/>\n",
       "<polyline clip-path=\"url(#clip832)\" style=\"stroke:#000000; stroke-width:2; stroke-opacity:0.1; fill:none\" points=\"\n",
       "  236.811,1341.34 2352.76,1341.34 \n",
       "  \"/>\n",
       "<polyline clip-path=\"url(#clip832)\" style=\"stroke:#000000; stroke-width:2; stroke-opacity:0.1; fill:none\" points=\"\n",
       "  236.811,1050.54 2352.76,1050.54 \n",
       "  \"/>\n",
       "<polyline clip-path=\"url(#clip832)\" style=\"stroke:#000000; stroke-width:2; stroke-opacity:0.1; fill:none\" points=\"\n",
       "  236.811,759.737 2352.76,759.737 \n",
       "  \"/>\n",
       "<polyline clip-path=\"url(#clip832)\" style=\"stroke:#000000; stroke-width:2; stroke-opacity:0.1; fill:none\" points=\"\n",
       "  236.811,468.936 2352.76,468.936 \n",
       "  \"/>\n",
       "<polyline clip-path=\"url(#clip832)\" style=\"stroke:#000000; stroke-width:2; stroke-opacity:0.1; fill:none\" points=\"\n",
       "  236.811,178.135 2352.76,178.135 \n",
       "  \"/>\n",
       "<polyline clip-path=\"url(#clip830)\" style=\"stroke:#000000; stroke-width:4; stroke-opacity:1; fill:none\" points=\"\n",
       "  236.811,1423.18 2352.76,1423.18 \n",
       "  \"/>\n",
       "<polyline clip-path=\"url(#clip830)\" style=\"stroke:#000000; stroke-width:4; stroke-opacity:1; fill:none\" points=\"\n",
       "  236.811,1423.18 236.811,47.2441 \n",
       "  \"/>\n",
       "<polyline clip-path=\"url(#clip830)\" style=\"stroke:#000000; stroke-width:4; stroke-opacity:1; fill:none\" points=\"\n",
       "  296.696,1423.18 296.696,1406.67 \n",
       "  \"/>\n",
       "<polyline clip-path=\"url(#clip830)\" style=\"stroke:#000000; stroke-width:4; stroke-opacity:1; fill:none\" points=\"\n",
       "  962.087,1423.18 962.087,1406.67 \n",
       "  \"/>\n",
       "<polyline clip-path=\"url(#clip830)\" style=\"stroke:#000000; stroke-width:4; stroke-opacity:1; fill:none\" points=\"\n",
       "  1627.48,1423.18 1627.48,1406.67 \n",
       "  \"/>\n",
       "<polyline clip-path=\"url(#clip830)\" style=\"stroke:#000000; stroke-width:4; stroke-opacity:1; fill:none\" points=\"\n",
       "  2292.87,1423.18 2292.87,1406.67 \n",
       "  \"/>\n",
       "<polyline clip-path=\"url(#clip830)\" style=\"stroke:#000000; stroke-width:4; stroke-opacity:1; fill:none\" points=\"\n",
       "  236.811,1341.34 262.202,1341.34 \n",
       "  \"/>\n",
       "<polyline clip-path=\"url(#clip830)\" style=\"stroke:#000000; stroke-width:4; stroke-opacity:1; fill:none\" points=\"\n",
       "  236.811,1050.54 262.202,1050.54 \n",
       "  \"/>\n",
       "<polyline clip-path=\"url(#clip830)\" style=\"stroke:#000000; stroke-width:4; stroke-opacity:1; fill:none\" points=\"\n",
       "  236.811,759.737 262.202,759.737 \n",
       "  \"/>\n",
       "<polyline clip-path=\"url(#clip830)\" style=\"stroke:#000000; stroke-width:4; stroke-opacity:1; fill:none\" points=\"\n",
       "  236.811,468.936 262.202,468.936 \n",
       "  \"/>\n",
       "<polyline clip-path=\"url(#clip830)\" style=\"stroke:#000000; stroke-width:4; stroke-opacity:1; fill:none\" points=\"\n",
       "  236.811,178.135 262.202,178.135 \n",
       "  \"/>\n",
       "<path clip-path=\"url(#clip830)\" d=\"M 0 0 M296.696 1445.17 Q293.085 1445.17 291.256 1448.74 Q289.451 1452.28 289.451 1459.41 Q289.451 1466.51 291.256 1470.08 Q293.085 1473.62 296.696 1473.62 Q300.33 1473.62 302.136 1470.08 Q303.964 1466.51 303.964 1459.41 Q303.964 1452.28 302.136 1448.74 Q300.33 1445.17 296.696 1445.17 M296.696 1441.47 Q302.506 1441.47 305.562 1446.07 Q308.64 1450.66 308.64 1459.41 Q308.64 1468.13 305.562 1472.74 Q302.506 1477.32 296.696 1477.32 Q290.886 1477.32 287.807 1472.74 Q284.751 1468.13 284.751 1459.41 Q284.751 1450.66 287.807 1446.07 Q290.886 1441.47 296.696 1441.47 Z\" fill=\"#000000\" fill-rule=\"evenodd\" fill-opacity=\"1\" /><path clip-path=\"url(#clip830)\" d=\"M 0 0 M938.963 1472.72 L946.601 1472.72 L946.601 1446.35 L938.291 1448.02 L938.291 1443.76 L946.555 1442.09 L951.231 1442.09 L951.231 1472.72 L958.87 1472.72 L958.87 1476.65 L938.963 1476.65 L938.963 1472.72 Z\" fill=\"#000000\" fill-rule=\"evenodd\" fill-opacity=\"1\" /><path clip-path=\"url(#clip830)\" d=\"M 0 0 M973.939 1445.17 Q970.328 1445.17 968.499 1448.74 Q966.694 1452.28 966.694 1459.41 Q966.694 1466.51 968.499 1470.08 Q970.328 1473.62 973.939 1473.62 Q977.573 1473.62 979.379 1470.08 Q981.208 1466.51 981.208 1459.41 Q981.208 1452.28 979.379 1448.74 Q977.573 1445.17 973.939 1445.17 M973.939 1441.47 Q979.749 1441.47 982.805 1446.07 Q985.884 1450.66 985.884 1459.41 Q985.884 1468.13 982.805 1472.74 Q979.749 1477.32 973.939 1477.32 Q968.129 1477.32 965.05 1472.74 Q961.995 1468.13 961.995 1459.41 Q961.995 1450.66 965.05 1446.07 Q968.129 1441.47 973.939 1441.47 Z\" fill=\"#000000\" fill-rule=\"evenodd\" fill-opacity=\"1\" /><path clip-path=\"url(#clip830)\" d=\"M 0 0 M1608.62 1472.72 L1624.94 1472.72 L1624.94 1476.65 L1603 1476.65 L1603 1472.72 Q1605.66 1469.96 1610.25 1465.33 Q1614.85 1460.68 1616.03 1459.34 Q1618.28 1456.81 1619.16 1455.08 Q1620.06 1453.32 1620.06 1451.63 Q1620.06 1448.87 1618.12 1447.14 Q1616.19 1445.4 1613.09 1445.4 Q1610.89 1445.4 1608.44 1446.17 Q1606.01 1446.93 1603.23 1448.48 L1603.23 1443.76 Q1606.06 1442.62 1608.51 1442.05 Q1610.96 1441.47 1613 1441.47 Q1618.37 1441.47 1621.56 1444.15 Q1624.76 1446.84 1624.76 1451.33 Q1624.76 1453.46 1623.95 1455.38 Q1623.16 1457.28 1621.06 1459.87 Q1620.48 1460.54 1617.37 1463.76 Q1614.27 1466.95 1608.62 1472.72 Z\" fill=\"#000000\" fill-rule=\"evenodd\" fill-opacity=\"1\" /><path clip-path=\"url(#clip830)\" d=\"M 0 0 M1640.01 1445.17 Q1636.4 1445.17 1634.57 1448.74 Q1632.77 1452.28 1632.77 1459.41 Q1632.77 1466.51 1634.57 1470.08 Q1636.4 1473.62 1640.01 1473.62 Q1643.65 1473.62 1645.45 1470.08 Q1647.28 1466.51 1647.28 1459.41 Q1647.28 1452.28 1645.45 1448.74 Q1643.65 1445.17 1640.01 1445.17 M1640.01 1441.47 Q1645.82 1441.47 1648.88 1446.07 Q1651.96 1450.66 1651.96 1459.41 Q1651.96 1468.13 1648.88 1472.74 Q1645.82 1477.32 1640.01 1477.32 Q1634.2 1477.32 1631.12 1472.74 Q1628.07 1468.13 1628.07 1459.41 Q1628.07 1450.66 1631.12 1446.07 Q1634.2 1441.47 1640.01 1441.47 Z\" fill=\"#000000\" fill-rule=\"evenodd\" fill-opacity=\"1\" /><path clip-path=\"url(#clip830)\" d=\"M 0 0 M2283.61 1458.02 Q2286.97 1458.74 2288.84 1461 Q2290.74 1463.27 2290.74 1466.61 Q2290.74 1471.72 2287.22 1474.52 Q2283.7 1477.32 2277.22 1477.32 Q2275.05 1477.32 2272.73 1476.88 Q2270.44 1476.47 2267.99 1475.61 L2267.99 1471.1 Q2269.93 1472.23 2272.25 1472.81 Q2274.56 1473.39 2277.08 1473.39 Q2281.48 1473.39 2283.77 1471.65 Q2286.09 1469.92 2286.09 1466.61 Q2286.09 1463.55 2283.94 1461.84 Q2281.81 1460.1 2277.99 1460.1 L2273.96 1460.1 L2273.96 1456.26 L2278.17 1456.26 Q2281.62 1456.26 2283.45 1454.89 Q2285.28 1453.5 2285.28 1450.91 Q2285.28 1448.25 2283.38 1446.84 Q2281.5 1445.4 2277.99 1445.4 Q2276.07 1445.4 2273.87 1445.82 Q2271.67 1446.24 2269.03 1447.11 L2269.03 1442.95 Q2271.69 1442.21 2274.01 1441.84 Q2276.34 1441.47 2278.4 1441.47 Q2283.73 1441.47 2286.83 1443.9 Q2289.93 1446.3 2289.93 1450.43 Q2289.93 1453.3 2288.29 1455.29 Q2286.64 1457.25 2283.61 1458.02 Z\" fill=\"#000000\" fill-rule=\"evenodd\" fill-opacity=\"1\" /><path clip-path=\"url(#clip830)\" d=\"M 0 0 M2305.81 1445.17 Q2302.2 1445.17 2300.37 1448.74 Q2298.57 1452.28 2298.57 1459.41 Q2298.57 1466.51 2300.37 1470.08 Q2302.2 1473.62 2305.81 1473.62 Q2309.44 1473.62 2311.25 1470.08 Q2313.08 1466.51 2313.08 1459.41 Q2313.08 1452.28 2311.25 1448.74 Q2309.44 1445.17 2305.81 1445.17 M2305.81 1441.47 Q2311.62 1441.47 2314.68 1446.07 Q2317.75 1450.66 2317.75 1459.41 Q2317.75 1468.13 2314.68 1472.74 Q2311.62 1477.32 2305.81 1477.32 Q2300 1477.32 2296.92 1472.74 Q2293.87 1468.13 2293.87 1459.41 Q2293.87 1450.66 2296.92 1446.07 Q2300 1441.47 2305.81 1441.47 Z\" fill=\"#000000\" fill-rule=\"evenodd\" fill-opacity=\"1\" /><path clip-path=\"url(#clip830)\" d=\"M 0 0 M139.015 1327.14 Q135.404 1327.14 133.575 1330.7 Q131.769 1334.24 131.769 1341.37 Q131.769 1348.48 133.575 1352.04 Q135.404 1355.59 139.015 1355.59 Q142.649 1355.59 144.455 1352.04 Q146.283 1348.48 146.283 1341.37 Q146.283 1334.24 144.455 1330.7 Q142.649 1327.14 139.015 1327.14 M139.015 1323.43 Q144.825 1323.43 147.88 1328.04 Q150.959 1332.62 150.959 1341.37 Q150.959 1350.1 147.88 1354.71 Q144.825 1359.29 139.015 1359.29 Q133.205 1359.29 130.126 1354.71 Q127.07 1350.1 127.07 1341.37 Q127.07 1332.62 130.126 1328.04 Q133.205 1323.43 139.015 1323.43 Z\" fill=\"#000000\" fill-rule=\"evenodd\" fill-opacity=\"1\" /><path clip-path=\"url(#clip830)\" d=\"M 0 0 M156.029 1352.74 L160.913 1352.74 L160.913 1358.62 L156.029 1358.62 L156.029 1352.74 Z\" fill=\"#000000\" fill-rule=\"evenodd\" fill-opacity=\"1\" /><path clip-path=\"url(#clip830)\" d=\"M 0 0 M166.792 1354.68 L174.431 1354.68 L174.431 1328.32 L166.121 1329.98 L166.121 1325.72 L174.385 1324.06 L179.061 1324.06 L179.061 1354.68 L186.7 1354.68 L186.7 1358.62 L166.792 1358.62 L166.792 1354.68 Z\" fill=\"#000000\" fill-rule=\"evenodd\" fill-opacity=\"1\" /><path clip-path=\"url(#clip830)\" d=\"M 0 0 M190.589 1324.06 L212.811 1324.06 L212.811 1326.05 L200.264 1358.62 L195.38 1358.62 L207.186 1327.99 L190.589 1327.99 L190.589 1324.06 Z\" fill=\"#000000\" fill-rule=\"evenodd\" fill-opacity=\"1\" /><path clip-path=\"url(#clip830)\" d=\"M 0 0 M138.205 1036.34 Q134.593 1036.34 132.765 1039.9 Q130.959 1043.44 130.959 1050.57 Q130.959 1057.68 132.765 1061.24 Q134.593 1064.79 138.205 1064.79 Q141.839 1064.79 143.644 1061.24 Q145.473 1057.68 145.473 1050.57 Q145.473 1043.44 143.644 1039.9 Q141.839 1036.34 138.205 1036.34 M138.205 1032.63 Q144.015 1032.63 147.07 1037.24 Q150.149 1041.82 150.149 1050.57 Q150.149 1059.3 147.07 1063.91 Q144.015 1068.49 138.205 1068.49 Q132.394 1068.49 129.316 1063.91 Q126.26 1059.3 126.26 1050.57 Q126.26 1041.82 129.316 1037.24 Q132.394 1032.63 138.205 1032.63 Z\" fill=\"#000000\" fill-rule=\"evenodd\" fill-opacity=\"1\" /><path clip-path=\"url(#clip830)\" d=\"M 0 0 M155.218 1061.94 L160.103 1061.94 L160.103 1067.82 L155.218 1067.82 L155.218 1061.94 Z\" fill=\"#000000\" fill-rule=\"evenodd\" fill-opacity=\"1\" /><path clip-path=\"url(#clip830)\" d=\"M 0 0 M165.982 1063.88 L173.621 1063.88 L173.621 1037.52 L165.311 1039.18 L165.311 1034.92 L173.575 1033.26 L178.251 1033.26 L178.251 1063.88 L185.889 1063.88 L185.889 1067.82 L165.982 1067.82 L165.982 1063.88 Z\" fill=\"#000000\" fill-rule=\"evenodd\" fill-opacity=\"1\" /><path clip-path=\"url(#clip830)\" d=\"M 0 0 M200.959 1051.41 Q197.626 1051.41 195.704 1053.19 Q193.806 1054.97 193.806 1058.1 Q193.806 1061.22 195.704 1063 Q197.626 1064.79 200.959 1064.79 Q204.292 1064.79 206.213 1063 Q208.135 1061.2 208.135 1058.1 Q208.135 1054.97 206.213 1053.19 Q204.315 1051.41 200.959 1051.41 M196.283 1049.41 Q193.274 1048.67 191.584 1046.61 Q189.917 1044.55 189.917 1041.59 Q189.917 1037.45 192.857 1035.04 Q195.82 1032.63 200.959 1032.63 Q206.121 1032.63 209.061 1035.04 Q212 1037.45 212 1041.59 Q212 1044.55 210.311 1046.61 Q208.644 1048.67 205.658 1049.41 Q209.037 1050.2 210.912 1052.49 Q212.811 1054.79 212.811 1058.1 Q212.811 1063.12 209.732 1065.8 Q206.676 1068.49 200.959 1068.49 Q195.241 1068.49 192.163 1065.8 Q189.107 1063.12 189.107 1058.1 Q189.107 1054.79 191.005 1052.49 Q192.903 1050.2 196.283 1049.41 M194.57 1042.03 Q194.57 1044.72 196.237 1046.22 Q197.926 1047.72 200.959 1047.72 Q203.968 1047.72 205.658 1046.22 Q207.371 1044.72 207.371 1042.03 Q207.371 1039.35 205.658 1037.84 Q203.968 1036.34 200.959 1036.34 Q197.926 1036.34 196.237 1037.84 Q194.57 1039.35 194.57 1042.03 Z\" fill=\"#000000\" fill-rule=\"evenodd\" fill-opacity=\"1\" /><path clip-path=\"url(#clip830)\" d=\"M 0 0 M138.297 745.535 Q134.686 745.535 132.857 749.1 Q131.052 752.642 131.052 759.771 Q131.052 766.878 132.857 770.443 Q134.686 773.984 138.297 773.984 Q141.931 773.984 143.737 770.443 Q145.566 766.878 145.566 759.771 Q145.566 752.642 143.737 749.1 Q141.931 745.535 138.297 745.535 M138.297 741.832 Q144.107 741.832 147.163 746.438 Q150.242 751.021 150.242 759.771 Q150.242 768.498 147.163 773.105 Q144.107 777.688 138.297 777.688 Q132.487 777.688 129.408 773.105 Q126.353 768.498 126.353 759.771 Q126.353 751.021 129.408 746.438 Q132.487 741.832 138.297 741.832 Z\" fill=\"#000000\" fill-rule=\"evenodd\" fill-opacity=\"1\" /><path clip-path=\"url(#clip830)\" d=\"M 0 0 M155.311 771.137 L160.195 771.137 L160.195 777.017 L155.311 777.017 L155.311 771.137 Z\" fill=\"#000000\" fill-rule=\"evenodd\" fill-opacity=\"1\" /><path clip-path=\"url(#clip830)\" d=\"M 0 0 M166.075 773.081 L173.714 773.081 L173.714 746.716 L165.403 748.383 L165.403 744.123 L173.667 742.457 L178.343 742.457 L178.343 773.081 L185.982 773.081 L185.982 777.017 L166.075 777.017 L166.075 773.081 Z\" fill=\"#000000\" fill-rule=\"evenodd\" fill-opacity=\"1\" /><path clip-path=\"url(#clip830)\" d=\"M 0 0 M191.19 776.299 L191.19 772.04 Q192.95 772.873 194.755 773.313 Q196.561 773.753 198.297 773.753 Q202.926 773.753 205.357 770.651 Q207.811 767.526 208.158 761.183 Q206.815 763.174 204.755 764.239 Q202.695 765.304 200.195 765.304 Q195.01 765.304 191.977 762.179 Q188.968 759.031 188.968 753.591 Q188.968 748.267 192.116 745.049 Q195.264 741.832 200.496 741.832 Q206.491 741.832 209.639 746.438 Q212.811 751.021 212.811 759.771 Q212.811 767.943 208.922 772.827 Q205.056 777.688 198.505 777.688 Q196.746 777.688 194.94 777.341 Q193.135 776.993 191.19 776.299 M200.496 761.646 Q203.644 761.646 205.473 759.494 Q207.325 757.341 207.325 753.591 Q207.325 749.864 205.473 747.711 Q203.644 745.535 200.496 745.535 Q197.348 745.535 195.496 747.711 Q193.667 749.864 193.667 753.591 Q193.667 757.341 195.496 759.494 Q197.348 761.646 200.496 761.646 Z\" fill=\"#000000\" fill-rule=\"evenodd\" fill-opacity=\"1\" /><path clip-path=\"url(#clip830)\" d=\"M 0 0 M138.482 454.735 Q134.871 454.735 133.043 458.299 Q131.237 461.841 131.237 468.971 Q131.237 476.077 133.043 479.642 Q134.871 483.183 138.482 483.183 Q142.117 483.183 143.922 479.642 Q145.751 476.077 145.751 468.971 Q145.751 461.841 143.922 458.299 Q142.117 454.735 138.482 454.735 M138.482 451.031 Q144.292 451.031 147.348 455.637 Q150.427 460.221 150.427 468.971 Q150.427 477.697 147.348 482.304 Q144.292 486.887 138.482 486.887 Q132.672 486.887 129.593 482.304 Q126.538 477.697 126.538 468.971 Q126.538 460.221 129.593 455.637 Q132.672 451.031 138.482 451.031 Z\" fill=\"#000000\" fill-rule=\"evenodd\" fill-opacity=\"1\" /><path clip-path=\"url(#clip830)\" d=\"M 0 0 M155.496 480.336 L160.38 480.336 L160.38 486.216 L155.496 486.216 L155.496 480.336 Z\" fill=\"#000000\" fill-rule=\"evenodd\" fill-opacity=\"1\" /><path clip-path=\"url(#clip830)\" d=\"M 0 0 M169.478 482.281 L185.797 482.281 L185.797 486.216 L163.853 486.216 L163.853 482.281 Q166.515 479.526 171.098 474.896 Q175.704 470.244 176.885 468.901 Q179.13 466.378 180.01 464.642 Q180.913 462.883 180.913 461.193 Q180.913 458.438 178.968 456.702 Q177.047 454.966 173.945 454.966 Q171.746 454.966 169.292 455.73 Q166.862 456.494 164.084 458.045 L164.084 453.322 Q166.908 452.188 169.362 451.61 Q171.815 451.031 173.852 451.031 Q179.223 451.031 182.417 453.716 Q185.612 456.401 185.612 460.892 Q185.612 463.021 184.802 464.943 Q184.014 466.841 181.908 469.434 Q181.329 470.105 178.227 473.322 Q175.126 476.517 169.478 482.281 Z\" fill=\"#000000\" fill-rule=\"evenodd\" fill-opacity=\"1\" /><path clip-path=\"url(#clip830)\" d=\"M 0 0 M200.866 454.735 Q197.255 454.735 195.426 458.299 Q193.621 461.841 193.621 468.971 Q193.621 476.077 195.426 479.642 Q197.255 483.183 200.866 483.183 Q204.5 483.183 206.306 479.642 Q208.135 476.077 208.135 468.971 Q208.135 461.841 206.306 458.299 Q204.5 454.735 200.866 454.735 M200.866 451.031 Q206.676 451.031 209.732 455.637 Q212.811 460.221 212.811 468.971 Q212.811 477.697 209.732 482.304 Q206.676 486.887 200.866 486.887 Q195.056 486.887 191.977 482.304 Q188.922 477.697 188.922 468.971 Q188.922 460.221 191.977 455.637 Q195.056 451.031 200.866 451.031 Z\" fill=\"#000000\" fill-rule=\"evenodd\" fill-opacity=\"1\" /><path clip-path=\"url(#clip830)\" d=\"M 0 0 M139.709 163.934 Q136.098 163.934 134.269 167.498 Q132.464 171.04 132.464 178.17 Q132.464 185.276 134.269 188.841 Q136.098 192.383 139.709 192.383 Q143.343 192.383 145.149 188.841 Q146.978 185.276 146.978 178.17 Q146.978 171.04 145.149 167.498 Q143.343 163.934 139.709 163.934 M139.709 160.23 Q145.519 160.23 148.575 164.836 Q151.654 169.42 151.654 178.17 Q151.654 186.897 148.575 191.503 Q145.519 196.086 139.709 196.086 Q133.899 196.086 130.82 191.503 Q127.765 186.897 127.765 178.17 Q127.765 169.42 130.82 164.836 Q133.899 160.23 139.709 160.23 Z\" fill=\"#000000\" fill-rule=\"evenodd\" fill-opacity=\"1\" /><path clip-path=\"url(#clip830)\" d=\"M 0 0 M156.723 189.535 L161.607 189.535 L161.607 195.415 L156.723 195.415 L156.723 189.535 Z\" fill=\"#000000\" fill-rule=\"evenodd\" fill-opacity=\"1\" /><path clip-path=\"url(#clip830)\" d=\"M 0 0 M170.704 191.48 L187.024 191.48 L187.024 195.415 L165.079 195.415 L165.079 191.48 Q167.741 188.725 172.325 184.096 Q176.931 179.443 178.112 178.1 Q180.357 175.577 181.237 173.841 Q182.139 172.082 182.139 170.392 Q182.139 167.637 180.195 165.901 Q178.274 164.165 175.172 164.165 Q172.973 164.165 170.519 164.929 Q168.089 165.693 165.311 167.244 L165.311 162.522 Q168.135 161.387 170.589 160.809 Q173.042 160.23 175.079 160.23 Q180.45 160.23 183.644 162.915 Q186.839 165.6 186.839 170.091 Q186.839 172.221 186.028 174.142 Q185.241 176.04 183.135 178.633 Q182.556 179.304 179.454 182.522 Q176.352 185.716 170.704 191.48 Z\" fill=\"#000000\" fill-rule=\"evenodd\" fill-opacity=\"1\" /><path clip-path=\"url(#clip830)\" d=\"M 0 0 M192.903 191.48 L200.542 191.48 L200.542 165.114 L192.232 166.781 L192.232 162.522 L200.496 160.855 L205.172 160.855 L205.172 191.48 L212.811 191.48 L212.811 195.415 L192.903 195.415 L192.903 191.48 Z\" fill=\"#000000\" fill-rule=\"evenodd\" fill-opacity=\"1\" /><path clip-path=\"url(#clip830)\" d=\"M 0 0 M1240.55 1510.27 L1240.55 1520.4 L1252.61 1520.4 L1252.61 1524.95 L1240.55 1524.95 L1240.55 1544.3 Q1240.55 1548.66 1241.73 1549.9 Q1242.93 1551.14 1246.59 1551.14 L1252.61 1551.14 L1252.61 1556.04 L1246.59 1556.04 Q1239.82 1556.04 1237.24 1553.53 Q1234.66 1550.98 1234.66 1544.3 L1234.66 1524.95 L1230.36 1524.95 L1230.36 1520.4 L1234.66 1520.4 L1234.66 1510.27 L1240.55 1510.27 Z\" fill=\"#000000\" fill-rule=\"evenodd\" fill-opacity=\"1\" /><path clip-path=\"url(#clip830)\" d=\"M 0 0 M1258.75 1520.4 L1264.61 1520.4 L1264.61 1556.04 L1258.75 1556.04 L1258.75 1520.4 M1258.75 1506.52 L1264.61 1506.52 L1264.61 1513.93 L1258.75 1513.93 L1258.75 1506.52 Z\" fill=\"#000000\" fill-rule=\"evenodd\" fill-opacity=\"1\" /><path clip-path=\"url(#clip830)\" d=\"M 0 0 M1298.51 1527.24 Q1300.7 1523.29 1303.76 1521.41 Q1306.81 1519.54 1310.95 1519.54 Q1316.52 1519.54 1319.55 1523.45 Q1322.57 1527.33 1322.57 1534.53 L1322.57 1556.04 L1316.68 1556.04 L1316.68 1534.72 Q1316.68 1529.59 1314.87 1527.11 Q1313.05 1524.63 1309.33 1524.63 Q1304.78 1524.63 1302.14 1527.65 Q1299.49 1530.68 1299.49 1535.9 L1299.49 1556.04 L1293.61 1556.04 L1293.61 1534.72 Q1293.61 1529.56 1291.79 1527.11 Q1289.98 1524.63 1286.19 1524.63 Q1281.7 1524.63 1279.06 1527.68 Q1276.42 1530.71 1276.42 1535.9 L1276.42 1556.04 L1270.53 1556.04 L1270.53 1520.4 L1276.42 1520.4 L1276.42 1525.93 Q1278.42 1522.66 1281.22 1521.1 Q1284.03 1519.54 1287.88 1519.54 Q1291.76 1519.54 1294.46 1521.51 Q1297.2 1523.48 1298.51 1527.24 Z\" fill=\"#000000\" fill-rule=\"evenodd\" fill-opacity=\"1\" /><path clip-path=\"url(#clip830)\" d=\"M 0 0 M1359.2 1536.76 L1359.2 1539.62 L1332.28 1539.62 Q1332.66 1545.67 1335.91 1548.85 Q1339.18 1552 1345.01 1552 Q1348.38 1552 1351.53 1551.17 Q1354.72 1550.35 1357.84 1548.69 L1357.84 1554.23 Q1354.68 1555.57 1351.37 1556.27 Q1348.06 1556.97 1344.66 1556.97 Q1336.13 1556.97 1331.13 1552 Q1326.17 1547.04 1326.17 1538.57 Q1326.17 1529.82 1330.88 1524.69 Q1335.62 1519.54 1343.64 1519.54 Q1350.83 1519.54 1355 1524.18 Q1359.2 1528.8 1359.2 1536.76 M1353.35 1535.04 Q1353.28 1530.23 1350.64 1527.37 Q1348.03 1524.5 1343.7 1524.5 Q1338.8 1524.5 1335.84 1527.27 Q1332.91 1530.04 1332.47 1535.07 L1353.35 1535.04 Z\" fill=\"#000000\" fill-rule=\"evenodd\" fill-opacity=\"1\" /><path clip-path=\"url(#clip830)\" d=\"M 0 0 M57.8307 951.041 Q57.2578 952.028 57.0032 953.206 Q56.7167 954.351 56.7167 955.752 Q56.7167 960.717 59.9632 963.391 Q63.1779 966.032 69.2253 966.032 L88.0042 966.032 L88.0042 971.921 L52.3562 971.921 L52.3562 966.032 L57.8944 966.032 Q54.6479 964.186 53.0883 961.226 Q51.4968 958.266 51.4968 954.033 Q51.4968 953.428 51.5923 952.696 Q51.656 951.964 51.8151 951.073 L57.8307 951.041 Z\" fill=\"#000000\" fill-rule=\"evenodd\" fill-opacity=\"1\" /><path clip-path=\"url(#clip830)\" d=\"M 0 0 M56.4621 932.517 Q56.4621 937.228 60.1542 939.965 Q63.8145 942.702 70.212 942.702 Q76.6095 942.702 80.3017 939.997 Q83.9619 937.259 83.9619 932.517 Q83.9619 927.838 80.2698 925.101 Q76.5777 922.364 70.212 922.364 Q63.8781 922.364 60.186 925.101 Q56.4621 927.838 56.4621 932.517 M51.4968 932.517 Q51.4968 924.878 56.4621 920.518 Q61.4273 916.157 70.212 916.157 Q78.9649 916.157 83.9619 920.518 Q88.9272 924.878 88.9272 932.517 Q88.9272 940.188 83.9619 944.548 Q78.9649 948.877 70.212 948.877 Q61.4273 948.877 56.4621 944.548 Q51.4968 940.188 51.4968 932.517 Z\" fill=\"#000000\" fill-rule=\"evenodd\" fill-opacity=\"1\" /><path clip-path=\"url(#clip830)\" d=\"M 0 0 M42.2347 904.221 L52.3562 904.221 L52.3562 892.158 L56.9077 892.158 L56.9077 904.221 L76.2594 904.221 Q80.6199 904.221 81.8613 903.044 Q83.1026 901.834 83.1026 898.174 L83.1026 892.158 L88.0042 892.158 L88.0042 898.174 Q88.0042 904.954 85.4897 907.532 Q82.9434 910.11 76.2594 910.11 L56.9077 910.11 L56.9077 914.407 L52.3562 914.407 L52.3562 910.11 L42.2347 910.11 L42.2347 904.221 Z\" fill=\"#000000\" fill-rule=\"evenodd\" fill-opacity=\"1\" /><path clip-path=\"url(#clip830)\" d=\"M 0 0 M56.4621 872.202 Q56.4621 876.913 60.1542 879.65 Q63.8145 882.387 70.212 882.387 Q76.6095 882.387 80.3017 879.682 Q83.9619 876.944 83.9619 872.202 Q83.9619 867.523 80.2698 864.786 Q76.5777 862.049 70.212 862.049 Q63.8781 862.049 60.186 864.786 Q56.4621 867.523 56.4621 872.202 M51.4968 872.202 Q51.4968 864.563 56.4621 860.203 Q61.4273 855.842 70.212 855.842 Q78.9649 855.842 83.9619 860.203 Q88.9272 864.563 88.9272 872.202 Q88.9272 879.873 83.9619 884.233 Q78.9649 888.562 70.212 888.562 Q61.4273 888.562 56.4621 884.233 Q51.4968 879.873 51.4968 872.202 Z\" fill=\"#000000\" fill-rule=\"evenodd\" fill-opacity=\"1\" /><path clip-path=\"url(#clip830)\" d=\"M 0 0 M57.8307 829.042 Q57.2578 830.029 57.0032 831.207 Q56.7167 832.353 56.7167 833.753 Q56.7167 838.718 59.9632 841.392 Q63.1779 844.034 69.2253 844.034 L88.0042 844.034 L88.0042 849.922 L52.3562 849.922 L52.3562 844.034 L57.8944 844.034 Q54.6479 842.188 53.0883 839.228 Q51.4968 836.268 51.4968 832.034 Q51.4968 831.43 51.5923 830.698 Q51.656 829.966 51.8151 829.074 L57.8307 829.042 Z\" fill=\"#000000\" fill-rule=\"evenodd\" fill-opacity=\"1\" /><path clip-path=\"url(#clip830)\" d=\"M 0 0 M70.0847 785.978 Q70.0847 793.076 71.7079 795.813 Q73.3312 798.551 77.2461 798.551 Q80.3653 798.551 82.2114 796.514 Q84.0256 794.445 84.0256 790.912 Q84.0256 786.042 80.5881 783.114 Q77.1188 780.154 71.3897 780.154 L70.0847 780.154 L70.0847 785.978 M67.6657 774.297 L88.0042 774.297 L88.0042 780.154 L82.5933 780.154 Q85.8398 782.159 87.3994 785.151 Q88.9272 788.143 88.9272 792.471 Q88.9272 797.946 85.8716 801.193 Q82.7843 804.407 77.6281 804.407 Q71.6125 804.407 68.5569 800.397 Q65.5014 796.355 65.5014 788.366 L65.5014 780.154 L64.9285 780.154 Q60.8862 780.154 58.6901 782.827 Q56.4621 785.469 56.4621 790.275 Q56.4621 793.331 57.1941 796.227 Q57.9262 799.124 59.3903 801.797 L53.9795 801.797 Q52.7381 798.583 52.1334 795.559 Q51.4968 792.535 51.4968 789.671 Q51.4968 781.936 55.5072 778.117 Q59.5176 774.297 67.6657 774.297 Z\" fill=\"#000000\" fill-rule=\"evenodd\" fill-opacity=\"1\" /><path clip-path=\"url(#clip830)\" d=\"M 0 0 M66.4881 738.522 L88.0042 738.522 L88.0042 744.379 L66.679 744.379 Q61.6183 744.379 59.1038 746.352 Q56.5894 748.325 56.5894 752.272 Q56.5894 757.015 59.6131 759.752 Q62.6368 762.489 67.8567 762.489 L88.0042 762.489 L88.0042 768.377 L52.3562 768.377 L52.3562 762.489 L57.8944 762.489 Q54.6797 760.388 53.0883 757.556 Q51.4968 754.691 51.4968 750.967 Q51.4968 744.824 55.3163 741.673 Q59.1038 738.522 66.4881 738.522 Z\" fill=\"#000000\" fill-rule=\"evenodd\" fill-opacity=\"1\" /><path clip-path=\"url(#clip830)\" d=\"M 0 0 M69.7664 708.922 Q63.4007 708.922 59.8996 711.563 Q56.3984 714.173 56.3984 718.916 Q56.3984 723.626 59.8996 726.268 Q63.4007 728.878 69.7664 728.878 Q76.1003 728.878 79.6014 726.268 Q83.1026 723.626 83.1026 718.916 Q83.1026 714.173 79.6014 711.563 Q76.1003 708.922 69.7664 708.922 M83.58 703.065 Q92.683 703.065 97.1071 707.107 Q101.563 711.15 101.563 719.489 Q101.563 722.576 101.086 725.313 Q100.64 728.051 99.6852 730.629 L93.9879 730.629 Q95.3884 728.051 96.0568 725.536 Q96.7252 723.022 96.7252 720.412 Q96.7252 714.651 93.7015 711.786 Q90.7096 708.922 84.6303 708.922 L81.7339 708.922 Q84.885 710.736 86.4446 713.569 Q88.0042 716.401 88.0042 720.348 Q88.0042 726.905 83.0071 730.915 Q78.01 734.926 69.7664 734.926 Q61.491 734.926 56.4939 730.915 Q51.4968 726.905 51.4968 720.348 Q51.4968 716.401 53.0564 713.569 Q54.616 710.736 57.7671 708.922 L52.3562 708.922 L52.3562 703.065 L83.58 703.065 Z\" fill=\"#000000\" fill-rule=\"evenodd\" fill-opacity=\"1\" /><path clip-path=\"url(#clip830)\" d=\"M 0 0 M38.479 696.922 L38.479 691.066 L88.0042 691.066 L88.0042 696.922 L38.479 696.922 Z\" fill=\"#000000\" fill-rule=\"evenodd\" fill-opacity=\"1\" /><path clip-path=\"url(#clip830)\" d=\"M 0 0 M68.7161 654.431 L71.5806 654.431 L71.5806 681.358 Q77.6281 680.976 80.8109 677.73 Q83.9619 674.451 83.9619 668.627 Q83.9619 665.253 83.1344 662.102 Q82.3069 658.919 80.6518 655.8 L86.1899 655.8 Q87.5267 658.951 88.227 662.261 Q88.9272 665.571 88.9272 668.977 Q88.9272 677.507 83.9619 682.504 Q78.9967 687.469 70.5303 687.469 Q61.7774 687.469 56.6531 682.759 Q51.4968 678.016 51.4968 669.995 Q51.4968 662.802 56.1438 658.633 Q60.7589 654.431 68.7161 654.431 M66.9973 660.288 Q62.1912 660.351 59.3266 662.993 Q56.4621 665.603 56.4621 669.932 Q56.4621 674.833 59.2312 677.793 Q62.0002 680.722 67.0292 681.167 L66.9973 660.288 Z\" fill=\"#000000\" fill-rule=\"evenodd\" fill-opacity=\"1\" /><path clip-path=\"url(#clip830)\" d=\"M 0 0 M38.479 628.109 L38.479 614.614 L43.0304 614.614 L43.0304 622.253 L92.0464 622.253 L92.0464 614.614 L96.5979 614.614 L96.5979 628.109 L38.479 628.109 Z\" fill=\"#000000\" fill-rule=\"evenodd\" fill-opacity=\"1\" /><path clip-path=\"url(#clip830)\" d=\"M 0 0 M57.8307 587.814 Q57.2578 588.801 57.0032 589.978 Q56.7167 591.124 56.7167 592.525 Q56.7167 597.49 59.9632 600.164 Q63.1779 602.805 69.2253 602.805 L88.0042 602.805 L88.0042 608.694 L52.3562 608.694 L52.3562 602.805 L57.8944 602.805 Q54.6479 600.959 53.0883 597.999 Q51.4968 595.039 51.4968 590.806 Q51.4968 590.201 51.5923 589.469 Q51.656 588.737 51.8151 587.846 L57.8307 587.814 Z\" fill=\"#000000\" fill-rule=\"evenodd\" fill-opacity=\"1\" /><path clip-path=\"url(#clip830)\" d=\"M 0 0 M70.0847 565.47 Q70.0847 572.568 71.7079 575.305 Q73.3312 578.043 77.2461 578.043 Q80.3653 578.043 82.2114 576.006 Q84.0256 573.937 84.0256 570.404 Q84.0256 565.534 80.5881 562.606 Q77.1188 559.646 71.3897 559.646 L70.0847 559.646 L70.0847 565.47 M67.6657 553.789 L88.0042 553.789 L88.0042 559.646 L82.5933 559.646 Q85.8398 561.651 87.3994 564.643 Q88.9272 567.635 88.9272 571.963 Q88.9272 577.438 85.8716 580.684 Q82.7843 583.899 77.6281 583.899 Q71.6125 583.899 68.5569 579.889 Q65.5014 575.847 65.5014 567.858 L65.5014 559.646 L64.9285 559.646 Q60.8862 559.646 58.6901 562.319 Q56.4621 564.961 56.4621 569.767 Q56.4621 572.823 57.1941 575.719 Q57.9262 578.616 59.3903 581.289 L53.9795 581.289 Q52.7381 578.075 52.1334 575.051 Q51.4968 572.027 51.4968 569.163 Q51.4968 561.428 55.5072 557.609 Q59.5176 553.789 67.6657 553.789 Z\" fill=\"#000000\" fill-rule=\"evenodd\" fill-opacity=\"1\" /><path clip-path=\"url(#clip830)\" d=\"M 0 0 M57.7671 524.189 L38.479 524.189 L38.479 518.332 L88.0042 518.332 L88.0042 524.189 L82.657 524.189 Q85.8398 526.035 87.3994 528.868 Q88.9272 531.668 88.9272 535.615 Q88.9272 542.076 83.771 546.15 Q78.6147 550.193 70.212 550.193 Q61.8093 550.193 56.6531 546.15 Q51.4968 542.076 51.4968 535.615 Q51.4968 531.668 53.0564 528.868 Q54.5842 526.035 57.7671 524.189 M70.212 544.145 Q76.6732 544.145 80.3653 541.504 Q84.0256 538.83 84.0256 534.183 Q84.0256 529.536 80.3653 526.862 Q76.6732 524.189 70.212 524.189 Q63.7508 524.189 60.0905 526.862 Q56.3984 529.536 56.3984 534.183 Q56.3984 538.83 60.0905 541.504 Q63.7508 544.145 70.212 544.145 Z\" fill=\"#000000\" fill-rule=\"evenodd\" fill-opacity=\"1\" /><path clip-path=\"url(#clip830)\" d=\"M 0 0 M38.479 498.503 L96.5979 498.503 L96.5979 511.998 L92.0464 511.998 L92.0464 504.391 L43.0304 504.391 L43.0304 511.998 L38.479 511.998 L38.479 498.503 Z\" fill=\"#000000\" fill-rule=\"evenodd\" fill-opacity=\"1\" /><polyline clip-path=\"url(#clip832)\" style=\"stroke:#009af9; stroke-width:4; stroke-opacity:1; fill:none\" points=\"\n",
       "  296.696,1384.24 296.762,1384.24 296.829,1384.24 296.962,1384.24 297.228,1384.24 297.76,1384.24 298.825,1384.24 300.156,1384.24 301.487,1384.24 302.817,1384.24 \n",
       "  304.148,1384.24 305.479,1384.24 306.81,1384.24 308.141,1384.24 309.471,1384.24 310.802,1384.24 312.133,1384.24 313.464,1384.24 314.795,1384.24 316.125,1384.24 \n",
       "  317.456,1384.24 318.787,1384.24 320.118,1384.24 321.448,1384.24 322.779,1384.24 324.11,1384.24 325.441,1384.24 326.772,1384.24 328.102,1384.24 329.433,1384.24 \n",
       "  330.764,1384.24 332.095,1384.24 333.425,1384.24 334.756,1384.24 336.087,1384.24 337.418,1384.24 338.749,1384.24 340.079,1384.24 341.41,1384.24 342.741,1384.24 \n",
       "  344.072,1384.24 345.403,1384.24 346.733,1384.24 348.064,1384.24 349.395,1384.24 350.726,1384.24 352.056,1384.24 353.387,1384.24 354.718,1384.24 356.049,1384.24 \n",
       "  357.38,1384.24 358.71,1384.24 360.041,1384.24 361.372,1384.24 362.703,1384.24 363.235,1384.24 363.787,1376.85 364.338,1362.25 364.89,1340.67 \n",
       "  365.993,1282.2 367.096,1201.13 368.199,1098.91 369.53,954.222 370.86,792.569 372.191,625.925 373.522,471.314 374.72,348.94 375.68,263.826 376.545,199.527 \n",
       "  377.323,153.399 378.023,121.342 378.724,99.6779 379.424,87.9639 380.755,86.1857 382.085,116.771 383.416,179.596 384.747,270.821 386.078,385.378 387.409,516.303 \n",
       "  388.739,655.693 390.07,796.256 391.401,929.277 392.732,1046.5 394.062,1140.72 395.393,1206.25 396.724,1238.88 398.055,1236.73 399.386,1200.21 400.716,1131.81 \n",
       "  402.047,1035.96 403.378,918.666 404.709,787.292 406.04,649.929 407.37,515.015 408.701,390.691 410.032,284.459 411.363,202.605 412.693,149.972 414.024,129.527 \n",
       "  415.355,142.34 416.686,187.384 418.017,261.747 419.347,360.72 420.678,478.195 422.009,606.929 423.34,739.036 424.67,866.438 426.001,981.388 427.332,1077.03 \n",
       "  428.663,1147.78 429.994,1189.49 431.324,1199.74 432.655,1178.05 433.986,1125.57 435.317,1045.73 436.648,943.586 437.978,825.635 439.309,699.213 440.64,572.097 \n",
       "  441.971,452.106 443.301,346.481 444.632,261.543 445.963,202.253 447.294,172.044 448.625,172.536 449.955,203.53 451.286,262.941 452.617,346.991 453.948,450.423 \n",
       "  455.279,566.888 456.609,689.231 457.94,809.973 459.271,921.751 460.602,1017.79 461.932,1092.32 463.263,1141.08 464.594,1161.33 465.925,1151.95 467.256,1113.63 \n",
       "  468.586,1048.8 469.917,961.304 471.248,856.641 472.579,741.391 473.909,622.757 475.24,508.04 476.571,404.21 477.902,317.419 479.233,252.714 480.563,213.875 \n",
       "  481.894,203.13 483.225,221.012 484.556,266.573 485.887,336.873 487.217,427.452 488.548,532.58 489.879,645.735 491.21,759.959 492.54,868.213 493.871,963.925 \n",
       "  495.202,1041.37 496.533,1096.02 497.864,1124.68 499.194,1125.79 500.525,1099.41 501.856,1047.36 503.187,972.938 504.517,880.872 505.848,776.859 507.179,667.342 \n",
       "  508.51,558.979 509.841,458.386 511.171,371.568 512.502,303.679 513.833,258.745 515.164,239.393 516.495,246.668 517.825,279.752 519.156,336.508 520.487,413.469 \n",
       "  521.818,505.937 523.148,608.266 524.479,714.218 525.81,817.34 527.141,911.315 528.472,990.356 529.802,1049.67 531.133,1085.72 532.464,1096.45 533.795,1081.38 \n",
       "  535.125,1041.6 536.456,979.73 537.787,899.694 539.118,806.513 540.449,705.924 541.779,604.112 543.11,507.246 544.441,421.159 545.772,350.99 547.103,300.935 \n",
       "  548.433,273.936 549.764,271.514 551.095,293.465 552.426,338.325 553.756,403.337 555.087,484.522 556.418,576.915 557.749,674.939 559.08,772.551 560.41,863.7 \n",
       "  561.741,942.79 563.072,1005.03 564.403,1046.72 565.734,1065.46 567.064,1060.23 568.395,1031.51 569.726,981.247 571.057,912.652 572.387,830.052 573.718,738.545 \n",
       "  575.049,643.731 576.38,551.357 577.711,467.044 579.041,395.884 580.372,342.149 581.703,309.006 583.034,298.348 584.364,310.682 585.695,345.119 587.026,399.241 \n",
       "  588.357,469.701 589.688,552.239 591.018,641.853 592.349,733.098 593.68,820.418 595.011,898.471 596.342,962.458 597.672,1008.51 599.003,1033.9 600.334,1037.2 \n",
       "  601.665,1018.37 602.995,978.69 604.326,920.738 605.657,848.169 606.988,765.531 608.319,677.91 609.649,590.693 610.98,509.15 612.311,438.222 613.642,382.108 \n",
       "  614.972,344.106 616.303,326.432 617.634,330.066 618.965,354.677 620.296,398.645 621.626,459.177 622.957,532.444 624.288,613.905 625.619,698.523 626.95,781.167 \n",
       "  628.28,856.862 629.611,921.034 630.942,969.821 632.273,1000.32 633.603,1010.76 634.934,1000.64 636.265,970.699 637.596,922.908 638.927,860.283 640.257,786.735 \n",
       "  641.588,706.807 642.919,625.416 644.25,547.531 645.581,477.925 646.911,420.761 648.242,379.396 649.573,356.248 650.904,352.625 652.234,368.645 653.565,403.221 \n",
       "  654.896,454.139 656.227,518.197 657.558,591.414 658.888,669.227 660.219,746.879 661.55,819.687 662.881,883.243 664.211,933.722 665.542,968.105 666.873,984.385 \n",
       "  668.204,981.663 669.535,960.248 670.865,921.565 672.196,868.083 673.527,803.144 674.858,730.774 676.189,655.431 677.519,581.729 678.85,514.142 680.181,456.658 \n",
       "  681.512,412.672 682.842,384.772 684.173,374.576 685.504,382.792 686.835,408.814 688.166,450.951 689.496,506.491 690.827,571.955 692.158,643.284 693.489,716.054 \n",
       "  694.819,785.809 696.15,848.335 697.481,899.904 698.812,937.454 700.143,958.793 701.473,962.706 702.804,949.073 704.135,918.825 705.466,873.933 706.797,817.212 \n",
       "  708.127,752.215 709.458,682.925 710.789,613.549 712.12,548.31 713.45,491.163 714.781,445.551 716.112,414.189 717.443,398.9 718.774,400.384 720.104,418.441 \n",
       "  721.435,451.936 722.766,498.8 724.097,556.148 725.427,620.538 726.758,687.98 728.089,754.281 729.42,815.348 730.751,867.462 732.081,907.499 733.412,933.073 \n",
       "  734.743,942.728 736.074,935.991 737.405,913.403 738.735,876.452 740.066,827.478 741.397,769.54 742.728,706.206 744.058,641.335 745.389,578.887 746.72,522.656 \n",
       "  748.051,476.038 749.382,441.819 750.712,422.009 752.043,417.604 753.374,428.767 754.705,454.778 756.036,494.017 757.366,544.063 758.697,601.919 760.028,663.993 \n",
       "  761.359,726.42 762.689,785.337 764.02,837.146 765.351,878.731 766.682,907.621 768.013,922.119 769.343,921.439 770.674,905.734 772.005,876.078 773.336,834.382 \n",
       "  774.666,783.253 775.997,725.852 777.328,665.681 778.659,606.423 779.99,551.685 781.32,504.785 782.651,468.534 783.982,445.077 785.313,435.659 786.644,440.749 \n",
       "  787.974,459.991 789.305,492.176 790.636,535.308 791.967,586.812 793.297,643.483 794.628,701.788 795.959,758.109 797.29,809.001 798.621,851.392 799.951,882.73 \n",
       "  801.282,901.183 802.613,905.719 803.944,896.176 805.274,873.232 806.605,838.372 807.936,793.791 809.267,742.256 810.598,686.921 811.928,631.18 813.259,578.432 \n",
       "  814.59,531.879 815.921,494.322 817.252,467.996 818.582,454.343 819.913,454.094 821.244,467.216 822.575,492.87 823.905,529.456 825.236,574.799 826.567,626.069 \n",
       "  827.898,680.065 829.229,733.427 830.559,782.886 831.89,825.446 833.221,858.56 834.552,880.248 835.883,889.265 837.213,885.156 838.544,868.273 839.875,839.739 \n",
       "  841.206,801.364 842.536,755.535 843.867,705.064 845.198,653.051 846.529,602.674 847.86,557.002 849.19,518.79 850.521,490.323 851.852,473.197 853.183,468.356 \n",
       "  854.513,476.046 855.844,495.757 857.175,526.249 858.506,565.718 859.837,611.694 861.167,661.298 862.498,711.441 863.829,759.041 865.16,801.209 866.491,835.389 \n",
       "  867.821,859.553 869.152,872.301 870.483,872.952 871.814,861.548 873.144,838.865 874.475,806.351 875.806,766.043 877.137,720.424 878.468,672.35 879.798,624.702 \n",
       "  881.129,580.327 882.46,541.879 883.791,511.659 885.121,491.462 886.452,482.577 887.783,485.509 889.114,499.987 890.445,525.035 891.775,559.055 893.106,599.92 \n",
       "  894.437,645.101 895.768,691.798 897.099,737.157 898.429,778.414 899.76,813.116 901.091,839.206 902.422,855.14 903.752,859.992 905.083,853.523 906.414,836.191 \n",
       "  907.745,809.121 909.076,774.044 910.406,733.152 911.737,688.989 913.068,644.254 914.399,601.68 915.729,563.819 917.06,532.927 918.391,510.849 919.722,498.89 \n",
       "  921.053,497.725 922.383,507.365 923.714,527.156 925.045,555.817 926.376,591.543 927.707,632.129 929.037,675.076 930.368,717.756 931.699,757.565 933.03,792.092 \n",
       "  934.36,819.238 935.691,837.409 937.022,845.571 938.353,843.287 939.684,830.753 941.014,808.788 942.345,778.787 943.676,742.628 945.007,702.579 946.338,661.103 \n",
       "  947.668,620.71 948.999,583.855 950.33,552.761 951.661,529.296 952.991,514.845 954.322,510.243 955.653,515.696 956.984,530.806 958.315,554.592 959.645,585.56 \n",
       "  960.976,621.784 962.307,661.026 963.638,700.877 964.968,738.899 966.299,772.823 967.63,800.646 968.961,820.717 970.292,831.851 971.622,833.318 972.953,825.064 \n",
       "  974.284,807.674 975.615,782.288 976.946,750.513 978.276,714.325 979.607,675.977 980.938,637.827 982.269,602.187 983.599,571.198 984.93,546.707 986.261,530.161 \n",
       "  987.592,522.52 988.923,524.19 990.253,535.015 991.584,554.268 992.915,580.728 994.246,612.756 995.576,648.329 996.907,685.305 998.238,721.468 999.569,754.647 \n",
       "  1000.9,782.848 1002.23,804.377 1003.56,817.956 1004.89,822.713 1006.22,818.406 1007.55,805.345 1008.88,784.397 1010.22,756.895 1011.55,724.562 1012.88,689.398 \n",
       "  1014.21,653.588 1015.54,619.325 1016.87,588.674 1018.2,563.46 1019.53,545.175 1020.86,534.886 1022.19,533.175 1023.52,540.09 1024.85,555.16 1026.18,577.41 \n",
       "  1027.52,605.456 1028.85,637.558 1030.18,671.743 1031.51,705.914 1032.84,737.987 1034.17,766.017 1035.5,788.349 1036.83,803.69 1038.16,811.145 1039.49,810.298 \n",
       "  1040.82,801.232 1042.15,784.701 1043.48,761.725 1044.82,733.747 1046.15,702.476 1047.48,669.558 1048.81,637.026 1050.14,606.885 1051.47,580.981 1052.8,560.879 \n",
       "  1054.13,547.84 1055.46,542.645 1056.79,545.552 1058.12,556.325 1059.45,574.253 1060.78,598.201 1062.12,626.662 1063.45,657.864 1064.78,689.893 1066.11,720.8 \n",
       "  1067.44,748.717 1068.77,771.964 1070.1,789.154 1071.43,799.279 1072.76,801.767 1074.09,796.519 1075.42,783.903 1076.75,764.74 1078.09,740.232 1079.42,711.912 \n",
       "  1080.75,681.52 1082.08,650.911 1083.41,621.939 1084.74,596.351 1086.07,575.654 1087.4,561.07 1088.73,553.451 1090.06,553.23 1091.39,560.39 1092.72,574.328 \n",
       "  1094.05,594.171 1095.39,618.67 1096.72,646.326 1098.05,675.684 1099.38,704.934 1100.71,732.272 1102.04,756.026 1103.37,774.757 1104.7,787.293 1106.03,792.877 \n",
       "  1107.36,791.221 1108.69,782.477 1110.02,767.227 1111.35,746.441 1112.69,721.431 1114.02,693.756 1115.35,665.117 1116.68,637.259 1118.01,611.866 1119.34,590.468 \n",
       "  1120.67,574.339 1122,564.429 1123.33,561.3 1124.66,565.095 1125.99,575.542 1127.32,591.957 1128.65,613.309 1129.99,638.263 1131.32,665.284 1132.65,692.732 \n",
       "  1133.98,718.931 1135.31,742.292 1136.64,761.401 1137.97,775.119 1139.3,782.683 1140.63,783.683 1141.96,778.083 1143.29,766.244 1144.62,748.909 1145.95,727.107 \n",
       "  1147.29,702.202 1148.62,675.753 1149.95,649.405 1151.28,624.775 1152.61,603.355 1153.94,586.438 1155.27,575.022 1156.6,569.763 1157.93,570.928 1159.26,578.403 \n",
       "  1160.59,591.692 1161.92,609.953 1163.26,632.057 1164.59,656.637 1165.92,682.185 1167.25,707.134 1168.58,729.965 1169.91,749.315 1171.24,764.052 1172.57,773.311 \n",
       "  1173.9,776.556 1175.23,773.615 1176.56,764.638 1177.89,750.209 1179.22,731.247 1180.56,708.957 1181.89,684.725 1183.22,660.045 1184.55,636.438 1185.88,615.337 \n",
       "  1187.21,598.004 1188.54,585.455 1189.87,578.419 1191.2,577.288 1192.53,582.099 1193.86,592.52 1195.19,607.885 1196.52,627.221 1197.86,649.331 1199.19,672.856 \n",
       "  1200.52,696.367 1201.85,718.43 1203.18,737.708 1204.51,753.039 1205.84,763.509 1207.17,768.51 1208.5,767.816 1209.83,761.505 1211.16,749.974 1212.49,733.936 \n",
       "  1213.82,714.38 1215.16,692.481 1216.49,669.598 1217.82,647.152 1219.15,626.529 1220.48,608.984 1221.81,595.566 1223.14,587.066 1224.47,583.975 1225.8,586.443 \n",
       "  1227.13,594.279 1228.46,606.965 1229.79,623.695 1231.13,643.427 1232.46,664.949 1233.79,686.951 1235.12,708.089 1236.45,727.078 1237.78,742.77 1239.11,754.226 \n",
       "  1240.44,760.773 1241.77,762.082 1243.1,758.109 1244.43,749.11 1245.76,735.646 1247.09,718.549 1248.43,698.845 1249.76,677.758 1251.09,656.602 1252.42,636.684 \n",
       "  1253.75,619.22 1255.08,605.259 1256.41,595.64 1257.74,590.916 1259.07,591.334 1260.4,596.824 1261.73,607.02 1263.06,621.271 1264.39,638.693 1265.73,658.202 \n",
       "  1267.06,678.603 1268.39,698.66 1269.72,717.152 1271.05,732.958 1272.38,745.129 1273.71,752.941 1275.04,755.94 1276.37,753.979 1277.7,747.255 1279.03,736.195 \n",
       "  1280.36,721.475 1281.69,703.992 1283.03,684.814 1284.36,665.103 1285.69,646.072 1287.02,628.897 1288.35,614.628 1289.68,604.122 1291.01,597.997 1292.34,596.599 \n",
       "  1293.67,599.979 1295,607.897 1296.33,619.837 1297.66,635.044 1299,652.574 1300.33,671.345 1301.66,690.212 1302.99,708.021 1304.32,723.704 1305.65,736.326 \n",
       "  1306.98,745.133 1308.31,749.607 1309.64,749.497 1310.97,744.874 1312.3,736.045 1313.63,723.551 1314.96,708.158 1316.3,690.81 1317.63,672.565 1318.96,654.535 \n",
       "  1320.29,637.824 1321.62,623.461 1322.95,612.319 1324.28,605.063 1325.61,602.108 1326.94,603.609 1328.27,609.442 1329.6,619.22 1330.93,632.32 1332.26,647.92 \n",
       "  1333.6,665.059 1334.93,682.689 1336.26,699.743 1337.59,715.183 1338.92,728.075 1340.25,737.645 1341.58,743.329 1342.91,744.804 1344.24,742.041 1345.57,735.232 \n",
       "  1346.9,724.798 1348.23,711.381 1349.56,695.804 1350.9,679.007 1352.23,662.027 1353.56,645.919 1354.89,631.671 1356.22,620.148 1357.55,612.034 1358.88,607.801 \n",
       "  1360.21,607.685 1361.54,611.665 1362.87,619.466 1364.2,630.587 1365.53,644.326 1366.86,659.834 1368.2,676.16 1369.53,692.315 1370.86,707.313 1372.19,720.245 \n",
       "  1373.52,730.334 1374.85,736.979 1376.18,739.797 1377.51,738.669 1378.84,733.691 1380.17,725.172 1381.5,713.638 1382.83,699.8 1384.17,684.491 1385.5,668.657 \n",
       "  1386.83,653.284 1388.16,639.318 1389.49,627.608 1390.82,618.854 1392.15,613.577 1393.48,612.072 1394.81,614.401 1396.14,620.387 1397.47,629.646 1398.8,641.591 \n",
       "  1400.13,655.486 1401.47,670.47 1402.8,685.629 1404.13,700.046 1405.46,712.847 1406.79,723.259 1408.12,730.658 1409.45,734.61 1410.78,734.895 1412.11,731.549 \n",
       "  1413.44,724.795 1414.77,715.049 1416.1,702.908 1417.43,689.116 1418.77,674.516 1420.1,659.997 1421.43,646.448 1422.76,634.705 1424.09,625.481 1425.42,619.329 \n",
       "  1426.75,616.601 1428.08,617.444 1429.41,621.781 1430.74,629.323 1432.07,639.586 1433.4,651.926 1434.73,665.583 1436.07,679.72 1437.4,693.482 1438.73,706.03 \n",
       "  1440.06,716.606 1441.39,724.573 1442.72,729.462 1444.05,730.992 1445.38,729.118 1446.71,723.976 1448.04,715.883 1449.37,705.337 1450.7,692.987 1452.04,679.576 \n",
       "  1453.37,665.934 1454.7,652.907 1456.03,641.297 1457.36,631.808 1458.69,625.004 1460.02,621.284 1461.35,620.854 1462.68,623.72 1464.01,629.682 1465.34,638.354 \n",
       "  1466.67,649.188 1468,661.514 1469.34,674.576 1470.67,687.581 1472,699.737 1473.33,710.306 1474.66,718.651 1475.99,724.277 1477.32,726.855 1478.65,726.273 \n",
       "  1479.98,722.586 1481.31,716.026 1482.64,706.998 1483.97,696.058 1485.3,683.864 1486.64,671.172 1487.97,658.77 1489.3,647.424 1490.63,637.823 1491.96,630.542 \n",
       "  1493.29,626.015 1494.62,624.495 1495.95,626.054 1497.28,630.57 1498.61,637.75 1499.94,647.138 1501.27,658.152 1502.6,670.115 1503.94,682.299 1505.27,693.959 \n",
       "  1506.6,704.387 1507.93,712.954 1509.26,719.146 1510.59,722.601 1511.92,723.148 1513.25,720.773 1514.58,715.628 1515.91,708.033 1517.24,698.457 1518.57,687.475 \n",
       "  1519.91,675.768 1521.24,664.067 1522.57,653.093 1523.9,643.517 1525.23,635.913 1526.56,630.731 1527.89,628.276 1529.22,628.678 1530.55,631.887 1531.88,637.69 \n",
       "  1533.21,645.717 1534.54,655.467 1535.87,666.337 1537.21,677.663 1538.54,688.752 1539.87,698.931 1541.2,707.581 1542.53,714.185 1543.86,718.352 1545.19,719.862 \n",
       "  1546.52,718.644 1547.85,714.779 1549.18,708.509 1550.51,700.225 1551.84,690.421 1553.17,679.708 1554.51,668.754 1555.84,658.237 1557.17,648.801 1558.5,641.015 \n",
       "  1559.83,635.347 1561.16,632.126 1562.49,631.53 1563.82,633.573 1565.15,638.114 1566.48,644.859 1567.81,653.39 1569.14,663.177 1570.47,673.62 1571.81,684.078 \n",
       "  1573.14,693.911 1574.47,702.525 1575.8,709.41 1577.13,714.167 1578.46,716.519 1579.79,716.335 1581.12,713.635 1582.45,708.645 1583.78,701.673 1585.11,693.157 \n",
       "  1586.44,683.618 1587.78,673.556 1589.11,663.589 1590.44,654.34 1591.77,646.372 1593.1,640.167 1594.43,636.114 1595.76,634.456 1597.09,635.276 1598.42,638.505 \n",
       "  1599.75,643.931 1601.08,651.209 1602.41,659.882 1603.74,669.411 1605.08,679.209 1606.41,688.679 1607.74,697.248 1609.07,704.402 1610.4,709.716 1611.73,712.878 \n",
       "  1613.06,713.706 1614.39,712.165 1615.72,708.366 1617.05,702.554 1618.38,695.099 1619.71,686.462 1621.04,677.174 1622.38,667.802 1623.71,658.915 1625.04,651.054 \n",
       "  1626.37,644.693 1627.7,640.21 1629.03,637.853 1630.36,637.748 1631.69,639.894 1633.02,644.152 1634.35,650.257 1635.68,657.849 1637.01,666.451 1638.34,675.523 \n",
       "  1639.68,684.499 1641.01,692.832 1642.34,700.017 1643.67,705.635 1645,709.361 1646.33,710.979 1647.66,710.4 1648.99,707.668 1650.32,702.935 1651.65,696.504 \n",
       "  1652.98,688.785 1654.31,680.266 1655.64,671.473 1656.98,662.943 1658.31,655.198 1659.64,648.705 1660.97,643.849 1662.3,640.911 1663.63,640.055 1664.96,641.322 \n",
       "  1666.29,644.622 1667.62,649.743 1668.95,656.36 1670.28,664.06 1671.61,672.37 1672.95,680.783 1674.28,688.787 1675.61,695.896 1676.94,701.681 1678.27,705.797 \n",
       "  1679.6,708.002 1680.93,708.19 1682.26,706.363 1683.59,702.636 1684.92,697.242 1686.25,690.513 1687.58,682.852 1688.91,674.737 1690.25,666.67 1691.58,659.152 \n",
       "  1692.91,652.64 1694.24,647.525 1695.57,644.109 1696.9,642.593 1698.23,643.054 1699.56,645.448 1700.89,649.616 1702.22,655.294 1703.55,662.127 1704.88,669.694 \n",
       "  1706.21,677.531 1707.55,685.161 1708.88,692.119 1710.21,697.983 1711.54,702.404 1712.87,705.119 1714.2,705.988 1715.53,704.97 1716.86,702.134 1718.19,697.656 \n",
       "  1719.52,691.815 1720.85,684.959 1722.18,677.516 1723.51,669.95 1724.85,662.728 1726.18,656.293 1727.51,651.031 1728.84,647.26 1730.17,645.197 1731.5,644.955 \n",
       "  1732.83,646.535 1734.16,649.827 1735.49,654.62 1736.82,660.616 1738.15,667.445 1739.48,674.687 1740.82,681.897 1742.15,688.636 1743.48,694.495 1744.81,699.129 \n",
       "  1746.14,702.27 1747.47,703.736 1748.8,703.444 1750.13,701.42 1751.46,697.831 1752.79,692.896 1754.12,686.924 1755.45,680.28 1756.78,673.313 1758.12,666.451 \n",
       "  1759.45,660.122 1760.78,654.712 1762.11,650.549 1763.44,647.894 1764.77,646.905 1766.1,647.63 1767.43,650.012 1768.76,653.895 1770.09,659.032 1771.42,665.101 \n",
       "  1772.75,671.726 1774.08,678.498 1775.42,685.006 1776.75,690.855 1778.08,695.695 1779.41,699.24 1780.74,701.28 1782.07,701.701 1783.4,700.485 1784.73,697.72 \n",
       "  1786.06,693.584 1787.39,688.337 1788.72,682.306 1790.05,675.862 1791.38,669.395 1792.72,663.3 1794.05,657.947 1795.38,653.659 1796.71,650.69 1798.04,649.203 \n",
       "  1799.37,649.277 1800.7,650.902 1802.03,653.974 1803.36,658.303 1804.69,663.632 1806.02,669.625 1807.35,675.905 1808.69,682.086 1810.02,687.79 1811.35,692.672 \n",
       "  1812.68,696.436 1814.01,698.861 1815.34,699.808 1816.67,699.233 1818,697.182 1819.33,693.788 1820.66,689.266 1821.99,683.895 1823.32,678.006 1824.65,671.961 \n",
       "  1825.99,666.131 1827.32,660.868 1828.65,656.482 1829.98,653.233 1831.31,651.311 1832.64,650.827 1833.97,651.819 1835.3,654.22 1836.63,657.87 1837.96,662.535 \n",
       "  1839.29,667.923 1840.62,673.701 1841.95,679.512 1843.29,685.002 1844.62,689.838 1845.95,693.733 1847.28,696.455 1848.61,697.852 1849.94,697.843 1851.27,696.436 \n",
       "  1852.6,693.736 1853.93,689.91 1855.26,685.192 1856.59,679.869 1857.92,674.265 1859.25,668.72 1860.59,663.576 1861.92,659.148 1863.25,655.705 1864.58,653.454 \n",
       "  1865.91,652.524 1867.24,652.962 1868.57,654.733 1869.9,657.722 1871.23,661.739 1872.56,666.529 1873.89,671.798 1875.22,677.217 1876.55,682.46 1877.89,687.208 \n",
       "  1879.22,691.178 1880.55,694.133 1881.88,695.899 1883.21,696.373 1884.54,695.534 1885.87,693.44 1887.2,690.227 1888.53,686.099 1889.86,681.315 1891.19,676.17 \n",
       "  1892.52,670.981 1893.86,666.06 1895.19,661.705 1896.52,658.177 1897.85,655.687 1899.18,654.383 1900.51,654.336 1901.84,655.542 1903.17,657.91 1904.5,661.289 \n",
       "  1905.83,665.476 1907.16,670.214 1908.49,675.217 1909.82,680.178 1911.16,684.796 1912.49,688.783 1913.82,691.9 1915.15,693.958 1916.48,694.84 1917.81,694.499 \n",
       "  1919.14,692.964 1920.47,690.336 1921.8,686.782 1923.13,682.526 1924.46,677.831 1925.79,672.988 1927.12,668.288 1928.46,664.017 1929.79,660.433 1931.12,657.751 \n",
       "  1932.45,656.129 1933.78,655.661 1935.11,656.367 1936.44,658.197 1937.77,661.032 1939.1,664.691 1940.43,668.947 1941.76,673.534 1943.09,678.176 1944.42,682.59 \n",
       "  1945.76,686.509 1947.09,689.695 1948.42,691.959 1949.75,693.167 1951.08,693.262 1952.41,692.245 1953.74,690.18 1955.07,687.196 1956.4,683.477 1957.73,679.244 \n",
       "  1959.06,674.763 1960.39,670.314 1961.73,666.17 1963.06,662.582 1964.39,659.765 1965.72,657.89 1967.05,657.062 1968.38,657.325 1969.71,658.653 1971.04,660.957 \n",
       "  1972.37,664.095 1973.7,667.871 1975.03,672.052 1976.36,676.38 1977.69,680.59 1979.03,684.427 1980.36,687.662 1981.69,690.105 1983.02,691.614 1984.35,692.1 \n",
       "  1985.68,691.54 1987.01,689.96 1988.34,687.465 1989.67,684.213 1991,680.411 1992.33,676.295 1993.66,672.119 1994.99,668.139 1996.33,664.597 1997.66,661.705 \n",
       "  1998.99,659.633 2000.32,658.501 2001.65,658.372 2002.98,659.248 2004.31,661.068 2005.64,663.716 2006.97,667.025 2008.3,670.791 2009.63,674.783 2010.96,678.754 \n",
       "  2012.29,682.464 2013.63,685.69 2014.96,688.239 2016.29,689.965 2017.62,690.769 2018.95,690.607 2020.28,689.491 2021.61,687.493 2022.94,684.729 2024.27,681.375 \n",
       "  2025.6,677.643 2026.93,673.764 2028.26,669.977 2029.6,666.511 2030.93,663.573 2032.26,661.335 2033.59,659.932 2034.92,659.44 2036.25,659.887 2037.58,661.251 \n",
       "  2038.91,663.443 2040.24,666.322 2041.57,669.706 2042.9,673.385 2044.23,677.132 2045.56,680.716 2046.9,683.921 2048.23,686.553 2049.56,688.458 2050.89,689.525 \n",
       "  2052.22,689.695 2053.55,688.962 2054.88,687.379 2056.21,685.044 2057.54,682.107 2058.87,678.751 2060.2,675.178 2061.53,671.608 2062.86,668.257 2064.2,665.331 \n",
       "  2065.53,663.004 2066.86,661.415 2068.19,660.658 2069.52,660.773 2070.85,661.746 2072.18,663.511 2073.51,665.956 2074.84,668.93 2076.17,672.248 2077.5,675.707 \n",
       "  2078.83,679.095 2080.16,682.205 2081.5,684.85 2082.83,686.874 2084.16,688.162 2085.49,688.638 2086.82,688.277 2088.15,687.105 2089.48,685.216 2090.81,682.722 \n",
       "  2092.14,679.78 2093.47,676.568 2094.8,673.253 2096.13,670.042 2097.46,667.134 2098.8,664.707 2100.13,662.907 2101.46,661.849 2102.79,661.592 2104.12,662.149 \n",
       "  2105.45,663.479 2106.78,665.496 2108.11,668.073 2109.44,671.049 2110.77,674.238 2112.1,677.446 2113.43,680.475 2114.77,683.146 2116.1,685.299 2117.43,686.804 \n",
       "  2118.76,687.574 2120.09,687.565 2121.42,686.782 2122.75,685.278 2124.08,683.15 2125.41,680.532 2126.74,677.588 2128.07,674.498 2129.4,671.452 2130.73,668.632 \n",
       "  2132.07,666.208 2133.4,664.327 2134.73,663.101 2136.06,662.6 2137.39,662.851 2138.72,663.833 2140.05,665.483 2141.38,667.695 2142.71,670.332 2144.04,673.229 \n",
       "  2145.37,676.209 2146.7,679.089 2148.03,681.697 2149.37,683.873 2150.7,685.487 2152.03,686.446 2153.36,686.693 2154.69,686.218 2156.02,685.055 2157.35,683.279 \n",
       "  2158.68,681.002 2160.01,678.365 2161.34,675.532 2162.67,672.677 2164,669.972 2165.33,667.584 2166.67,665.652 2168,664.289 2169.33,663.575 2170.66,663.549 \n",
       "  2171.99,664.212 2173.32,665.506 2174.65,667.35 2175.98,669.629 2177.31,672.203 2178.64,674.938 2179.97,677.664 2181.3,680.212 2182.64,682.427 2183.97,684.175 \n",
       "  2185.3,685.346 2186.63,685.872 2187.96,685.723 2189.29,684.913 2190.62,683.496 2191.95,681.562 2193.28,679.233 2194.61,676.655 2195.94,673.985 2197.27,671.387 \n",
       "  2198.6,669.018 2199.94,667.018 2201.27,665.51 2202.6,664.581 2203.93,664.286 2205.26,664.639 2206.59,665.614 2207.92,667.148 2209.25,669.144 2210.58,671.476 \n",
       "  2211.91,674 2213.24,676.561 2214.57,679.003 2215.9,681.18 2217.24,682.96 2218.57,684.238 2219.9,684.938 2221.23,685.02 2222.56,684.483 2223.89,683.365 \n",
       "  2225.22,681.736 2226.55,679.698 2227.88,677.381 2229.21,674.924 2230.54,672.48 2231.87,670.197 2233.2,668.213 2234.54,666.647 2235.87,665.592 2237.2,665.112 \n",
       "  2238.53,665.229 2239.86,665.933 2241.19,667.178 2242.52,668.885 2243.85,670.947 2245.18,673.236 2246.51,675.612 2247.84,677.928 2249.17,680.046 2250.51,681.842 \n",
       "  2251.84,683.207 2253.17,684.061 2254.5,684.349 2255.83,684.056 2257.16,683.205 2258.49,681.85 2259.82,680.078 2261.15,678.001 2262.48,675.747 2263.81,673.455 \n",
       "  2265.14,671.266 2266.47,669.31 2267.81,667.707 2269.14,666.548 2270.47,665.903 2271.8,665.808 2273.13,666.267 2274.46,667.243 2275.79,668.676 2277.12,670.478 \n",
       "  2278.45,672.539 2279.78,674.733 2281.11,676.929 2282.44,678.989 2283.77,680.788 2285.11,682.216 2286.44,683.187 2287.77,683.645 2289.1,683.566 2290.43,682.957 \n",
       "  2291.76,681.861 2292.87,680.622 \n",
       "  \"/>\n",
       "<path clip-path=\"url(#clip830)\" d=\"\n",
       "M1881.85 153.589 L2352.76 153.589 L2352.76 32.6286 L1881.85 32.6286  Z\n",
       "  \" fill=\"#ffffff\" fill-rule=\"evenodd\" fill-opacity=\"1\"/>\n",
       "<polyline clip-path=\"url(#clip830)\" style=\"stroke:#000000; stroke-width:4; stroke-opacity:1; fill:none\" points=\"\n",
       "  1881.85,153.589 2352.76,153.589 2352.76,32.6286 1881.85,32.6286 1881.85,153.589 \n",
       "  \"/>\n",
       "<polyline clip-path=\"url(#clip830)\" style=\"stroke:#009af9; stroke-width:4; stroke-opacity:1; fill:none\" points=\"\n",
       "  1905.85,93.1086 2049.85,93.1086 \n",
       "  \"/>\n",
       "<path clip-path=\"url(#clip830)\" d=\"M 0 0 M2089.04 88.4443 Q2088.32 88.0276 2087.47 87.8424 Q2086.63 87.6341 2085.61 87.6341 Q2082 87.6341 2080.06 89.9952 Q2078.14 92.3332 2078.14 96.7313 L2078.14 110.389 L2073.85 110.389 L2073.85 84.4628 L2078.14 84.4628 L2078.14 88.4906 Q2079.48 86.1295 2081.63 84.9952 Q2083.78 83.8378 2086.86 83.8378 Q2087.3 83.8378 2087.84 83.9073 Q2088.37 83.9536 2089.02 84.0693 L2089.04 88.4443 Z\" fill=\"#000000\" fill-rule=\"evenodd\" fill-opacity=\"1\" /><path clip-path=\"url(#clip830)\" d=\"M 0 0 M2102.51 87.4489 Q2099.09 87.4489 2097.09 90.1341 Q2095.1 92.7961 2095.1 97.4489 Q2095.1 102.102 2097.07 104.787 Q2099.06 107.449 2102.51 107.449 Q2105.91 107.449 2107.91 104.764 Q2109.9 102.078 2109.9 97.4489 Q2109.9 92.8424 2107.91 90.1572 Q2105.91 87.4489 2102.51 87.4489 M2102.51 83.8378 Q2108.07 83.8378 2111.24 87.4489 Q2114.41 91.06 2114.41 97.4489 Q2114.41 103.815 2111.24 107.449 Q2108.07 111.06 2102.51 111.06 Q2096.93 111.06 2093.76 107.449 Q2090.61 103.815 2090.61 97.4489 Q2090.61 91.06 2093.76 87.4489 Q2096.93 83.8378 2102.51 83.8378 Z\" fill=\"#000000\" fill-rule=\"evenodd\" fill-opacity=\"1\" /><path clip-path=\"url(#clip830)\" d=\"M 0 0 M2123.09 77.1018 L2123.09 84.4628 L2131.86 84.4628 L2131.86 87.773 L2123.09 87.773 L2123.09 101.847 Q2123.09 105.018 2123.95 105.921 Q2124.83 106.824 2127.49 106.824 L2131.86 106.824 L2131.86 110.389 L2127.49 110.389 Q2122.56 110.389 2120.68 108.56 Q2118.81 106.708 2118.81 101.847 L2118.81 87.773 L2115.68 87.773 L2115.68 84.4628 L2118.81 84.4628 L2118.81 77.1018 L2123.09 77.1018 Z\" fill=\"#000000\" fill-rule=\"evenodd\" fill-opacity=\"1\" /><path clip-path=\"url(#clip830)\" d=\"M 0 0 M2146.38 87.4489 Q2142.95 87.4489 2140.96 90.1341 Q2138.97 92.7961 2138.97 97.4489 Q2138.97 102.102 2140.94 104.787 Q2142.93 107.449 2146.38 107.449 Q2149.78 107.449 2151.77 104.764 Q2153.76 102.078 2153.76 97.4489 Q2153.76 92.8424 2151.77 90.1572 Q2149.78 87.4489 2146.38 87.4489 M2146.38 83.8378 Q2151.93 83.8378 2155.1 87.4489 Q2158.28 91.06 2158.28 97.4489 Q2158.28 103.815 2155.1 107.449 Q2151.93 111.06 2146.38 111.06 Q2140.8 111.06 2137.63 107.449 Q2134.48 103.815 2134.48 97.4489 Q2134.48 91.06 2137.63 87.4489 Q2140.8 83.8378 2146.38 83.8378 Z\" fill=\"#000000\" fill-rule=\"evenodd\" fill-opacity=\"1\" /><path clip-path=\"url(#clip830)\" d=\"M 0 0 M2177.77 88.4443 Q2177.05 88.0276 2176.19 87.8424 Q2175.36 87.6341 2174.34 87.6341 Q2170.73 87.6341 2168.78 89.9952 Q2166.86 92.3332 2166.86 96.7313 L2166.86 110.389 L2162.58 110.389 L2162.58 84.4628 L2166.86 84.4628 L2166.86 88.4906 Q2168.21 86.1295 2170.36 84.9952 Q2172.51 83.8378 2175.59 83.8378 Q2176.03 83.8378 2176.56 83.9073 Q2177.09 83.9536 2177.74 84.0693 L2177.77 88.4443 Z\" fill=\"#000000\" fill-rule=\"evenodd\" fill-opacity=\"1\" /><path clip-path=\"url(#clip830)\" d=\"M 0 0 M2209.09 97.3563 Q2203.92 97.3563 2201.93 98.5368 Q2199.94 99.7174 2199.94 102.565 Q2199.94 104.833 2201.42 106.176 Q2202.93 107.495 2205.5 107.495 Q2209.04 107.495 2211.17 104.995 Q2213.32 102.472 2213.32 98.3054 L2213.32 97.3563 L2209.09 97.3563 M2217.58 95.597 L2217.58 110.389 L2213.32 110.389 L2213.32 106.453 Q2211.86 108.815 2209.69 109.949 Q2207.51 111.06 2204.36 111.06 Q2200.38 111.06 2198.02 108.838 Q2195.68 106.592 2195.68 102.842 Q2195.68 98.4674 2198.6 96.2452 Q2201.54 94.023 2207.35 94.023 L2213.32 94.023 L2213.32 93.6063 Q2213.32 90.6665 2211.38 89.0693 Q2209.46 87.4489 2205.96 87.4489 Q2203.74 87.4489 2201.63 87.9813 Q2199.52 88.5137 2197.58 89.5785 L2197.58 85.6434 Q2199.92 84.7406 2202.12 84.3008 Q2204.32 83.8378 2206.4 83.8378 Q2212.02 83.8378 2214.8 86.7545 Q2217.58 89.6711 2217.58 95.597 Z\" fill=\"#000000\" fill-rule=\"evenodd\" fill-opacity=\"1\" /><path clip-path=\"url(#clip830)\" d=\"M 0 0 M2243.6 94.7406 L2243.6 110.389 L2239.34 110.389 L2239.34 94.8794 Q2239.34 91.1989 2237.9 89.3702 Q2236.47 87.5415 2233.6 87.5415 Q2230.15 87.5415 2228.16 89.7406 Q2226.17 91.9396 2226.17 95.7359 L2226.17 110.389 L2221.89 110.389 L2221.89 84.4628 L2226.17 84.4628 L2226.17 88.4906 Q2227.7 86.1526 2229.76 84.9952 Q2231.84 83.8378 2234.55 83.8378 Q2239.02 83.8378 2241.31 86.6156 Q2243.6 89.3702 2243.6 94.7406 Z\" fill=\"#000000\" fill-rule=\"evenodd\" fill-opacity=\"1\" /><path clip-path=\"url(#clip830)\" d=\"M 0 0 M2265.13 97.1248 Q2265.13 92.4952 2263.21 89.9489 Q2261.31 87.4026 2257.86 87.4026 Q2254.43 87.4026 2252.51 89.9489 Q2250.61 92.4952 2250.61 97.1248 Q2250.61 101.731 2252.51 104.278 Q2254.43 106.824 2257.86 106.824 Q2261.31 106.824 2263.21 104.278 Q2265.13 101.731 2265.13 97.1248 M2269.39 107.171 Q2269.39 113.791 2266.45 117.009 Q2263.51 120.25 2257.44 120.25 Q2255.2 120.25 2253.21 119.902 Q2251.21 119.578 2249.34 118.884 L2249.34 114.74 Q2251.21 115.759 2253.04 116.245 Q2254.87 116.731 2256.77 116.731 Q2260.96 116.731 2263.04 114.532 Q2265.13 112.356 2265.13 107.935 L2265.13 105.828 Q2263.81 108.12 2261.75 109.254 Q2259.69 110.389 2256.82 110.389 Q2252.05 110.389 2249.13 106.754 Q2246.21 103.12 2246.21 97.1248 Q2246.21 91.1063 2249.13 87.4721 Q2252.05 83.8378 2256.82 83.8378 Q2259.69 83.8378 2261.75 84.9721 Q2263.81 86.1063 2265.13 88.398 L2265.13 84.4628 L2269.39 84.4628 L2269.39 107.171 Z\" fill=\"#000000\" fill-rule=\"evenodd\" fill-opacity=\"1\" /><path clip-path=\"url(#clip830)\" d=\"M 0 0 M2273.85 74.3703 L2278.11 74.3703 L2278.11 110.389 L2273.85 110.389 L2273.85 74.3703 Z\" fill=\"#000000\" fill-rule=\"evenodd\" fill-opacity=\"1\" /><path clip-path=\"url(#clip830)\" d=\"M 0 0 M2304.76 96.3609 L2304.76 98.4442 L2285.17 98.4442 Q2285.45 102.842 2287.81 105.157 Q2290.2 107.449 2294.43 107.449 Q2296.89 107.449 2299.18 106.847 Q2301.49 106.245 2303.76 105.041 L2303.76 109.069 Q2301.47 110.041 2299.06 110.551 Q2296.65 111.06 2294.18 111.06 Q2287.97 111.06 2284.34 107.449 Q2280.73 103.838 2280.73 97.6804 Q2280.73 91.3146 2284.15 87.5878 Q2287.6 83.8378 2293.44 83.8378 Q2298.67 83.8378 2301.7 87.2174 Q2304.76 90.5739 2304.76 96.3609 M2300.5 95.1109 Q2300.45 91.6156 2298.53 89.5322 Q2296.63 87.4489 2293.48 87.4489 Q2289.92 87.4489 2287.77 89.4628 Q2285.64 91.4767 2285.31 95.1341 L2300.5 95.1109 Z\" fill=\"#000000\" fill-rule=\"evenodd\" fill-opacity=\"1\" /></svg>\n"
      ]
     },
     "execution_count": 13,
     "metadata": {},
     "output_type": "execute_result"
    }
   ],
   "source": [
    "using Plots\n",
    "angle = get_state_series(sim, (\"generator-102-1\", :δ))\n",
    "plot(angle, xlabel=\"time\", ylabel=\"rotor angle [rad]\", label=\"rotor angle\")\n",
    "#savefig(\"rotor_angle_OMIB.png\")"
   ]
  },
  {
   "cell_type": "code",
   "execution_count": 14,
   "metadata": {},
   "outputs": [
    {
     "data": {
      "image/svg+xml": [
       "<?xml version=\"1.0\" encoding=\"utf-8\"?>\n",
       "<svg xmlns=\"http://www.w3.org/2000/svg\" xmlns:xlink=\"http://www.w3.org/1999/xlink\" width=\"600\" height=\"400\" viewBox=\"0 0 2400 1600\">\n",
       "<defs>\n",
       "  <clipPath id=\"clip870\">\n",
       "    <rect x=\"0\" y=\"0\" width=\"2400\" height=\"1600\"/>\n",
       "  </clipPath>\n",
       "</defs>\n",
       "<path clip-path=\"url(#clip870)\" d=\"\n",
       "M0 1600 L2400 1600 L2400 0 L0 0  Z\n",
       "  \" fill=\"#ffffff\" fill-rule=\"evenodd\" fill-opacity=\"1\"/>\n",
       "<defs>\n",
       "  <clipPath id=\"clip871\">\n",
       "    <rect x=\"480\" y=\"0\" width=\"1681\" height=\"1600\"/>\n",
       "  </clipPath>\n",
       "</defs>\n",
       "<path clip-path=\"url(#clip870)\" d=\"\n",
       "M262.32 1423.18 L2352.76 1423.18 L2352.76 47.2441 L262.32 47.2441  Z\n",
       "  \" fill=\"#ffffff\" fill-rule=\"evenodd\" fill-opacity=\"1\"/>\n",
       "<defs>\n",
       "  <clipPath id=\"clip872\">\n",
       "    <rect x=\"262\" y=\"47\" width=\"2091\" height=\"1377\"/>\n",
       "  </clipPath>\n",
       "</defs>\n",
       "<polyline clip-path=\"url(#clip872)\" style=\"stroke:#000000; stroke-width:2; stroke-opacity:0.1; fill:none\" points=\"\n",
       "  321.483,1423.18 321.483,47.2441 \n",
       "  \"/>\n",
       "<polyline clip-path=\"url(#clip872)\" style=\"stroke:#000000; stroke-width:2; stroke-opacity:0.1; fill:none\" points=\"\n",
       "  978.853,1423.18 978.853,47.2441 \n",
       "  \"/>\n",
       "<polyline clip-path=\"url(#clip872)\" style=\"stroke:#000000; stroke-width:2; stroke-opacity:0.1; fill:none\" points=\"\n",
       "  1636.22,1423.18 1636.22,47.2441 \n",
       "  \"/>\n",
       "<polyline clip-path=\"url(#clip872)\" style=\"stroke:#000000; stroke-width:2; stroke-opacity:0.1; fill:none\" points=\"\n",
       "  2293.59,1423.18 2293.59,47.2441 \n",
       "  \"/>\n",
       "<polyline clip-path=\"url(#clip872)\" style=\"stroke:#000000; stroke-width:2; stroke-opacity:0.1; fill:none\" points=\"\n",
       "  262.32,1274.72 2352.76,1274.72 \n",
       "  \"/>\n",
       "<polyline clip-path=\"url(#clip872)\" style=\"stroke:#000000; stroke-width:2; stroke-opacity:0.1; fill:none\" points=\"\n",
       "  262.32,977.587 2352.76,977.587 \n",
       "  \"/>\n",
       "<polyline clip-path=\"url(#clip872)\" style=\"stroke:#000000; stroke-width:2; stroke-opacity:0.1; fill:none\" points=\"\n",
       "  262.32,680.453 2352.76,680.453 \n",
       "  \"/>\n",
       "<polyline clip-path=\"url(#clip872)\" style=\"stroke:#000000; stroke-width:2; stroke-opacity:0.1; fill:none\" points=\"\n",
       "  262.32,383.32 2352.76,383.32 \n",
       "  \"/>\n",
       "<polyline clip-path=\"url(#clip872)\" style=\"stroke:#000000; stroke-width:2; stroke-opacity:0.1; fill:none\" points=\"\n",
       "  262.32,86.1857 2352.76,86.1857 \n",
       "  \"/>\n",
       "<polyline clip-path=\"url(#clip870)\" style=\"stroke:#000000; stroke-width:4; stroke-opacity:1; fill:none\" points=\"\n",
       "  262.32,1423.18 2352.76,1423.18 \n",
       "  \"/>\n",
       "<polyline clip-path=\"url(#clip870)\" style=\"stroke:#000000; stroke-width:4; stroke-opacity:1; fill:none\" points=\"\n",
       "  262.32,1423.18 262.32,47.2441 \n",
       "  \"/>\n",
       "<polyline clip-path=\"url(#clip870)\" style=\"stroke:#000000; stroke-width:4; stroke-opacity:1; fill:none\" points=\"\n",
       "  321.483,1423.18 321.483,1406.67 \n",
       "  \"/>\n",
       "<polyline clip-path=\"url(#clip870)\" style=\"stroke:#000000; stroke-width:4; stroke-opacity:1; fill:none\" points=\"\n",
       "  978.853,1423.18 978.853,1406.67 \n",
       "  \"/>\n",
       "<polyline clip-path=\"url(#clip870)\" style=\"stroke:#000000; stroke-width:4; stroke-opacity:1; fill:none\" points=\"\n",
       "  1636.22,1423.18 1636.22,1406.67 \n",
       "  \"/>\n",
       "<polyline clip-path=\"url(#clip870)\" style=\"stroke:#000000; stroke-width:4; stroke-opacity:1; fill:none\" points=\"\n",
       "  2293.59,1423.18 2293.59,1406.67 \n",
       "  \"/>\n",
       "<polyline clip-path=\"url(#clip870)\" style=\"stroke:#000000; stroke-width:4; stroke-opacity:1; fill:none\" points=\"\n",
       "  262.32,1274.72 287.405,1274.72 \n",
       "  \"/>\n",
       "<polyline clip-path=\"url(#clip870)\" style=\"stroke:#000000; stroke-width:4; stroke-opacity:1; fill:none\" points=\"\n",
       "  262.32,977.587 287.405,977.587 \n",
       "  \"/>\n",
       "<polyline clip-path=\"url(#clip870)\" style=\"stroke:#000000; stroke-width:4; stroke-opacity:1; fill:none\" points=\"\n",
       "  262.32,680.453 287.405,680.453 \n",
       "  \"/>\n",
       "<polyline clip-path=\"url(#clip870)\" style=\"stroke:#000000; stroke-width:4; stroke-opacity:1; fill:none\" points=\"\n",
       "  262.32,383.32 287.405,383.32 \n",
       "  \"/>\n",
       "<polyline clip-path=\"url(#clip870)\" style=\"stroke:#000000; stroke-width:4; stroke-opacity:1; fill:none\" points=\"\n",
       "  262.32,86.1857 287.405,86.1857 \n",
       "  \"/>\n",
       "<path clip-path=\"url(#clip870)\" d=\"M 0 0 M321.483 1445.17 Q317.872 1445.17 316.043 1448.74 Q314.238 1452.28 314.238 1459.41 Q314.238 1466.51 316.043 1470.08 Q317.872 1473.62 321.483 1473.62 Q325.117 1473.62 326.923 1470.08 Q328.752 1466.51 328.752 1459.41 Q328.752 1452.28 326.923 1448.74 Q325.117 1445.17 321.483 1445.17 M321.483 1441.47 Q327.293 1441.47 330.349 1446.07 Q333.427 1450.66 333.427 1459.41 Q333.427 1468.13 330.349 1472.74 Q327.293 1477.32 321.483 1477.32 Q315.673 1477.32 312.594 1472.74 Q309.539 1468.13 309.539 1459.41 Q309.539 1450.66 312.594 1446.07 Q315.673 1441.47 321.483 1441.47 Z\" fill=\"#000000\" fill-rule=\"evenodd\" fill-opacity=\"1\" /><path clip-path=\"url(#clip870)\" d=\"M 0 0 M955.728 1472.72 L963.367 1472.72 L963.367 1446.35 L955.057 1448.02 L955.057 1443.76 L963.321 1442.09 L967.996 1442.09 L967.996 1472.72 L975.635 1472.72 L975.635 1476.65 L955.728 1476.65 L955.728 1472.72 Z\" fill=\"#000000\" fill-rule=\"evenodd\" fill-opacity=\"1\" /><path clip-path=\"url(#clip870)\" d=\"M 0 0 M990.705 1445.17 Q987.094 1445.17 985.265 1448.74 Q983.459 1452.28 983.459 1459.41 Q983.459 1466.51 985.265 1470.08 Q987.094 1473.62 990.705 1473.62 Q994.339 1473.62 996.144 1470.08 Q997.973 1466.51 997.973 1459.41 Q997.973 1452.28 996.144 1448.74 Q994.339 1445.17 990.705 1445.17 M990.705 1441.47 Q996.515 1441.47 999.57 1446.07 Q1002.65 1450.66 1002.65 1459.41 Q1002.65 1468.13 999.57 1472.74 Q996.515 1477.32 990.705 1477.32 Q984.895 1477.32 981.816 1472.74 Q978.76 1468.13 978.76 1459.41 Q978.76 1450.66 981.816 1446.07 Q984.895 1441.47 990.705 1441.47 Z\" fill=\"#000000\" fill-rule=\"evenodd\" fill-opacity=\"1\" /><path clip-path=\"url(#clip870)\" d=\"M 0 0 M1617.37 1472.72 L1633.69 1472.72 L1633.69 1476.65 L1611.74 1476.65 L1611.74 1472.72 Q1614.41 1469.96 1618.99 1465.33 Q1623.6 1460.68 1624.78 1459.34 Q1627.02 1456.81 1627.9 1455.08 Q1628.8 1453.32 1628.8 1451.63 Q1628.8 1448.87 1626.86 1447.14 Q1624.94 1445.4 1621.84 1445.4 Q1619.64 1445.4 1617.18 1446.17 Q1614.75 1446.93 1611.98 1448.48 L1611.98 1443.76 Q1614.8 1442.62 1617.25 1442.05 Q1619.71 1441.47 1621.74 1441.47 Q1627.11 1441.47 1630.31 1444.15 Q1633.5 1446.84 1633.5 1451.33 Q1633.5 1453.46 1632.69 1455.38 Q1631.91 1457.28 1629.8 1459.87 Q1629.22 1460.54 1626.12 1463.76 Q1623.02 1466.95 1617.37 1472.72 Z\" fill=\"#000000\" fill-rule=\"evenodd\" fill-opacity=\"1\" /><path clip-path=\"url(#clip870)\" d=\"M 0 0 M1648.76 1445.17 Q1645.15 1445.17 1643.32 1448.74 Q1641.51 1452.28 1641.51 1459.41 Q1641.51 1466.51 1643.32 1470.08 Q1645.15 1473.62 1648.76 1473.62 Q1652.39 1473.62 1654.2 1470.08 Q1656.03 1466.51 1656.03 1459.41 Q1656.03 1452.28 1654.2 1448.74 Q1652.39 1445.17 1648.76 1445.17 M1648.76 1441.47 Q1654.57 1441.47 1657.62 1446.07 Q1660.7 1450.66 1660.7 1459.41 Q1660.7 1468.13 1657.62 1472.74 Q1654.57 1477.32 1648.76 1477.32 Q1642.95 1477.32 1639.87 1472.74 Q1636.81 1468.13 1636.81 1459.41 Q1636.81 1450.66 1639.87 1446.07 Q1642.95 1441.47 1648.76 1441.47 Z\" fill=\"#000000\" fill-rule=\"evenodd\" fill-opacity=\"1\" /><path clip-path=\"url(#clip870)\" d=\"M 0 0 M2284.33 1458.02 Q2287.69 1458.74 2289.56 1461 Q2291.46 1463.27 2291.46 1466.61 Q2291.46 1471.72 2287.94 1474.52 Q2284.43 1477.32 2277.94 1477.32 Q2275.77 1477.32 2273.45 1476.88 Q2271.16 1476.47 2268.71 1475.61 L2268.71 1471.1 Q2270.65 1472.23 2272.97 1472.81 Q2275.28 1473.39 2277.81 1473.39 Q2282.2 1473.39 2284.5 1471.65 Q2286.81 1469.92 2286.81 1466.61 Q2286.81 1463.55 2284.66 1461.84 Q2282.53 1460.1 2278.71 1460.1 L2274.68 1460.1 L2274.68 1456.26 L2278.89 1456.26 Q2282.34 1456.26 2284.17 1454.89 Q2286 1453.5 2286 1450.91 Q2286 1448.25 2284.1 1446.84 Q2282.23 1445.4 2278.71 1445.4 Q2276.79 1445.4 2274.59 1445.82 Q2272.39 1446.24 2269.75 1447.11 L2269.75 1442.95 Q2272.41 1442.21 2274.73 1441.84 Q2277.06 1441.47 2279.13 1441.47 Q2284.45 1441.47 2287.55 1443.9 Q2290.65 1446.3 2290.65 1450.43 Q2290.65 1453.3 2289.01 1455.29 Q2287.37 1457.25 2284.33 1458.02 Z\" fill=\"#000000\" fill-rule=\"evenodd\" fill-opacity=\"1\" /><path clip-path=\"url(#clip870)\" d=\"M 0 0 M2306.53 1445.17 Q2302.92 1445.17 2301.09 1448.74 Q2299.29 1452.28 2299.29 1459.41 Q2299.29 1466.51 2301.09 1470.08 Q2302.92 1473.62 2306.53 1473.62 Q2310.17 1473.62 2311.97 1470.08 Q2313.8 1466.51 2313.8 1459.41 Q2313.8 1452.28 2311.97 1448.74 Q2310.17 1445.17 2306.53 1445.17 M2306.53 1441.47 Q2312.34 1441.47 2315.4 1446.07 Q2318.48 1450.66 2318.48 1459.41 Q2318.48 1468.13 2315.4 1472.74 Q2312.34 1477.32 2306.53 1477.32 Q2300.72 1477.32 2297.64 1472.74 Q2294.59 1468.13 2294.59 1459.41 Q2294.59 1450.66 2297.64 1446.07 Q2300.72 1441.47 2306.53 1441.47 Z\" fill=\"#000000\" fill-rule=\"evenodd\" fill-opacity=\"1\" /><path clip-path=\"url(#clip870)\" d=\"M 0 0 M129.663 1288.07 L137.302 1288.07 L137.302 1261.7 L128.992 1263.37 L128.992 1259.11 L137.255 1257.44 L141.931 1257.44 L141.931 1288.07 L149.57 1288.07 L149.57 1292 L129.663 1292 L129.663 1288.07 Z\" fill=\"#000000\" fill-rule=\"evenodd\" fill-opacity=\"1\" /><path clip-path=\"url(#clip870)\" d=\"M 0 0 M154.64 1286.12 L159.524 1286.12 L159.524 1292 L154.64 1292 L154.64 1286.12 Z\" fill=\"#000000\" fill-rule=\"evenodd\" fill-opacity=\"1\" /><path clip-path=\"url(#clip870)\" d=\"M 0 0 M174.593 1260.52 Q170.982 1260.52 169.153 1264.08 Q167.348 1267.63 167.348 1274.76 Q167.348 1281.86 169.153 1285.43 Q170.982 1288.97 174.593 1288.97 Q178.227 1288.97 180.033 1285.43 Q181.862 1281.86 181.862 1274.76 Q181.862 1267.63 180.033 1264.08 Q178.227 1260.52 174.593 1260.52 M174.593 1256.82 Q180.403 1256.82 183.459 1261.42 Q186.538 1266.01 186.538 1274.76 Q186.538 1283.48 183.459 1288.09 Q180.403 1292.67 174.593 1292.67 Q168.783 1292.67 165.704 1288.09 Q162.649 1283.48 162.649 1274.76 Q162.649 1266.01 165.704 1261.42 Q168.783 1256.82 174.593 1256.82 Z\" fill=\"#000000\" fill-rule=\"evenodd\" fill-opacity=\"1\" /><path clip-path=\"url(#clip870)\" d=\"M 0 0 M205.774 1273.37 Q209.13 1274.08 211.005 1276.35 Q212.903 1278.62 212.903 1281.95 Q212.903 1287.07 209.385 1289.87 Q205.866 1292.67 199.385 1292.67 Q197.209 1292.67 194.894 1292.23 Q192.602 1291.82 190.149 1290.96 L190.149 1286.45 Q192.093 1287.58 194.408 1288.16 Q196.723 1288.74 199.246 1288.74 Q203.644 1288.74 205.936 1287 Q208.25 1285.27 208.25 1281.95 Q208.25 1278.9 206.098 1277.19 Q203.968 1275.45 200.149 1275.45 L196.121 1275.45 L196.121 1271.61 L200.334 1271.61 Q203.783 1271.61 205.612 1270.24 Q207.44 1268.85 207.44 1266.26 Q207.44 1263.6 205.542 1262.19 Q203.667 1260.75 200.149 1260.75 Q198.227 1260.75 196.028 1261.17 Q193.829 1261.58 191.19 1262.46 L191.19 1258.3 Q193.852 1257.56 196.167 1257.19 Q198.505 1256.82 200.565 1256.82 Q205.889 1256.82 208.991 1259.25 Q212.093 1261.65 212.093 1265.77 Q212.093 1268.64 210.45 1270.64 Q208.806 1272.6 205.774 1273.37 Z\" fill=\"#000000\" fill-rule=\"evenodd\" fill-opacity=\"1\" /><path clip-path=\"url(#clip870)\" d=\"M 0 0 M222 1288.07 L238.32 1288.07 L238.32 1292 L216.375 1292 L216.375 1288.07 Q219.037 1285.31 223.621 1280.68 Q228.227 1276.03 229.408 1274.69 Q231.653 1272.16 232.533 1270.43 Q233.436 1268.67 233.436 1266.98 Q233.436 1264.22 231.491 1262.49 Q229.57 1260.75 226.468 1260.75 Q224.269 1260.75 221.815 1261.52 Q219.385 1262.28 216.607 1263.83 L216.607 1259.11 Q219.431 1257.97 221.885 1257.39 Q224.338 1256.82 226.375 1256.82 Q231.746 1256.82 234.94 1259.5 Q238.135 1262.19 238.135 1266.68 Q238.135 1268.81 237.324 1270.73 Q236.537 1272.63 234.431 1275.22 Q233.852 1275.89 230.75 1279.11 Q227.649 1282.3 222 1288.07 Z\" fill=\"#000000\" fill-rule=\"evenodd\" fill-opacity=\"1\" /><path clip-path=\"url(#clip870)\" d=\"M 0 0 M127.58 990.932 L135.218 990.932 L135.218 964.567 L126.908 966.233 L126.908 961.974 L135.172 960.307 L139.848 960.307 L139.848 990.932 L147.487 990.932 L147.487 994.867 L127.58 994.867 L127.58 990.932 Z\" fill=\"#000000\" fill-rule=\"evenodd\" fill-opacity=\"1\" /><path clip-path=\"url(#clip870)\" d=\"M 0 0 M152.556 988.988 L157.441 988.988 L157.441 994.867 L152.556 994.867 L152.556 988.988 Z\" fill=\"#000000\" fill-rule=\"evenodd\" fill-opacity=\"1\" /><path clip-path=\"url(#clip870)\" d=\"M 0 0 M172.51 963.386 Q168.899 963.386 167.07 966.951 Q165.265 970.492 165.265 977.622 Q165.265 984.728 167.07 988.293 Q168.899 991.835 172.51 991.835 Q176.144 991.835 177.95 988.293 Q179.778 984.728 179.778 977.622 Q179.778 970.492 177.95 966.951 Q176.144 963.386 172.51 963.386 M172.51 959.682 Q178.32 959.682 181.376 964.289 Q184.454 968.872 184.454 977.622 Q184.454 986.349 181.376 990.955 Q178.32 995.539 172.51 995.539 Q166.7 995.539 163.621 990.955 Q160.566 986.349 160.566 977.622 Q160.566 968.872 163.621 964.289 Q166.7 959.682 172.51 959.682 Z\" fill=\"#000000\" fill-rule=\"evenodd\" fill-opacity=\"1\" /><path clip-path=\"url(#clip870)\" d=\"M 0 0 M203.69 976.233 Q207.047 976.951 208.922 979.219 Q210.82 981.488 210.82 984.821 Q210.82 989.937 207.301 992.738 Q203.783 995.539 197.301 995.539 Q195.126 995.539 192.811 995.099 Q190.519 994.682 188.065 993.826 L188.065 989.312 Q190.01 990.446 192.325 991.025 Q194.639 991.603 197.163 991.603 Q201.561 991.603 203.852 989.867 Q206.167 988.131 206.167 984.821 Q206.167 981.765 204.014 980.053 Q201.885 978.316 198.065 978.316 L194.038 978.316 L194.038 974.474 L198.251 974.474 Q201.7 974.474 203.528 973.108 Q205.357 971.719 205.357 969.127 Q205.357 966.465 203.459 965.053 Q201.584 963.617 198.065 963.617 Q196.144 963.617 193.945 964.034 Q191.746 964.451 189.107 965.33 L189.107 961.164 Q191.769 960.423 194.084 960.053 Q196.422 959.682 198.482 959.682 Q203.806 959.682 206.908 962.113 Q210.01 964.52 210.01 968.641 Q210.01 971.511 208.366 973.502 Q206.723 975.469 203.69 976.233 Z\" fill=\"#000000\" fill-rule=\"evenodd\" fill-opacity=\"1\" /><path clip-path=\"url(#clip870)\" d=\"M 0 0 M228.736 964.381 L216.931 982.83 L228.736 982.83 L228.736 964.381 M227.51 960.307 L233.389 960.307 L233.389 982.83 L238.32 982.83 L238.32 986.719 L233.389 986.719 L233.389 994.867 L228.736 994.867 L228.736 986.719 L213.135 986.719 L213.135 982.205 L227.51 960.307 Z\" fill=\"#000000\" fill-rule=\"evenodd\" fill-opacity=\"1\" /><path clip-path=\"url(#clip870)\" d=\"M 0 0 M127.904 693.798 L135.543 693.798 L135.543 667.433 L127.232 669.099 L127.232 664.84 L135.496 663.173 L140.172 663.173 L140.172 693.798 L147.811 693.798 L147.811 697.733 L127.904 697.733 L127.904 693.798 Z\" fill=\"#000000\" fill-rule=\"evenodd\" fill-opacity=\"1\" /><path clip-path=\"url(#clip870)\" d=\"M 0 0 M152.88 691.854 L157.765 691.854 L157.765 697.733 L152.88 697.733 L152.88 691.854 Z\" fill=\"#000000\" fill-rule=\"evenodd\" fill-opacity=\"1\" /><path clip-path=\"url(#clip870)\" d=\"M 0 0 M172.834 666.252 Q169.223 666.252 167.394 669.817 Q165.589 673.359 165.589 680.488 Q165.589 687.595 167.394 691.159 Q169.223 694.701 172.834 694.701 Q176.468 694.701 178.274 691.159 Q180.102 687.595 180.102 680.488 Q180.102 673.359 178.274 669.817 Q176.468 666.252 172.834 666.252 M172.834 662.548 Q178.644 662.548 181.7 667.155 Q184.778 671.738 184.778 680.488 Q184.778 689.215 181.7 693.821 Q178.644 698.405 172.834 698.405 Q167.024 698.405 163.945 693.821 Q160.89 689.215 160.89 680.488 Q160.89 671.738 163.945 667.155 Q167.024 662.548 172.834 662.548 Z\" fill=\"#000000\" fill-rule=\"evenodd\" fill-opacity=\"1\" /><path clip-path=\"url(#clip870)\" d=\"M 0 0 M204.014 679.099 Q207.371 679.817 209.246 682.085 Q211.144 684.354 211.144 687.687 Q211.144 692.803 207.625 695.604 Q204.107 698.405 197.626 698.405 Q195.45 698.405 193.135 697.965 Q190.843 697.548 188.389 696.692 L188.389 692.178 Q190.334 693.312 192.649 693.891 Q194.963 694.47 197.487 694.47 Q201.885 694.47 204.176 692.733 Q206.491 690.997 206.491 687.687 Q206.491 684.632 204.338 682.919 Q202.209 681.183 198.389 681.183 L194.362 681.183 L194.362 677.34 L198.575 677.34 Q202.024 677.34 203.852 675.974 Q205.681 674.585 205.681 671.993 Q205.681 669.331 203.783 667.919 Q201.908 666.484 198.389 666.484 Q196.468 666.484 194.269 666.9 Q192.07 667.317 189.431 668.197 L189.431 664.03 Q192.093 663.289 194.408 662.919 Q196.746 662.548 198.806 662.548 Q204.13 662.548 207.232 664.979 Q210.334 667.386 210.334 671.507 Q210.334 674.377 208.69 676.368 Q207.047 678.335 204.014 679.099 Z\" fill=\"#000000\" fill-rule=\"evenodd\" fill-opacity=\"1\" /><path clip-path=\"url(#clip870)\" d=\"M 0 0 M226.792 678.59 Q223.644 678.59 221.792 680.743 Q219.963 682.896 219.963 686.646 Q219.963 690.372 221.792 692.548 Q223.644 694.701 226.792 694.701 Q229.94 694.701 231.769 692.548 Q233.621 690.372 233.621 686.646 Q233.621 682.896 231.769 680.743 Q229.94 678.59 226.792 678.59 M236.074 663.937 L236.074 668.197 Q234.315 667.363 232.51 666.923 Q230.727 666.484 228.968 666.484 Q224.338 666.484 221.885 669.609 Q219.454 672.734 219.107 679.053 Q220.473 677.039 222.533 675.974 Q224.593 674.886 227.07 674.886 Q232.278 674.886 235.287 678.058 Q238.32 681.206 238.32 686.646 Q238.32 691.97 235.172 695.187 Q232.023 698.405 226.792 698.405 Q220.797 698.405 217.625 693.821 Q214.454 689.215 214.454 680.488 Q214.454 672.294 218.343 667.433 Q222.232 662.548 228.783 662.548 Q230.542 662.548 232.324 662.896 Q234.13 663.243 236.074 663.937 Z\" fill=\"#000000\" fill-rule=\"evenodd\" fill-opacity=\"1\" /><path clip-path=\"url(#clip870)\" d=\"M 0 0 M128.158 396.664 L135.797 396.664 L135.797 370.299 L127.487 371.965 L127.487 367.706 L135.751 366.04 L140.427 366.04 L140.427 396.664 L148.066 396.664 L148.066 400.6 L128.158 400.6 L128.158 396.664 Z\" fill=\"#000000\" fill-rule=\"evenodd\" fill-opacity=\"1\" /><path clip-path=\"url(#clip870)\" d=\"M 0 0 M153.135 394.72 L158.019 394.72 L158.019 400.6 L153.135 400.6 L153.135 394.72 Z\" fill=\"#000000\" fill-rule=\"evenodd\" fill-opacity=\"1\" /><path clip-path=\"url(#clip870)\" d=\"M 0 0 M173.089 369.118 Q169.478 369.118 167.649 372.683 Q165.843 376.225 165.843 383.354 Q165.843 390.461 167.649 394.026 Q169.478 397.567 173.089 397.567 Q176.723 397.567 178.528 394.026 Q180.357 390.461 180.357 383.354 Q180.357 376.225 178.528 372.683 Q176.723 369.118 173.089 369.118 M173.089 365.415 Q178.899 365.415 181.954 370.021 Q185.033 374.604 185.033 383.354 Q185.033 392.081 181.954 396.688 Q178.899 401.271 173.089 401.271 Q167.278 401.271 164.2 396.688 Q161.144 392.081 161.144 383.354 Q161.144 374.604 164.2 370.021 Q167.278 365.415 173.089 365.415 Z\" fill=\"#000000\" fill-rule=\"evenodd\" fill-opacity=\"1\" /><path clip-path=\"url(#clip870)\" d=\"M 0 0 M204.269 381.965 Q207.625 382.683 209.5 384.952 Q211.399 387.22 211.399 390.553 Q211.399 395.669 207.88 398.47 Q204.362 401.271 197.88 401.271 Q195.704 401.271 193.389 400.831 Q191.098 400.414 188.644 399.558 L188.644 395.044 Q190.589 396.178 192.903 396.757 Q195.218 397.336 197.741 397.336 Q202.139 397.336 204.431 395.6 Q206.746 393.863 206.746 390.553 Q206.746 387.498 204.593 385.785 Q202.463 384.049 198.644 384.049 L194.616 384.049 L194.616 380.206 L198.829 380.206 Q202.278 380.206 204.107 378.84 Q205.936 377.452 205.936 374.859 Q205.936 372.197 204.038 370.785 Q202.163 369.35 198.644 369.35 Q196.723 369.35 194.524 369.766 Q192.325 370.183 189.686 371.063 L189.686 366.896 Q192.348 366.155 194.663 365.785 Q197.001 365.415 199.061 365.415 Q204.385 365.415 207.487 367.845 Q210.588 370.253 210.588 374.373 Q210.588 377.243 208.945 379.234 Q207.301 381.202 204.269 381.965 Z\" fill=\"#000000\" fill-rule=\"evenodd\" fill-opacity=\"1\" /><path clip-path=\"url(#clip870)\" d=\"M 0 0 M226.468 384.188 Q223.135 384.188 221.213 385.97 Q219.315 387.752 219.315 390.877 Q219.315 394.002 221.213 395.785 Q223.135 397.567 226.468 397.567 Q229.801 397.567 231.723 395.785 Q233.644 393.979 233.644 390.877 Q233.644 387.752 231.723 385.97 Q229.824 384.188 226.468 384.188 M221.792 382.197 Q218.783 381.456 217.093 379.396 Q215.426 377.336 215.426 374.373 Q215.426 370.229 218.366 367.822 Q221.329 365.415 226.468 365.415 Q231.63 365.415 234.57 367.822 Q237.51 370.229 237.51 374.373 Q237.51 377.336 235.82 379.396 Q234.153 381.456 231.167 382.197 Q234.547 382.984 236.422 385.276 Q238.32 387.567 238.32 390.877 Q238.32 395.901 235.241 398.586 Q232.186 401.271 226.468 401.271 Q220.75 401.271 217.672 398.586 Q214.616 395.901 214.616 390.877 Q214.616 387.567 216.514 385.276 Q218.412 382.984 221.792 382.197 M220.079 374.813 Q220.079 377.498 221.746 379.002 Q223.436 380.507 226.468 380.507 Q229.477 380.507 231.167 379.002 Q232.88 377.498 232.88 374.813 Q232.88 372.127 231.167 370.623 Q229.477 369.118 226.468 369.118 Q223.436 369.118 221.746 370.623 Q220.079 372.127 220.079 374.813 Z\" fill=\"#000000\" fill-rule=\"evenodd\" fill-opacity=\"1\" /><path clip-path=\"url(#clip870)\" d=\"M 0 0 M126.931 99.5305 L134.57 99.5305 L134.57 73.1649 L126.26 74.8316 L126.26 70.5724 L134.524 68.9057 L139.2 68.9057 L139.2 99.5305 L146.839 99.5305 L146.839 103.466 L126.931 103.466 L126.931 99.5305 Z\" fill=\"#000000\" fill-rule=\"evenodd\" fill-opacity=\"1\" /><path clip-path=\"url(#clip870)\" d=\"M 0 0 M151.908 97.5861 L156.792 97.5861 L156.792 103.466 L151.908 103.466 L151.908 97.5861 Z\" fill=\"#000000\" fill-rule=\"evenodd\" fill-opacity=\"1\" /><path clip-path=\"url(#clip870)\" d=\"M 0 0 M171.862 71.9844 Q168.251 71.9844 166.422 75.5492 Q164.616 79.0908 164.616 86.2204 Q164.616 93.3269 166.422 96.8917 Q168.251 100.433 171.862 100.433 Q175.496 100.433 177.302 96.8917 Q179.13 93.3269 179.13 86.2204 Q179.13 79.0908 177.302 75.5492 Q175.496 71.9844 171.862 71.9844 M171.862 68.2807 Q177.672 68.2807 180.727 72.8872 Q183.806 77.4705 183.806 86.2204 Q183.806 94.9472 180.727 99.5537 Q177.672 104.137 171.862 104.137 Q166.052 104.137 162.973 99.5537 Q159.917 94.9472 159.917 86.2204 Q159.917 77.4705 162.973 72.8872 Q166.052 68.2807 171.862 68.2807 Z\" fill=\"#000000\" fill-rule=\"evenodd\" fill-opacity=\"1\" /><path clip-path=\"url(#clip870)\" d=\"M 0 0 M201.723 72.9798 L189.917 91.4287 L201.723 91.4287 L201.723 72.9798 M200.496 68.9057 L206.375 68.9057 L206.375 91.4287 L211.306 91.4287 L211.306 95.3176 L206.375 95.3176 L206.375 103.466 L201.723 103.466 L201.723 95.3176 L186.121 95.3176 L186.121 90.8037 L200.496 68.9057 Z\" fill=\"#000000\" fill-rule=\"evenodd\" fill-opacity=\"1\" /><path clip-path=\"url(#clip870)\" d=\"M 0 0 M226.375 71.9844 Q222.764 71.9844 220.936 75.5492 Q219.13 79.0908 219.13 86.2204 Q219.13 93.3269 220.936 96.8917 Q222.764 100.433 226.375 100.433 Q230.01 100.433 231.815 96.8917 Q233.644 93.3269 233.644 86.2204 Q233.644 79.0908 231.815 75.5492 Q230.01 71.9844 226.375 71.9844 M226.375 68.2807 Q232.186 68.2807 235.241 72.8872 Q238.32 77.4705 238.32 86.2204 Q238.32 94.9472 235.241 99.5537 Q232.186 104.137 226.375 104.137 Q220.565 104.137 217.487 99.5537 Q214.431 94.9472 214.431 86.2204 Q214.431 77.4705 217.487 72.8872 Q220.565 68.2807 226.375 68.2807 Z\" fill=\"#000000\" fill-rule=\"evenodd\" fill-opacity=\"1\" /><path clip-path=\"url(#clip870)\" d=\"M 0 0 M1253.3 1510.27 L1253.3 1520.4 L1265.37 1520.4 L1265.37 1524.95 L1253.3 1524.95 L1253.3 1544.3 Q1253.3 1548.66 1254.48 1549.9 Q1255.69 1551.14 1259.35 1551.14 L1265.37 1551.14 L1265.37 1556.04 L1259.35 1556.04 Q1252.57 1556.04 1249.99 1553.53 Q1247.41 1550.98 1247.41 1544.3 L1247.41 1524.95 L1243.12 1524.95 L1243.12 1520.4 L1247.41 1520.4 L1247.41 1510.27 L1253.3 1510.27 Z\" fill=\"#000000\" fill-rule=\"evenodd\" fill-opacity=\"1\" /><path clip-path=\"url(#clip870)\" d=\"M 0 0 M1271.51 1520.4 L1277.36 1520.4 L1277.36 1556.04 L1271.51 1556.04 L1271.51 1520.4 M1271.51 1506.52 L1277.36 1506.52 L1277.36 1513.93 L1271.51 1513.93 L1271.51 1506.52 Z\" fill=\"#000000\" fill-rule=\"evenodd\" fill-opacity=\"1\" /><path clip-path=\"url(#clip870)\" d=\"M 0 0 M1311.26 1527.24 Q1313.46 1523.29 1316.51 1521.41 Q1319.57 1519.54 1323.71 1519.54 Q1329.28 1519.54 1332.3 1523.45 Q1335.32 1527.33 1335.32 1534.53 L1335.32 1556.04 L1329.44 1556.04 L1329.44 1534.72 Q1329.44 1529.59 1327.62 1527.11 Q1325.81 1524.63 1322.08 1524.63 Q1317.53 1524.63 1314.89 1527.65 Q1312.25 1530.68 1312.25 1535.9 L1312.25 1556.04 L1306.36 1556.04 L1306.36 1534.72 Q1306.36 1529.56 1304.55 1527.11 Q1302.73 1524.63 1298.94 1524.63 Q1294.46 1524.63 1291.81 1527.68 Q1289.17 1530.71 1289.17 1535.9 L1289.17 1556.04 L1283.28 1556.04 L1283.28 1520.4 L1289.17 1520.4 L1289.17 1525.93 Q1291.18 1522.66 1293.98 1521.1 Q1296.78 1519.54 1300.63 1519.54 Q1304.51 1519.54 1307.22 1521.51 Q1309.96 1523.48 1311.26 1527.24 Z\" fill=\"#000000\" fill-rule=\"evenodd\" fill-opacity=\"1\" /><path clip-path=\"url(#clip870)\" d=\"M 0 0 M1371.96 1536.76 L1371.96 1539.62 L1345.03 1539.62 Q1345.41 1545.67 1348.66 1548.85 Q1351.94 1552 1357.76 1552 Q1361.14 1552 1364.29 1551.17 Q1367.47 1550.35 1370.59 1548.69 L1370.59 1554.23 Q1367.44 1555.57 1364.13 1556.27 Q1360.82 1556.97 1357.41 1556.97 Q1348.88 1556.97 1343.89 1552 Q1338.92 1547.04 1338.92 1538.57 Q1338.92 1529.82 1343.63 1524.69 Q1348.37 1519.54 1356.39 1519.54 Q1363.59 1519.54 1367.76 1524.18 Q1371.96 1528.8 1371.96 1536.76 M1366.1 1535.04 Q1366.04 1530.23 1363.4 1527.37 Q1360.79 1524.5 1356.46 1524.5 Q1351.56 1524.5 1348.6 1527.27 Q1345.67 1530.04 1345.22 1535.07 L1366.1 1535.04 Z\" fill=\"#000000\" fill-rule=\"evenodd\" fill-opacity=\"1\" /><path clip-path=\"url(#clip870)\" d=\"M 0 0 M88.0042 891.952 L40.4842 910.094 L40.4842 903.378 L80.4926 888.323 L40.4842 873.236 L40.4842 866.552 L88.0042 884.663 L88.0042 891.952 Z\" fill=\"#000000\" fill-rule=\"evenodd\" fill-opacity=\"1\" /><path clip-path=\"url(#clip870)\" d=\"M 0 0 M56.4621 851.657 Q56.4621 856.367 60.1542 859.105 Q63.8145 861.842 70.212 861.842 Q76.6095 861.842 80.3017 859.136 Q83.9619 856.399 83.9619 851.657 Q83.9619 846.978 80.2698 844.241 Q76.5777 841.503 70.212 841.503 Q63.8781 841.503 60.186 844.241 Q56.4621 846.978 56.4621 851.657 M51.4968 851.657 Q51.4968 844.018 56.4621 839.657 Q61.4273 835.297 70.212 835.297 Q78.9649 835.297 83.9619 839.657 Q88.9272 844.018 88.9272 851.657 Q88.9272 859.327 83.9619 863.688 Q78.9649 868.017 70.212 868.017 Q61.4273 868.017 56.4621 863.688 Q51.4968 859.327 51.4968 851.657 Z\" fill=\"#000000\" fill-rule=\"evenodd\" fill-opacity=\"1\" /><path clip-path=\"url(#clip870)\" d=\"M 0 0 M38.479 829.154 L38.479 823.297 L88.0042 823.297 L88.0042 829.154 L38.479 829.154 Z\" fill=\"#000000\" fill-rule=\"evenodd\" fill-opacity=\"1\" /><path clip-path=\"url(#clip870)\" d=\"M 0 0 M42.2347 811.362 L52.3562 811.362 L52.3562 799.299 L56.9077 799.299 L56.9077 811.362 L76.2594 811.362 Q80.6199 811.362 81.8613 810.184 Q83.1026 808.975 83.1026 805.314 L83.1026 799.299 L88.0042 799.299 L88.0042 805.314 Q88.0042 812.094 85.4897 814.672 Q82.9434 817.25 76.2594 817.25 L56.9077 817.25 L56.9077 821.547 L52.3562 821.547 L52.3562 817.25 L42.2347 817.25 L42.2347 811.362 Z\" fill=\"#000000\" fill-rule=\"evenodd\" fill-opacity=\"1\" /><path clip-path=\"url(#clip870)\" d=\"M 0 0 M70.0847 776.955 Q70.0847 784.053 71.7079 786.79 Q73.3312 789.527 77.2461 789.527 Q80.3653 789.527 82.2114 787.49 Q84.0256 785.421 84.0256 781.889 Q84.0256 777.019 80.5881 774.091 Q77.1188 771.13 71.3897 771.13 L70.0847 771.13 L70.0847 776.955 M67.6657 765.274 L88.0042 765.274 L88.0042 771.13 L82.5933 771.13 Q85.8398 773.136 87.3994 776.128 Q88.9272 779.119 88.9272 783.448 Q88.9272 788.923 85.8716 792.169 Q82.7843 795.384 77.6281 795.384 Q71.6125 795.384 68.5569 791.373 Q65.5014 787.331 65.5014 779.342 L65.5014 771.13 L64.9285 771.13 Q60.8862 771.13 58.6901 773.804 Q56.4621 776.446 56.4621 781.252 Q56.4621 784.307 57.1941 787.204 Q57.9262 790.1 59.3903 792.774 L53.9795 792.774 Q52.7381 789.559 52.1334 786.535 Q51.4968 783.512 51.4968 780.647 Q51.4968 772.913 55.5072 769.093 Q59.5176 765.274 67.6657 765.274 Z\" fill=\"#000000\" fill-rule=\"evenodd\" fill-opacity=\"1\" /><path clip-path=\"url(#clip870)\" d=\"M 0 0 M69.7664 735.673 Q63.4007 735.673 59.8996 738.315 Q56.3984 740.925 56.3984 745.668 Q56.3984 750.378 59.8996 753.02 Q63.4007 755.63 69.7664 755.63 Q76.1003 755.63 79.6014 753.02 Q83.1026 750.378 83.1026 745.668 Q83.1026 740.925 79.6014 738.315 Q76.1003 735.673 69.7664 735.673 M83.58 729.817 Q92.683 729.817 97.1071 733.859 Q101.563 737.901 101.563 746.241 Q101.563 749.328 101.086 752.065 Q100.64 754.802 99.6852 757.381 L93.9879 757.381 Q95.3884 754.802 96.0568 752.288 Q96.7252 749.774 96.7252 747.164 Q96.7252 741.403 93.7015 738.538 Q90.7096 735.673 84.6303 735.673 L81.7339 735.673 Q84.885 737.488 86.4446 740.32 Q88.0042 743.153 88.0042 747.1 Q88.0042 753.657 83.0071 757.667 Q78.01 761.677 69.7664 761.677 Q61.491 761.677 56.4939 757.667 Q51.4968 753.657 51.4968 747.1 Q51.4968 743.153 53.0564 740.32 Q54.616 737.488 57.7671 735.673 L52.3562 735.673 L52.3562 729.817 L83.58 729.817 Z\" fill=\"#000000\" fill-rule=\"evenodd\" fill-opacity=\"1\" /><path clip-path=\"url(#clip870)\" d=\"M 0 0 M68.7161 693.182 L71.5806 693.182 L71.5806 720.109 Q77.6281 719.727 80.8109 716.481 Q83.9619 713.203 83.9619 707.378 Q83.9619 704.004 83.1344 700.853 Q82.3069 697.67 80.6518 694.551 L86.1899 694.551 Q87.5267 697.702 88.227 701.012 Q88.9272 704.322 88.9272 707.728 Q88.9272 716.258 83.9619 721.255 Q78.9967 726.22 70.5303 726.22 Q61.7774 726.22 56.6531 721.51 Q51.4968 716.767 51.4968 708.747 Q51.4968 701.553 56.1438 697.384 Q60.7589 693.182 68.7161 693.182 M66.9973 699.039 Q62.1912 699.102 59.3266 701.744 Q56.4621 704.354 56.4621 708.683 Q56.4621 713.584 59.2312 716.545 Q62.0002 719.473 67.0292 719.918 L66.9973 699.039 Z\" fill=\"#000000\" fill-rule=\"evenodd\" fill-opacity=\"1\" /><path clip-path=\"url(#clip870)\" d=\"M 0 0 M38.479 666.86 L38.479 653.365 L43.0304 653.365 L43.0304 661.004 L92.0464 661.004 L92.0464 653.365 L96.5979 653.365 L96.5979 666.86 L38.479 666.86 Z\" fill=\"#000000\" fill-rule=\"evenodd\" fill-opacity=\"1\" /><path clip-path=\"url(#clip870)\" d=\"M 0 0 M82.657 641.557 L101.563 641.557 L101.563 647.445 L52.3562 647.445 L52.3562 641.557 L57.7671 641.557 Q54.5842 639.71 53.0564 636.91 Q51.4968 634.077 51.4968 630.162 Q51.4968 623.669 56.6531 619.627 Q61.8093 615.553 70.212 615.553 Q78.6147 615.553 83.771 619.627 Q88.9272 623.669 88.9272 630.162 Q88.9272 634.077 87.3994 636.91 Q85.8398 639.71 82.657 641.557 M70.212 621.632 Q63.7508 621.632 60.0905 624.305 Q56.3984 626.947 56.3984 631.594 Q56.3984 636.241 60.0905 638.915 Q63.7508 641.557 70.212 641.557 Q76.6732 641.557 80.3653 638.915 Q84.0256 636.241 84.0256 631.594 Q84.0256 626.947 80.3653 624.305 Q76.6732 621.632 70.212 621.632 Z\" fill=\"#000000\" fill-rule=\"evenodd\" fill-opacity=\"1\" /><path clip-path=\"url(#clip870)\" d=\"M 0 0 M73.9359 610.014 L52.3562 610.014 L52.3562 604.158 L73.7131 604.158 Q78.7739 604.158 81.3202 602.185 Q83.8346 600.211 83.8346 596.265 Q83.8346 591.522 80.8109 588.785 Q77.7872 586.016 72.5673 586.016 L52.3562 586.016 L52.3562 580.159 L88.0042 580.159 L88.0042 586.016 L82.5296 586.016 Q85.7762 588.148 87.3676 590.981 Q88.9272 593.782 88.9272 597.506 Q88.9272 603.649 85.1078 606.832 Q81.2883 610.014 73.9359 610.014 M51.4968 595.278 L51.4968 595.278 Z\" fill=\"#000000\" fill-rule=\"evenodd\" fill-opacity=\"1\" /><path clip-path=\"url(#clip870)\" d=\"M 0 0 M38.479 560.33 L96.5979 560.33 L96.5979 573.825 L92.0464 573.825 L92.0464 566.218 L43.0304 566.218 L43.0304 573.825 L38.479 573.825 L38.479 560.33 Z\" fill=\"#000000\" fill-rule=\"evenodd\" fill-opacity=\"1\" /><polyline clip-path=\"url(#clip872)\" style=\"stroke:#009af9; stroke-width:4; stroke-opacity:1; fill:none\" points=\"\n",
       "  321.483,86.1857 321.549,86.1857 321.615,86.1857 321.746,86.1857 322.009,86.1857 322.535,86.1857 323.587,86.1857 324.901,86.1857 326.216,86.1857 327.531,86.1857 \n",
       "  328.846,86.1857 330.16,86.1857 331.475,86.1857 332.79,86.1857 334.105,86.1857 335.419,86.1857 336.734,86.1857 338.049,86.1857 339.363,86.1857 340.678,86.1857 \n",
       "  341.993,86.1857 343.308,86.1857 344.622,86.1857 345.937,86.1857 347.252,86.1857 348.567,86.1857 349.881,86.1857 351.196,86.1857 352.511,86.1857 353.826,86.1857 \n",
       "  355.14,86.1857 356.455,86.1857 357.77,86.1857 359.085,86.1857 360.399,86.1857 361.714,86.1857 363.029,86.1857 364.344,86.1857 365.658,86.1857 366.973,86.1857 \n",
       "  368.288,86.1857 369.603,86.1857 370.917,86.1857 372.232,86.1857 373.547,86.1857 374.861,86.1857 376.176,86.1857 377.491,86.1857 378.806,86.1857 380.12,86.1857 \n",
       "  381.435,86.1857 382.75,86.1857 384.065,86.1857 385.379,86.1857 386.694,86.1857 387.22,86.1857 387.765,1147.15 388.31,1149.52 388.855,1153.04 \n",
       "  389.944,1162.67 391.034,1176.2 392.124,1193.63 393.439,1218.74 394.753,1248 396.068,1278.46 397.383,1307.76 398.566,1331.53 399.515,1348.34 400.369,1361.2 \n",
       "  401.138,1370.54 401.83,1377.05 402.522,1381.49 403.214,1383.9 404.528,1384.24 405.843,1378 407.158,1365.25 408.473,1346.96 409.787,1324.48 411.102,1299.26 \n",
       "  412.417,1273.05 413.732,1247.02 415.046,1223.19 416.361,1202.63 417.676,1186.38 418.991,1175.27 420.305,1169.88 421.62,1170.24 422.935,1176.3 424.25,1187.96 \n",
       "  425.564,1204.51 426.879,1225.02 428.194,1248.65 429.508,1274.1 430.823,1299.33 432.138,1323.08 433.453,1344.54 434.767,1360.97 436.082,1370.36 437.397,1375.22 \n",
       "  438.712,1374.7 440.026,1362.7 441.341,1345.47 442.656,1329.34 443.971,1307.83 445.285,1279.98 446.6,1256.75 447.915,1236.96 449.23,1213.28 450.544,1197.31 \n",
       "  451.859,1185.7 453.174,1177.98 454.489,1176.25 455.803,1180.09 457.118,1188.99 458.433,1202.68 459.747,1220.7 461.062,1241.79 462.377,1264.73 463.692,1288.55 \n",
       "  465.006,1311.48 466.321,1331.72 467.636,1348.72 468.951,1361.22 470.265,1366.55 471.58,1365.7 472.895,1361.56 474.21,1349.77 475.524,1328.69 476.839,1311.66 \n",
       "  478.154,1293.2 479.469,1264.9 480.783,1241.65 482.098,1228.12 483.413,1208.68 484.728,1190.03 486.042,1186.36 487.357,1183.85 488.672,1183.89 489.987,1190.85 \n",
       "  491.301,1202.37 492.616,1217.42 493.931,1236.12 495.245,1257.33 496.56,1279 497.875,1300.49 499.19,1320.93 500.504,1337.74 501.819,1350.51 503.134,1358.37 \n",
       "  504.449,1360.51 505.763,1356.9 507.078,1347.81 508.393,1333.91 509.708,1316.21 511.022,1296.04 512.337,1274.74 513.652,1253.62 514.967,1234.02 516.281,1217.04 \n",
       "  517.596,1203.49 518.911,1194.02 520.226,1189.21 521.54,1189.04 522.855,1193.36 524.17,1202.44 525.484,1215.77 526.799,1231.64 528.114,1250.01 529.429,1271.37 \n",
       "  530.743,1291.68 532.058,1308.4 533.373,1327.03 534.688,1342.5 536.002,1348.36 537.317,1351.63 538.632,1353.84 539.947,1345.2 541.261,1333.37 542.576,1319.2 \n",
       "  543.891,1301.23 545.206,1281.63 546.52,1262.06 547.835,1243.2 549.15,1226.17 550.465,1212.39 551.779,1202.19 553.094,1195.72 554.409,1193.88 555.723,1196.64 \n",
       "  557.038,1203.17 558.353,1213.93 559.668,1229.06 560.982,1245.38 562.297,1262.12 563.612,1283.1 564.927,1303.46 566.241,1317.37 567.556,1329.84 568.871,1342.55 \n",
       "  570.186,1347.08 571.5,1344.68 572.815,1342.46 574.13,1334.12 575.445,1320.66 576.759,1305.17 578.074,1287.77 579.389,1269.25 580.704,1251.31 582.018,1234.99 \n",
       "  583.333,1220.74 584.648,1209.67 585.963,1202.65 587.277,1199.42 588.592,1200.18 589.907,1205.51 591.221,1214.32 592.536,1225.51 593.851,1240.71 595.166,1258.93 \n",
       "  596.48,1275.11 597.795,1291.27 599.11,1309.37 600.425,1323.25 601.739,1331.47 603.054,1339.2 604.369,1343.15 605.684,1338.33 606.998,1330.88 608.313,1321.71 \n",
       "  609.628,1308.21 610.943,1292.17 612.257,1275.47 613.572,1258.62 614.887,1242.62 616.202,1228.65 617.516,1217.35 618.831,1209.17 620.146,1204.74 621.46,1204.28 \n",
       "  622.775,1207.51 624.09,1214.36 625.405,1224.7 626.719,1237.69 628.034,1252.42 629.349,1268.71 630.664,1285.45 631.978,1300.3 633.293,1313.44 634.608,1325.06 \n",
       "  635.923,1332.77 637.237,1335.53 638.552,1335.09 639.867,1330.96 641.182,1321.67 642.496,1309.57 643.811,1296.26 645.126,1280.3 646.441,1263.49 647.755,1249.77 \n",
       "  649.07,1236.96 650.385,1223.83 651.699,1215.41 653.014,1211.85 654.329,1208.78 655.644,1209.28 656.958,1216.26 658.273,1224.37 659.588,1233.95 660.903,1248.98 \n",
       "  662.217,1264.75 663.532,1277.48 664.847,1292.34 666.162,1307 667.476,1317.46 668.791,1324.84 670.106,1330.62 671.421,1331.39 672.735,1326.8 674.05,1320.79 \n",
       "  675.365,1312.09 676.68,1298.33 677.994,1284.02 679.309,1270.73 680.624,1256.04 681.939,1241.86 683.253,1231.64 684.568,1223.14 685.883,1215.51 687.197,1213.03 \n",
       "  688.512,1214.23 689.827,1217.63 691.142,1224.25 692.456,1234.42 693.771,1245.97 695.086,1258.53 696.401,1272.98 697.715,1287.21 699.03,1299.55 700.345,1310.51 \n",
       "  701.66,1319.15 702.974,1324.53 704.289,1326.5 705.604,1324.91 706.919,1319.83 708.233,1311.66 709.548,1301.02 710.863,1288.59 712.178,1275.16 713.492,1261.7 \n",
       "  714.807,1248.93 716.122,1237.5 717.436,1228.36 718.751,1221.91 720.066,1217.83 721.381,1216.93 722.695,1220.14 724.01,1225.37 725.325,1231.78 726.64,1243.34 \n",
       "  727.954,1257.54 729.269,1267.79 730.584,1279.04 731.899,1294.51 733.213,1305.11 734.528,1310.44 735.843,1318.8 737.158,1324.27 738.472,1321.48 739.787,1317.54 \n",
       "  741.102,1311.79 742.417,1302.54 743.731,1291.47 745.046,1279.47 746.361,1266.86 747.675,1254.52 748.99,1243.58 750.305,1234.28 751.62,1226.91 752.934,1222.49 \n",
       "  754.249,1221.16 755.564,1221.77 756.879,1225.33 758.193,1233.43 759.508,1242.11 760.823,1249.59 762.138,1263.43 763.452,1278.02 764.767,1286.02 766.082,1296.02 \n",
       "  767.397,1309.38 768.711,1314.11 770.026,1314.09 771.341,1318.13 772.656,1316.64 773.97,1310.58 775.285,1303.33 776.6,1294.03 777.915,1282.88 779.229,1271.31 \n",
       "  780.544,1259.99 781.859,1248.97 783.173,1239.42 784.488,1232.29 785.803,1227.12 787.118,1224.36 788.432,1224.98 789.747,1227.76 791.062,1231.75 792.377,1239.93 \n",
       "  793.691,1251.32 795.006,1259.9 796.321,1269.4 797.636,1283.2 798.95,1293.59 800.265,1299.43 801.58,1308.08 802.895,1315.05 804.209,1314.63 805.524,1313.23 \n",
       "  806.839,1310.21 808.154,1303.81 809.468,1295.43 810.783,1285.81 812.098,1275.14 813.412,1264.18 814.727,1253.99 816.042,1244.81 817.357,1236.96 818.671,1231.44 \n",
       "  819.986,1228.52 821.301,1227.17 822.616,1228.42 823.93,1233.92 825.245,1240.15 826.56,1245.33 827.875,1256.8 829.189,1269.44 830.504,1276.28 831.819,1285.51 \n",
       "  833.134,1298.56 834.448,1304.02 835.763,1305.37 837.078,1311.02 838.393,1311.72 839.707,1308.2 841.022,1303.55 842.337,1296.8 843.651,1287.99 844.966,1278.38 \n",
       "  846.281,1268.54 847.596,1258.47 848.91,1249.26 850.225,1241.86 851.54,1235.89 852.855,1231.82 854.169,1230.68 855.484,1231.41 856.799,1233.2 858.114,1238.96 \n",
       "  859.428,1247.93 860.743,1254.45 862.058,1262.17 863.373,1274.42 864.687,1283.92 866.002,1289.58 867.317,1298.46 868.632,1306.24 869.946,1307.4 871.261,1307.93 \n",
       "  872.576,1307.1 873.891,1303.12 875.205,1297.16 876.52,1289.79 877.835,1281.09 879.149,1271.69 880.464,1262.56 881.779,1253.9 883.094,1246.03 884.408,1239.94 \n",
       "  885.723,1235.95 887.038,1233.15 888.353,1232.59 889.667,1235.98 890.982,1240.03 892.297,1243.14 893.612,1252.45 894.926,1263.15 896.241,1269.77 897.556,1278.24 \n",
       "  898.871,1287.26 900.185,1294.32 901.5,1299.93 902.815,1303.92 904.13,1305.58 905.444,1305.02 906.759,1302.35 908.074,1297.5 909.388,1290.93 910.703,1283.34 \n",
       "  912.018,1274.91 913.333,1266.14 914.647,1257.9 915.962,1250.47 917.277,1243.96 918.592,1239.16 919.906,1236.49 921.221,1235.56 922.536,1236.52 923.851,1239.83 \n",
       "  925.165,1244.84 926.48,1251.01 927.795,1258.62 929.11,1267.1 930.424,1274.76 931.739,1282.33 933.054,1290.14 934.369,1296.19 935.683,1299.79 936.998,1302.39 \n",
       "  938.313,1303.17 939.627,1300.67 940.942,1296.65 942.257,1291.8 943.572,1284.89 944.886,1276.81 946.201,1269.39 947.516,1261.76 948.831,1253.7 950.145,1247.56 \n",
       "  951.46,1243.01 952.775,1239.55 954.09,1237.95 955.404,1238.68 956.719,1240.89 958.034,1244.51 959.349,1250.21 960.663,1257.06 961.978,1264.09 963.293,1271.85 \n",
       "  964.608,1279.7 965.922,1286.29 967.237,1291.95 968.552,1296.87 969.867,1299.59 971.181,1300.2 972.496,1299.27 973.811,1296.52 975.125,1291.76 976.44,1285.89 \n",
       "  977.755,1279.37 979.07,1271.9 980.384,1264.28 981.699,1257.48 983.014,1251.29 984.329,1246.19 985.643,1242.58 986.958,1240.57 988.273,1240.28 989.588,1241.8 \n",
       "  990.902,1244.97 992.217,1249.55 993.532,1255.35 994.847,1262.04 996.161,1269.07 997.476,1276.19 998.791,1283.03 1000.11,1288.71 1001.42,1293.07 1002.74,1296.71 \n",
       "  1004.05,1298.39 1005.36,1296.89 1006.68,1295.19 1007.99,1293.73 1009.31,1286.95 1010.62,1279.16 1011.94,1274.24 1013.25,1267.67 1014.57,1260.49 1015.88,1254.57 \n",
       "  1017.2,1249.53 1018.51,1245.52 1019.83,1243.06 1021.14,1242.24 1022.46,1242.96 1023.77,1245.34 1025.09,1249.22 1026.4,1254.2 1027.72,1260.07 1029.03,1266.64 \n",
       "  1030.34,1273.29 1031.66,1279.64 1032.97,1285.51 1034.29,1290.3 1035.6,1293.45 1036.92,1295.51 1038.23,1296.39 1039.55,1294.48 1040.86,1290.88 1042.18,1287.56 \n",
       "  1043.49,1282.76 1044.81,1275.73 1046.12,1269.57 1047.44,1264.31 1048.75,1257.57 1050.07,1251.74 1051.38,1248.46 1052.7,1245.79 1054.01,1244.22 1055.32,1244.45 \n",
       "  1056.64,1246.14 1057.95,1249.12 1059.27,1253.29 1060.58,1258.4 1061.9,1264.15 1063.21,1270.29 1064.53,1276.34 1065.84,1281.99 1067.16,1286.88 1068.47,1290.68 \n",
       "  1069.79,1293.14 1071.1,1294.13 1072.42,1293.58 1073.73,1291.53 1075.05,1288.13 1076.36,1283.63 1077.68,1278.28 1078.99,1272.46 1080.3,1266.55 1081.62,1260.82 \n",
       "  1082.93,1255.63 1084.25,1251.47 1085.56,1248.41 1086.88,1246.33 1088.19,1245.9 1089.51,1247.36 1090.82,1249.24 1092.14,1251.98 1093.45,1257.83 1094.77,1263.67 \n",
       "  1096.08,1266.01 1097.4,1273.64 1098.71,1281.97 1100.03,1283.98 1101.34,1287.35 1102.66,1290.96 1103.97,1292.14 1105.28,1291.99 1106.6,1290.8 1107.91,1288.13 \n",
       "  1109.23,1284.42 1110.54,1279.8 1111.86,1274.65 1113.17,1269.15 1114.49,1263.74 1115.8,1258.71 1117.12,1254.35 1118.43,1250.92 1119.75,1248.65 1121.06,1247.63 \n",
       "  1122.38,1247.93 1123.69,1249.53 1125.01,1252.31 1126.32,1256.1 1127.64,1260.7 1128.95,1265.81 1130.26,1271.08 1131.58,1276.29 1132.89,1281.12 1134.21,1285.06 \n",
       "  1135.52,1288.02 1136.84,1290.12 1138.15,1290.73 1139.47,1289.52 1140.78,1287.86 1142.1,1285.56 1143.41,1280.34 1144.73,1274.85 1146.04,1271.14 1147.36,1266.45 \n",
       "  1148.67,1260.37 1149.99,1256.66 1151.3,1254.34 1152.62,1250.55 1153.93,1249.48 1155.24,1249.5 1156.56,1250.27 1157.87,1252.43 1159.19,1255.68 1160.5,1259.65 \n",
       "  1161.82,1264.21 1163.13,1269.18 1164.45,1274.06 1165.76,1278.59 1167.08,1282.66 1168.39,1285.85 1169.71,1287.84 1171.02,1288.97 1172.34,1289.05 1173.65,1287.19 \n",
       "  1174.97,1284.38 1176.28,1281.44 1177.6,1277.45 1178.91,1272.4 1180.22,1267.87 1181.54,1263.69 1182.85,1259.01 1184.17,1255.58 1185.48,1252.95 1186.8,1251.17 \n",
       "  1188.11,1250.58 1189.43,1251.14 1190.74,1252.77 1192.06,1255.41 1193.37,1258.91 1194.69,1263.01 1196,1267.46 1197.32,1272.06 1198.63,1276.48 1199.95,1280.4 \n",
       "  1201.26,1283.65 1202.58,1286.07 1203.89,1287.37 1205.2,1287.46 1206.52,1286.7 1207.83,1284.89 1209.15,1281.59 1210.46,1277.93 1211.78,1274.67 1213.09,1269.7 \n",
       "  1214.41,1264.6 1215.72,1261.58 1217.04,1258.27 1218.35,1254.19 1219.67,1252.76 1220.98,1252.97 1222.3,1252.2 1223.61,1253.15 1224.93,1255.55 1226.24,1258.42 \n",
       "  1227.56,1261.94 1228.87,1266.05 1230.18,1270.29 1231.5,1274.4 1232.81,1278.32 1234.13,1281.66 1235.44,1284.08 1236.76,1285.68 1238.07,1286.33 1239.39,1285.72 \n",
       "  1240.7,1284.24 1242.02,1282.23 1243.33,1278.92 1244.65,1274.6 1245.96,1271.14 1247.28,1267.54 1248.59,1262.84 1249.91,1259.3 1251.22,1257.33 1252.54,1254.75 \n",
       "  1253.85,1252.82 1255.17,1253.24 1256.48,1254.09 1257.79,1255.53 1259.11,1258.06 1260.42,1261.25 1261.74,1264.85 1263.05,1268.77 1264.37,1272.74 1265.68,1276.41 \n",
       "  1267,1279.65 1268.31,1282.33 1269.63,1284.1 1270.94,1284.98 1272.26,1285.06 1273.57,1283.93 1274.89,1281.7 1276.2,1279.4 1277.52,1276.52 1278.83,1271.84 \n",
       "  1280.15,1268.56 1281.46,1265.82 1282.77,1261.21 1284.09,1257.81 1285.4,1257.11 1286.72,1255.32 1288.03,1254.06 1289.35,1254.78 1290.66,1255.96 1291.98,1257.91 \n",
       "  1293.29,1260.69 1294.61,1263.92 1295.92,1267.45 1297.24,1271.12 1298.55,1274.68 1299.87,1277.86 1301.18,1280.53 1302.5,1282.53 1303.81,1283.67 1305.13,1283.92 \n",
       "  1306.44,1283.35 1307.75,1281.82 1309.07,1279.46 1310.38,1276.76 1311.7,1273.64 1313.01,1269.73 1314.33,1266.22 1315.64,1263.8 1316.96,1260.3 1318.27,1257.25 \n",
       "  1319.59,1256.68 1320.9,1256.08 1322.22,1254.84 1323.53,1256.39 1324.85,1258.22 1326.16,1260.21 1327.48,1263.11 1328.79,1266.39 1330.11,1269.72 1331.42,1273.08 \n",
       "  1332.73,1276.26 1334.05,1278.88 1335.36,1280.93 1336.68,1282.37 1337.99,1282.93 1339.31,1282.59 1340.62,1281.62 1341.94,1279.79 1343.25,1277.01 1344.57,1274.24 \n",
       "  1345.88,1271.61 1347.2,1267.86 1348.51,1264.27 1349.83,1262.12 1351.14,1259.79 1352.46,1257.23 1353.77,1256.6 1355.09,1256.99 1356.4,1256.91 1357.71,1258.04 \n",
       "  1359.03,1260.14 1360.34,1262.56 1361.66,1265.39 1362.97,1268.54 1364.29,1271.69 1365.6,1274.65 1366.92,1277.36 1368.23,1279.54 1369.55,1281 1370.86,1281.8 \n",
       "  1372.18,1281.86 1373.49,1281.02 1374.81,1279.56 1376.12,1277.71 1377.44,1275.02 1378.75,1271.75 1380.07,1269.06 1381.38,1266.36 1382.69,1263.1 1384.01,1260.71 \n",
       "  1385.32,1259.4 1386.64,1257.87 1387.95,1256.93 1389.27,1257.53 1390.58,1258.51 1391.9,1259.96 1393.21,1262.12 1394.53,1264.7 1395.84,1267.51 1397.16,1270.46 \n",
       "  1398.47,1273.34 1399.79,1275.92 1401.1,1278.09 1402.42,1279.77 1403.73,1280.73 1405.05,1281.01 1406.36,1280.67 1407.67,1279.49 1408.99,1277.56 1410.3,1275.57 \n",
       "  1411.62,1273.2 1412.93,1269.77 1414.25,1267.28 1415.56,1265.21 1416.88,1262.1 1418.19,1259.89 1419.51,1259.48 1420.82,1258.52 1422.14,1257.55 1423.45,1258.84 \n",
       "  1424.77,1260.23 1426.08,1261.79 1427.4,1264.09 1428.71,1266.69 1430.03,1269.36 1431.34,1272.07 1432.65,1274.64 1433.97,1276.78 1435.28,1278.47 1436.6,1279.69 \n",
       "  1437.91,1280.2 1439.23,1280 1440.54,1279.29 1441.86,1277.88 1443.17,1275.69 1444.49,1273.53 1445.8,1271.43 1447.12,1268.41 1448.43,1265.52 1449.75,1263.76 \n",
       "  1451.06,1261.83 1452.38,1259.72 1453.69,1259.18 1455.01,1259.4 1456.32,1259.28 1457.63,1260.14 1458.95,1261.77 1460.26,1263.67 1461.58,1265.92 1462.89,1268.44 \n",
       "  1464.21,1270.96 1465.52,1273.36 1466.84,1275.56 1468.15,1277.35 1469.47,1278.58 1470.78,1279.28 1472.1,1279.38 1473.41,1278.78 1474.73,1277.66 1476.04,1276.23 \n",
       "  1477.36,1274.1 1478.67,1271.51 1479.99,1269.36 1481.3,1267.17 1482.62,1264.54 1483.93,1262.59 1485.24,1261.48 1486.56,1260.2 1487.87,1259.39 1489.19,1259.81 \n",
       "  1490.5,1260.54 1491.82,1261.65 1493.13,1263.35 1494.45,1265.39 1495.76,1267.63 1497.08,1269.99 1498.39,1272.31 1499.71,1274.41 1501.02,1276.19 1502.34,1277.58 \n",
       "  1503.65,1278.4 1504.97,1278.64 1506.28,1278.43 1507.6,1277.57 1508.91,1276.03 1510.22,1274.47 1511.54,1272.73 1512.85,1270.18 1514.17,1267.71 1515.48,1265.96 \n",
       "  1516.8,1263.98 1518.11,1261.96 1519.43,1261.12 1520.74,1260.8 1522.06,1260.38 1523.37,1260.76 1524.69,1261.8 1526,1263.17 1527.32,1264.92 1528.63,1266.97 \n",
       "  1529.95,1269.14 1531.26,1271.29 1532.58,1273.36 1533.89,1275.16 1535.2,1276.54 1536.52,1277.52 1537.83,1278.03 1539.15,1277.9 1540.46,1277.3 1541.78,1276.38 \n",
       "  1543.09,1274.75 1544.41,1272.63 1545.72,1270.89 1547.04,1269.01 1548.35,1266.57 1549.67,1264.69 1550.98,1263.52 1552.3,1262.05 1553.61,1260.95 1554.93,1260.99 \n",
       "  1556.24,1261.27 1557.56,1261.88 1558.87,1263.07 1560.18,1264.62 1561.5,1266.42 1562.81,1268.41 1564.13,1270.46 1565.44,1272.39 1566.76,1274.14 1568.07,1275.62 \n",
       "  1569.39,1276.66 1570.7,1277.21 1572.02,1277.41 1573.33,1277.01 1574.65,1275.97 1575.96,1274.88 1577.28,1273.46 1578.59,1271.38 1579.91,1269.41 1581.22,1267.77 \n",
       "  1582.54,1265.81 1583.85,1263.97 1585.16,1262.91 1586.48,1262.08 1587.79,1261.57 1589.11,1261.63 1590.42,1262.14 1591.74,1263.05 1593.05,1264.34 1594.37,1265.91 \n",
       "  1595.68,1267.67 1597,1269.55 1598.31,1271.4 1599.63,1273.12 1600.94,1274.61 1602.26,1275.76 1603.57,1276.52 1604.89,1276.83 1606.2,1276.68 1607.52,1276.07 \n",
       "  1608.83,1275.06 1610.14,1273.7 1611.46,1272.09 1612.77,1270.31 1614.09,1268.5 1615.4,1266.76 1616.72,1265.14 1618.03,1263.82 1619.35,1262.86 1620.66,1262.22 \n",
       "  1621.98,1262.08 1623.29,1262.51 1624.61,1263.11 1625.92,1263.96 1627.24,1265.7 1628.55,1267.52 1629.87,1268.86 1631.18,1270.5 1632.5,1272.49 1633.81,1273.78 \n",
       "  1635.12,1274.65 1636.44,1275.85 1637.75,1276.2 1639.07,1276.16 1640.38,1275.83 1641.7,1275.03 1643.01,1273.87 1644.33,1272.49 1645.64,1270.87 1646.96,1269.14 \n",
       "  1648.27,1267.53 1649.59,1266.01 1650.9,1264.61 1652.22,1263.61 1653.53,1262.93 1654.85,1262.62 1656.16,1262.73 1657.48,1263.23 1658.79,1264.1 1660.1,1265.3 \n",
       "  1661.42,1266.73 1662.73,1268.3 1664.05,1269.93 1665.36,1271.53 1666.68,1272.96 1667.99,1274.15 1669.31,1275.09 1670.62,1275.65 1671.94,1275.78 1673.25,1275.57 \n",
       "  1674.57,1275 1675.88,1273.92 1677.2,1272.65 1678.51,1271.48 1679.83,1269.78 1681.14,1267.98 1682.46,1266.81 1683.77,1265.59 1685.08,1264.13 1686.4,1263.5 \n",
       "  1687.71,1263.45 1689.03,1263.14 1690.34,1263.41 1691.66,1264.19 1692.97,1265.16 1694.29,1266.39 1695.6,1267.83 1696.92,1269.33 1698.23,1270.81 1699.55,1272.23 \n",
       "  1700.86,1273.45 1702.18,1274.38 1703.49,1275.01 1704.81,1275.36 1706.12,1275.22 1707.44,1274.76 1708.75,1274.14 1710.06,1272.98 1711.38,1271.41 1712.69,1270.26 \n",
       "  1714.01,1269.03 1715.32,1267.24 1716.64,1265.95 1717.95,1265.28 1719.27,1264.24 1720.58,1263.4 1721.9,1263.54 1723.21,1263.79 1724.53,1264.22 1725.84,1265.07 \n",
       "  1727.16,1266.18 1728.47,1267.43 1729.79,1268.81 1731.1,1270.24 1732.42,1271.56 1733.73,1272.74 1735.05,1273.75 1736.36,1274.44 1737.67,1274.77 1738.99,1274.9 \n",
       "  1740.3,1274.59 1741.62,1273.78 1742.93,1273.06 1744.25,1272.12 1745.56,1270.59 1746.88,1269.21 1748.19,1268.18 1749.51,1266.79 1750.82,1265.45 1752.14,1264.81 \n",
       "  1753.45,1264.27 1754.77,1263.93 1756.08,1264.01 1757.4,1264.4 1758.71,1265.05 1760.03,1265.96 1761.34,1267.06 1762.65,1268.29 1763.97,1269.59 1765.28,1270.87 \n",
       "  1766.6,1272.04 1767.91,1273.05 1769.23,1273.83 1770.54,1274.32 1771.86,1274.5 1773.17,1274.37 1774.49,1273.93 1775.8,1273.2 1777.12,1272.25 1778.43,1271.12 \n",
       "  1779.75,1269.88 1781.06,1268.63 1782.38,1267.43 1783.69,1266.33 1785.01,1265.44 1786.32,1264.8 1787.63,1264.38 1788.95,1264.31 1790.26,1264.64 1791.58,1265.08 \n",
       "  1792.89,1265.68 1794.21,1266.91 1795.52,1268.18 1796.84,1269.11 1798.15,1270.24 1799.47,1271.61 1800.78,1272.48 1802.1,1273.06 1803.41,1273.87 1804.73,1274.08 \n",
       "  1806.04,1274.02 1807.36,1273.77 1808.67,1273.2 1809.99,1272.38 1811.3,1271.41 1812.61,1270.29 1813.93,1269.11 1815.24,1267.97 1816.56,1266.92 1817.87,1265.99 \n",
       "  1819.19,1265.31 1820.5,1264.89 1821.82,1264.66 1823.13,1264.78 1824.45,1265.29 1825.76,1265.83 1827.08,1266.63 1828.39,1267.72 1829.71,1268.74 1831.02,1269.76 \n",
       "  1832.34,1270.96 1833.65,1271.91 1834.97,1272.7 1836.28,1273.33 1837.59,1273.69 1838.91,1273.77 1840.22,1273.6 1841.54,1273.14 1842.85,1272.45 1844.17,1271.6 \n",
       "  1845.48,1270.6 1846.8,1269.51 1848.11,1268.45 1849.43,1267.46 1850.74,1266.5 1852.06,1265.8 1853.37,1265.44 1854.69,1265.08 1856,1265.04 1857.32,1265.4 \n",
       "  1858.63,1265.81 1859.95,1266.49 1861.26,1267.4 1862.57,1268.38 1863.89,1269.41 1865.2,1270.45 1866.52,1271.4 1867.83,1272.22 1869.15,1272.87 1870.46,1273.29 \n",
       "  1871.78,1273.45 1873.09,1273.37 1874.41,1273.05 1875.72,1272.49 1877.04,1271.73 1878.35,1270.87 1879.67,1269.89 1880.98,1268.83 1882.3,1267.89 1883.61,1267.03 \n",
       "  1884.93,1266.28 1886.24,1265.73 1887.55,1265.42 1888.87,1265.32 1890.18,1265.46 1891.5,1265.87 1892.81,1266.47 1894.13,1267.19 1895.44,1268.11 1896.76,1269.07 \n",
       "  1898.07,1269.91 1899.39,1270.93 1900.7,1271.86 1902.02,1272.35 1903.33,1272.78 1904.65,1273.22 1905.96,1273.15 1907.28,1272.75 1908.59,1272.45 1909.91,1271.86 \n",
       "  1911.22,1271.03 1912.53,1270.16 1913.85,1269.25 1915.16,1268.32 1916.48,1267.46 1917.79,1266.73 1919.11,1266.15 1920.42,1265.76 1921.74,1265.61 1923.05,1265.67 \n",
       "  1924.37,1265.94 1925.68,1266.44 1927,1267.11 1928.31,1267.86 1929.63,1268.73 1930.94,1269.66 1932.26,1270.52 1933.57,1271.3 1934.89,1272 1936.2,1272.5 \n",
       "  1937.51,1272.77 1938.83,1272.87 1940.14,1272.77 1941.46,1272.39 1942.77,1271.86 1944.09,1271.25 1945.4,1270.41 1946.72,1269.43 1948.03,1268.68 1949.35,1267.88 \n",
       "  1950.66,1267.04 1951.98,1266.55 1953.29,1266.24 1954.61,1265.86 1955.92,1265.89 1957.24,1266.11 1958.55,1266.46 1959.87,1267.01 1961.18,1267.71 1962.5,1268.48 \n",
       "  1963.81,1269.31 1965.12,1270.15 1966.44,1270.91 1967.75,1271.58 1969.07,1272.12 1970.38,1272.45 1971.7,1272.59 1973.01,1272.58 1974.33,1272.35 1975.64,1271.88 \n",
       "  1976.96,1271.3 1978.27,1270.63 1979.59,1269.82 1980.9,1269.02 1982.22,1268.27 1983.53,1267.53 1984.85,1266.93 1986.16,1266.48 1987.48,1266.2 1988.79,1266.11 \n",
       "  1990.1,1266.21 1991.42,1266.51 1992.73,1266.97 1994.05,1267.57 1995.36,1268.28 1996.68,1269.04 1997.99,1269.81 1999.31,1270.55 2000.62,1271.21 2001.94,1271.75 \n",
       "  2003.25,1272.14 2004.57,1272.34 2005.88,1272.35 2007.2,1272.22 2008.51,1271.89 2009.83,1271.37 2011.14,1270.77 2012.46,1270.11 2013.77,1269.28 2015.08,1268.5 \n",
       "  2016.4,1268.03 2017.71,1267.3 2019.03,1266.65 2020.34,1266.51 2021.66,1266.39 2022.97,1266.36 2024.29,1266.59 2025.6,1266.97 2026.92,1267.45 2028.23,1268.08 \n",
       "  2029.55,1268.79 2030.86,1269.49 2032.18,1270.2 2033.49,1270.87 2034.81,1271.4 2036.12,1271.81 2037.44,1272.08 2038.75,1272.17 2040.06,1272.09 2041.38,1271.83 \n",
       "  2042.69,1271.43 2044.01,1270.89 2045.32,1270.26 2046.64,1269.58 2047.95,1268.88 2049.27,1268.22 2050.58,1267.63 2051.9,1267.14 2053.21,1266.78 2054.53,1266.58 \n",
       "  2055.84,1266.57 2057.16,1266.69 2058.47,1266.95 2059.79,1267.44 2061.1,1268.01 2062.42,1268.57 2063.73,1269.23 2065.04,1269.91 2066.36,1270.52 2067.67,1271.06 \n",
       "  2068.99,1271.52 2070.3,1271.81 2071.62,1271.9 2072.93,1271.94 2074.25,1271.75 2075.56,1271.27 2076.88,1270.95 2078.19,1270.55 2079.51,1269.72 2080.82,1269.04 \n",
       "  2082.14,1268.66 2083.45,1267.98 2084.77,1267.27 2086.08,1267.08 2087.4,1266.88 2088.71,1266.73 2090.02,1266.81 2091.34,1267.04 2092.65,1267.38 2093.97,1267.85 \n",
       "  2095.28,1268.39 2096.6,1268.98 2097.91,1269.6 2099.23,1270.2 2100.54,1270.74 2101.86,1271.19 2103.17,1271.53 2104.49,1271.72 2105.8,1271.77 2107.12,1271.67 \n",
       "  2108.43,1271.42 2109.75,1271.04 2111.06,1270.57 2112.38,1270.01 2113.69,1269.42 2115,1268.83 2116.32,1268.27 2117.63,1267.77 2118.95,1267.37 2120.26,1267.09 \n",
       "  2121.58,1266.95 2122.89,1266.95 2124.21,1267.1 2125.52,1267.38 2126.84,1267.76 2128.15,1268.25 2129.47,1268.82 2130.78,1269.36 2132.1,1269.9 2133.41,1270.47 \n",
       "  2134.73,1270.93 2136.04,1271.23 2137.36,1271.48 2138.67,1271.59 2139.98,1271.5 2141.3,1271.34 2142.61,1271.08 2143.93,1270.63 2145.24,1270.12 2146.56,1269.62 \n",
       "  2147.87,1269.06 2149.19,1268.52 2150.5,1268.05 2151.82,1267.64 2153.13,1267.32 2154.45,1267.16 2155.76,1267.13 2157.08,1267.19 2158.39,1267.4 2159.71,1267.75 \n",
       "  2161.02,1268.16 2162.34,1268.64 2163.65,1269.19 2164.96,1269.72 2166.28,1270.2 2167.59,1270.65 2168.91,1271.01 2170.22,1271.27 2171.54,1271.4 2172.85,1271.41 \n",
       "  2174.17,1271.28 2175.48,1271.04 2176.8,1270.7 2178.11,1270.28 2179.43,1269.8 2180.74,1269.29 2182.06,1268.78 2183.37,1268.31 2184.69,1267.9 2186,1267.58 \n",
       "  2187.32,1267.36 2188.63,1267.26 2189.94,1267.29 2191.26,1267.44 2192.57,1267.7 2193.89,1268.06 2195.2,1268.49 2196.52,1268.97 2197.83,1269.47 2199.15,1269.95 \n",
       "  2200.46,1270.39 2201.78,1270.76 2203.09,1271.04 2204.41,1271.21 2205.72,1271.27 2207.04,1271.2 2208.35,1271.02 2209.67,1270.74 2210.98,1270.37 2212.3,1269.92 \n",
       "  2213.61,1269.47 2214.93,1269.01 2216.24,1268.52 2217.55,1268.12 2218.87,1267.82 2220.18,1267.57 2221.5,1267.43 2222.81,1267.44 2224.13,1267.53 2225.44,1267.71 \n",
       "  2226.76,1268.04 2228.07,1268.43 2229.39,1268.83 2230.7,1269.29 2232.02,1269.77 2233.33,1270.17 2234.65,1270.52 2235.96,1270.85 2237.28,1271.04 2238.59,1271.11 \n",
       "  2239.91,1271.1 2241.22,1270.98 2242.53,1270.72 2243.85,1270.41 2245.16,1270.05 2246.48,1269.6 2247.79,1269.15 2249.11,1268.74 2250.42,1268.35 2251.74,1268.01 \n",
       "  2253.05,1267.76 2254.37,1267.6 2255.68,1267.54 2257,1267.6 2258.31,1267.76 2259.63,1268.01 2260.94,1268.33 2262.26,1268.72 2263.57,1269.14 2264.89,1269.56 \n",
       "  2266.2,1269.98 2267.51,1270.35 2268.83,1270.61 2270.14,1270.83 2271.46,1270.99 2272.77,1270.98 2274.09,1270.87 2275.4,1270.72 2276.72,1270.46 2278.03,1270.12 \n",
       "  2279.35,1269.74 2280.66,1269.33 2281.98,1268.92 2283.29,1268.54 2284.61,1268.21 2285.92,1267.94 2287.24,1267.76 2288.55,1267.68 2289.87,1267.69 2291.18,1267.79 \n",
       "  2292.49,1268.01 2293.59,1268.26 \n",
       "  \"/>\n",
       "<path clip-path=\"url(#clip870)\" d=\"\n",
       "M2031.51 153.589 L2352.76 153.589 L2352.76 32.6286 L2031.51 32.6286  Z\n",
       "  \" fill=\"#ffffff\" fill-rule=\"evenodd\" fill-opacity=\"1\"/>\n",
       "<polyline clip-path=\"url(#clip870)\" style=\"stroke:#000000; stroke-width:4; stroke-opacity:1; fill:none\" points=\"\n",
       "  2031.51,153.589 2352.76,153.589 2352.76,32.6286 2031.51,32.6286 2031.51,153.589 \n",
       "  \"/>\n",
       "<polyline clip-path=\"url(#clip870)\" style=\"stroke:#009af9; stroke-width:4; stroke-opacity:1; fill:none\" points=\"\n",
       "  2055.51,93.1086 2199.51,93.1086 \n",
       "  \"/>\n",
       "<path clip-path=\"url(#clip870)\" d=\"M 0 0 M2236.7 110.389 L2223.51 75.8286 L2228.39 75.8286 L2239.34 104.926 L2250.31 75.8286 L2255.17 75.8286 L2242 110.389 L2236.7 110.389 Z\" fill=\"#000000\" fill-rule=\"evenodd\" fill-opacity=\"1\" /><path clip-path=\"url(#clip870)\" d=\"M 0 0 M2279.34 118.259 L2279.34 121.569 L2254.71 121.569 L2254.71 118.259 L2279.34 118.259 Z\" fill=\"#000000\" fill-rule=\"evenodd\" fill-opacity=\"1\" /><path clip-path=\"url(#clip870)\" d=\"M 0 0 M2288.44 106.453 L2304.76 106.453 L2304.76 110.389 L2282.81 110.389 L2282.81 106.453 Q2285.47 103.699 2290.06 99.0692 Q2294.66 94.4165 2295.84 93.0739 Q2298.09 90.5508 2298.97 88.8147 Q2299.87 87.0554 2299.87 85.3656 Q2299.87 82.611 2297.93 80.8749 Q2296.01 79.1388 2292.9 79.1388 Q2290.71 79.1388 2288.25 79.9027 Q2285.82 80.6666 2283.04 82.2175 L2283.04 77.4953 Q2285.87 76.361 2288.32 75.7823 Q2290.77 75.2036 2292.81 75.2036 Q2298.18 75.2036 2301.38 77.8888 Q2304.57 80.574 2304.57 85.0647 Q2304.57 87.1943 2303.76 89.1156 Q2302.97 91.0137 2300.87 93.6063 Q2300.29 94.2776 2297.19 97.4952 Q2294.08 100.69 2288.44 106.453 Z\" fill=\"#000000\" fill-rule=\"evenodd\" fill-opacity=\"1\" /></svg>\n"
      ]
     },
     "execution_count": 14,
     "metadata": {},
     "output_type": "execute_result"
    }
   ],
   "source": [
    "volt = get_voltagemag_series(sim, 102)\n",
    "plot(volt, xlabel=\"time\", ylabel=\"Voltage [pu]\", label=\"V_2\")\n",
    "#savefig(\"voltage_OMIB.png\")"
   ]
  },
  {
   "cell_type": "markdown",
   "metadata": {},
   "source": [
    "## Optional: Small Signal Analysis\n",
    "\n",
    "`LITS 0.4.0` uses automatic differentiation to compute the reduced Jacobian of the system for the differential states. This can be used to analyze the local stability of the linearized system.\n"
   ]
  },
  {
   "cell_type": "code",
   "execution_count": 15,
   "metadata": {},
   "outputs": [
    {
     "data": {
      "text/plain": [
       "The system is small signal stable\n"
      ]
     },
     "execution_count": 15,
     "metadata": {},
     "output_type": "execute_result"
    }
   ],
   "source": [
    "small_sig = small_signal_analysis(sim)"
   ]
  },
  {
   "cell_type": "markdown",
   "metadata": {},
   "source": [
    "The `small_sig` result can report the reduced jacobian for $\\delta$ and $\\omega$, and can also be used to report the eigenvalues of the reduced linearized system.\n"
   ]
  },
  {
   "cell_type": "code",
   "execution_count": 16,
   "metadata": {},
   "outputs": [
    {
     "data": {
      "text/plain": [
       "2-element Array{Complex{Float64},1}:\n",
       " -0.15883100381194404 - 12.443054974468177im\n",
       " -0.15883100381194404 + 12.443054974468177im"
      ]
     },
     "execution_count": 16,
     "metadata": {},
     "output_type": "execute_result"
    }
   ],
   "source": [
    "small_sig.reduced_jacobian\n",
    "\n",
    "small_sig.eigenvalues"
   ]
  },
  {
   "cell_type": "code",
   "execution_count": null,
   "metadata": {},
   "outputs": [],
   "source": []
  }
 ],
 "metadata": {
  "kernelspec": {
   "display_name": "Julia 1.4.1",
   "language": "julia",
   "name": "julia-1.4"
  },
  "language_info": {
   "file_extension": ".jl",
   "mimetype": "application/julia",
   "name": "julia",
   "version": "1.4.1"
  }
 },
 "nbformat": 4,
 "nbformat_minor": 4
}
